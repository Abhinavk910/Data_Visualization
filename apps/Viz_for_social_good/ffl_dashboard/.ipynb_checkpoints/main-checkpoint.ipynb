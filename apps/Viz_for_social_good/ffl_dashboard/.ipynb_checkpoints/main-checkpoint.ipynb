{
 "cells": [
  {
   "cell_type": "code",
   "execution_count": 1,
   "metadata": {
    "ExecuteTime": {
     "end_time": "2021-01-30T07:40:41.690999Z",
     "start_time": "2021-01-30T07:40:40.600987Z"
    }
   },
   "outputs": [],
   "source": [
    "import pandas as pd\n",
    "# import lux\n",
    "\n",
    "import plotly.express as px\n",
    "\n",
    "import ipywidgets as widgets\n",
    "from IPython.display import display"
   ]
  },
  {
   "cell_type": "code",
   "execution_count": 2,
   "metadata": {
    "ExecuteTime": {
     "end_time": "2021-01-26T04:00:33.557496Z",
     "start_time": "2021-01-26T04:00:33.552500Z"
    }
   },
   "outputs": [],
   "source": [
    "pd.options.display.max_rows = 500"
   ]
  },
  {
   "cell_type": "markdown",
   "metadata": {
    "heading_collapsed": true
   },
   "source": [
    "# Data Collection"
   ]
  },
  {
   "cell_type": "code",
   "execution_count": 3,
   "metadata": {
    "ExecuteTime": {
     "end_time": "2021-01-26T04:00:35.324998Z",
     "start_time": "2021-01-26T04:00:35.185966Z"
    },
    "hidden": true
   },
   "outputs": [],
   "source": [
    "df1 = pd.read_excel('Data/FFL Data #Vizforsocialgood_201026_EN.xlsx', sheet_name='2018').T\n",
    "# df1"
   ]
  },
  {
   "cell_type": "code",
   "execution_count": null,
   "metadata": {
    "ExecuteTime": {
     "end_time": "2021-01-25T12:05:32.408115Z",
     "start_time": "2021-01-25T12:05:32.400122Z"
    },
    "hidden": true
   },
   "outputs": [],
   "source": [
    "df1.fillna(\"\", inplace=True)"
   ]
  },
  {
   "cell_type": "code",
   "execution_count": null,
   "metadata": {
    "ExecuteTime": {
     "end_time": "2021-01-25T12:05:32.881359Z",
     "start_time": "2021-01-25T12:05:32.869365Z"
    },
    "hidden": true
   },
   "outputs": [],
   "source": [
    "df1['Final_result'] = df1[[11, 12, 13, 14, 15]].agg(' $% '.join, axis=1) "
   ]
  },
  {
   "cell_type": "code",
   "execution_count": null,
   "metadata": {
    "ExecuteTime": {
     "end_time": "2021-01-25T12:05:33.409517Z",
     "start_time": "2021-01-25T12:05:33.404519Z"
    },
    "hidden": true
   },
   "outputs": [],
   "source": [
    "df1.drop([11,12,13,14,15], inplace=True, axis=1)"
   ]
  },
  {
   "cell_type": "code",
   "execution_count": null,
   "metadata": {
    "ExecuteTime": {
     "end_time": "2021-01-25T12:05:33.891064Z",
     "start_time": "2021-01-25T12:05:33.885070Z"
    },
    "hidden": true
   },
   "outputs": [],
   "source": [
    "df1.reset_index(inplace=True)"
   ]
  },
  {
   "cell_type": "code",
   "execution_count": null,
   "metadata": {
    "ExecuteTime": {
     "end_time": "2021-01-25T12:05:34.418096Z",
     "start_time": "2021-01-25T12:05:34.412097Z"
    },
    "hidden": true
   },
   "outputs": [],
   "source": [
    "df1.columns = df1.iloc[0, :]"
   ]
  },
  {
   "cell_type": "code",
   "execution_count": null,
   "metadata": {
    "ExecuteTime": {
     "end_time": "2021-01-25T12:05:34.919710Z",
     "start_time": "2021-01-25T12:05:34.915711Z"
    },
    "hidden": true
   },
   "outputs": [],
   "source": [
    "# df"
   ]
  },
  {
   "cell_type": "code",
   "execution_count": null,
   "metadata": {
    "ExecuteTime": {
     "end_time": "2021-01-25T12:10:19.455366Z",
     "start_time": "2021-01-25T12:10:19.450372Z"
    },
    "hidden": true
   },
   "outputs": [],
   "source": [
    "df1.rename(columns={\"2018 results $%  $%  $%  $% \": \"Final_result\",\n",
    "                    'Voted 2018 project budget €': 'Voted Year project budget €',\n",
    "                    'Voted 2018 country budget €': 'Voted Year country budget €',\n",
    "                    \"Type de financement (tel que présenté dans l'Accord-Cadre 2016-2020)\":'Project financing (as per the 2016-2020 cooperation agreement)'}, inplace=True)"
   ]
  },
  {
   "cell_type": "code",
   "execution_count": null,
   "metadata": {
    "ExecuteTime": {
     "end_time": "2021-01-25T12:05:38.655037Z",
     "start_time": "2021-01-25T12:05:38.650038Z"
    },
    "hidden": true
   },
   "outputs": [],
   "source": [
    "df1.drop(0, inplace=True)"
   ]
  },
  {
   "cell_type": "code",
   "execution_count": null,
   "metadata": {
    "ExecuteTime": {
     "end_time": "2021-01-25T12:05:39.136184Z",
     "start_time": "2021-01-25T12:05:39.131188Z"
    },
    "hidden": true
   },
   "outputs": [],
   "source": [
    "df1['Year'] = 2018"
   ]
  },
  {
   "cell_type": "code",
   "execution_count": null,
   "metadata": {
    "ExecuteTime": {
     "end_time": "2021-01-25T12:05:41.186465Z",
     "start_time": "2021-01-25T12:05:41.181470Z"
    },
    "hidden": true
   },
   "outputs": [],
   "source": [
    "# df1"
   ]
  },
  {
   "cell_type": "code",
   "execution_count": null,
   "metadata": {
    "ExecuteTime": {
     "end_time": "2021-01-25T12:10:45.138913Z",
     "start_time": "2021-01-25T12:10:45.084920Z"
    },
    "hidden": true
   },
   "outputs": [],
   "source": [
    "df2 = pd.read_excel('Data/FFL Data #Vizforsocialgood_201026_EN.xlsx', sheet_name='2019').T"
   ]
  },
  {
   "cell_type": "code",
   "execution_count": null,
   "metadata": {
    "ExecuteTime": {
     "end_time": "2021-01-25T12:10:45.466056Z",
     "start_time": "2021-01-25T12:10:45.439052Z"
    },
    "hidden": true
   },
   "outputs": [],
   "source": [
    "df2.fillna(\"\", inplace=True)\n",
    "df2['Final_result'] = df2[[11, 12, 13, 14, 15, 16, 17]].agg(' $% '.join, axis=1)\n",
    "df2.drop([11,12,13,14,15, 16, 17], inplace=True, axis=1)\n",
    "df2.reset_index(inplace=True)\n",
    "df2.columns = df2.iloc[0, :]\n",
    "df2.rename(columns={'2019 results $%  $%  $%  $%  $%  $% ': \"Final_result\",\n",
    "                    'Voted 2019 project budget €': 'Voted Year project budget €',\n",
    "                    'Voted 2019 country budget €': 'Voted Year country budget €',\n",
    "                    \"Type de financement (tel que présenté dans l'Accord-Cadre 2016-2020)\":'Project financing (as per the 2016-2020 cooperation agreement)'}, inplace=True)\n",
    "df2.drop(0, inplace=True)\n",
    "df2['Year'] = 2019"
   ]
  },
  {
   "cell_type": "code",
   "execution_count": null,
   "metadata": {
    "ExecuteTime": {
     "end_time": "2021-01-25T12:10:46.704716Z",
     "start_time": "2021-01-25T12:10:46.664758Z"
    },
    "hidden": true
   },
   "outputs": [],
   "source": [
    "df2"
   ]
  },
  {
   "cell_type": "code",
   "execution_count": null,
   "metadata": {
    "ExecuteTime": {
     "end_time": "2021-01-25T12:05:57.546258Z",
     "start_time": "2021-01-25T12:05:57.488292Z"
    },
    "hidden": true
   },
   "outputs": [],
   "source": [
    "df3 = pd.read_excel('Data/FFL Data #Vizforsocialgood_201026_EN.xlsx', sheet_name='2020').T"
   ]
  },
  {
   "cell_type": "code",
   "execution_count": null,
   "metadata": {
    "ExecuteTime": {
     "end_time": "2021-01-25T12:06:24.246881Z",
     "start_time": "2021-01-25T12:06:24.235890Z"
    },
    "hidden": true
   },
   "outputs": [],
   "source": [
    "df3.reset_index(inplace=True)\n",
    "df3.columns = df3.iloc[0, :]\n",
    "df3.drop(0, inplace=True)\n",
    "df3['Year'] = 2020\n",
    "df3.rename(columns={'Voted 2020 project budget €': 'Voted Year project budget €',\n",
    "                    'Voted 2020 country budget €': 'Voted Year country budget €'}, inplace=True)"
   ]
  },
  {
   "cell_type": "code",
   "execution_count": null,
   "metadata": {
    "ExecuteTime": {
     "end_time": "2021-01-25T12:06:25.339263Z",
     "start_time": "2021-01-25T12:06:25.336267Z"
    },
    "hidden": true
   },
   "outputs": [],
   "source": [
    "# df3"
   ]
  },
  {
   "cell_type": "code",
   "execution_count": null,
   "metadata": {
    "ExecuteTime": {
     "end_time": "2021-01-25T12:10:56.174848Z",
     "start_time": "2021-01-25T12:10:56.167851Z"
    },
    "hidden": true
   },
   "outputs": [],
   "source": [
    "df1.columns"
   ]
  },
  {
   "cell_type": "code",
   "execution_count": null,
   "metadata": {
    "ExecuteTime": {
     "end_time": "2021-01-25T12:10:58.135921Z",
     "start_time": "2021-01-25T12:10:58.129926Z"
    },
    "hidden": true
   },
   "outputs": [],
   "source": [
    "df2.columns"
   ]
  },
  {
   "cell_type": "code",
   "execution_count": null,
   "metadata": {
    "ExecuteTime": {
     "end_time": "2021-01-25T12:10:59.264074Z",
     "start_time": "2021-01-25T12:10:59.258077Z"
    },
    "hidden": true
   },
   "outputs": [],
   "source": [
    "df3.columns"
   ]
  },
  {
   "cell_type": "code",
   "execution_count": null,
   "metadata": {
    "ExecuteTime": {
     "end_time": "2021-01-25T12:11:00.374684Z",
     "start_time": "2021-01-25T12:11:00.369689Z"
    },
    "hidden": true
   },
   "outputs": [],
   "source": [
    "frames = [df1, df2, df3]"
   ]
  },
  {
   "cell_type": "code",
   "execution_count": null,
   "metadata": {
    "ExecuteTime": {
     "end_time": "2021-01-25T12:11:46.699727Z",
     "start_time": "2021-01-25T12:11:46.692731Z"
    },
    "hidden": true
   },
   "outputs": [],
   "source": [
    "result = pd.concat(frames)"
   ]
  },
  {
   "cell_type": "code",
   "execution_count": null,
   "metadata": {
    "ExecuteTime": {
     "end_time": "2021-01-25T12:13:07.305077Z",
     "start_time": "2021-01-25T12:13:07.298084Z"
    },
    "hidden": true
   },
   "outputs": [],
   "source": [
    "result = pd.concat([df1, df2, df3], ignore_index=True)"
   ]
  },
  {
   "cell_type": "code",
   "execution_count": null,
   "metadata": {
    "ExecuteTime": {
     "end_time": "2021-01-25T12:21:05.189459Z",
     "start_time": "2021-01-25T12:21:05.183463Z"
    },
    "hidden": true
   },
   "outputs": [],
   "source": [
    "result.Country = result.Country.str.split('.').str[0]"
   ]
  },
  {
   "cell_type": "code",
   "execution_count": null,
   "metadata": {
    "ExecuteTime": {
     "end_time": "2021-01-25T12:21:07.008977Z",
     "start_time": "2021-01-25T12:21:06.996984Z"
    },
    "hidden": true
   },
   "outputs": [],
   "source": [
    "result.to_csv('final_data.csv', index=False)"
   ]
  },
  {
   "cell_type": "markdown",
   "metadata": {},
   "source": [
    "# Data Exploring"
   ]
  },
  {
   "cell_type": "code",
   "execution_count": 64,
   "metadata": {
    "ExecuteTime": {
     "end_time": "2021-01-30T09:10:16.699951Z",
     "start_time": "2021-01-30T09:10:16.684960Z"
    },
    "scrolled": true
   },
   "outputs": [],
   "source": [
    "df = pd.read_csv('final_data.csv')\n",
    "# df['Year'] = pd.to_datetime(df['Year'], format='%Y').dt.year\n",
    "df.fillna(0, inplace = True)"
   ]
  },
  {
   "cell_type": "code",
   "execution_count": 60,
   "metadata": {
    "ExecuteTime": {
     "end_time": "2021-01-30T09:09:31.692209Z",
     "start_time": "2021-01-30T09:09:31.675219Z"
    }
   },
   "outputs": [
    {
     "name": "stdout",
     "output_type": "stream",
     "text": [
      "<class 'pandas.core.frame.DataFrame'>\n",
      "RangeIndex: 69 entries, 0 to 68\n",
      "Data columns (total 14 columns):\n",
      " #   Column                                                          Non-Null Count  Dtype  \n",
      "---  ------                                                          --------------  -----  \n",
      " 0   Country                                                         69 non-null     object \n",
      " 1   Local partner                                                   69 non-null     object \n",
      " 2   Project title                                                   69 non-null     object \n",
      " 3   Axis of intervention                                            69 non-null     object \n",
      " 4   Direct beneficiaries                                            69 non-null     object \n",
      " 5   Indirect beneficiaries                                          69 non-null     object \n",
      " 6   Region                                                          69 non-null     object \n",
      " 7   Voted Year project budget €                                     69 non-null     float64\n",
      " 8   Project share % out of all budget                               69 non-null     float64\n",
      " 9   Voted Year country budget €                                     69 non-null     int64  \n",
      " 10  Country share % out of all budget                               69 non-null     float64\n",
      " 11  Project financing (as per the 2016-2020 cooperation agreement)  69 non-null     object \n",
      " 12  Final_result                                                    69 non-null     object \n",
      " 13  Year                                                            69 non-null     int64  \n",
      "dtypes: float64(3), int64(2), object(9)\n",
      "memory usage: 7.7+ KB\n"
     ]
    }
   ],
   "source": [
    "df.info()"
   ]
  },
  {
   "cell_type": "code",
   "execution_count": 24,
   "metadata": {
    "ExecuteTime": {
     "end_time": "2021-01-30T07:58:50.488152Z",
     "start_time": "2021-01-30T07:58:50.477160Z"
    }
   },
   "outputs": [
    {
     "data": {
      "text/plain": [
       "Year\n",
       "2018    6\n",
       "2019    6\n",
       "2020    6\n",
       "dtype: int64"
      ]
     },
     "execution_count": 24,
     "metadata": {},
     "output_type": "execute_result"
    }
   ],
   "source": [
    "df.groupby(['Country', 'Year']).size()['Benin']#[2018]\n",
    "# str(int(df['Voted Year project budget €'].sum()))"
   ]
  },
  {
   "cell_type": "code",
   "execution_count": 65,
   "metadata": {
    "ExecuteTime": {
     "end_time": "2021-01-30T09:10:22.882814Z",
     "start_time": "2021-01-30T09:10:22.879818Z"
    }
   },
   "outputs": [],
   "source": [
    "# df['Voted Year project budget €'] = df['Voted Year project budget €'].apply(lambda x: '{:0,}'.format(int(x)))"
   ]
  },
  {
   "cell_type": "code",
   "execution_count": 128,
   "metadata": {
    "ExecuteTime": {
     "end_time": "2021-01-30T10:16:07.173166Z",
     "start_time": "2021-01-30T10:16:07.146163Z"
    }
   },
   "outputs": [
    {
     "data": {
      "text/html": [
       "<div>\n",
       "<style scoped>\n",
       "    .dataframe tbody tr th:only-of-type {\n",
       "        vertical-align: middle;\n",
       "    }\n",
       "\n",
       "    .dataframe tbody tr th {\n",
       "        vertical-align: top;\n",
       "    }\n",
       "\n",
       "    .dataframe thead th {\n",
       "        text-align: right;\n",
       "    }\n",
       "</style>\n",
       "<table border=\"1\" class=\"dataframe\">\n",
       "  <thead>\n",
       "    <tr style=\"text-align: right;\">\n",
       "      <th></th>\n",
       "      <th>Country</th>\n",
       "      <th>Year</th>\n",
       "      <th>Total Budget</th>\n",
       "      <th>Percentage</th>\n",
       "    </tr>\n",
       "  </thead>\n",
       "  <tbody>\n",
       "    <tr>\n",
       "      <th>0</th>\n",
       "      <td>Benin</td>\n",
       "      <td>2018</td>\n",
       "      <td>695921.0</td>\n",
       "      <td>0.240137</td>\n",
       "    </tr>\n",
       "    <tr>\n",
       "      <th>3</th>\n",
       "      <td>Burkina Faso</td>\n",
       "      <td>2018</td>\n",
       "      <td>592227.0</td>\n",
       "      <td>0.204356</td>\n",
       "    </tr>\n",
       "    <tr>\n",
       "      <th>6</th>\n",
       "      <td>Central African Republic</td>\n",
       "      <td>2018</td>\n",
       "      <td>300000.0</td>\n",
       "      <td>0.103519</td>\n",
       "    </tr>\n",
       "    <tr>\n",
       "      <th>9</th>\n",
       "      <td>Democratic Republic of the Congo</td>\n",
       "      <td>2018</td>\n",
       "      <td>139332.0</td>\n",
       "      <td>0.048078</td>\n",
       "    </tr>\n",
       "    <tr>\n",
       "      <th>12</th>\n",
       "      <td>Guinea-Conakry</td>\n",
       "      <td>2018</td>\n",
       "      <td>39300.0</td>\n",
       "      <td>0.013561</td>\n",
       "    </tr>\n",
       "    <tr>\n",
       "      <th>15</th>\n",
       "      <td>Ivory Coast</td>\n",
       "      <td>2018</td>\n",
       "      <td>80428.0</td>\n",
       "      <td>0.027753</td>\n",
       "    </tr>\n",
       "    <tr>\n",
       "      <th>18</th>\n",
       "      <td>Madagascar</td>\n",
       "      <td>2018</td>\n",
       "      <td>49500.0</td>\n",
       "      <td>0.017081</td>\n",
       "    </tr>\n",
       "    <tr>\n",
       "      <th>21</th>\n",
       "      <td>Mali</td>\n",
       "      <td>2018</td>\n",
       "      <td>750042.0</td>\n",
       "      <td>0.258812</td>\n",
       "    </tr>\n",
       "    <tr>\n",
       "      <th>24</th>\n",
       "      <td>Togo</td>\n",
       "      <td>2018</td>\n",
       "      <td>251271.0</td>\n",
       "      <td>0.086704</td>\n",
       "    </tr>\n",
       "  </tbody>\n",
       "</table>\n",
       "</div>"
      ],
      "text/plain": [
       "                             Country  Year  Total Budget  Percentage\n",
       "0                              Benin  2018      695921.0    0.240137\n",
       "3                       Burkina Faso  2018      592227.0    0.204356\n",
       "6           Central African Republic  2018      300000.0    0.103519\n",
       "9   Democratic Republic of the Congo  2018      139332.0    0.048078\n",
       "12                    Guinea-Conakry  2018       39300.0    0.013561\n",
       "15                       Ivory Coast  2018       80428.0    0.027753\n",
       "18                        Madagascar  2018       49500.0    0.017081\n",
       "21                              Mali  2018      750042.0    0.258812\n",
       "24                              Togo  2018      251271.0    0.086704"
      ]
     },
     "execution_count": 128,
     "metadata": {},
     "output_type": "execute_result"
    }
   ],
   "source": [
    "df_con_bud = df.groupby(['Country', 'Year']).agg({'Voted Year project budget €':'sum'}).reset_index().rename(columns = {'Voted Year project budget €': 'Total Budget'})\n",
    "df_con_bud = df_con_bud[df_con_bud.Year == 2018]\n",
    "df_con_bud['Percentage'] = df_con_bud['Total Budget']/df_con_bud['Total Budget'].sum()\n",
    "df_con_bud"
   ]
  },
  {
   "cell_type": "code",
   "execution_count": 120,
   "metadata": {
    "ExecuteTime": {
     "end_time": "2021-01-30T09:42:42.467520Z",
     "start_time": "2021-01-30T09:42:42.433539Z"
    }
   },
   "outputs": [
    {
     "name": "stderr",
     "output_type": "stream",
     "text": [
      "<ipython-input-120-9741c1f512a5>:3: SettingWithCopyWarning: \n",
      "A value is trying to be set on a copy of a slice from a DataFrame.\n",
      "Try using .loc[row_indexer,col_indexer] = value instead\n",
      "\n",
      "See the caveats in the documentation: https://pandas.pydata.org/pandas-docs/stable/user_guide/indexing.html#returning-a-view-versus-a-copy\n",
      "  df_con_bud['Percentage'] = df_con_bud.loc[:,'Total Budget']/df_con_bud.loc[:,'Total Budget'].sum()\n"
     ]
    },
    {
     "ename": "ValueError",
     "evalue": "Location based indexing can only have [integer, integer slice (START point is INCLUDED, END point is EXCLUDED), listlike of integers, boolean array] types",
     "output_type": "error",
     "traceback": [
      "\u001b[1;31m---------------------------------------------------------------------------\u001b[0m",
      "\u001b[1;31mValueError\u001b[0m                                Traceback (most recent call last)",
      "\u001b[1;32mc:\\users\\hp\\appdata\\local\\programs\\python\\python38\\lib\\site-packages\\pandas\\core\\indexing.py\u001b[0m in \u001b[0;36m_has_valid_tuple\u001b[1;34m(self, key)\u001b[0m\n\u001b[0;32m    701\u001b[0m             \u001b[1;32mtry\u001b[0m\u001b[1;33m:\u001b[0m\u001b[1;33m\u001b[0m\u001b[1;33m\u001b[0m\u001b[0m\n\u001b[1;32m--> 702\u001b[1;33m                 \u001b[0mself\u001b[0m\u001b[1;33m.\u001b[0m\u001b[0m_validate_key\u001b[0m\u001b[1;33m(\u001b[0m\u001b[0mk\u001b[0m\u001b[1;33m,\u001b[0m \u001b[0mi\u001b[0m\u001b[1;33m)\u001b[0m\u001b[1;33m\u001b[0m\u001b[1;33m\u001b[0m\u001b[0m\n\u001b[0m\u001b[0;32m    703\u001b[0m             \u001b[1;32mexcept\u001b[0m \u001b[0mValueError\u001b[0m \u001b[1;32mas\u001b[0m \u001b[0merr\u001b[0m\u001b[1;33m:\u001b[0m\u001b[1;33m\u001b[0m\u001b[1;33m\u001b[0m\u001b[0m\n",
      "\u001b[1;32mc:\\users\\hp\\appdata\\local\\programs\\python\\python38\\lib\\site-packages\\pandas\\core\\indexing.py\u001b[0m in \u001b[0;36m_validate_key\u001b[1;34m(self, key, axis)\u001b[0m\n\u001b[0;32m   1368\u001b[0m         \u001b[1;32melse\u001b[0m\u001b[1;33m:\u001b[0m\u001b[1;33m\u001b[0m\u001b[1;33m\u001b[0m\u001b[0m\n\u001b[1;32m-> 1369\u001b[1;33m             \u001b[1;32mraise\u001b[0m \u001b[0mValueError\u001b[0m\u001b[1;33m(\u001b[0m\u001b[1;34mf\"Can only index by location with a [{self._valid_types}]\"\u001b[0m\u001b[1;33m)\u001b[0m\u001b[1;33m\u001b[0m\u001b[1;33m\u001b[0m\u001b[0m\n\u001b[0m\u001b[0;32m   1370\u001b[0m \u001b[1;33m\u001b[0m\u001b[0m\n",
      "\u001b[1;31mValueError\u001b[0m: Can only index by location with a [integer, integer slice (START point is INCLUDED, END point is EXCLUDED), listlike of integers, boolean array]",
      "\nThe above exception was the direct cause of the following exception:\n",
      "\u001b[1;31mValueError\u001b[0m                                Traceback (most recent call last)",
      "\u001b[1;32m<ipython-input-120-9741c1f512a5>\u001b[0m in \u001b[0;36m<module>\u001b[1;34m\u001b[0m\n\u001b[0;32m      3\u001b[0m \u001b[0mdf_con_bud\u001b[0m\u001b[1;33m[\u001b[0m\u001b[1;34m'Percentage'\u001b[0m\u001b[1;33m]\u001b[0m \u001b[1;33m=\u001b[0m \u001b[0mdf_con_bud\u001b[0m\u001b[1;33m.\u001b[0m\u001b[0mloc\u001b[0m\u001b[1;33m[\u001b[0m\u001b[1;33m:\u001b[0m\u001b[1;33m,\u001b[0m\u001b[1;34m'Total Budget'\u001b[0m\u001b[1;33m]\u001b[0m\u001b[1;33m/\u001b[0m\u001b[0mdf_con_bud\u001b[0m\u001b[1;33m.\u001b[0m\u001b[0mloc\u001b[0m\u001b[1;33m[\u001b[0m\u001b[1;33m:\u001b[0m\u001b[1;33m,\u001b[0m\u001b[1;34m'Total Budget'\u001b[0m\u001b[1;33m]\u001b[0m\u001b[1;33m.\u001b[0m\u001b[0msum\u001b[0m\u001b[1;33m(\u001b[0m\u001b[1;33m)\u001b[0m\u001b[1;33m\u001b[0m\u001b[1;33m\u001b[0m\u001b[0m\n\u001b[0;32m      4\u001b[0m \u001b[1;31m# df_con_bud['Total Budget'].sum()\u001b[0m\u001b[1;33m\u001b[0m\u001b[1;33m\u001b[0m\u001b[1;33m\u001b[0m\u001b[0m\n\u001b[1;32m----> 5\u001b[1;33m \u001b[0mdf_con_bud\u001b[0m\u001b[1;33m.\u001b[0m\u001b[0miloc\u001b[0m\u001b[1;33m[\u001b[0m\u001b[1;33m:\u001b[0m\u001b[1;33m,\u001b[0m\u001b[1;34m'Percentage'\u001b[0m\u001b[1;33m]\u001b[0m\u001b[1;33m\u001b[0m\u001b[1;33m\u001b[0m\u001b[0m\n\u001b[0m\u001b[0;32m      6\u001b[0m \u001b[1;31m# df_con_bud.loc[:,'Total Budget']\u001b[0m\u001b[1;33m\u001b[0m\u001b[1;33m\u001b[0m\u001b[1;33m\u001b[0m\u001b[0m\n",
      "\u001b[1;32mc:\\users\\hp\\appdata\\local\\programs\\python\\python38\\lib\\site-packages\\pandas\\core\\indexing.py\u001b[0m in \u001b[0;36m__getitem__\u001b[1;34m(self, key)\u001b[0m\n\u001b[0;32m    871\u001b[0m                     \u001b[1;31m# AttributeError for IntervalTree get_value\u001b[0m\u001b[1;33m\u001b[0m\u001b[1;33m\u001b[0m\u001b[1;33m\u001b[0m\u001b[0m\n\u001b[0;32m    872\u001b[0m                     \u001b[1;32mpass\u001b[0m\u001b[1;33m\u001b[0m\u001b[1;33m\u001b[0m\u001b[0m\n\u001b[1;32m--> 873\u001b[1;33m             \u001b[1;32mreturn\u001b[0m \u001b[0mself\u001b[0m\u001b[1;33m.\u001b[0m\u001b[0m_getitem_tuple\u001b[0m\u001b[1;33m(\u001b[0m\u001b[0mkey\u001b[0m\u001b[1;33m)\u001b[0m\u001b[1;33m\u001b[0m\u001b[1;33m\u001b[0m\u001b[0m\n\u001b[0m\u001b[0;32m    874\u001b[0m         \u001b[1;32melse\u001b[0m\u001b[1;33m:\u001b[0m\u001b[1;33m\u001b[0m\u001b[1;33m\u001b[0m\u001b[0m\n\u001b[0;32m    875\u001b[0m             \u001b[1;31m# we by definition only have the 0th axis\u001b[0m\u001b[1;33m\u001b[0m\u001b[1;33m\u001b[0m\u001b[1;33m\u001b[0m\u001b[0m\n",
      "\u001b[1;32mc:\\users\\hp\\appdata\\local\\programs\\python\\python38\\lib\\site-packages\\pandas\\core\\indexing.py\u001b[0m in \u001b[0;36m_getitem_tuple\u001b[1;34m(self, tup)\u001b[0m\n\u001b[0;32m   1441\u001b[0m     \u001b[1;32mdef\u001b[0m \u001b[0m_getitem_tuple\u001b[0m\u001b[1;33m(\u001b[0m\u001b[0mself\u001b[0m\u001b[1;33m,\u001b[0m \u001b[0mtup\u001b[0m\u001b[1;33m:\u001b[0m \u001b[0mTuple\u001b[0m\u001b[1;33m)\u001b[0m\u001b[1;33m:\u001b[0m\u001b[1;33m\u001b[0m\u001b[1;33m\u001b[0m\u001b[0m\n\u001b[0;32m   1442\u001b[0m \u001b[1;33m\u001b[0m\u001b[0m\n\u001b[1;32m-> 1443\u001b[1;33m         \u001b[0mself\u001b[0m\u001b[1;33m.\u001b[0m\u001b[0m_has_valid_tuple\u001b[0m\u001b[1;33m(\u001b[0m\u001b[0mtup\u001b[0m\u001b[1;33m)\u001b[0m\u001b[1;33m\u001b[0m\u001b[1;33m\u001b[0m\u001b[0m\n\u001b[0m\u001b[0;32m   1444\u001b[0m         \u001b[1;32mtry\u001b[0m\u001b[1;33m:\u001b[0m\u001b[1;33m\u001b[0m\u001b[1;33m\u001b[0m\u001b[0m\n\u001b[0;32m   1445\u001b[0m             \u001b[1;32mreturn\u001b[0m \u001b[0mself\u001b[0m\u001b[1;33m.\u001b[0m\u001b[0m_getitem_lowerdim\u001b[0m\u001b[1;33m(\u001b[0m\u001b[0mtup\u001b[0m\u001b[1;33m)\u001b[0m\u001b[1;33m\u001b[0m\u001b[1;33m\u001b[0m\u001b[0m\n",
      "\u001b[1;32mc:\\users\\hp\\appdata\\local\\programs\\python\\python38\\lib\\site-packages\\pandas\\core\\indexing.py\u001b[0m in \u001b[0;36m_has_valid_tuple\u001b[1;34m(self, key)\u001b[0m\n\u001b[0;32m    702\u001b[0m                 \u001b[0mself\u001b[0m\u001b[1;33m.\u001b[0m\u001b[0m_validate_key\u001b[0m\u001b[1;33m(\u001b[0m\u001b[0mk\u001b[0m\u001b[1;33m,\u001b[0m \u001b[0mi\u001b[0m\u001b[1;33m)\u001b[0m\u001b[1;33m\u001b[0m\u001b[1;33m\u001b[0m\u001b[0m\n\u001b[0;32m    703\u001b[0m             \u001b[1;32mexcept\u001b[0m \u001b[0mValueError\u001b[0m \u001b[1;32mas\u001b[0m \u001b[0merr\u001b[0m\u001b[1;33m:\u001b[0m\u001b[1;33m\u001b[0m\u001b[1;33m\u001b[0m\u001b[0m\n\u001b[1;32m--> 704\u001b[1;33m                 raise ValueError(\n\u001b[0m\u001b[0;32m    705\u001b[0m                     \u001b[1;34m\"Location based indexing can only have \"\u001b[0m\u001b[1;33m\u001b[0m\u001b[1;33m\u001b[0m\u001b[0m\n\u001b[0;32m    706\u001b[0m                     \u001b[1;34mf\"[{self._valid_types}] types\"\u001b[0m\u001b[1;33m\u001b[0m\u001b[1;33m\u001b[0m\u001b[0m\n",
      "\u001b[1;31mValueError\u001b[0m: Location based indexing can only have [integer, integer slice (START point is INCLUDED, END point is EXCLUDED), listlike of integers, boolean array] types"
     ]
    }
   ],
   "source": [
    "df_con_bud = df_con_bud1[df_con_bud1.Year == 2018]\n",
    "\n",
    "df_con_bud['Percentage'] = df_con_bud.loc[:,'Total Budget']/df_con_bud.loc[:,'Total Budget'].sum()\n",
    "# df_con_bud['Total Budget'].sum()\n",
    "df_con_bud.iloc[:,'Percentage']\n",
    "# df_con_bud.loc[:,'Total Budget']"
   ]
  },
  {
   "cell_type": "code",
   "execution_count": 8,
   "metadata": {
    "ExecuteTime": {
     "end_time": "2021-01-26T04:01:27.646626Z",
     "start_time": "2021-01-26T04:01:27.634635Z"
    }
   },
   "outputs": [
    {
     "data": {
      "text/plain": [
       "Country                           Year  Local partner                      \n",
       "Benin                             2018  R-FFL                                  6\n",
       "                                  2019  R-FFL                                  6\n",
       "                                  2020  R-FFL                                  6\n",
       "Burkina Faso                      2018  AAB-FFL                                4\n",
       "                                  2019  AAB-FFL                                4\n",
       "                                  2020  AAB-FFL                                4\n",
       "Central African Republic          2018  FAIRMED                                2\n",
       "                                  2019  FAIRMED                                2\n",
       "                                  2020  FAIRMED                                2\n",
       "Democratic Republic of the Congo  2018  SUMEDCO                                1\n",
       "                                  2019  SUMEDCO                                1\n",
       "                                  2020  SUMEDCO                                1\n",
       "Guinea-Conakry                    2018  APROSCO                                1\n",
       "                                  2019  APROSCO                                1\n",
       "                                  2020  APROSCO                                1\n",
       "Ivory Coast                       2018  AME                                    2\n",
       "                                  2019  AME                                    2\n",
       "                                  2020  AME                                    2\n",
       "Madagascar                        2018  Les Sœurs de Saint-Paul de Chartres    1\n",
       "                                  2019  Les Sœurs de Saint-Paul de Chartres    1\n",
       "                                  2020  Les Sœurs de Saint-Paul de Chartres    1\n",
       "Mali                              2018  AP-FFL                                 2\n",
       "                                        COFESFA                                2\n",
       "                                  2019  AP-FFL                                 2\n",
       "                                        COFESFA                                2\n",
       "                                  2020  AP-FFL                                 2\n",
       "                                        COFESFA                                2\n",
       "Togo                              2018  AAT-FFL                                2\n",
       "                                  2019  AAT-FFL                                2\n",
       "                                  2020  AAT-FFL                                2\n",
       "dtype: int64"
      ]
     },
     "execution_count": 8,
     "metadata": {},
     "output_type": "execute_result"
    }
   ],
   "source": [
    "df.groupby(['Country', 'Year','Local partner']).size()"
   ]
  },
  {
   "cell_type": "code",
   "execution_count": 9,
   "metadata": {
    "ExecuteTime": {
     "end_time": "2021-01-26T04:01:28.351852Z",
     "start_time": "2021-01-26T04:01:28.343856Z"
    }
   },
   "outputs": [
    {
     "data": {
      "text/plain": [
       "Community health program                                                           12\n",
       "Mind the Gap                                                                        6\n",
       "Polyclinic in Mbuji-Mayi                                                            3\n",
       "Comprehensive and adapted care of mine-working children in Tougouri                 3\n",
       "Buruli ulcer screening and treatment center                                         3\n",
       "Comprehensive and adapted care of Ségou street children                             3\n",
       "Enabling and promoting female, maternal and infant health                           3\n",
       "Enabling and promoting health for the Lobaye population                             3\n",
       "Comprehensive and adapted care of Bouaké street children                            3\n",
       "Raising awarenss among communities against Female Genital Mutilations               3\n",
       "CIPSA-EH Socio-educative center                                                     3\n",
       "Humanitarian Aid                                                                    3\n",
       "Fight against female genital mutilations                                            3\n",
       "Socio-professional integration of female youth in Bouaké                            3\n",
       "Zè vocational taining center                                                        3\n",
       "Fight against child trafficking in the North of Benin                               3\n",
       "Dedougou young gardeners                                                            3\n",
       "Reinforcing capabilities in the screening and treatment of tropical skin ulcers     3\n",
       "Screening and Treatment of Neglected Tropical Diseases                              3\n",
       "Name: Project title, dtype: int64"
      ]
     },
     "execution_count": 9,
     "metadata": {},
     "output_type": "execute_result"
    }
   ],
   "source": [
    "df['Project title'].value_counts()"
   ]
  },
  {
   "cell_type": "code",
   "execution_count": 10,
   "metadata": {
    "ExecuteTime": {
     "end_time": "2021-01-26T04:01:34.140941Z",
     "start_time": "2021-01-26T04:01:34.100943Z"
    }
   },
   "outputs": [
    {
     "data": {
      "text/html": [
       "<div>\n",
       "<style scoped>\n",
       "    .dataframe tbody tr th:only-of-type {\n",
       "        vertical-align: middle;\n",
       "    }\n",
       "\n",
       "    .dataframe tbody tr th {\n",
       "        vertical-align: top;\n",
       "    }\n",
       "\n",
       "    .dataframe thead th {\n",
       "        text-align: right;\n",
       "    }\n",
       "</style>\n",
       "<table border=\"1\" class=\"dataframe\">\n",
       "  <thead>\n",
       "    <tr style=\"text-align: right;\">\n",
       "      <th></th>\n",
       "      <th>Project title</th>\n",
       "      <th>Country</th>\n",
       "      <th>Year</th>\n",
       "      <th>Local partner</th>\n",
       "      <th>0</th>\n",
       "    </tr>\n",
       "  </thead>\n",
       "  <tbody>\n",
       "    <tr>\n",
       "      <th>0</th>\n",
       "      <td>Buruli ulcer screening and treatment center</td>\n",
       "      <td>Benin</td>\n",
       "      <td>2018</td>\n",
       "      <td>R-FFL</td>\n",
       "      <td>1</td>\n",
       "    </tr>\n",
       "    <tr>\n",
       "      <th>1</th>\n",
       "      <td>Buruli ulcer screening and treatment center</td>\n",
       "      <td>Benin</td>\n",
       "      <td>2019</td>\n",
       "      <td>R-FFL</td>\n",
       "      <td>1</td>\n",
       "    </tr>\n",
       "    <tr>\n",
       "      <th>2</th>\n",
       "      <td>Buruli ulcer screening and treatment center</td>\n",
       "      <td>Benin</td>\n",
       "      <td>2020</td>\n",
       "      <td>R-FFL</td>\n",
       "      <td>1</td>\n",
       "    </tr>\n",
       "    <tr>\n",
       "      <th>3</th>\n",
       "      <td>CIPSA-EH Socio-educative center</td>\n",
       "      <td>Benin</td>\n",
       "      <td>2018</td>\n",
       "      <td>R-FFL</td>\n",
       "      <td>1</td>\n",
       "    </tr>\n",
       "    <tr>\n",
       "      <th>4</th>\n",
       "      <td>CIPSA-EH Socio-educative center</td>\n",
       "      <td>Benin</td>\n",
       "      <td>2019</td>\n",
       "      <td>R-FFL</td>\n",
       "      <td>1</td>\n",
       "    </tr>\n",
       "    <tr>\n",
       "      <th>5</th>\n",
       "      <td>CIPSA-EH Socio-educative center</td>\n",
       "      <td>Benin</td>\n",
       "      <td>2020</td>\n",
       "      <td>R-FFL</td>\n",
       "      <td>1</td>\n",
       "    </tr>\n",
       "    <tr>\n",
       "      <th>6</th>\n",
       "      <td>Community health program</td>\n",
       "      <td>Benin</td>\n",
       "      <td>2018</td>\n",
       "      <td>R-FFL</td>\n",
       "      <td>1</td>\n",
       "    </tr>\n",
       "    <tr>\n",
       "      <th>7</th>\n",
       "      <td>Community health program</td>\n",
       "      <td>Benin</td>\n",
       "      <td>2019</td>\n",
       "      <td>R-FFL</td>\n",
       "      <td>1</td>\n",
       "    </tr>\n",
       "    <tr>\n",
       "      <th>8</th>\n",
       "      <td>Community health program</td>\n",
       "      <td>Benin</td>\n",
       "      <td>2020</td>\n",
       "      <td>R-FFL</td>\n",
       "      <td>1</td>\n",
       "    </tr>\n",
       "    <tr>\n",
       "      <th>9</th>\n",
       "      <td>Community health program</td>\n",
       "      <td>Burkina Faso</td>\n",
       "      <td>2018</td>\n",
       "      <td>AAB-FFL</td>\n",
       "      <td>1</td>\n",
       "    </tr>\n",
       "    <tr>\n",
       "      <th>10</th>\n",
       "      <td>Community health program</td>\n",
       "      <td>Burkina Faso</td>\n",
       "      <td>2019</td>\n",
       "      <td>AAB-FFL</td>\n",
       "      <td>1</td>\n",
       "    </tr>\n",
       "    <tr>\n",
       "      <th>11</th>\n",
       "      <td>Community health program</td>\n",
       "      <td>Burkina Faso</td>\n",
       "      <td>2020</td>\n",
       "      <td>AAB-FFL</td>\n",
       "      <td>1</td>\n",
       "    </tr>\n",
       "    <tr>\n",
       "      <th>12</th>\n",
       "      <td>Community health program</td>\n",
       "      <td>Mali</td>\n",
       "      <td>2018</td>\n",
       "      <td>AP-FFL</td>\n",
       "      <td>1</td>\n",
       "    </tr>\n",
       "    <tr>\n",
       "      <th>13</th>\n",
       "      <td>Community health program</td>\n",
       "      <td>Mali</td>\n",
       "      <td>2019</td>\n",
       "      <td>AP-FFL</td>\n",
       "      <td>1</td>\n",
       "    </tr>\n",
       "    <tr>\n",
       "      <th>14</th>\n",
       "      <td>Community health program</td>\n",
       "      <td>Mali</td>\n",
       "      <td>2020</td>\n",
       "      <td>AP-FFL</td>\n",
       "      <td>1</td>\n",
       "    </tr>\n",
       "    <tr>\n",
       "      <th>15</th>\n",
       "      <td>Community health program</td>\n",
       "      <td>Togo</td>\n",
       "      <td>2018</td>\n",
       "      <td>AAT-FFL</td>\n",
       "      <td>1</td>\n",
       "    </tr>\n",
       "    <tr>\n",
       "      <th>16</th>\n",
       "      <td>Community health program</td>\n",
       "      <td>Togo</td>\n",
       "      <td>2019</td>\n",
       "      <td>AAT-FFL</td>\n",
       "      <td>1</td>\n",
       "    </tr>\n",
       "    <tr>\n",
       "      <th>17</th>\n",
       "      <td>Community health program</td>\n",
       "      <td>Togo</td>\n",
       "      <td>2020</td>\n",
       "      <td>AAT-FFL</td>\n",
       "      <td>1</td>\n",
       "    </tr>\n",
       "    <tr>\n",
       "      <th>18</th>\n",
       "      <td>Comprehensive and adapted care of Bouaké stree...</td>\n",
       "      <td>Ivory Coast</td>\n",
       "      <td>2018</td>\n",
       "      <td>AME</td>\n",
       "      <td>1</td>\n",
       "    </tr>\n",
       "    <tr>\n",
       "      <th>19</th>\n",
       "      <td>Comprehensive and adapted care of Bouaké stree...</td>\n",
       "      <td>Ivory Coast</td>\n",
       "      <td>2019</td>\n",
       "      <td>AME</td>\n",
       "      <td>1</td>\n",
       "    </tr>\n",
       "    <tr>\n",
       "      <th>20</th>\n",
       "      <td>Comprehensive and adapted care of Bouaké stree...</td>\n",
       "      <td>Ivory Coast</td>\n",
       "      <td>2020</td>\n",
       "      <td>AME</td>\n",
       "      <td>1</td>\n",
       "    </tr>\n",
       "    <tr>\n",
       "      <th>21</th>\n",
       "      <td>Comprehensive and adapted care of Ségou street...</td>\n",
       "      <td>Mali</td>\n",
       "      <td>2018</td>\n",
       "      <td>AP-FFL</td>\n",
       "      <td>1</td>\n",
       "    </tr>\n",
       "    <tr>\n",
       "      <th>22</th>\n",
       "      <td>Comprehensive and adapted care of Ségou street...</td>\n",
       "      <td>Mali</td>\n",
       "      <td>2019</td>\n",
       "      <td>AP-FFL</td>\n",
       "      <td>1</td>\n",
       "    </tr>\n",
       "    <tr>\n",
       "      <th>23</th>\n",
       "      <td>Comprehensive and adapted care of Ségou street...</td>\n",
       "      <td>Mali</td>\n",
       "      <td>2020</td>\n",
       "      <td>AP-FFL</td>\n",
       "      <td>1</td>\n",
       "    </tr>\n",
       "    <tr>\n",
       "      <th>24</th>\n",
       "      <td>Comprehensive and adapted care of mine-working...</td>\n",
       "      <td>Burkina Faso</td>\n",
       "      <td>2018</td>\n",
       "      <td>AAB-FFL</td>\n",
       "      <td>1</td>\n",
       "    </tr>\n",
       "    <tr>\n",
       "      <th>25</th>\n",
       "      <td>Comprehensive and adapted care of mine-working...</td>\n",
       "      <td>Burkina Faso</td>\n",
       "      <td>2019</td>\n",
       "      <td>AAB-FFL</td>\n",
       "      <td>1</td>\n",
       "    </tr>\n",
       "    <tr>\n",
       "      <th>26</th>\n",
       "      <td>Comprehensive and adapted care of mine-working...</td>\n",
       "      <td>Burkina Faso</td>\n",
       "      <td>2020</td>\n",
       "      <td>AAB-FFL</td>\n",
       "      <td>1</td>\n",
       "    </tr>\n",
       "    <tr>\n",
       "      <th>27</th>\n",
       "      <td>Dedougou young gardeners</td>\n",
       "      <td>Burkina Faso</td>\n",
       "      <td>2018</td>\n",
       "      <td>AAB-FFL</td>\n",
       "      <td>1</td>\n",
       "    </tr>\n",
       "    <tr>\n",
       "      <th>28</th>\n",
       "      <td>Dedougou young gardeners</td>\n",
       "      <td>Burkina Faso</td>\n",
       "      <td>2019</td>\n",
       "      <td>AAB-FFL</td>\n",
       "      <td>1</td>\n",
       "    </tr>\n",
       "    <tr>\n",
       "      <th>29</th>\n",
       "      <td>Dedougou young gardeners</td>\n",
       "      <td>Burkina Faso</td>\n",
       "      <td>2020</td>\n",
       "      <td>AAB-FFL</td>\n",
       "      <td>1</td>\n",
       "    </tr>\n",
       "    <tr>\n",
       "      <th>30</th>\n",
       "      <td>Enabling and promoting female, maternal and in...</td>\n",
       "      <td>Mali</td>\n",
       "      <td>2018</td>\n",
       "      <td>COFESFA</td>\n",
       "      <td>1</td>\n",
       "    </tr>\n",
       "    <tr>\n",
       "      <th>31</th>\n",
       "      <td>Enabling and promoting female, maternal and in...</td>\n",
       "      <td>Mali</td>\n",
       "      <td>2019</td>\n",
       "      <td>COFESFA</td>\n",
       "      <td>1</td>\n",
       "    </tr>\n",
       "    <tr>\n",
       "      <th>32</th>\n",
       "      <td>Enabling and promoting female, maternal and in...</td>\n",
       "      <td>Mali</td>\n",
       "      <td>2020</td>\n",
       "      <td>COFESFA</td>\n",
       "      <td>1</td>\n",
       "    </tr>\n",
       "    <tr>\n",
       "      <th>33</th>\n",
       "      <td>Enabling and promoting health for the Lobaye p...</td>\n",
       "      <td>Central African Republic</td>\n",
       "      <td>2018</td>\n",
       "      <td>FAIRMED</td>\n",
       "      <td>1</td>\n",
       "    </tr>\n",
       "    <tr>\n",
       "      <th>34</th>\n",
       "      <td>Enabling and promoting health for the Lobaye p...</td>\n",
       "      <td>Central African Republic</td>\n",
       "      <td>2019</td>\n",
       "      <td>FAIRMED</td>\n",
       "      <td>1</td>\n",
       "    </tr>\n",
       "    <tr>\n",
       "      <th>35</th>\n",
       "      <td>Enabling and promoting health for the Lobaye p...</td>\n",
       "      <td>Central African Republic</td>\n",
       "      <td>2020</td>\n",
       "      <td>FAIRMED</td>\n",
       "      <td>1</td>\n",
       "    </tr>\n",
       "    <tr>\n",
       "      <th>36</th>\n",
       "      <td>Fight against child trafficking in the North o...</td>\n",
       "      <td>Benin</td>\n",
       "      <td>2018</td>\n",
       "      <td>R-FFL</td>\n",
       "      <td>1</td>\n",
       "    </tr>\n",
       "    <tr>\n",
       "      <th>37</th>\n",
       "      <td>Fight against child trafficking in the North o...</td>\n",
       "      <td>Benin</td>\n",
       "      <td>2019</td>\n",
       "      <td>R-FFL</td>\n",
       "      <td>1</td>\n",
       "    </tr>\n",
       "    <tr>\n",
       "      <th>38</th>\n",
       "      <td>Fight against child trafficking in the North o...</td>\n",
       "      <td>Benin</td>\n",
       "      <td>2020</td>\n",
       "      <td>R-FFL</td>\n",
       "      <td>1</td>\n",
       "    </tr>\n",
       "    <tr>\n",
       "      <th>39</th>\n",
       "      <td>Fight against female genital mutilations</td>\n",
       "      <td>Burkina Faso</td>\n",
       "      <td>2018</td>\n",
       "      <td>AAB-FFL</td>\n",
       "      <td>1</td>\n",
       "    </tr>\n",
       "    <tr>\n",
       "      <th>40</th>\n",
       "      <td>Fight against female genital mutilations</td>\n",
       "      <td>Burkina Faso</td>\n",
       "      <td>2019</td>\n",
       "      <td>AAB-FFL</td>\n",
       "      <td>1</td>\n",
       "    </tr>\n",
       "    <tr>\n",
       "      <th>41</th>\n",
       "      <td>Fight against female genital mutilations</td>\n",
       "      <td>Burkina Faso</td>\n",
       "      <td>2020</td>\n",
       "      <td>AAB-FFL</td>\n",
       "      <td>1</td>\n",
       "    </tr>\n",
       "    <tr>\n",
       "      <th>42</th>\n",
       "      <td>Humanitarian Aid</td>\n",
       "      <td>Central African Republic</td>\n",
       "      <td>2018</td>\n",
       "      <td>FAIRMED</td>\n",
       "      <td>1</td>\n",
       "    </tr>\n",
       "    <tr>\n",
       "      <th>43</th>\n",
       "      <td>Humanitarian Aid</td>\n",
       "      <td>Central African Republic</td>\n",
       "      <td>2019</td>\n",
       "      <td>FAIRMED</td>\n",
       "      <td>1</td>\n",
       "    </tr>\n",
       "    <tr>\n",
       "      <th>44</th>\n",
       "      <td>Humanitarian Aid</td>\n",
       "      <td>Central African Republic</td>\n",
       "      <td>2020</td>\n",
       "      <td>FAIRMED</td>\n",
       "      <td>1</td>\n",
       "    </tr>\n",
       "    <tr>\n",
       "      <th>45</th>\n",
       "      <td>Mind the Gap</td>\n",
       "      <td>Benin</td>\n",
       "      <td>2018</td>\n",
       "      <td>R-FFL</td>\n",
       "      <td>1</td>\n",
       "    </tr>\n",
       "    <tr>\n",
       "      <th>46</th>\n",
       "      <td>Mind the Gap</td>\n",
       "      <td>Benin</td>\n",
       "      <td>2019</td>\n",
       "      <td>R-FFL</td>\n",
       "      <td>1</td>\n",
       "    </tr>\n",
       "    <tr>\n",
       "      <th>47</th>\n",
       "      <td>Mind the Gap</td>\n",
       "      <td>Benin</td>\n",
       "      <td>2020</td>\n",
       "      <td>R-FFL</td>\n",
       "      <td>1</td>\n",
       "    </tr>\n",
       "    <tr>\n",
       "      <th>48</th>\n",
       "      <td>Mind the Gap</td>\n",
       "      <td>Togo</td>\n",
       "      <td>2018</td>\n",
       "      <td>AAT-FFL</td>\n",
       "      <td>1</td>\n",
       "    </tr>\n",
       "    <tr>\n",
       "      <th>49</th>\n",
       "      <td>Mind the Gap</td>\n",
       "      <td>Togo</td>\n",
       "      <td>2019</td>\n",
       "      <td>AAT-FFL</td>\n",
       "      <td>1</td>\n",
       "    </tr>\n",
       "    <tr>\n",
       "      <th>50</th>\n",
       "      <td>Mind the Gap</td>\n",
       "      <td>Togo</td>\n",
       "      <td>2020</td>\n",
       "      <td>AAT-FFL</td>\n",
       "      <td>1</td>\n",
       "    </tr>\n",
       "    <tr>\n",
       "      <th>51</th>\n",
       "      <td>Polyclinic in Mbuji-Mayi</td>\n",
       "      <td>Democratic Republic of the Congo</td>\n",
       "      <td>2018</td>\n",
       "      <td>SUMEDCO</td>\n",
       "      <td>1</td>\n",
       "    </tr>\n",
       "    <tr>\n",
       "      <th>52</th>\n",
       "      <td>Polyclinic in Mbuji-Mayi</td>\n",
       "      <td>Democratic Republic of the Congo</td>\n",
       "      <td>2019</td>\n",
       "      <td>SUMEDCO</td>\n",
       "      <td>1</td>\n",
       "    </tr>\n",
       "    <tr>\n",
       "      <th>53</th>\n",
       "      <td>Polyclinic in Mbuji-Mayi</td>\n",
       "      <td>Democratic Republic of the Congo</td>\n",
       "      <td>2020</td>\n",
       "      <td>SUMEDCO</td>\n",
       "      <td>1</td>\n",
       "    </tr>\n",
       "    <tr>\n",
       "      <th>54</th>\n",
       "      <td>Raising awarenss among communities against Fem...</td>\n",
       "      <td>Mali</td>\n",
       "      <td>2018</td>\n",
       "      <td>COFESFA</td>\n",
       "      <td>1</td>\n",
       "    </tr>\n",
       "    <tr>\n",
       "      <th>55</th>\n",
       "      <td>Raising awarenss among communities against Fem...</td>\n",
       "      <td>Mali</td>\n",
       "      <td>2019</td>\n",
       "      <td>COFESFA</td>\n",
       "      <td>1</td>\n",
       "    </tr>\n",
       "    <tr>\n",
       "      <th>56</th>\n",
       "      <td>Raising awarenss among communities against Fem...</td>\n",
       "      <td>Mali</td>\n",
       "      <td>2020</td>\n",
       "      <td>COFESFA</td>\n",
       "      <td>1</td>\n",
       "    </tr>\n",
       "    <tr>\n",
       "      <th>57</th>\n",
       "      <td>Reinforcing capabilities in the screening and ...</td>\n",
       "      <td>Guinea-Conakry</td>\n",
       "      <td>2018</td>\n",
       "      <td>APROSCO</td>\n",
       "      <td>1</td>\n",
       "    </tr>\n",
       "    <tr>\n",
       "      <th>58</th>\n",
       "      <td>Reinforcing capabilities in the screening and ...</td>\n",
       "      <td>Guinea-Conakry</td>\n",
       "      <td>2019</td>\n",
       "      <td>APROSCO</td>\n",
       "      <td>1</td>\n",
       "    </tr>\n",
       "    <tr>\n",
       "      <th>59</th>\n",
       "      <td>Reinforcing capabilities in the screening and ...</td>\n",
       "      <td>Guinea-Conakry</td>\n",
       "      <td>2020</td>\n",
       "      <td>APROSCO</td>\n",
       "      <td>1</td>\n",
       "    </tr>\n",
       "    <tr>\n",
       "      <th>60</th>\n",
       "      <td>Screening and Treatment of Neglected Tropical ...</td>\n",
       "      <td>Madagascar</td>\n",
       "      <td>2018</td>\n",
       "      <td>Les Sœurs de Saint-Paul de Chartres</td>\n",
       "      <td>1</td>\n",
       "    </tr>\n",
       "    <tr>\n",
       "      <th>61</th>\n",
       "      <td>Screening and Treatment of Neglected Tropical ...</td>\n",
       "      <td>Madagascar</td>\n",
       "      <td>2019</td>\n",
       "      <td>Les Sœurs de Saint-Paul de Chartres</td>\n",
       "      <td>1</td>\n",
       "    </tr>\n",
       "    <tr>\n",
       "      <th>62</th>\n",
       "      <td>Screening and Treatment of Neglected Tropical ...</td>\n",
       "      <td>Madagascar</td>\n",
       "      <td>2020</td>\n",
       "      <td>Les Sœurs de Saint-Paul de Chartres</td>\n",
       "      <td>1</td>\n",
       "    </tr>\n",
       "    <tr>\n",
       "      <th>63</th>\n",
       "      <td>Socio-professional integration of female youth...</td>\n",
       "      <td>Ivory Coast</td>\n",
       "      <td>2018</td>\n",
       "      <td>AME</td>\n",
       "      <td>1</td>\n",
       "    </tr>\n",
       "    <tr>\n",
       "      <th>64</th>\n",
       "      <td>Socio-professional integration of female youth...</td>\n",
       "      <td>Ivory Coast</td>\n",
       "      <td>2019</td>\n",
       "      <td>AME</td>\n",
       "      <td>1</td>\n",
       "    </tr>\n",
       "    <tr>\n",
       "      <th>65</th>\n",
       "      <td>Socio-professional integration of female youth...</td>\n",
       "      <td>Ivory Coast</td>\n",
       "      <td>2020</td>\n",
       "      <td>AME</td>\n",
       "      <td>1</td>\n",
       "    </tr>\n",
       "    <tr>\n",
       "      <th>66</th>\n",
       "      <td>Zè vocational taining center</td>\n",
       "      <td>Benin</td>\n",
       "      <td>2018</td>\n",
       "      <td>R-FFL</td>\n",
       "      <td>1</td>\n",
       "    </tr>\n",
       "    <tr>\n",
       "      <th>67</th>\n",
       "      <td>Zè vocational taining center</td>\n",
       "      <td>Benin</td>\n",
       "      <td>2019</td>\n",
       "      <td>R-FFL</td>\n",
       "      <td>1</td>\n",
       "    </tr>\n",
       "    <tr>\n",
       "      <th>68</th>\n",
       "      <td>Zè vocational taining center</td>\n",
       "      <td>Benin</td>\n",
       "      <td>2020</td>\n",
       "      <td>R-FFL</td>\n",
       "      <td>1</td>\n",
       "    </tr>\n",
       "  </tbody>\n",
       "</table>\n",
       "</div>"
      ],
      "text/plain": [
       "                                        Project title  \\\n",
       "0         Buruli ulcer screening and treatment center   \n",
       "1         Buruli ulcer screening and treatment center   \n",
       "2         Buruli ulcer screening and treatment center   \n",
       "3                     CIPSA-EH Socio-educative center   \n",
       "4                     CIPSA-EH Socio-educative center   \n",
       "5                     CIPSA-EH Socio-educative center   \n",
       "6                            Community health program   \n",
       "7                            Community health program   \n",
       "8                            Community health program   \n",
       "9                            Community health program   \n",
       "10                           Community health program   \n",
       "11                           Community health program   \n",
       "12                           Community health program   \n",
       "13                           Community health program   \n",
       "14                           Community health program   \n",
       "15                           Community health program   \n",
       "16                           Community health program   \n",
       "17                           Community health program   \n",
       "18  Comprehensive and adapted care of Bouaké stree...   \n",
       "19  Comprehensive and adapted care of Bouaké stree...   \n",
       "20  Comprehensive and adapted care of Bouaké stree...   \n",
       "21  Comprehensive and adapted care of Ségou street...   \n",
       "22  Comprehensive and adapted care of Ségou street...   \n",
       "23  Comprehensive and adapted care of Ségou street...   \n",
       "24  Comprehensive and adapted care of mine-working...   \n",
       "25  Comprehensive and adapted care of mine-working...   \n",
       "26  Comprehensive and adapted care of mine-working...   \n",
       "27                           Dedougou young gardeners   \n",
       "28                           Dedougou young gardeners   \n",
       "29                           Dedougou young gardeners   \n",
       "30  Enabling and promoting female, maternal and in...   \n",
       "31  Enabling and promoting female, maternal and in...   \n",
       "32  Enabling and promoting female, maternal and in...   \n",
       "33  Enabling and promoting health for the Lobaye p...   \n",
       "34  Enabling and promoting health for the Lobaye p...   \n",
       "35  Enabling and promoting health for the Lobaye p...   \n",
       "36  Fight against child trafficking in the North o...   \n",
       "37  Fight against child trafficking in the North o...   \n",
       "38  Fight against child trafficking in the North o...   \n",
       "39           Fight against female genital mutilations   \n",
       "40           Fight against female genital mutilations   \n",
       "41           Fight against female genital mutilations   \n",
       "42                                   Humanitarian Aid   \n",
       "43                                   Humanitarian Aid   \n",
       "44                                   Humanitarian Aid   \n",
       "45                                       Mind the Gap   \n",
       "46                                       Mind the Gap   \n",
       "47                                       Mind the Gap   \n",
       "48                                       Mind the Gap   \n",
       "49                                       Mind the Gap   \n",
       "50                                       Mind the Gap   \n",
       "51                           Polyclinic in Mbuji-Mayi   \n",
       "52                           Polyclinic in Mbuji-Mayi   \n",
       "53                           Polyclinic in Mbuji-Mayi   \n",
       "54  Raising awarenss among communities against Fem...   \n",
       "55  Raising awarenss among communities against Fem...   \n",
       "56  Raising awarenss among communities against Fem...   \n",
       "57  Reinforcing capabilities in the screening and ...   \n",
       "58  Reinforcing capabilities in the screening and ...   \n",
       "59  Reinforcing capabilities in the screening and ...   \n",
       "60  Screening and Treatment of Neglected Tropical ...   \n",
       "61  Screening and Treatment of Neglected Tropical ...   \n",
       "62  Screening and Treatment of Neglected Tropical ...   \n",
       "63  Socio-professional integration of female youth...   \n",
       "64  Socio-professional integration of female youth...   \n",
       "65  Socio-professional integration of female youth...   \n",
       "66                       Zè vocational taining center   \n",
       "67                       Zè vocational taining center   \n",
       "68                       Zè vocational taining center   \n",
       "\n",
       "                             Country  Year  \\\n",
       "0                              Benin  2018   \n",
       "1                              Benin  2019   \n",
       "2                              Benin  2020   \n",
       "3                              Benin  2018   \n",
       "4                              Benin  2019   \n",
       "5                              Benin  2020   \n",
       "6                              Benin  2018   \n",
       "7                              Benin  2019   \n",
       "8                              Benin  2020   \n",
       "9                       Burkina Faso  2018   \n",
       "10                      Burkina Faso  2019   \n",
       "11                      Burkina Faso  2020   \n",
       "12                              Mali  2018   \n",
       "13                              Mali  2019   \n",
       "14                              Mali  2020   \n",
       "15                              Togo  2018   \n",
       "16                              Togo  2019   \n",
       "17                              Togo  2020   \n",
       "18                       Ivory Coast  2018   \n",
       "19                       Ivory Coast  2019   \n",
       "20                       Ivory Coast  2020   \n",
       "21                              Mali  2018   \n",
       "22                              Mali  2019   \n",
       "23                              Mali  2020   \n",
       "24                      Burkina Faso  2018   \n",
       "25                      Burkina Faso  2019   \n",
       "26                      Burkina Faso  2020   \n",
       "27                      Burkina Faso  2018   \n",
       "28                      Burkina Faso  2019   \n",
       "29                      Burkina Faso  2020   \n",
       "30                              Mali  2018   \n",
       "31                              Mali  2019   \n",
       "32                              Mali  2020   \n",
       "33          Central African Republic  2018   \n",
       "34          Central African Republic  2019   \n",
       "35          Central African Republic  2020   \n",
       "36                             Benin  2018   \n",
       "37                             Benin  2019   \n",
       "38                             Benin  2020   \n",
       "39                      Burkina Faso  2018   \n",
       "40                      Burkina Faso  2019   \n",
       "41                      Burkina Faso  2020   \n",
       "42          Central African Republic  2018   \n",
       "43          Central African Republic  2019   \n",
       "44          Central African Republic  2020   \n",
       "45                             Benin  2018   \n",
       "46                             Benin  2019   \n",
       "47                             Benin  2020   \n",
       "48                              Togo  2018   \n",
       "49                              Togo  2019   \n",
       "50                              Togo  2020   \n",
       "51  Democratic Republic of the Congo  2018   \n",
       "52  Democratic Republic of the Congo  2019   \n",
       "53  Democratic Republic of the Congo  2020   \n",
       "54                              Mali  2018   \n",
       "55                              Mali  2019   \n",
       "56                              Mali  2020   \n",
       "57                    Guinea-Conakry  2018   \n",
       "58                    Guinea-Conakry  2019   \n",
       "59                    Guinea-Conakry  2020   \n",
       "60                        Madagascar  2018   \n",
       "61                        Madagascar  2019   \n",
       "62                        Madagascar  2020   \n",
       "63                       Ivory Coast  2018   \n",
       "64                       Ivory Coast  2019   \n",
       "65                       Ivory Coast  2020   \n",
       "66                             Benin  2018   \n",
       "67                             Benin  2019   \n",
       "68                             Benin  2020   \n",
       "\n",
       "                          Local partner  0  \n",
       "0                                 R-FFL  1  \n",
       "1                                 R-FFL  1  \n",
       "2                                 R-FFL  1  \n",
       "3                                 R-FFL  1  \n",
       "4                                 R-FFL  1  \n",
       "5                                 R-FFL  1  \n",
       "6                                 R-FFL  1  \n",
       "7                                 R-FFL  1  \n",
       "8                                 R-FFL  1  \n",
       "9                               AAB-FFL  1  \n",
       "10                              AAB-FFL  1  \n",
       "11                              AAB-FFL  1  \n",
       "12                               AP-FFL  1  \n",
       "13                               AP-FFL  1  \n",
       "14                               AP-FFL  1  \n",
       "15                              AAT-FFL  1  \n",
       "16                              AAT-FFL  1  \n",
       "17                              AAT-FFL  1  \n",
       "18                                  AME  1  \n",
       "19                                  AME  1  \n",
       "20                                  AME  1  \n",
       "21                               AP-FFL  1  \n",
       "22                               AP-FFL  1  \n",
       "23                               AP-FFL  1  \n",
       "24                              AAB-FFL  1  \n",
       "25                              AAB-FFL  1  \n",
       "26                              AAB-FFL  1  \n",
       "27                              AAB-FFL  1  \n",
       "28                              AAB-FFL  1  \n",
       "29                              AAB-FFL  1  \n",
       "30                              COFESFA  1  \n",
       "31                              COFESFA  1  \n",
       "32                              COFESFA  1  \n",
       "33                              FAIRMED  1  \n",
       "34                              FAIRMED  1  \n",
       "35                              FAIRMED  1  \n",
       "36                                R-FFL  1  \n",
       "37                                R-FFL  1  \n",
       "38                                R-FFL  1  \n",
       "39                              AAB-FFL  1  \n",
       "40                              AAB-FFL  1  \n",
       "41                              AAB-FFL  1  \n",
       "42                              FAIRMED  1  \n",
       "43                              FAIRMED  1  \n",
       "44                              FAIRMED  1  \n",
       "45                                R-FFL  1  \n",
       "46                                R-FFL  1  \n",
       "47                                R-FFL  1  \n",
       "48                              AAT-FFL  1  \n",
       "49                              AAT-FFL  1  \n",
       "50                              AAT-FFL  1  \n",
       "51                              SUMEDCO  1  \n",
       "52                              SUMEDCO  1  \n",
       "53                              SUMEDCO  1  \n",
       "54                              COFESFA  1  \n",
       "55                              COFESFA  1  \n",
       "56                              COFESFA  1  \n",
       "57                              APROSCO  1  \n",
       "58                              APROSCO  1  \n",
       "59                              APROSCO  1  \n",
       "60  Les Sœurs de Saint-Paul de Chartres  1  \n",
       "61  Les Sœurs de Saint-Paul de Chartres  1  \n",
       "62  Les Sœurs de Saint-Paul de Chartres  1  \n",
       "63                                  AME  1  \n",
       "64                                  AME  1  \n",
       "65                                  AME  1  \n",
       "66                                R-FFL  1  \n",
       "67                                R-FFL  1  \n",
       "68                                R-FFL  1  "
      ]
     },
     "execution_count": 10,
     "metadata": {},
     "output_type": "execute_result"
    }
   ],
   "source": [
    "df.groupby(['Project title','Country', 'Year','Local partner',]).size().reset_index()"
   ]
  },
  {
   "cell_type": "code",
   "execution_count": 11,
   "metadata": {
    "ExecuteTime": {
     "end_time": "2021-01-26T04:01:34.488889Z",
     "start_time": "2021-01-26T04:01:34.478895Z"
    }
   },
   "outputs": [
    {
     "data": {
      "text/plain": [
       "Health        30\n",
       "Education     18\n",
       "Protection    18\n",
       "Emergency      3\n",
       "Name: Axis of intervention, dtype: int64"
      ]
     },
     "execution_count": 11,
     "metadata": {},
     "output_type": "execute_result"
    }
   ],
   "source": [
    "df['Axis of intervention'].value_counts()"
   ]
  },
  {
   "cell_type": "code",
   "execution_count": 12,
   "metadata": {
    "ExecuteTime": {
     "end_time": "2021-01-26T04:01:34.877076Z",
     "start_time": "2021-01-26T04:01:34.868078Z"
    }
   },
   "outputs": [
    {
     "data": {
      "text/plain": [
       "The people being cared for in the health structures                24\n",
       "The children being cared for                                       12\n",
       "The young people undertaking the training                           6\n",
       "The people benefiting from screening and treatment                  6\n",
       "The women and girls in the provinces                                6\n",
       "The students in the recipient schools                               6\n",
       "The children at the center                                          3\n",
       "The women and children being cared for in the health structures     3\n",
       "The teenage girls undertaking a training                            3\n",
       "Name: Direct beneficiaries, dtype: int64"
      ]
     },
     "execution_count": 12,
     "metadata": {},
     "output_type": "execute_result"
    }
   ],
   "source": [
    "df['Direct beneficiaries'].value_counts()"
   ]
  },
  {
   "cell_type": "code",
   "execution_count": 13,
   "metadata": {
    "ExecuteTime": {
     "end_time": "2021-01-26T04:01:35.289549Z",
     "start_time": "2021-01-26T04:01:35.281554Z"
    }
   },
   "outputs": [
    {
     "data": {
      "text/plain": [
       "The local populations                                                  45\n",
       "The local population, more specifically the children families          15\n",
       "The local population, more specifically the teenagers' families         6\n",
       "The local population, more specifically the teenage girls' families     3\n",
       "Name: Indirect beneficiaries, dtype: int64"
      ]
     },
     "execution_count": 13,
     "metadata": {},
     "output_type": "execute_result"
    }
   ],
   "source": [
    "df['Indirect beneficiaries'].value_counts()"
   ]
  },
  {
   "cell_type": "code",
   "execution_count": 14,
   "metadata": {
    "ExecuteTime": {
     "end_time": "2021-01-26T04:01:35.761361Z",
     "start_time": "2021-01-26T04:01:35.753368Z"
    }
   },
   "outputs": [
    {
     "data": {
      "text/plain": [
       "Area of Allada-Zè-Toffo (Atlantic region, south of the country)                       9\n",
       "Atlantic region (south of the country) et Collines region (center of the country)     6\n",
       "Ségou region                                                                          6\n",
       "Kaloukro (Gbêkê region, center of the country)                                        3\n",
       "Dédougou (Mouhoun province, west of the country)                                      3\n",
       "Mbuji-Mayi, administrative center of Kasaï Oriental province                          3\n",
       "N’Zérékoré                                                                            3\n",
       "Lobaye region                                                                         3\n",
       "Prefectures of Ombella-M’poko and Lobaye                                              3\n",
       "Across the country                                                                    3\n",
       "Cercle de Kati and Dioila                                                             3\n",
       "Agou, Kpélè and Zio prefectures (maritime and plateaux region)                        3\n",
       "Maritime and Plateaux regions                                                         3\n",
       "Bouaké (Gbêkê region, center of the country)                                          3\n",
       "Cercle de Kati                                                                        3\n",
       "Sissili and Tuy Provinces                                                             3\n",
       "Tougouri (Namentenga province, North-East of the country)                             3\n",
       "North of the country                                                                  3\n",
       "Amoron’i Mania (center of the country)                                                3\n",
       "Name: Region, dtype: int64"
      ]
     },
     "execution_count": 14,
     "metadata": {},
     "output_type": "execute_result"
    }
   ],
   "source": [
    "df['Region'].value_counts()"
   ]
  },
  {
   "cell_type": "code",
   "execution_count": 15,
   "metadata": {
    "ExecuteTime": {
     "end_time": "2021-01-26T04:01:36.316594Z",
     "start_time": "2021-01-26T04:01:36.307599Z"
    }
   },
   "outputs": [
    {
     "data": {
      "text/plain": [
       "Ministry of Foreign Affairs and foundation's funds    54\n",
       "Foundation's funds                                    12\n",
       "Ministry of Foreign Affairs                            3\n",
       "Name: Project financing (as per the 2016-2020 cooperation agreement), dtype: int64"
      ]
     },
     "execution_count": 15,
     "metadata": {},
     "output_type": "execute_result"
    }
   ],
   "source": [
    "df['Project financing (as per the 2016-2020 cooperation agreement)'].value_counts()"
   ]
  },
  {
   "cell_type": "code",
   "execution_count": 16,
   "metadata": {
    "ExecuteTime": {
     "end_time": "2021-01-26T04:01:36.863317Z",
     "start_time": "2021-01-26T04:01:36.823342Z"
    }
   },
   "outputs": [
    {
     "data": {
      "text/html": [
       "<div>\n",
       "<style scoped>\n",
       "    .dataframe tbody tr th:only-of-type {\n",
       "        vertical-align: middle;\n",
       "    }\n",
       "\n",
       "    .dataframe tbody tr th {\n",
       "        vertical-align: top;\n",
       "    }\n",
       "\n",
       "    .dataframe thead th {\n",
       "        text-align: right;\n",
       "    }\n",
       "</style>\n",
       "<table border=\"1\" class=\"dataframe\">\n",
       "  <thead>\n",
       "    <tr style=\"text-align: right;\">\n",
       "      <th></th>\n",
       "      <th>Voted Year project budget €</th>\n",
       "      <th>Project share % out of all budget</th>\n",
       "      <th>Voted Year country budget €</th>\n",
       "      <th>Country share % out of all budget</th>\n",
       "      <th>Year</th>\n",
       "    </tr>\n",
       "  </thead>\n",
       "  <tbody>\n",
       "    <tr>\n",
       "      <th>count</th>\n",
       "      <td>67.000000</td>\n",
       "      <td>67.000000</td>\n",
       "      <td>69.000000</td>\n",
       "      <td>69.000000</td>\n",
       "      <td>69.000000</td>\n",
       "    </tr>\n",
       "    <tr>\n",
       "      <th>mean</th>\n",
       "      <td>139215.417910</td>\n",
       "      <td>0.044776</td>\n",
       "      <td>488434.985507</td>\n",
       "      <td>0.157490</td>\n",
       "      <td>2019.000000</td>\n",
       "    </tr>\n",
       "    <tr>\n",
       "      <th>std</th>\n",
       "      <td>130107.306258</td>\n",
       "      <td>0.041193</td>\n",
       "      <td>251063.321752</td>\n",
       "      <td>0.081789</td>\n",
       "      <td>0.822478</td>\n",
       "    </tr>\n",
       "    <tr>\n",
       "      <th>min</th>\n",
       "      <td>15000.000000</td>\n",
       "      <td>0.004395</td>\n",
       "      <td>20000.000000</td>\n",
       "      <td>0.005900</td>\n",
       "      <td>2018.000000</td>\n",
       "    </tr>\n",
       "    <tr>\n",
       "      <th>25%</th>\n",
       "      <td>48000.000000</td>\n",
       "      <td>0.015966</td>\n",
       "      <td>300000.000000</td>\n",
       "      <td>0.103519</td>\n",
       "      <td>2018.000000</td>\n",
       "    </tr>\n",
       "    <tr>\n",
       "      <th>50%</th>\n",
       "      <td>80428.000000</td>\n",
       "      <td>0.027401</td>\n",
       "      <td>571983.000000</td>\n",
       "      <td>0.189645</td>\n",
       "      <td>2019.000000</td>\n",
       "    </tr>\n",
       "    <tr>\n",
       "      <th>75%</th>\n",
       "      <td>212000.000000</td>\n",
       "      <td>0.066586</td>\n",
       "      <td>695921.000000</td>\n",
       "      <td>0.206700</td>\n",
       "      <td>2020.000000</td>\n",
       "    </tr>\n",
       "    <tr>\n",
       "      <th>max</th>\n",
       "      <td>664898.000000</td>\n",
       "      <td>0.194794</td>\n",
       "      <td>817096.000000</td>\n",
       "      <td>0.270915</td>\n",
       "      <td>2020.000000</td>\n",
       "    </tr>\n",
       "  </tbody>\n",
       "</table>\n",
       "</div>"
      ],
      "text/plain": [
       "       Voted Year project budget €  Project share % out of all budget  \\\n",
       "count                    67.000000                          67.000000   \n",
       "mean                 139215.417910                           0.044776   \n",
       "std                  130107.306258                           0.041193   \n",
       "min                   15000.000000                           0.004395   \n",
       "25%                   48000.000000                           0.015966   \n",
       "50%                   80428.000000                           0.027401   \n",
       "75%                  212000.000000                           0.066586   \n",
       "max                  664898.000000                           0.194794   \n",
       "\n",
       "       Voted Year country budget €  Country share % out of all budget  \\\n",
       "count                    69.000000                          69.000000   \n",
       "mean                 488434.985507                           0.157490   \n",
       "std                  251063.321752                           0.081789   \n",
       "min                   20000.000000                           0.005900   \n",
       "25%                  300000.000000                           0.103519   \n",
       "50%                  571983.000000                           0.189645   \n",
       "75%                  695921.000000                           0.206700   \n",
       "max                  817096.000000                           0.270915   \n",
       "\n",
       "              Year  \n",
       "count    69.000000  \n",
       "mean   2019.000000  \n",
       "std       0.822478  \n",
       "min    2018.000000  \n",
       "25%    2018.000000  \n",
       "50%    2019.000000  \n",
       "75%    2020.000000  \n",
       "max    2020.000000  "
      ]
     },
     "execution_count": 16,
     "metadata": {},
     "output_type": "execute_result"
    }
   ],
   "source": [
    "df.describe()"
   ]
  },
  {
   "cell_type": "code",
   "execution_count": null,
   "metadata": {
    "ExecuteTime": {
     "end_time": "2021-01-25T13:09:00.749013Z",
     "start_time": "2021-01-25T13:09:00.657088Z"
    }
   },
   "outputs": [],
   "source": []
  },
  {
   "cell_type": "code",
   "execution_count": 80,
   "metadata": {
    "ExecuteTime": {
     "end_time": "2021-01-26T05:38:45.297359Z",
     "start_time": "2021-01-26T05:38:45.286369Z"
    }
   },
   "outputs": [],
   "source": [
    "df_con_bud = df.groupby(['Country', 'Year', 'Voted Year country budget €' , 'Country share % out of all budget']).size().reset_index()"
   ]
  },
  {
   "cell_type": "code",
   "execution_count": 81,
   "metadata": {
    "ExecuteTime": {
     "end_time": "2021-01-26T05:38:45.654067Z",
     "start_time": "2021-01-26T05:38:45.646071Z"
    }
   },
   "outputs": [],
   "source": [
    "df_con_bud['Average budget'] = df_con_bud['Voted Year country budget €']/df_con_bud[0]"
   ]
  },
  {
   "cell_type": "code",
   "execution_count": 24,
   "metadata": {
    "ExecuteTime": {
     "end_time": "2021-01-26T04:07:52.391816Z",
     "start_time": "2021-01-26T04:07:52.245900Z"
    }
   },
   "outputs": [
    {
     "data": {
      "application/vnd.plotly.v1+json": {
       "config": {
        "plotlyServerURL": "https://plot.ly"
       },
       "data": [
        {
         "customdata": [
          [
           "Benin",
           2018
          ],
          [
           "Benin",
           2019
          ],
          [
           "Benin",
           2020
          ]
         ],
         "hovertemplate": "Country=%{customdata[0]}<br>Average budget=%{x}<br>Country share % out of all budget=%{y}<br>Year=%{customdata[1]}<extra></extra>",
         "legendgroup": "Benin",
         "line": {
          "color": "#636efa",
          "dash": "solid"
         },
         "mode": "lines",
         "name": "Benin",
         "orientation": "v",
         "showlegend": true,
         "type": "scatter",
         "x": [
          115986.83333333333,
          95330.5,
          117574
         ],
         "xaxis": "x",
         "y": [
          0.2401366311700295,
          0.18964544862262586,
          0.2067
         ],
         "yaxis": "y"
        },
        {
         "customdata": [
          [
           "Burkina Faso",
           2018
          ],
          [
           "Burkina Faso",
           2019
          ],
          [
           "Burkina Faso",
           2020
          ]
         ],
         "hovertemplate": "Country=%{customdata[0]}<br>Average budget=%{x}<br>Country share % out of all budget=%{y}<br>Year=%{customdata[1]}<extra></extra>",
         "legendgroup": "Burkina Faso",
         "line": {
          "color": "#EF553B",
          "dash": "solid"
         },
         "mode": "lines",
         "name": "Burkina Faso",
         "orientation": "v",
         "showlegend": true,
         "type": "scatter",
         "x": [
          148056.75,
          136324.25,
          135280.5
         ],
         "xaxis": "x",
         "y": [
          0.20435566201901229,
          0.18079749607518408,
          0.1585
         ],
         "yaxis": "y"
        },
        {
         "customdata": [
          [
           "Central African Republic",
           2018
          ],
          [
           "Central African Republic",
           2019
          ],
          [
           "Central African Republic",
           2020
          ]
         ],
         "hovertemplate": "Country=%{customdata[0]}<br>Average budget=%{x}<br>Country share % out of all budget=%{y}<br>Year=%{customdata[1]}<extra></extra>",
         "legendgroup": "Central African Republic",
         "line": {
          "color": "#00cc96",
          "dash": "solid"
         },
         "mode": "lines",
         "name": "Central African Republic",
         "orientation": "v",
         "showlegend": true,
         "type": "scatter",
         "x": [
          150000,
          204417.5,
          209500
         ],
         "xaxis": "x",
         "y": [
          0.10351891859996874,
          0.1355524499637773,
          0.1228
         ],
         "yaxis": "y"
        },
        {
         "customdata": [
          [
           "Democratic Republic of the Congo",
           2018
          ],
          [
           "Democratic Republic of the Congo",
           2019
          ],
          [
           "Democratic Republic of the Congo",
           2020
          ]
         ],
         "hovertemplate": "Country=%{customdata[0]}<br>Average budget=%{x}<br>Country share % out of all budget=%{y}<br>Year=%{customdata[1]}<extra></extra>",
         "legendgroup": "Democratic Republic of the Congo",
         "line": {
          "color": "#ab63fa",
          "dash": "solid"
         },
         "mode": "lines",
         "name": "Democratic Republic of the Congo",
         "orientation": "v",
         "showlegend": true,
         "type": "scatter",
         "x": [
          139332,
          150000,
          205000
         ],
         "xaxis": "x",
         "y": [
          0.04807832655456948,
          0.04973367616414103,
          0.060058353281983924
         ],
         "yaxis": "y"
        },
        {
         "customdata": [
          [
           "Guinea-Conakry",
           2018
          ],
          [
           "Guinea-Conakry",
           2019
          ],
          [
           "Guinea-Conakry",
           2020
          ]
         ],
         "hovertemplate": "Country=%{customdata[0]}<br>Average budget=%{x}<br>Country share % out of all budget=%{y}<br>Year=%{customdata[1]}<extra></extra>",
         "legendgroup": "Guinea-Conakry",
         "line": {
          "color": "#FFA15A",
          "dash": "solid"
         },
         "mode": "lines",
         "name": "Guinea-Conakry",
         "orientation": "v",
         "showlegend": true,
         "type": "scatter",
         "x": [
          39300,
          40000,
          40000
         ],
         "xaxis": "x",
         "y": [
          0.013560978336595905,
          0.01326231364377094,
          0.0117187030794115
         ],
         "yaxis": "y"
        },
        {
         "customdata": [
          [
           "Ivory Coast",
           2018
          ],
          [
           "Ivory Coast",
           2019
          ],
          [
           "Ivory Coast",
           2020
          ]
         ],
         "hovertemplate": "Country=%{customdata[0]}<br>Average budget=%{x}<br>Country share % out of all budget=%{y}<br>Year=%{customdata[1]}<extra></extra>",
         "legendgroup": "Ivory Coast",
         "line": {
          "color": "#19d3f3",
          "dash": "solid"
         },
         "mode": "lines",
         "name": "Ivory Coast",
         "orientation": "v",
         "showlegend": true,
         "type": "scatter",
         "x": [
          40214,
          45000,
          60111.5
         ],
         "xaxis": "x",
         "y": [
          0.027752731950527614,
          0.029840205698484612,
          0.0352
         ],
         "yaxis": "y"
        },
        {
         "customdata": [
          [
           "Madagascar",
           2018
          ],
          [
           "Madagascar",
           2019
          ],
          [
           "Madagascar",
           2020
          ]
         ],
         "hovertemplate": "Country=%{customdata[0]}<br>Average budget=%{x}<br>Country share % out of all budget=%{y}<br>Year=%{customdata[1]}<extra></extra>",
         "legendgroup": "Madagascar",
         "line": {
          "color": "#FF6692",
          "dash": "solid"
         },
         "mode": "lines",
         "name": "Madagascar",
         "orientation": "v",
         "showlegend": true,
         "type": "scatter",
         "x": [
          49500,
          20000,
          20000
         ],
         "xaxis": "x",
         "y": [
          0.01708062156899484,
          0.00663115682188547,
          0.0059
         ],
         "yaxis": "y"
        },
        {
         "customdata": [
          [
           "Mali",
           2018
          ],
          [
           "Mali",
           2019
          ],
          [
           "Mali",
           2020
          ]
         ],
         "hovertemplate": "Country=%{customdata[0]}<br>Average budget=%{x}<br>Country share % out of all budget=%{y}<br>Year=%{customdata[1]}<extra></extra>",
         "legendgroup": "Mali",
         "line": {
          "color": "#B6E880",
          "dash": "solid"
         },
         "mode": "lines",
         "name": "Mali",
         "orientation": "v",
         "showlegend": true,
         "type": "scatter",
         "x": [
          187510.5,
          204274,
          170665
         ],
         "xaxis": "x",
         "y": [
          0.2588117891485258,
          0.2709145857267665,
          0.19999724610477632
         ],
         "yaxis": "y"
        },
        {
         "customdata": [
          [
           "Togo",
           2018
          ],
          [
           "Togo",
           2019
          ],
          [
           "Togo",
           2020
          ]
         ],
         "hovertemplate": "Country=%{customdata[0]}<br>Average budget=%{x}<br>Country share % out of all budget=%{y}<br>Year=%{customdata[1]}<extra></extra>",
         "legendgroup": "Togo",
         "line": {
          "color": "#FF97FF",
          "dash": "solid"
         },
         "mode": "lines",
         "name": "Togo",
         "orientation": "v",
         "showlegend": true,
         "type": "scatter",
         "x": [
          125635.5,
          186427,
          339949
         ],
         "xaxis": "x",
         "y": [
          0.08670434065177582,
          0.12362266728336425,
          0.1992
         ],
         "yaxis": "y"
        }
       ],
       "layout": {
        "legend": {
         "title": {
          "text": "Country"
         },
         "tracegroupgap": 0
        },
        "margin": {
         "t": 60
        },
        "template": {
         "data": {
          "bar": [
           {
            "error_x": {
             "color": "#2a3f5f"
            },
            "error_y": {
             "color": "#2a3f5f"
            },
            "marker": {
             "line": {
              "color": "#E5ECF6",
              "width": 0.5
             }
            },
            "type": "bar"
           }
          ],
          "barpolar": [
           {
            "marker": {
             "line": {
              "color": "#E5ECF6",
              "width": 0.5
             }
            },
            "type": "barpolar"
           }
          ],
          "carpet": [
           {
            "aaxis": {
             "endlinecolor": "#2a3f5f",
             "gridcolor": "white",
             "linecolor": "white",
             "minorgridcolor": "white",
             "startlinecolor": "#2a3f5f"
            },
            "baxis": {
             "endlinecolor": "#2a3f5f",
             "gridcolor": "white",
             "linecolor": "white",
             "minorgridcolor": "white",
             "startlinecolor": "#2a3f5f"
            },
            "type": "carpet"
           }
          ],
          "choropleth": [
           {
            "colorbar": {
             "outlinewidth": 0,
             "ticks": ""
            },
            "type": "choropleth"
           }
          ],
          "contour": [
           {
            "colorbar": {
             "outlinewidth": 0,
             "ticks": ""
            },
            "colorscale": [
             [
              0,
              "#0d0887"
             ],
             [
              0.1111111111111111,
              "#46039f"
             ],
             [
              0.2222222222222222,
              "#7201a8"
             ],
             [
              0.3333333333333333,
              "#9c179e"
             ],
             [
              0.4444444444444444,
              "#bd3786"
             ],
             [
              0.5555555555555556,
              "#d8576b"
             ],
             [
              0.6666666666666666,
              "#ed7953"
             ],
             [
              0.7777777777777778,
              "#fb9f3a"
             ],
             [
              0.8888888888888888,
              "#fdca26"
             ],
             [
              1,
              "#f0f921"
             ]
            ],
            "type": "contour"
           }
          ],
          "contourcarpet": [
           {
            "colorbar": {
             "outlinewidth": 0,
             "ticks": ""
            },
            "type": "contourcarpet"
           }
          ],
          "heatmap": [
           {
            "colorbar": {
             "outlinewidth": 0,
             "ticks": ""
            },
            "colorscale": [
             [
              0,
              "#0d0887"
             ],
             [
              0.1111111111111111,
              "#46039f"
             ],
             [
              0.2222222222222222,
              "#7201a8"
             ],
             [
              0.3333333333333333,
              "#9c179e"
             ],
             [
              0.4444444444444444,
              "#bd3786"
             ],
             [
              0.5555555555555556,
              "#d8576b"
             ],
             [
              0.6666666666666666,
              "#ed7953"
             ],
             [
              0.7777777777777778,
              "#fb9f3a"
             ],
             [
              0.8888888888888888,
              "#fdca26"
             ],
             [
              1,
              "#f0f921"
             ]
            ],
            "type": "heatmap"
           }
          ],
          "heatmapgl": [
           {
            "colorbar": {
             "outlinewidth": 0,
             "ticks": ""
            },
            "colorscale": [
             [
              0,
              "#0d0887"
             ],
             [
              0.1111111111111111,
              "#46039f"
             ],
             [
              0.2222222222222222,
              "#7201a8"
             ],
             [
              0.3333333333333333,
              "#9c179e"
             ],
             [
              0.4444444444444444,
              "#bd3786"
             ],
             [
              0.5555555555555556,
              "#d8576b"
             ],
             [
              0.6666666666666666,
              "#ed7953"
             ],
             [
              0.7777777777777778,
              "#fb9f3a"
             ],
             [
              0.8888888888888888,
              "#fdca26"
             ],
             [
              1,
              "#f0f921"
             ]
            ],
            "type": "heatmapgl"
           }
          ],
          "histogram": [
           {
            "marker": {
             "colorbar": {
              "outlinewidth": 0,
              "ticks": ""
             }
            },
            "type": "histogram"
           }
          ],
          "histogram2d": [
           {
            "colorbar": {
             "outlinewidth": 0,
             "ticks": ""
            },
            "colorscale": [
             [
              0,
              "#0d0887"
             ],
             [
              0.1111111111111111,
              "#46039f"
             ],
             [
              0.2222222222222222,
              "#7201a8"
             ],
             [
              0.3333333333333333,
              "#9c179e"
             ],
             [
              0.4444444444444444,
              "#bd3786"
             ],
             [
              0.5555555555555556,
              "#d8576b"
             ],
             [
              0.6666666666666666,
              "#ed7953"
             ],
             [
              0.7777777777777778,
              "#fb9f3a"
             ],
             [
              0.8888888888888888,
              "#fdca26"
             ],
             [
              1,
              "#f0f921"
             ]
            ],
            "type": "histogram2d"
           }
          ],
          "histogram2dcontour": [
           {
            "colorbar": {
             "outlinewidth": 0,
             "ticks": ""
            },
            "colorscale": [
             [
              0,
              "#0d0887"
             ],
             [
              0.1111111111111111,
              "#46039f"
             ],
             [
              0.2222222222222222,
              "#7201a8"
             ],
             [
              0.3333333333333333,
              "#9c179e"
             ],
             [
              0.4444444444444444,
              "#bd3786"
             ],
             [
              0.5555555555555556,
              "#d8576b"
             ],
             [
              0.6666666666666666,
              "#ed7953"
             ],
             [
              0.7777777777777778,
              "#fb9f3a"
             ],
             [
              0.8888888888888888,
              "#fdca26"
             ],
             [
              1,
              "#f0f921"
             ]
            ],
            "type": "histogram2dcontour"
           }
          ],
          "mesh3d": [
           {
            "colorbar": {
             "outlinewidth": 0,
             "ticks": ""
            },
            "type": "mesh3d"
           }
          ],
          "parcoords": [
           {
            "line": {
             "colorbar": {
              "outlinewidth": 0,
              "ticks": ""
             }
            },
            "type": "parcoords"
           }
          ],
          "pie": [
           {
            "automargin": true,
            "type": "pie"
           }
          ],
          "scatter": [
           {
            "marker": {
             "colorbar": {
              "outlinewidth": 0,
              "ticks": ""
             }
            },
            "type": "scatter"
           }
          ],
          "scatter3d": [
           {
            "line": {
             "colorbar": {
              "outlinewidth": 0,
              "ticks": ""
             }
            },
            "marker": {
             "colorbar": {
              "outlinewidth": 0,
              "ticks": ""
             }
            },
            "type": "scatter3d"
           }
          ],
          "scattercarpet": [
           {
            "marker": {
             "colorbar": {
              "outlinewidth": 0,
              "ticks": ""
             }
            },
            "type": "scattercarpet"
           }
          ],
          "scattergeo": [
           {
            "marker": {
             "colorbar": {
              "outlinewidth": 0,
              "ticks": ""
             }
            },
            "type": "scattergeo"
           }
          ],
          "scattergl": [
           {
            "marker": {
             "colorbar": {
              "outlinewidth": 0,
              "ticks": ""
             }
            },
            "type": "scattergl"
           }
          ],
          "scattermapbox": [
           {
            "marker": {
             "colorbar": {
              "outlinewidth": 0,
              "ticks": ""
             }
            },
            "type": "scattermapbox"
           }
          ],
          "scatterpolar": [
           {
            "marker": {
             "colorbar": {
              "outlinewidth": 0,
              "ticks": ""
             }
            },
            "type": "scatterpolar"
           }
          ],
          "scatterpolargl": [
           {
            "marker": {
             "colorbar": {
              "outlinewidth": 0,
              "ticks": ""
             }
            },
            "type": "scatterpolargl"
           }
          ],
          "scatterternary": [
           {
            "marker": {
             "colorbar": {
              "outlinewidth": 0,
              "ticks": ""
             }
            },
            "type": "scatterternary"
           }
          ],
          "surface": [
           {
            "colorbar": {
             "outlinewidth": 0,
             "ticks": ""
            },
            "colorscale": [
             [
              0,
              "#0d0887"
             ],
             [
              0.1111111111111111,
              "#46039f"
             ],
             [
              0.2222222222222222,
              "#7201a8"
             ],
             [
              0.3333333333333333,
              "#9c179e"
             ],
             [
              0.4444444444444444,
              "#bd3786"
             ],
             [
              0.5555555555555556,
              "#d8576b"
             ],
             [
              0.6666666666666666,
              "#ed7953"
             ],
             [
              0.7777777777777778,
              "#fb9f3a"
             ],
             [
              0.8888888888888888,
              "#fdca26"
             ],
             [
              1,
              "#f0f921"
             ]
            ],
            "type": "surface"
           }
          ],
          "table": [
           {
            "cells": {
             "fill": {
              "color": "#EBF0F8"
             },
             "line": {
              "color": "white"
             }
            },
            "header": {
             "fill": {
              "color": "#C8D4E3"
             },
             "line": {
              "color": "white"
             }
            },
            "type": "table"
           }
          ]
         },
         "layout": {
          "annotationdefaults": {
           "arrowcolor": "#2a3f5f",
           "arrowhead": 0,
           "arrowwidth": 1
          },
          "coloraxis": {
           "colorbar": {
            "outlinewidth": 0,
            "ticks": ""
           }
          },
          "colorscale": {
           "diverging": [
            [
             0,
             "#8e0152"
            ],
            [
             0.1,
             "#c51b7d"
            ],
            [
             0.2,
             "#de77ae"
            ],
            [
             0.3,
             "#f1b6da"
            ],
            [
             0.4,
             "#fde0ef"
            ],
            [
             0.5,
             "#f7f7f7"
            ],
            [
             0.6,
             "#e6f5d0"
            ],
            [
             0.7,
             "#b8e186"
            ],
            [
             0.8,
             "#7fbc41"
            ],
            [
             0.9,
             "#4d9221"
            ],
            [
             1,
             "#276419"
            ]
           ],
           "sequential": [
            [
             0,
             "#0d0887"
            ],
            [
             0.1111111111111111,
             "#46039f"
            ],
            [
             0.2222222222222222,
             "#7201a8"
            ],
            [
             0.3333333333333333,
             "#9c179e"
            ],
            [
             0.4444444444444444,
             "#bd3786"
            ],
            [
             0.5555555555555556,
             "#d8576b"
            ],
            [
             0.6666666666666666,
             "#ed7953"
            ],
            [
             0.7777777777777778,
             "#fb9f3a"
            ],
            [
             0.8888888888888888,
             "#fdca26"
            ],
            [
             1,
             "#f0f921"
            ]
           ],
           "sequentialminus": [
            [
             0,
             "#0d0887"
            ],
            [
             0.1111111111111111,
             "#46039f"
            ],
            [
             0.2222222222222222,
             "#7201a8"
            ],
            [
             0.3333333333333333,
             "#9c179e"
            ],
            [
             0.4444444444444444,
             "#bd3786"
            ],
            [
             0.5555555555555556,
             "#d8576b"
            ],
            [
             0.6666666666666666,
             "#ed7953"
            ],
            [
             0.7777777777777778,
             "#fb9f3a"
            ],
            [
             0.8888888888888888,
             "#fdca26"
            ],
            [
             1,
             "#f0f921"
            ]
           ]
          },
          "colorway": [
           "#636efa",
           "#EF553B",
           "#00cc96",
           "#ab63fa",
           "#FFA15A",
           "#19d3f3",
           "#FF6692",
           "#B6E880",
           "#FF97FF",
           "#FECB52"
          ],
          "font": {
           "color": "#2a3f5f"
          },
          "geo": {
           "bgcolor": "white",
           "lakecolor": "white",
           "landcolor": "#E5ECF6",
           "showlakes": true,
           "showland": true,
           "subunitcolor": "white"
          },
          "hoverlabel": {
           "align": "left"
          },
          "hovermode": "closest",
          "mapbox": {
           "style": "light"
          },
          "paper_bgcolor": "white",
          "plot_bgcolor": "#E5ECF6",
          "polar": {
           "angularaxis": {
            "gridcolor": "white",
            "linecolor": "white",
            "ticks": ""
           },
           "bgcolor": "#E5ECF6",
           "radialaxis": {
            "gridcolor": "white",
            "linecolor": "white",
            "ticks": ""
           }
          },
          "scene": {
           "xaxis": {
            "backgroundcolor": "#E5ECF6",
            "gridcolor": "white",
            "gridwidth": 2,
            "linecolor": "white",
            "showbackground": true,
            "ticks": "",
            "zerolinecolor": "white"
           },
           "yaxis": {
            "backgroundcolor": "#E5ECF6",
            "gridcolor": "white",
            "gridwidth": 2,
            "linecolor": "white",
            "showbackground": true,
            "ticks": "",
            "zerolinecolor": "white"
           },
           "zaxis": {
            "backgroundcolor": "#E5ECF6",
            "gridcolor": "white",
            "gridwidth": 2,
            "linecolor": "white",
            "showbackground": true,
            "ticks": "",
            "zerolinecolor": "white"
           }
          },
          "shapedefaults": {
           "line": {
            "color": "#2a3f5f"
           }
          },
          "ternary": {
           "aaxis": {
            "gridcolor": "white",
            "linecolor": "white",
            "ticks": ""
           },
           "baxis": {
            "gridcolor": "white",
            "linecolor": "white",
            "ticks": ""
           },
           "bgcolor": "#E5ECF6",
           "caxis": {
            "gridcolor": "white",
            "linecolor": "white",
            "ticks": ""
           }
          },
          "title": {
           "x": 0.05
          },
          "xaxis": {
           "automargin": true,
           "gridcolor": "white",
           "linecolor": "white",
           "ticks": "",
           "title": {
            "standoff": 15
           },
           "zerolinecolor": "white",
           "zerolinewidth": 2
          },
          "yaxis": {
           "automargin": true,
           "gridcolor": "white",
           "linecolor": "white",
           "ticks": "",
           "title": {
            "standoff": 15
           },
           "zerolinecolor": "white",
           "zerolinewidth": 2
          }
         }
        },
        "xaxis": {
         "anchor": "y",
         "domain": [
          0,
          1
         ],
         "title": {
          "text": "Average budget"
         }
        },
        "yaxis": {
         "anchor": "x",
         "domain": [
          0,
          1
         ],
         "title": {
          "text": "Country share % out of all budget"
         }
        }
       }
      },
      "text/html": [
       "<div>                            <div id=\"a41afcbd-2559-47f2-89f1-4f66b0eb6df7\" class=\"plotly-graph-div\" style=\"height:525px; width:100%;\"></div>            <script type=\"text/javascript\">                require([\"plotly\"], function(Plotly) {                    window.PLOTLYENV=window.PLOTLYENV || {};                                    if (document.getElementById(\"a41afcbd-2559-47f2-89f1-4f66b0eb6df7\")) {                    Plotly.newPlot(                        \"a41afcbd-2559-47f2-89f1-4f66b0eb6df7\",                        [{\"customdata\": [[\"Benin\", 2018], [\"Benin\", 2019], [\"Benin\", 2020]], \"hovertemplate\": \"Country=%{customdata[0]}<br>Average budget=%{x}<br>Country share % out of all budget=%{y}<br>Year=%{customdata[1]}<extra></extra>\", \"legendgroup\": \"Benin\", \"line\": {\"color\": \"#636efa\", \"dash\": \"solid\"}, \"mode\": \"lines\", \"name\": \"Benin\", \"orientation\": \"v\", \"showlegend\": true, \"type\": \"scatter\", \"x\": [115986.83333333333, 95330.5, 117574.0], \"xaxis\": \"x\", \"y\": [0.2401366311700295, 0.18964544862262586, 0.2067], \"yaxis\": \"y\"}, {\"customdata\": [[\"Burkina Faso\", 2018], [\"Burkina Faso\", 2019], [\"Burkina Faso\", 2020]], \"hovertemplate\": \"Country=%{customdata[0]}<br>Average budget=%{x}<br>Country share % out of all budget=%{y}<br>Year=%{customdata[1]}<extra></extra>\", \"legendgroup\": \"Burkina Faso\", \"line\": {\"color\": \"#EF553B\", \"dash\": \"solid\"}, \"mode\": \"lines\", \"name\": \"Burkina Faso\", \"orientation\": \"v\", \"showlegend\": true, \"type\": \"scatter\", \"x\": [148056.75, 136324.25, 135280.5], \"xaxis\": \"x\", \"y\": [0.20435566201901229, 0.18079749607518408, 0.1585], \"yaxis\": \"y\"}, {\"customdata\": [[\"Central African Republic\", 2018], [\"Central African Republic\", 2019], [\"Central African Republic\", 2020]], \"hovertemplate\": \"Country=%{customdata[0]}<br>Average budget=%{x}<br>Country share % out of all budget=%{y}<br>Year=%{customdata[1]}<extra></extra>\", \"legendgroup\": \"Central African Republic\", \"line\": {\"color\": \"#00cc96\", \"dash\": \"solid\"}, \"mode\": \"lines\", \"name\": \"Central African Republic\", \"orientation\": \"v\", \"showlegend\": true, \"type\": \"scatter\", \"x\": [150000.0, 204417.5, 209500.0], \"xaxis\": \"x\", \"y\": [0.10351891859996874, 0.1355524499637773, 0.1228], \"yaxis\": \"y\"}, {\"customdata\": [[\"Democratic Republic of the Congo\", 2018], [\"Democratic Republic of the Congo\", 2019], [\"Democratic Republic of the Congo\", 2020]], \"hovertemplate\": \"Country=%{customdata[0]}<br>Average budget=%{x}<br>Country share % out of all budget=%{y}<br>Year=%{customdata[1]}<extra></extra>\", \"legendgroup\": \"Democratic Republic of the Congo\", \"line\": {\"color\": \"#ab63fa\", \"dash\": \"solid\"}, \"mode\": \"lines\", \"name\": \"Democratic Republic of the Congo\", \"orientation\": \"v\", \"showlegend\": true, \"type\": \"scatter\", \"x\": [139332.0, 150000.0, 205000.0], \"xaxis\": \"x\", \"y\": [0.04807832655456948, 0.04973367616414103, 0.060058353281983924], \"yaxis\": \"y\"}, {\"customdata\": [[\"Guinea-Conakry\", 2018], [\"Guinea-Conakry\", 2019], [\"Guinea-Conakry\", 2020]], \"hovertemplate\": \"Country=%{customdata[0]}<br>Average budget=%{x}<br>Country share % out of all budget=%{y}<br>Year=%{customdata[1]}<extra></extra>\", \"legendgroup\": \"Guinea-Conakry\", \"line\": {\"color\": \"#FFA15A\", \"dash\": \"solid\"}, \"mode\": \"lines\", \"name\": \"Guinea-Conakry\", \"orientation\": \"v\", \"showlegend\": true, \"type\": \"scatter\", \"x\": [39300.0, 40000.0, 40000.0], \"xaxis\": \"x\", \"y\": [0.013560978336595905, 0.01326231364377094, 0.0117187030794115], \"yaxis\": \"y\"}, {\"customdata\": [[\"Ivory Coast\", 2018], [\"Ivory Coast\", 2019], [\"Ivory Coast\", 2020]], \"hovertemplate\": \"Country=%{customdata[0]}<br>Average budget=%{x}<br>Country share % out of all budget=%{y}<br>Year=%{customdata[1]}<extra></extra>\", \"legendgroup\": \"Ivory Coast\", \"line\": {\"color\": \"#19d3f3\", \"dash\": \"solid\"}, \"mode\": \"lines\", \"name\": \"Ivory Coast\", \"orientation\": \"v\", \"showlegend\": true, \"type\": \"scatter\", \"x\": [40214.0, 45000.0, 60111.5], \"xaxis\": \"x\", \"y\": [0.027752731950527614, 0.029840205698484612, 0.0352], \"yaxis\": \"y\"}, {\"customdata\": [[\"Madagascar\", 2018], [\"Madagascar\", 2019], [\"Madagascar\", 2020]], \"hovertemplate\": \"Country=%{customdata[0]}<br>Average budget=%{x}<br>Country share % out of all budget=%{y}<br>Year=%{customdata[1]}<extra></extra>\", \"legendgroup\": \"Madagascar\", \"line\": {\"color\": \"#FF6692\", \"dash\": \"solid\"}, \"mode\": \"lines\", \"name\": \"Madagascar\", \"orientation\": \"v\", \"showlegend\": true, \"type\": \"scatter\", \"x\": [49500.0, 20000.0, 20000.0], \"xaxis\": \"x\", \"y\": [0.01708062156899484, 0.00663115682188547, 0.0059], \"yaxis\": \"y\"}, {\"customdata\": [[\"Mali\", 2018], [\"Mali\", 2019], [\"Mali\", 2020]], \"hovertemplate\": \"Country=%{customdata[0]}<br>Average budget=%{x}<br>Country share % out of all budget=%{y}<br>Year=%{customdata[1]}<extra></extra>\", \"legendgroup\": \"Mali\", \"line\": {\"color\": \"#B6E880\", \"dash\": \"solid\"}, \"mode\": \"lines\", \"name\": \"Mali\", \"orientation\": \"v\", \"showlegend\": true, \"type\": \"scatter\", \"x\": [187510.5, 204274.0, 170665.0], \"xaxis\": \"x\", \"y\": [0.2588117891485258, 0.2709145857267665, 0.19999724610477632], \"yaxis\": \"y\"}, {\"customdata\": [[\"Togo\", 2018], [\"Togo\", 2019], [\"Togo\", 2020]], \"hovertemplate\": \"Country=%{customdata[0]}<br>Average budget=%{x}<br>Country share % out of all budget=%{y}<br>Year=%{customdata[1]}<extra></extra>\", \"legendgroup\": \"Togo\", \"line\": {\"color\": \"#FF97FF\", \"dash\": \"solid\"}, \"mode\": \"lines\", \"name\": \"Togo\", \"orientation\": \"v\", \"showlegend\": true, \"type\": \"scatter\", \"x\": [125635.5, 186427.0, 339949.0], \"xaxis\": \"x\", \"y\": [0.08670434065177582, 0.12362266728336425, 0.1992], \"yaxis\": \"y\"}],                        {\"legend\": {\"title\": {\"text\": \"Country\"}, \"tracegroupgap\": 0}, \"margin\": {\"t\": 60}, \"template\": {\"data\": {\"bar\": [{\"error_x\": {\"color\": \"#2a3f5f\"}, \"error_y\": {\"color\": \"#2a3f5f\"}, \"marker\": {\"line\": {\"color\": \"#E5ECF6\", \"width\": 0.5}}, \"type\": \"bar\"}], \"barpolar\": [{\"marker\": {\"line\": {\"color\": \"#E5ECF6\", \"width\": 0.5}}, \"type\": \"barpolar\"}], \"carpet\": [{\"aaxis\": {\"endlinecolor\": \"#2a3f5f\", \"gridcolor\": \"white\", \"linecolor\": \"white\", \"minorgridcolor\": \"white\", \"startlinecolor\": \"#2a3f5f\"}, \"baxis\": {\"endlinecolor\": \"#2a3f5f\", \"gridcolor\": \"white\", \"linecolor\": \"white\", \"minorgridcolor\": \"white\", \"startlinecolor\": \"#2a3f5f\"}, \"type\": \"carpet\"}], \"choropleth\": [{\"colorbar\": {\"outlinewidth\": 0, \"ticks\": \"\"}, \"type\": \"choropleth\"}], \"contour\": [{\"colorbar\": {\"outlinewidth\": 0, \"ticks\": \"\"}, \"colorscale\": [[0.0, \"#0d0887\"], [0.1111111111111111, \"#46039f\"], [0.2222222222222222, \"#7201a8\"], [0.3333333333333333, \"#9c179e\"], [0.4444444444444444, \"#bd3786\"], [0.5555555555555556, \"#d8576b\"], [0.6666666666666666, \"#ed7953\"], [0.7777777777777778, \"#fb9f3a\"], [0.8888888888888888, \"#fdca26\"], [1.0, \"#f0f921\"]], \"type\": \"contour\"}], \"contourcarpet\": [{\"colorbar\": {\"outlinewidth\": 0, \"ticks\": \"\"}, \"type\": \"contourcarpet\"}], \"heatmap\": [{\"colorbar\": {\"outlinewidth\": 0, \"ticks\": \"\"}, \"colorscale\": [[0.0, \"#0d0887\"], [0.1111111111111111, \"#46039f\"], [0.2222222222222222, \"#7201a8\"], [0.3333333333333333, \"#9c179e\"], [0.4444444444444444, \"#bd3786\"], [0.5555555555555556, \"#d8576b\"], [0.6666666666666666, \"#ed7953\"], [0.7777777777777778, \"#fb9f3a\"], [0.8888888888888888, \"#fdca26\"], [1.0, \"#f0f921\"]], \"type\": \"heatmap\"}], \"heatmapgl\": [{\"colorbar\": {\"outlinewidth\": 0, \"ticks\": \"\"}, \"colorscale\": [[0.0, \"#0d0887\"], [0.1111111111111111, \"#46039f\"], [0.2222222222222222, \"#7201a8\"], [0.3333333333333333, \"#9c179e\"], [0.4444444444444444, \"#bd3786\"], [0.5555555555555556, \"#d8576b\"], [0.6666666666666666, \"#ed7953\"], [0.7777777777777778, \"#fb9f3a\"], [0.8888888888888888, \"#fdca26\"], [1.0, \"#f0f921\"]], \"type\": \"heatmapgl\"}], \"histogram\": [{\"marker\": {\"colorbar\": {\"outlinewidth\": 0, \"ticks\": \"\"}}, \"type\": \"histogram\"}], \"histogram2d\": [{\"colorbar\": {\"outlinewidth\": 0, \"ticks\": \"\"}, \"colorscale\": [[0.0, \"#0d0887\"], [0.1111111111111111, \"#46039f\"], [0.2222222222222222, \"#7201a8\"], [0.3333333333333333, \"#9c179e\"], [0.4444444444444444, \"#bd3786\"], [0.5555555555555556, \"#d8576b\"], [0.6666666666666666, \"#ed7953\"], [0.7777777777777778, \"#fb9f3a\"], [0.8888888888888888, \"#fdca26\"], [1.0, \"#f0f921\"]], \"type\": \"histogram2d\"}], \"histogram2dcontour\": [{\"colorbar\": {\"outlinewidth\": 0, \"ticks\": \"\"}, \"colorscale\": [[0.0, \"#0d0887\"], [0.1111111111111111, \"#46039f\"], [0.2222222222222222, \"#7201a8\"], [0.3333333333333333, \"#9c179e\"], [0.4444444444444444, \"#bd3786\"], [0.5555555555555556, \"#d8576b\"], [0.6666666666666666, \"#ed7953\"], [0.7777777777777778, \"#fb9f3a\"], [0.8888888888888888, \"#fdca26\"], [1.0, \"#f0f921\"]], \"type\": \"histogram2dcontour\"}], \"mesh3d\": [{\"colorbar\": {\"outlinewidth\": 0, \"ticks\": \"\"}, \"type\": \"mesh3d\"}], \"parcoords\": [{\"line\": {\"colorbar\": {\"outlinewidth\": 0, \"ticks\": \"\"}}, \"type\": \"parcoords\"}], \"pie\": [{\"automargin\": true, \"type\": \"pie\"}], \"scatter\": [{\"marker\": {\"colorbar\": {\"outlinewidth\": 0, \"ticks\": \"\"}}, \"type\": \"scatter\"}], \"scatter3d\": [{\"line\": {\"colorbar\": {\"outlinewidth\": 0, \"ticks\": \"\"}}, \"marker\": {\"colorbar\": {\"outlinewidth\": 0, \"ticks\": \"\"}}, \"type\": \"scatter3d\"}], \"scattercarpet\": [{\"marker\": {\"colorbar\": {\"outlinewidth\": 0, \"ticks\": \"\"}}, \"type\": \"scattercarpet\"}], \"scattergeo\": [{\"marker\": {\"colorbar\": {\"outlinewidth\": 0, \"ticks\": \"\"}}, \"type\": \"scattergeo\"}], \"scattergl\": [{\"marker\": {\"colorbar\": {\"outlinewidth\": 0, \"ticks\": \"\"}}, \"type\": \"scattergl\"}], \"scattermapbox\": [{\"marker\": {\"colorbar\": {\"outlinewidth\": 0, \"ticks\": \"\"}}, \"type\": \"scattermapbox\"}], \"scatterpolar\": [{\"marker\": {\"colorbar\": {\"outlinewidth\": 0, \"ticks\": \"\"}}, \"type\": \"scatterpolar\"}], \"scatterpolargl\": [{\"marker\": {\"colorbar\": {\"outlinewidth\": 0, \"ticks\": \"\"}}, \"type\": \"scatterpolargl\"}], \"scatterternary\": [{\"marker\": {\"colorbar\": {\"outlinewidth\": 0, \"ticks\": \"\"}}, \"type\": \"scatterternary\"}], \"surface\": [{\"colorbar\": {\"outlinewidth\": 0, \"ticks\": \"\"}, \"colorscale\": [[0.0, \"#0d0887\"], [0.1111111111111111, \"#46039f\"], [0.2222222222222222, \"#7201a8\"], [0.3333333333333333, \"#9c179e\"], [0.4444444444444444, \"#bd3786\"], [0.5555555555555556, \"#d8576b\"], [0.6666666666666666, \"#ed7953\"], [0.7777777777777778, \"#fb9f3a\"], [0.8888888888888888, \"#fdca26\"], [1.0, \"#f0f921\"]], \"type\": \"surface\"}], \"table\": [{\"cells\": {\"fill\": {\"color\": \"#EBF0F8\"}, \"line\": {\"color\": \"white\"}}, \"header\": {\"fill\": {\"color\": \"#C8D4E3\"}, \"line\": {\"color\": \"white\"}}, \"type\": \"table\"}]}, \"layout\": {\"annotationdefaults\": {\"arrowcolor\": \"#2a3f5f\", \"arrowhead\": 0, \"arrowwidth\": 1}, \"coloraxis\": {\"colorbar\": {\"outlinewidth\": 0, \"ticks\": \"\"}}, \"colorscale\": {\"diverging\": [[0, \"#8e0152\"], [0.1, \"#c51b7d\"], [0.2, \"#de77ae\"], [0.3, \"#f1b6da\"], [0.4, \"#fde0ef\"], [0.5, \"#f7f7f7\"], [0.6, \"#e6f5d0\"], [0.7, \"#b8e186\"], [0.8, \"#7fbc41\"], [0.9, \"#4d9221\"], [1, \"#276419\"]], \"sequential\": [[0.0, \"#0d0887\"], [0.1111111111111111, \"#46039f\"], [0.2222222222222222, \"#7201a8\"], [0.3333333333333333, \"#9c179e\"], [0.4444444444444444, \"#bd3786\"], [0.5555555555555556, \"#d8576b\"], [0.6666666666666666, \"#ed7953\"], [0.7777777777777778, \"#fb9f3a\"], [0.8888888888888888, \"#fdca26\"], [1.0, \"#f0f921\"]], \"sequentialminus\": [[0.0, \"#0d0887\"], [0.1111111111111111, \"#46039f\"], [0.2222222222222222, \"#7201a8\"], [0.3333333333333333, \"#9c179e\"], [0.4444444444444444, \"#bd3786\"], [0.5555555555555556, \"#d8576b\"], [0.6666666666666666, \"#ed7953\"], [0.7777777777777778, \"#fb9f3a\"], [0.8888888888888888, \"#fdca26\"], [1.0, \"#f0f921\"]]}, \"colorway\": [\"#636efa\", \"#EF553B\", \"#00cc96\", \"#ab63fa\", \"#FFA15A\", \"#19d3f3\", \"#FF6692\", \"#B6E880\", \"#FF97FF\", \"#FECB52\"], \"font\": {\"color\": \"#2a3f5f\"}, \"geo\": {\"bgcolor\": \"white\", \"lakecolor\": \"white\", \"landcolor\": \"#E5ECF6\", \"showlakes\": true, \"showland\": true, \"subunitcolor\": \"white\"}, \"hoverlabel\": {\"align\": \"left\"}, \"hovermode\": \"closest\", \"mapbox\": {\"style\": \"light\"}, \"paper_bgcolor\": \"white\", \"plot_bgcolor\": \"#E5ECF6\", \"polar\": {\"angularaxis\": {\"gridcolor\": \"white\", \"linecolor\": \"white\", \"ticks\": \"\"}, \"bgcolor\": \"#E5ECF6\", \"radialaxis\": {\"gridcolor\": \"white\", \"linecolor\": \"white\", \"ticks\": \"\"}}, \"scene\": {\"xaxis\": {\"backgroundcolor\": \"#E5ECF6\", \"gridcolor\": \"white\", \"gridwidth\": 2, \"linecolor\": \"white\", \"showbackground\": true, \"ticks\": \"\", \"zerolinecolor\": \"white\"}, \"yaxis\": {\"backgroundcolor\": \"#E5ECF6\", \"gridcolor\": \"white\", \"gridwidth\": 2, \"linecolor\": \"white\", \"showbackground\": true, \"ticks\": \"\", \"zerolinecolor\": \"white\"}, \"zaxis\": {\"backgroundcolor\": \"#E5ECF6\", \"gridcolor\": \"white\", \"gridwidth\": 2, \"linecolor\": \"white\", \"showbackground\": true, \"ticks\": \"\", \"zerolinecolor\": \"white\"}}, \"shapedefaults\": {\"line\": {\"color\": \"#2a3f5f\"}}, \"ternary\": {\"aaxis\": {\"gridcolor\": \"white\", \"linecolor\": \"white\", \"ticks\": \"\"}, \"baxis\": {\"gridcolor\": \"white\", \"linecolor\": \"white\", \"ticks\": \"\"}, \"bgcolor\": \"#E5ECF6\", \"caxis\": {\"gridcolor\": \"white\", \"linecolor\": \"white\", \"ticks\": \"\"}}, \"title\": {\"x\": 0.05}, \"xaxis\": {\"automargin\": true, \"gridcolor\": \"white\", \"linecolor\": \"white\", \"ticks\": \"\", \"title\": {\"standoff\": 15}, \"zerolinecolor\": \"white\", \"zerolinewidth\": 2}, \"yaxis\": {\"automargin\": true, \"gridcolor\": \"white\", \"linecolor\": \"white\", \"ticks\": \"\", \"title\": {\"standoff\": 15}, \"zerolinecolor\": \"white\", \"zerolinewidth\": 2}}}, \"xaxis\": {\"anchor\": \"y\", \"domain\": [0.0, 1.0], \"title\": {\"text\": \"Average budget\"}}, \"yaxis\": {\"anchor\": \"x\", \"domain\": [0.0, 1.0], \"title\": {\"text\": \"Country share % out of all budget\"}}},                        {\"responsive\": true}                    ).then(function(){\n",
       "                            \n",
       "var gd = document.getElementById('a41afcbd-2559-47f2-89f1-4f66b0eb6df7');\n",
       "var x = new MutationObserver(function (mutations, observer) {{\n",
       "        var display = window.getComputedStyle(gd).display;\n",
       "        if (!display || display === 'none') {{\n",
       "            console.log([gd, 'removed!']);\n",
       "            Plotly.purge(gd);\n",
       "            observer.disconnect();\n",
       "        }}\n",
       "}});\n",
       "\n",
       "// Listen for the removal of the full notebook cells\n",
       "var notebookContainer = gd.closest('#notebook-container');\n",
       "if (notebookContainer) {{\n",
       "    x.observe(notebookContainer, {childList: true});\n",
       "}}\n",
       "\n",
       "// Listen for the clearing of the current output cell\n",
       "var outputEl = gd.closest('.output');\n",
       "if (outputEl) {{\n",
       "    x.observe(outputEl, {childList: true});\n",
       "}}\n",
       "\n",
       "                        })                };                });            </script>        </div>"
      ]
     },
     "metadata": {},
     "output_type": "display_data"
    }
   ],
   "source": [
    "px.line(df_con_bud, y=\"Country share % out of all budget\", x=\"Average budget\", color='Country', hover_data=['Country', 'Year'])"
   ]
  },
  {
   "cell_type": "code",
   "execution_count": 76,
   "metadata": {
    "ExecuteTime": {
     "end_time": "2021-01-26T05:38:17.903542Z",
     "start_time": "2021-01-26T05:38:17.887552Z"
    }
   },
   "outputs": [],
   "source": [
    "df_con_bud = df.groupby(['Country', 'Year']).agg({'Voted Year project budget €':'mean', 'Project share % out of all budget':'sum' }).reset_index()"
   ]
  },
  {
   "cell_type": "code",
   "execution_count": 82,
   "metadata": {
    "ExecuteTime": {
     "end_time": "2021-01-26T05:38:53.936865Z",
     "start_time": "2021-01-26T05:38:53.912882Z"
    }
   },
   "outputs": [
    {
     "data": {
      "text/html": [
       "<div>\n",
       "<style scoped>\n",
       "    .dataframe tbody tr th:only-of-type {\n",
       "        vertical-align: middle;\n",
       "    }\n",
       "\n",
       "    .dataframe tbody tr th {\n",
       "        vertical-align: top;\n",
       "    }\n",
       "\n",
       "    .dataframe thead th {\n",
       "        text-align: right;\n",
       "    }\n",
       "</style>\n",
       "<table border=\"1\" class=\"dataframe\">\n",
       "  <thead>\n",
       "    <tr style=\"text-align: right;\">\n",
       "      <th></th>\n",
       "      <th>Country</th>\n",
       "      <th>Year</th>\n",
       "      <th>Voted Year country budget €</th>\n",
       "      <th>Country share % out of all budget</th>\n",
       "      <th>0</th>\n",
       "      <th>Average budget</th>\n",
       "    </tr>\n",
       "  </thead>\n",
       "  <tbody>\n",
       "    <tr>\n",
       "      <th>0</th>\n",
       "      <td>Benin</td>\n",
       "      <td>2018</td>\n",
       "      <td>695921</td>\n",
       "      <td>0.240137</td>\n",
       "      <td>6</td>\n",
       "      <td>115986.833333</td>\n",
       "    </tr>\n",
       "    <tr>\n",
       "      <th>1</th>\n",
       "      <td>Benin</td>\n",
       "      <td>2019</td>\n",
       "      <td>571983</td>\n",
       "      <td>0.189645</td>\n",
       "      <td>6</td>\n",
       "      <td>95330.500000</td>\n",
       "    </tr>\n",
       "    <tr>\n",
       "      <th>2</th>\n",
       "      <td>Benin</td>\n",
       "      <td>2020</td>\n",
       "      <td>705444</td>\n",
       "      <td>0.206700</td>\n",
       "      <td>6</td>\n",
       "      <td>117574.000000</td>\n",
       "    </tr>\n",
       "    <tr>\n",
       "      <th>3</th>\n",
       "      <td>Burkina Faso</td>\n",
       "      <td>2018</td>\n",
       "      <td>592227</td>\n",
       "      <td>0.204356</td>\n",
       "      <td>4</td>\n",
       "      <td>148056.750000</td>\n",
       "    </tr>\n",
       "    <tr>\n",
       "      <th>4</th>\n",
       "      <td>Burkina Faso</td>\n",
       "      <td>2019</td>\n",
       "      <td>545297</td>\n",
       "      <td>0.180797</td>\n",
       "      <td>4</td>\n",
       "      <td>136324.250000</td>\n",
       "    </tr>\n",
       "    <tr>\n",
       "      <th>5</th>\n",
       "      <td>Burkina Faso</td>\n",
       "      <td>2020</td>\n",
       "      <td>541122</td>\n",
       "      <td>0.158500</td>\n",
       "      <td>4</td>\n",
       "      <td>135280.500000</td>\n",
       "    </tr>\n",
       "    <tr>\n",
       "      <th>6</th>\n",
       "      <td>Central African Republic</td>\n",
       "      <td>2018</td>\n",
       "      <td>300000</td>\n",
       "      <td>0.103519</td>\n",
       "      <td>2</td>\n",
       "      <td>150000.000000</td>\n",
       "    </tr>\n",
       "    <tr>\n",
       "      <th>7</th>\n",
       "      <td>Central African Republic</td>\n",
       "      <td>2019</td>\n",
       "      <td>408835</td>\n",
       "      <td>0.135552</td>\n",
       "      <td>2</td>\n",
       "      <td>204417.500000</td>\n",
       "    </tr>\n",
       "    <tr>\n",
       "      <th>8</th>\n",
       "      <td>Central African Republic</td>\n",
       "      <td>2020</td>\n",
       "      <td>419000</td>\n",
       "      <td>0.122800</td>\n",
       "      <td>2</td>\n",
       "      <td>209500.000000</td>\n",
       "    </tr>\n",
       "    <tr>\n",
       "      <th>9</th>\n",
       "      <td>Democratic Republic of the Congo</td>\n",
       "      <td>2018</td>\n",
       "      <td>139332</td>\n",
       "      <td>0.048078</td>\n",
       "      <td>1</td>\n",
       "      <td>139332.000000</td>\n",
       "    </tr>\n",
       "    <tr>\n",
       "      <th>10</th>\n",
       "      <td>Democratic Republic of the Congo</td>\n",
       "      <td>2019</td>\n",
       "      <td>150000</td>\n",
       "      <td>0.049734</td>\n",
       "      <td>1</td>\n",
       "      <td>150000.000000</td>\n",
       "    </tr>\n",
       "    <tr>\n",
       "      <th>11</th>\n",
       "      <td>Democratic Republic of the Congo</td>\n",
       "      <td>2020</td>\n",
       "      <td>205000</td>\n",
       "      <td>0.060058</td>\n",
       "      <td>1</td>\n",
       "      <td>205000.000000</td>\n",
       "    </tr>\n",
       "    <tr>\n",
       "      <th>12</th>\n",
       "      <td>Guinea-Conakry</td>\n",
       "      <td>2018</td>\n",
       "      <td>39300</td>\n",
       "      <td>0.013561</td>\n",
       "      <td>1</td>\n",
       "      <td>39300.000000</td>\n",
       "    </tr>\n",
       "    <tr>\n",
       "      <th>13</th>\n",
       "      <td>Guinea-Conakry</td>\n",
       "      <td>2019</td>\n",
       "      <td>40000</td>\n",
       "      <td>0.013262</td>\n",
       "      <td>1</td>\n",
       "      <td>40000.000000</td>\n",
       "    </tr>\n",
       "    <tr>\n",
       "      <th>14</th>\n",
       "      <td>Guinea-Conakry</td>\n",
       "      <td>2020</td>\n",
       "      <td>40000</td>\n",
       "      <td>0.011719</td>\n",
       "      <td>1</td>\n",
       "      <td>40000.000000</td>\n",
       "    </tr>\n",
       "    <tr>\n",
       "      <th>15</th>\n",
       "      <td>Ivory Coast</td>\n",
       "      <td>2018</td>\n",
       "      <td>80428</td>\n",
       "      <td>0.027753</td>\n",
       "      <td>2</td>\n",
       "      <td>40214.000000</td>\n",
       "    </tr>\n",
       "    <tr>\n",
       "      <th>16</th>\n",
       "      <td>Ivory Coast</td>\n",
       "      <td>2019</td>\n",
       "      <td>90000</td>\n",
       "      <td>0.029840</td>\n",
       "      <td>2</td>\n",
       "      <td>45000.000000</td>\n",
       "    </tr>\n",
       "    <tr>\n",
       "      <th>17</th>\n",
       "      <td>Ivory Coast</td>\n",
       "      <td>2020</td>\n",
       "      <td>120223</td>\n",
       "      <td>0.035200</td>\n",
       "      <td>2</td>\n",
       "      <td>60111.500000</td>\n",
       "    </tr>\n",
       "    <tr>\n",
       "      <th>18</th>\n",
       "      <td>Madagascar</td>\n",
       "      <td>2018</td>\n",
       "      <td>49500</td>\n",
       "      <td>0.017081</td>\n",
       "      <td>1</td>\n",
       "      <td>49500.000000</td>\n",
       "    </tr>\n",
       "    <tr>\n",
       "      <th>19</th>\n",
       "      <td>Madagascar</td>\n",
       "      <td>2019</td>\n",
       "      <td>20000</td>\n",
       "      <td>0.006631</td>\n",
       "      <td>1</td>\n",
       "      <td>20000.000000</td>\n",
       "    </tr>\n",
       "    <tr>\n",
       "      <th>20</th>\n",
       "      <td>Madagascar</td>\n",
       "      <td>2020</td>\n",
       "      <td>20000</td>\n",
       "      <td>0.005900</td>\n",
       "      <td>1</td>\n",
       "      <td>20000.000000</td>\n",
       "    </tr>\n",
       "    <tr>\n",
       "      <th>21</th>\n",
       "      <td>Mali</td>\n",
       "      <td>2018</td>\n",
       "      <td>750042</td>\n",
       "      <td>0.258812</td>\n",
       "      <td>4</td>\n",
       "      <td>187510.500000</td>\n",
       "    </tr>\n",
       "    <tr>\n",
       "      <th>22</th>\n",
       "      <td>Mali</td>\n",
       "      <td>2019</td>\n",
       "      <td>817096</td>\n",
       "      <td>0.270915</td>\n",
       "      <td>4</td>\n",
       "      <td>204274.000000</td>\n",
       "    </tr>\n",
       "    <tr>\n",
       "      <th>23</th>\n",
       "      <td>Mali</td>\n",
       "      <td>2020</td>\n",
       "      <td>682660</td>\n",
       "      <td>0.199997</td>\n",
       "      <td>4</td>\n",
       "      <td>170665.000000</td>\n",
       "    </tr>\n",
       "    <tr>\n",
       "      <th>24</th>\n",
       "      <td>Togo</td>\n",
       "      <td>2018</td>\n",
       "      <td>251271</td>\n",
       "      <td>0.086704</td>\n",
       "      <td>2</td>\n",
       "      <td>125635.500000</td>\n",
       "    </tr>\n",
       "    <tr>\n",
       "      <th>25</th>\n",
       "      <td>Togo</td>\n",
       "      <td>2019</td>\n",
       "      <td>372854</td>\n",
       "      <td>0.123623</td>\n",
       "      <td>2</td>\n",
       "      <td>186427.000000</td>\n",
       "    </tr>\n",
       "    <tr>\n",
       "      <th>26</th>\n",
       "      <td>Togo</td>\n",
       "      <td>2020</td>\n",
       "      <td>679898</td>\n",
       "      <td>0.199200</td>\n",
       "      <td>2</td>\n",
       "      <td>339949.000000</td>\n",
       "    </tr>\n",
       "  </tbody>\n",
       "</table>\n",
       "</div>"
      ],
      "text/plain": [
       "                             Country  Year  Voted Year country budget €  \\\n",
       "0                              Benin  2018                       695921   \n",
       "1                              Benin  2019                       571983   \n",
       "2                              Benin  2020                       705444   \n",
       "3                       Burkina Faso  2018                       592227   \n",
       "4                       Burkina Faso  2019                       545297   \n",
       "5                       Burkina Faso  2020                       541122   \n",
       "6           Central African Republic  2018                       300000   \n",
       "7           Central African Republic  2019                       408835   \n",
       "8           Central African Republic  2020                       419000   \n",
       "9   Democratic Republic of the Congo  2018                       139332   \n",
       "10  Democratic Republic of the Congo  2019                       150000   \n",
       "11  Democratic Republic of the Congo  2020                       205000   \n",
       "12                    Guinea-Conakry  2018                        39300   \n",
       "13                    Guinea-Conakry  2019                        40000   \n",
       "14                    Guinea-Conakry  2020                        40000   \n",
       "15                       Ivory Coast  2018                        80428   \n",
       "16                       Ivory Coast  2019                        90000   \n",
       "17                       Ivory Coast  2020                       120223   \n",
       "18                        Madagascar  2018                        49500   \n",
       "19                        Madagascar  2019                        20000   \n",
       "20                        Madagascar  2020                        20000   \n",
       "21                              Mali  2018                       750042   \n",
       "22                              Mali  2019                       817096   \n",
       "23                              Mali  2020                       682660   \n",
       "24                              Togo  2018                       251271   \n",
       "25                              Togo  2019                       372854   \n",
       "26                              Togo  2020                       679898   \n",
       "\n",
       "    Country share % out of all budget  0  Average budget  \n",
       "0                            0.240137  6   115986.833333  \n",
       "1                            0.189645  6    95330.500000  \n",
       "2                            0.206700  6   117574.000000  \n",
       "3                            0.204356  4   148056.750000  \n",
       "4                            0.180797  4   136324.250000  \n",
       "5                            0.158500  4   135280.500000  \n",
       "6                            0.103519  2   150000.000000  \n",
       "7                            0.135552  2   204417.500000  \n",
       "8                            0.122800  2   209500.000000  \n",
       "9                            0.048078  1   139332.000000  \n",
       "10                           0.049734  1   150000.000000  \n",
       "11                           0.060058  1   205000.000000  \n",
       "12                           0.013561  1    39300.000000  \n",
       "13                           0.013262  1    40000.000000  \n",
       "14                           0.011719  1    40000.000000  \n",
       "15                           0.027753  2    40214.000000  \n",
       "16                           0.029840  2    45000.000000  \n",
       "17                           0.035200  2    60111.500000  \n",
       "18                           0.017081  1    49500.000000  \n",
       "19                           0.006631  1    20000.000000  \n",
       "20                           0.005900  1    20000.000000  \n",
       "21                           0.258812  4   187510.500000  \n",
       "22                           0.270915  4   204274.000000  \n",
       "23                           0.199997  4   170665.000000  \n",
       "24                           0.086704  2   125635.500000  \n",
       "25                           0.123623  2   186427.000000  \n",
       "26                           0.199200  2   339949.000000  "
      ]
     },
     "execution_count": 82,
     "metadata": {},
     "output_type": "execute_result"
    }
   ],
   "source": [
    "df_con_bud"
   ]
  },
  {
   "cell_type": "code",
   "execution_count": 79,
   "metadata": {
    "ExecuteTime": {
     "end_time": "2021-01-26T05:38:30.487120Z",
     "start_time": "2021-01-26T05:38:30.470133Z"
    }
   },
   "outputs": [
    {
     "data": {
      "text/html": [
       "<div>\n",
       "<style scoped>\n",
       "    .dataframe tbody tr th:only-of-type {\n",
       "        vertical-align: middle;\n",
       "    }\n",
       "\n",
       "    .dataframe tbody tr th {\n",
       "        vertical-align: top;\n",
       "    }\n",
       "\n",
       "    .dataframe thead th {\n",
       "        text-align: right;\n",
       "    }\n",
       "</style>\n",
       "<table border=\"1\" class=\"dataframe\">\n",
       "  <thead>\n",
       "    <tr style=\"text-align: right;\">\n",
       "      <th></th>\n",
       "      <th>Country</th>\n",
       "      <th>Year</th>\n",
       "      <th>Voted Year project budget €</th>\n",
       "      <th>Project share % out of all budget</th>\n",
       "    </tr>\n",
       "  </thead>\n",
       "  <tbody>\n",
       "    <tr>\n",
       "      <th>0</th>\n",
       "      <td>Benin</td>\n",
       "      <td>2018</td>\n",
       "      <td>115986.833333</td>\n",
       "      <td>0.240137</td>\n",
       "    </tr>\n",
       "    <tr>\n",
       "      <th>1</th>\n",
       "      <td>Benin</td>\n",
       "      <td>2019</td>\n",
       "      <td>95330.500000</td>\n",
       "      <td>0.189645</td>\n",
       "    </tr>\n",
       "    <tr>\n",
       "      <th>2</th>\n",
       "      <td>Benin</td>\n",
       "      <td>2020</td>\n",
       "      <td>117574.000000</td>\n",
       "      <td>0.206672</td>\n",
       "    </tr>\n",
       "    <tr>\n",
       "      <th>3</th>\n",
       "      <td>Burkina Faso</td>\n",
       "      <td>2018</td>\n",
       "      <td>148056.750000</td>\n",
       "      <td>0.204356</td>\n",
       "    </tr>\n",
       "    <tr>\n",
       "      <th>4</th>\n",
       "      <td>Burkina Faso</td>\n",
       "      <td>2019</td>\n",
       "      <td>136324.250000</td>\n",
       "      <td>0.180797</td>\n",
       "    </tr>\n",
       "    <tr>\n",
       "      <th>5</th>\n",
       "      <td>Burkina Faso</td>\n",
       "      <td>2020</td>\n",
       "      <td>135280.500000</td>\n",
       "      <td>0.158531</td>\n",
       "    </tr>\n",
       "    <tr>\n",
       "      <th>6</th>\n",
       "      <td>Central African Republic</td>\n",
       "      <td>2018</td>\n",
       "      <td>150000.000000</td>\n",
       "      <td>0.103519</td>\n",
       "    </tr>\n",
       "    <tr>\n",
       "      <th>7</th>\n",
       "      <td>Central African Republic</td>\n",
       "      <td>2019</td>\n",
       "      <td>204417.500000</td>\n",
       "      <td>0.135552</td>\n",
       "    </tr>\n",
       "    <tr>\n",
       "      <th>8</th>\n",
       "      <td>Central African Republic</td>\n",
       "      <td>2020</td>\n",
       "      <td>209500.000000</td>\n",
       "      <td>0.122753</td>\n",
       "    </tr>\n",
       "    <tr>\n",
       "      <th>9</th>\n",
       "      <td>Democratic Republic of the Congo</td>\n",
       "      <td>2018</td>\n",
       "      <td>139332.000000</td>\n",
       "      <td>0.048078</td>\n",
       "    </tr>\n",
       "    <tr>\n",
       "      <th>10</th>\n",
       "      <td>Democratic Republic of the Congo</td>\n",
       "      <td>2019</td>\n",
       "      <td>150000.000000</td>\n",
       "      <td>0.049734</td>\n",
       "    </tr>\n",
       "    <tr>\n",
       "      <th>11</th>\n",
       "      <td>Democratic Republic of the Congo</td>\n",
       "      <td>2020</td>\n",
       "      <td>205000.000000</td>\n",
       "      <td>0.060058</td>\n",
       "    </tr>\n",
       "    <tr>\n",
       "      <th>12</th>\n",
       "      <td>Guinea-Conakry</td>\n",
       "      <td>2018</td>\n",
       "      <td>39300.000000</td>\n",
       "      <td>0.013561</td>\n",
       "    </tr>\n",
       "    <tr>\n",
       "      <th>13</th>\n",
       "      <td>Guinea-Conakry</td>\n",
       "      <td>2019</td>\n",
       "      <td>40000.000000</td>\n",
       "      <td>0.013262</td>\n",
       "    </tr>\n",
       "    <tr>\n",
       "      <th>14</th>\n",
       "      <td>Guinea-Conakry</td>\n",
       "      <td>2020</td>\n",
       "      <td>40000.000000</td>\n",
       "      <td>0.011719</td>\n",
       "    </tr>\n",
       "    <tr>\n",
       "      <th>15</th>\n",
       "      <td>Ivory Coast</td>\n",
       "      <td>2018</td>\n",
       "      <td>80428.000000</td>\n",
       "      <td>0.027753</td>\n",
       "    </tr>\n",
       "    <tr>\n",
       "      <th>16</th>\n",
       "      <td>Ivory Coast</td>\n",
       "      <td>2019</td>\n",
       "      <td>90000.000000</td>\n",
       "      <td>0.029840</td>\n",
       "    </tr>\n",
       "    <tr>\n",
       "      <th>17</th>\n",
       "      <td>Ivory Coast</td>\n",
       "      <td>2020</td>\n",
       "      <td>60111.500000</td>\n",
       "      <td>0.035221</td>\n",
       "    </tr>\n",
       "    <tr>\n",
       "      <th>18</th>\n",
       "      <td>Madagascar</td>\n",
       "      <td>2018</td>\n",
       "      <td>49500.000000</td>\n",
       "      <td>0.017081</td>\n",
       "    </tr>\n",
       "    <tr>\n",
       "      <th>19</th>\n",
       "      <td>Madagascar</td>\n",
       "      <td>2019</td>\n",
       "      <td>20000.000000</td>\n",
       "      <td>0.006631</td>\n",
       "    </tr>\n",
       "    <tr>\n",
       "      <th>20</th>\n",
       "      <td>Madagascar</td>\n",
       "      <td>2020</td>\n",
       "      <td>20000.000000</td>\n",
       "      <td>0.005859</td>\n",
       "    </tr>\n",
       "    <tr>\n",
       "      <th>21</th>\n",
       "      <td>Mali</td>\n",
       "      <td>2018</td>\n",
       "      <td>187510.500000</td>\n",
       "      <td>0.258812</td>\n",
       "    </tr>\n",
       "    <tr>\n",
       "      <th>22</th>\n",
       "      <td>Mali</td>\n",
       "      <td>2019</td>\n",
       "      <td>204274.000000</td>\n",
       "      <td>0.270915</td>\n",
       "    </tr>\n",
       "    <tr>\n",
       "      <th>23</th>\n",
       "      <td>Mali</td>\n",
       "      <td>2020</td>\n",
       "      <td>170665.000000</td>\n",
       "      <td>0.199997</td>\n",
       "    </tr>\n",
       "    <tr>\n",
       "      <th>24</th>\n",
       "      <td>Togo</td>\n",
       "      <td>2018</td>\n",
       "      <td>125635.500000</td>\n",
       "      <td>0.086704</td>\n",
       "    </tr>\n",
       "    <tr>\n",
       "      <th>25</th>\n",
       "      <td>Togo</td>\n",
       "      <td>2019</td>\n",
       "      <td>186427.000000</td>\n",
       "      <td>0.123623</td>\n",
       "    </tr>\n",
       "    <tr>\n",
       "      <th>26</th>\n",
       "      <td>Togo</td>\n",
       "      <td>2020</td>\n",
       "      <td>339949.000000</td>\n",
       "      <td>0.199188</td>\n",
       "    </tr>\n",
       "  </tbody>\n",
       "</table>\n",
       "</div>"
      ],
      "text/plain": [
       "                             Country  Year  Voted Year project budget €  \\\n",
       "0                              Benin  2018                115986.833333   \n",
       "1                              Benin  2019                 95330.500000   \n",
       "2                              Benin  2020                117574.000000   \n",
       "3                       Burkina Faso  2018                148056.750000   \n",
       "4                       Burkina Faso  2019                136324.250000   \n",
       "5                       Burkina Faso  2020                135280.500000   \n",
       "6           Central African Republic  2018                150000.000000   \n",
       "7           Central African Republic  2019                204417.500000   \n",
       "8           Central African Republic  2020                209500.000000   \n",
       "9   Democratic Republic of the Congo  2018                139332.000000   \n",
       "10  Democratic Republic of the Congo  2019                150000.000000   \n",
       "11  Democratic Republic of the Congo  2020                205000.000000   \n",
       "12                    Guinea-Conakry  2018                 39300.000000   \n",
       "13                    Guinea-Conakry  2019                 40000.000000   \n",
       "14                    Guinea-Conakry  2020                 40000.000000   \n",
       "15                       Ivory Coast  2018                 80428.000000   \n",
       "16                       Ivory Coast  2019                 90000.000000   \n",
       "17                       Ivory Coast  2020                 60111.500000   \n",
       "18                        Madagascar  2018                 49500.000000   \n",
       "19                        Madagascar  2019                 20000.000000   \n",
       "20                        Madagascar  2020                 20000.000000   \n",
       "21                              Mali  2018                187510.500000   \n",
       "22                              Mali  2019                204274.000000   \n",
       "23                              Mali  2020                170665.000000   \n",
       "24                              Togo  2018                125635.500000   \n",
       "25                              Togo  2019                186427.000000   \n",
       "26                              Togo  2020                339949.000000   \n",
       "\n",
       "    Project share % out of all budget  \n",
       "0                            0.240137  \n",
       "1                            0.189645  \n",
       "2                            0.206672  \n",
       "3                            0.204356  \n",
       "4                            0.180797  \n",
       "5                            0.158531  \n",
       "6                            0.103519  \n",
       "7                            0.135552  \n",
       "8                            0.122753  \n",
       "9                            0.048078  \n",
       "10                           0.049734  \n",
       "11                           0.060058  \n",
       "12                           0.013561  \n",
       "13                           0.013262  \n",
       "14                           0.011719  \n",
       "15                           0.027753  \n",
       "16                           0.029840  \n",
       "17                           0.035221  \n",
       "18                           0.017081  \n",
       "19                           0.006631  \n",
       "20                           0.005859  \n",
       "21                           0.258812  \n",
       "22                           0.270915  \n",
       "23                           0.199997  \n",
       "24                           0.086704  \n",
       "25                           0.123623  \n",
       "26                           0.199188  "
      ]
     },
     "execution_count": 79,
     "metadata": {},
     "output_type": "execute_result"
    }
   ],
   "source": [
    "df_con_bud"
   ]
  },
  {
   "cell_type": "code",
   "execution_count": 78,
   "metadata": {
    "ExecuteTime": {
     "end_time": "2021-01-26T05:38:18.891823Z",
     "start_time": "2021-01-26T05:38:18.735914Z"
    }
   },
   "outputs": [
    {
     "data": {
      "application/vnd.plotly.v1+json": {
       "config": {
        "plotlyServerURL": "https://plot.ly"
       },
       "data": [
        {
         "customdata": [
          [
           "Benin",
           2018
          ],
          [
           "Benin",
           2019
          ],
          [
           "Benin",
           2020
          ]
         ],
         "hovertemplate": "Country=%{customdata[0]}<br>Voted Year project budget €=%{x}<br>Project share % out of all budget=%{y}<br>Year=%{customdata[1]}<extra></extra>",
         "legendgroup": "Benin",
         "line": {
          "color": "#636efa",
          "dash": "solid"
         },
         "mode": "lines",
         "name": "Benin",
         "orientation": "v",
         "showlegend": true,
         "type": "scatter",
         "x": [
          115986.83333333333,
          95330.5,
          117574
         ],
         "xaxis": "x",
         "y": [
          0.24013663117002948,
          0.18964544862262583,
          0.2066722193788091
         ],
         "yaxis": "y"
        },
        {
         "customdata": [
          [
           "Burkina Faso",
           2018
          ],
          [
           "Burkina Faso",
           2019
          ],
          [
           "Burkina Faso",
           2020
          ]
         ],
         "hovertemplate": "Country=%{customdata[0]}<br>Voted Year project budget €=%{x}<br>Project share % out of all budget=%{y}<br>Year=%{customdata[1]}<extra></extra>",
         "legendgroup": "Burkina Faso",
         "line": {
          "color": "#EF553B",
          "dash": "solid"
         },
         "mode": "lines",
         "name": "Burkina Faso",
         "orientation": "v",
         "showlegend": true,
         "type": "scatter",
         "x": [
          148056.75,
          136324.25,
          135280.5
         ],
         "xaxis": "x",
         "y": [
          0.20435566201901229,
          0.18079749607518406,
          0.15853120119343272
         ],
         "yaxis": "y"
        },
        {
         "customdata": [
          [
           "Central African Republic",
           2018
          ],
          [
           "Central African Republic",
           2019
          ],
          [
           "Central African Republic",
           2020
          ]
         ],
         "hovertemplate": "Country=%{customdata[0]}<br>Voted Year project budget €=%{x}<br>Project share % out of all budget=%{y}<br>Year=%{customdata[1]}<extra></extra>",
         "legendgroup": "Central African Republic",
         "line": {
          "color": "#00cc96",
          "dash": "solid"
         },
         "mode": "lines",
         "name": "Central African Republic",
         "orientation": "v",
         "showlegend": true,
         "type": "scatter",
         "x": [
          150000,
          204417.5,
          209500
         ],
         "xaxis": "x",
         "y": [
          0.10351891859996874,
          0.1355524499637773,
          0.12275341475683543
         ],
         "yaxis": "y"
        },
        {
         "customdata": [
          [
           "Democratic Republic of the Congo",
           2018
          ],
          [
           "Democratic Republic of the Congo",
           2019
          ],
          [
           "Democratic Republic of the Congo",
           2020
          ]
         ],
         "hovertemplate": "Country=%{customdata[0]}<br>Voted Year project budget €=%{x}<br>Project share % out of all budget=%{y}<br>Year=%{customdata[1]}<extra></extra>",
         "legendgroup": "Democratic Republic of the Congo",
         "line": {
          "color": "#ab63fa",
          "dash": "solid"
         },
         "mode": "lines",
         "name": "Democratic Republic of the Congo",
         "orientation": "v",
         "showlegend": true,
         "type": "scatter",
         "x": [
          139332,
          150000,
          205000
         ],
         "xaxis": "x",
         "y": [
          0.04807832655456948,
          0.04973367616414103,
          0.060058353281983924
         ],
         "yaxis": "y"
        },
        {
         "customdata": [
          [
           "Guinea-Conakry",
           2018
          ],
          [
           "Guinea-Conakry",
           2019
          ],
          [
           "Guinea-Conakry",
           2020
          ]
         ],
         "hovertemplate": "Country=%{customdata[0]}<br>Voted Year project budget €=%{x}<br>Project share % out of all budget=%{y}<br>Year=%{customdata[1]}<extra></extra>",
         "legendgroup": "Guinea-Conakry",
         "line": {
          "color": "#FFA15A",
          "dash": "solid"
         },
         "mode": "lines",
         "name": "Guinea-Conakry",
         "orientation": "v",
         "showlegend": true,
         "type": "scatter",
         "x": [
          39300,
          40000,
          40000
         ],
         "xaxis": "x",
         "y": [
          0.013560978336595905,
          0.01326231364377094,
          0.0117187030794115
         ],
         "yaxis": "y"
        },
        {
         "customdata": [
          [
           "Ivory Coast",
           2018
          ],
          [
           "Ivory Coast",
           2019
          ],
          [
           "Ivory Coast",
           2020
          ]
         ],
         "hovertemplate": "Country=%{customdata[0]}<br>Voted Year project budget €=%{x}<br>Project share % out of all budget=%{y}<br>Year=%{customdata[1]}<extra></extra>",
         "legendgroup": "Ivory Coast",
         "line": {
          "color": "#19d3f3",
          "dash": "solid"
         },
         "mode": "lines",
         "name": "Ivory Coast",
         "orientation": "v",
         "showlegend": true,
         "type": "scatter",
         "x": [
          80428,
          90000,
          60111.5
         ],
         "xaxis": "x",
         "y": [
          0.027752731950527614,
          0.029840205698484612,
          0.03522144100790221
         ],
         "yaxis": "y"
        },
        {
         "customdata": [
          [
           "Madagascar",
           2018
          ],
          [
           "Madagascar",
           2019
          ],
          [
           "Madagascar",
           2020
          ]
         ],
         "hovertemplate": "Country=%{customdata[0]}<br>Voted Year project budget €=%{x}<br>Project share % out of all budget=%{y}<br>Year=%{customdata[1]}<extra></extra>",
         "legendgroup": "Madagascar",
         "line": {
          "color": "#FF6692",
          "dash": "solid"
         },
         "mode": "lines",
         "name": "Madagascar",
         "orientation": "v",
         "showlegend": true,
         "type": "scatter",
         "x": [
          49500,
          20000,
          20000
         ],
         "xaxis": "x",
         "y": [
          0.01708062156899484,
          0.00663115682188547,
          0.005859351539705749
         ],
         "yaxis": "y"
        },
        {
         "customdata": [
          [
           "Mali",
           2018
          ],
          [
           "Mali",
           2019
          ],
          [
           "Mali",
           2020
          ]
         ],
         "hovertemplate": "Country=%{customdata[0]}<br>Voted Year project budget €=%{x}<br>Project share % out of all budget=%{y}<br>Year=%{customdata[1]}<extra></extra>",
         "legendgroup": "Mali",
         "line": {
          "color": "#B6E880",
          "dash": "solid"
         },
         "mode": "lines",
         "name": "Mali",
         "orientation": "v",
         "showlegend": true,
         "type": "scatter",
         "x": [
          187510.5,
          204274,
          170665
         ],
         "xaxis": "x",
         "y": [
          0.2588117891485258,
          0.2709145857267665,
          0.19999724610477632
         ],
         "yaxis": "y"
        },
        {
         "customdata": [
          [
           "Togo",
           2018
          ],
          [
           "Togo",
           2019
          ],
          [
           "Togo",
           2020
          ]
         ],
         "hovertemplate": "Country=%{customdata[0]}<br>Voted Year project budget €=%{x}<br>Project share % out of all budget=%{y}<br>Year=%{customdata[1]}<extra></extra>",
         "legendgroup": "Togo",
         "line": {
          "color": "#FF97FF",
          "dash": "solid"
         },
         "mode": "lines",
         "name": "Togo",
         "orientation": "v",
         "showlegend": true,
         "type": "scatter",
         "x": [
          125635.5,
          186427,
          339949
         ],
         "xaxis": "x",
         "y": [
          0.08670434065177582,
          0.12362266728336425,
          0.19918806965714297
         ],
         "yaxis": "y"
        }
       ],
       "layout": {
        "legend": {
         "title": {
          "text": "Country"
         },
         "tracegroupgap": 0
        },
        "margin": {
         "t": 60
        },
        "template": {
         "data": {
          "bar": [
           {
            "error_x": {
             "color": "#2a3f5f"
            },
            "error_y": {
             "color": "#2a3f5f"
            },
            "marker": {
             "line": {
              "color": "#E5ECF6",
              "width": 0.5
             }
            },
            "type": "bar"
           }
          ],
          "barpolar": [
           {
            "marker": {
             "line": {
              "color": "#E5ECF6",
              "width": 0.5
             }
            },
            "type": "barpolar"
           }
          ],
          "carpet": [
           {
            "aaxis": {
             "endlinecolor": "#2a3f5f",
             "gridcolor": "white",
             "linecolor": "white",
             "minorgridcolor": "white",
             "startlinecolor": "#2a3f5f"
            },
            "baxis": {
             "endlinecolor": "#2a3f5f",
             "gridcolor": "white",
             "linecolor": "white",
             "minorgridcolor": "white",
             "startlinecolor": "#2a3f5f"
            },
            "type": "carpet"
           }
          ],
          "choropleth": [
           {
            "colorbar": {
             "outlinewidth": 0,
             "ticks": ""
            },
            "type": "choropleth"
           }
          ],
          "contour": [
           {
            "colorbar": {
             "outlinewidth": 0,
             "ticks": ""
            },
            "colorscale": [
             [
              0,
              "#0d0887"
             ],
             [
              0.1111111111111111,
              "#46039f"
             ],
             [
              0.2222222222222222,
              "#7201a8"
             ],
             [
              0.3333333333333333,
              "#9c179e"
             ],
             [
              0.4444444444444444,
              "#bd3786"
             ],
             [
              0.5555555555555556,
              "#d8576b"
             ],
             [
              0.6666666666666666,
              "#ed7953"
             ],
             [
              0.7777777777777778,
              "#fb9f3a"
             ],
             [
              0.8888888888888888,
              "#fdca26"
             ],
             [
              1,
              "#f0f921"
             ]
            ],
            "type": "contour"
           }
          ],
          "contourcarpet": [
           {
            "colorbar": {
             "outlinewidth": 0,
             "ticks": ""
            },
            "type": "contourcarpet"
           }
          ],
          "heatmap": [
           {
            "colorbar": {
             "outlinewidth": 0,
             "ticks": ""
            },
            "colorscale": [
             [
              0,
              "#0d0887"
             ],
             [
              0.1111111111111111,
              "#46039f"
             ],
             [
              0.2222222222222222,
              "#7201a8"
             ],
             [
              0.3333333333333333,
              "#9c179e"
             ],
             [
              0.4444444444444444,
              "#bd3786"
             ],
             [
              0.5555555555555556,
              "#d8576b"
             ],
             [
              0.6666666666666666,
              "#ed7953"
             ],
             [
              0.7777777777777778,
              "#fb9f3a"
             ],
             [
              0.8888888888888888,
              "#fdca26"
             ],
             [
              1,
              "#f0f921"
             ]
            ],
            "type": "heatmap"
           }
          ],
          "heatmapgl": [
           {
            "colorbar": {
             "outlinewidth": 0,
             "ticks": ""
            },
            "colorscale": [
             [
              0,
              "#0d0887"
             ],
             [
              0.1111111111111111,
              "#46039f"
             ],
             [
              0.2222222222222222,
              "#7201a8"
             ],
             [
              0.3333333333333333,
              "#9c179e"
             ],
             [
              0.4444444444444444,
              "#bd3786"
             ],
             [
              0.5555555555555556,
              "#d8576b"
             ],
             [
              0.6666666666666666,
              "#ed7953"
             ],
             [
              0.7777777777777778,
              "#fb9f3a"
             ],
             [
              0.8888888888888888,
              "#fdca26"
             ],
             [
              1,
              "#f0f921"
             ]
            ],
            "type": "heatmapgl"
           }
          ],
          "histogram": [
           {
            "marker": {
             "colorbar": {
              "outlinewidth": 0,
              "ticks": ""
             }
            },
            "type": "histogram"
           }
          ],
          "histogram2d": [
           {
            "colorbar": {
             "outlinewidth": 0,
             "ticks": ""
            },
            "colorscale": [
             [
              0,
              "#0d0887"
             ],
             [
              0.1111111111111111,
              "#46039f"
             ],
             [
              0.2222222222222222,
              "#7201a8"
             ],
             [
              0.3333333333333333,
              "#9c179e"
             ],
             [
              0.4444444444444444,
              "#bd3786"
             ],
             [
              0.5555555555555556,
              "#d8576b"
             ],
             [
              0.6666666666666666,
              "#ed7953"
             ],
             [
              0.7777777777777778,
              "#fb9f3a"
             ],
             [
              0.8888888888888888,
              "#fdca26"
             ],
             [
              1,
              "#f0f921"
             ]
            ],
            "type": "histogram2d"
           }
          ],
          "histogram2dcontour": [
           {
            "colorbar": {
             "outlinewidth": 0,
             "ticks": ""
            },
            "colorscale": [
             [
              0,
              "#0d0887"
             ],
             [
              0.1111111111111111,
              "#46039f"
             ],
             [
              0.2222222222222222,
              "#7201a8"
             ],
             [
              0.3333333333333333,
              "#9c179e"
             ],
             [
              0.4444444444444444,
              "#bd3786"
             ],
             [
              0.5555555555555556,
              "#d8576b"
             ],
             [
              0.6666666666666666,
              "#ed7953"
             ],
             [
              0.7777777777777778,
              "#fb9f3a"
             ],
             [
              0.8888888888888888,
              "#fdca26"
             ],
             [
              1,
              "#f0f921"
             ]
            ],
            "type": "histogram2dcontour"
           }
          ],
          "mesh3d": [
           {
            "colorbar": {
             "outlinewidth": 0,
             "ticks": ""
            },
            "type": "mesh3d"
           }
          ],
          "parcoords": [
           {
            "line": {
             "colorbar": {
              "outlinewidth": 0,
              "ticks": ""
             }
            },
            "type": "parcoords"
           }
          ],
          "pie": [
           {
            "automargin": true,
            "type": "pie"
           }
          ],
          "scatter": [
           {
            "marker": {
             "colorbar": {
              "outlinewidth": 0,
              "ticks": ""
             }
            },
            "type": "scatter"
           }
          ],
          "scatter3d": [
           {
            "line": {
             "colorbar": {
              "outlinewidth": 0,
              "ticks": ""
             }
            },
            "marker": {
             "colorbar": {
              "outlinewidth": 0,
              "ticks": ""
             }
            },
            "type": "scatter3d"
           }
          ],
          "scattercarpet": [
           {
            "marker": {
             "colorbar": {
              "outlinewidth": 0,
              "ticks": ""
             }
            },
            "type": "scattercarpet"
           }
          ],
          "scattergeo": [
           {
            "marker": {
             "colorbar": {
              "outlinewidth": 0,
              "ticks": ""
             }
            },
            "type": "scattergeo"
           }
          ],
          "scattergl": [
           {
            "marker": {
             "colorbar": {
              "outlinewidth": 0,
              "ticks": ""
             }
            },
            "type": "scattergl"
           }
          ],
          "scattermapbox": [
           {
            "marker": {
             "colorbar": {
              "outlinewidth": 0,
              "ticks": ""
             }
            },
            "type": "scattermapbox"
           }
          ],
          "scatterpolar": [
           {
            "marker": {
             "colorbar": {
              "outlinewidth": 0,
              "ticks": ""
             }
            },
            "type": "scatterpolar"
           }
          ],
          "scatterpolargl": [
           {
            "marker": {
             "colorbar": {
              "outlinewidth": 0,
              "ticks": ""
             }
            },
            "type": "scatterpolargl"
           }
          ],
          "scatterternary": [
           {
            "marker": {
             "colorbar": {
              "outlinewidth": 0,
              "ticks": ""
             }
            },
            "type": "scatterternary"
           }
          ],
          "surface": [
           {
            "colorbar": {
             "outlinewidth": 0,
             "ticks": ""
            },
            "colorscale": [
             [
              0,
              "#0d0887"
             ],
             [
              0.1111111111111111,
              "#46039f"
             ],
             [
              0.2222222222222222,
              "#7201a8"
             ],
             [
              0.3333333333333333,
              "#9c179e"
             ],
             [
              0.4444444444444444,
              "#bd3786"
             ],
             [
              0.5555555555555556,
              "#d8576b"
             ],
             [
              0.6666666666666666,
              "#ed7953"
             ],
             [
              0.7777777777777778,
              "#fb9f3a"
             ],
             [
              0.8888888888888888,
              "#fdca26"
             ],
             [
              1,
              "#f0f921"
             ]
            ],
            "type": "surface"
           }
          ],
          "table": [
           {
            "cells": {
             "fill": {
              "color": "#EBF0F8"
             },
             "line": {
              "color": "white"
             }
            },
            "header": {
             "fill": {
              "color": "#C8D4E3"
             },
             "line": {
              "color": "white"
             }
            },
            "type": "table"
           }
          ]
         },
         "layout": {
          "annotationdefaults": {
           "arrowcolor": "#2a3f5f",
           "arrowhead": 0,
           "arrowwidth": 1
          },
          "coloraxis": {
           "colorbar": {
            "outlinewidth": 0,
            "ticks": ""
           }
          },
          "colorscale": {
           "diverging": [
            [
             0,
             "#8e0152"
            ],
            [
             0.1,
             "#c51b7d"
            ],
            [
             0.2,
             "#de77ae"
            ],
            [
             0.3,
             "#f1b6da"
            ],
            [
             0.4,
             "#fde0ef"
            ],
            [
             0.5,
             "#f7f7f7"
            ],
            [
             0.6,
             "#e6f5d0"
            ],
            [
             0.7,
             "#b8e186"
            ],
            [
             0.8,
             "#7fbc41"
            ],
            [
             0.9,
             "#4d9221"
            ],
            [
             1,
             "#276419"
            ]
           ],
           "sequential": [
            [
             0,
             "#0d0887"
            ],
            [
             0.1111111111111111,
             "#46039f"
            ],
            [
             0.2222222222222222,
             "#7201a8"
            ],
            [
             0.3333333333333333,
             "#9c179e"
            ],
            [
             0.4444444444444444,
             "#bd3786"
            ],
            [
             0.5555555555555556,
             "#d8576b"
            ],
            [
             0.6666666666666666,
             "#ed7953"
            ],
            [
             0.7777777777777778,
             "#fb9f3a"
            ],
            [
             0.8888888888888888,
             "#fdca26"
            ],
            [
             1,
             "#f0f921"
            ]
           ],
           "sequentialminus": [
            [
             0,
             "#0d0887"
            ],
            [
             0.1111111111111111,
             "#46039f"
            ],
            [
             0.2222222222222222,
             "#7201a8"
            ],
            [
             0.3333333333333333,
             "#9c179e"
            ],
            [
             0.4444444444444444,
             "#bd3786"
            ],
            [
             0.5555555555555556,
             "#d8576b"
            ],
            [
             0.6666666666666666,
             "#ed7953"
            ],
            [
             0.7777777777777778,
             "#fb9f3a"
            ],
            [
             0.8888888888888888,
             "#fdca26"
            ],
            [
             1,
             "#f0f921"
            ]
           ]
          },
          "colorway": [
           "#636efa",
           "#EF553B",
           "#00cc96",
           "#ab63fa",
           "#FFA15A",
           "#19d3f3",
           "#FF6692",
           "#B6E880",
           "#FF97FF",
           "#FECB52"
          ],
          "font": {
           "color": "#2a3f5f"
          },
          "geo": {
           "bgcolor": "white",
           "lakecolor": "white",
           "landcolor": "#E5ECF6",
           "showlakes": true,
           "showland": true,
           "subunitcolor": "white"
          },
          "hoverlabel": {
           "align": "left"
          },
          "hovermode": "closest",
          "mapbox": {
           "style": "light"
          },
          "paper_bgcolor": "white",
          "plot_bgcolor": "#E5ECF6",
          "polar": {
           "angularaxis": {
            "gridcolor": "white",
            "linecolor": "white",
            "ticks": ""
           },
           "bgcolor": "#E5ECF6",
           "radialaxis": {
            "gridcolor": "white",
            "linecolor": "white",
            "ticks": ""
           }
          },
          "scene": {
           "xaxis": {
            "backgroundcolor": "#E5ECF6",
            "gridcolor": "white",
            "gridwidth": 2,
            "linecolor": "white",
            "showbackground": true,
            "ticks": "",
            "zerolinecolor": "white"
           },
           "yaxis": {
            "backgroundcolor": "#E5ECF6",
            "gridcolor": "white",
            "gridwidth": 2,
            "linecolor": "white",
            "showbackground": true,
            "ticks": "",
            "zerolinecolor": "white"
           },
           "zaxis": {
            "backgroundcolor": "#E5ECF6",
            "gridcolor": "white",
            "gridwidth": 2,
            "linecolor": "white",
            "showbackground": true,
            "ticks": "",
            "zerolinecolor": "white"
           }
          },
          "shapedefaults": {
           "line": {
            "color": "#2a3f5f"
           }
          },
          "ternary": {
           "aaxis": {
            "gridcolor": "white",
            "linecolor": "white",
            "ticks": ""
           },
           "baxis": {
            "gridcolor": "white",
            "linecolor": "white",
            "ticks": ""
           },
           "bgcolor": "#E5ECF6",
           "caxis": {
            "gridcolor": "white",
            "linecolor": "white",
            "ticks": ""
           }
          },
          "title": {
           "x": 0.05
          },
          "xaxis": {
           "automargin": true,
           "gridcolor": "white",
           "linecolor": "white",
           "ticks": "",
           "title": {
            "standoff": 15
           },
           "zerolinecolor": "white",
           "zerolinewidth": 2
          },
          "yaxis": {
           "automargin": true,
           "gridcolor": "white",
           "linecolor": "white",
           "ticks": "",
           "title": {
            "standoff": 15
           },
           "zerolinecolor": "white",
           "zerolinewidth": 2
          }
         }
        },
        "xaxis": {
         "anchor": "y",
         "domain": [
          0,
          1
         ],
         "title": {
          "text": "Voted Year project budget €"
         }
        },
        "yaxis": {
         "anchor": "x",
         "domain": [
          0,
          1
         ],
         "title": {
          "text": "Project share % out of all budget"
         }
        }
       }
      },
      "text/html": [
       "<div>                            <div id=\"e81ec4d9-ed97-46f4-9a9d-9e6c74442f1f\" class=\"plotly-graph-div\" style=\"height:525px; width:100%;\"></div>            <script type=\"text/javascript\">                require([\"plotly\"], function(Plotly) {                    window.PLOTLYENV=window.PLOTLYENV || {};                                    if (document.getElementById(\"e81ec4d9-ed97-46f4-9a9d-9e6c74442f1f\")) {                    Plotly.newPlot(                        \"e81ec4d9-ed97-46f4-9a9d-9e6c74442f1f\",                        [{\"customdata\": [[\"Benin\", 2018], [\"Benin\", 2019], [\"Benin\", 2020]], \"hovertemplate\": \"Country=%{customdata[0]}<br>Voted Year project budget \\u20ac=%{x}<br>Project share % out of all budget=%{y}<br>Year=%{customdata[1]}<extra></extra>\", \"legendgroup\": \"Benin\", \"line\": {\"color\": \"#636efa\", \"dash\": \"solid\"}, \"mode\": \"lines\", \"name\": \"Benin\", \"orientation\": \"v\", \"showlegend\": true, \"type\": \"scatter\", \"x\": [115986.83333333333, 95330.5, 117574.0], \"xaxis\": \"x\", \"y\": [0.24013663117002948, 0.18964544862262583, 0.2066722193788091], \"yaxis\": \"y\"}, {\"customdata\": [[\"Burkina Faso\", 2018], [\"Burkina Faso\", 2019], [\"Burkina Faso\", 2020]], \"hovertemplate\": \"Country=%{customdata[0]}<br>Voted Year project budget \\u20ac=%{x}<br>Project share % out of all budget=%{y}<br>Year=%{customdata[1]}<extra></extra>\", \"legendgroup\": \"Burkina Faso\", \"line\": {\"color\": \"#EF553B\", \"dash\": \"solid\"}, \"mode\": \"lines\", \"name\": \"Burkina Faso\", \"orientation\": \"v\", \"showlegend\": true, \"type\": \"scatter\", \"x\": [148056.75, 136324.25, 135280.5], \"xaxis\": \"x\", \"y\": [0.20435566201901229, 0.18079749607518406, 0.15853120119343272], \"yaxis\": \"y\"}, {\"customdata\": [[\"Central African Republic\", 2018], [\"Central African Republic\", 2019], [\"Central African Republic\", 2020]], \"hovertemplate\": \"Country=%{customdata[0]}<br>Voted Year project budget \\u20ac=%{x}<br>Project share % out of all budget=%{y}<br>Year=%{customdata[1]}<extra></extra>\", \"legendgroup\": \"Central African Republic\", \"line\": {\"color\": \"#00cc96\", \"dash\": \"solid\"}, \"mode\": \"lines\", \"name\": \"Central African Republic\", \"orientation\": \"v\", \"showlegend\": true, \"type\": \"scatter\", \"x\": [150000.0, 204417.5, 209500.0], \"xaxis\": \"x\", \"y\": [0.10351891859996874, 0.1355524499637773, 0.12275341475683543], \"yaxis\": \"y\"}, {\"customdata\": [[\"Democratic Republic of the Congo\", 2018], [\"Democratic Republic of the Congo\", 2019], [\"Democratic Republic of the Congo\", 2020]], \"hovertemplate\": \"Country=%{customdata[0]}<br>Voted Year project budget \\u20ac=%{x}<br>Project share % out of all budget=%{y}<br>Year=%{customdata[1]}<extra></extra>\", \"legendgroup\": \"Democratic Republic of the Congo\", \"line\": {\"color\": \"#ab63fa\", \"dash\": \"solid\"}, \"mode\": \"lines\", \"name\": \"Democratic Republic of the Congo\", \"orientation\": \"v\", \"showlegend\": true, \"type\": \"scatter\", \"x\": [139332.0, 150000.0, 205000.0], \"xaxis\": \"x\", \"y\": [0.04807832655456948, 0.04973367616414103, 0.060058353281983924], \"yaxis\": \"y\"}, {\"customdata\": [[\"Guinea-Conakry\", 2018], [\"Guinea-Conakry\", 2019], [\"Guinea-Conakry\", 2020]], \"hovertemplate\": \"Country=%{customdata[0]}<br>Voted Year project budget \\u20ac=%{x}<br>Project share % out of all budget=%{y}<br>Year=%{customdata[1]}<extra></extra>\", \"legendgroup\": \"Guinea-Conakry\", \"line\": {\"color\": \"#FFA15A\", \"dash\": \"solid\"}, \"mode\": \"lines\", \"name\": \"Guinea-Conakry\", \"orientation\": \"v\", \"showlegend\": true, \"type\": \"scatter\", \"x\": [39300.0, 40000.0, 40000.0], \"xaxis\": \"x\", \"y\": [0.013560978336595905, 0.01326231364377094, 0.0117187030794115], \"yaxis\": \"y\"}, {\"customdata\": [[\"Ivory Coast\", 2018], [\"Ivory Coast\", 2019], [\"Ivory Coast\", 2020]], \"hovertemplate\": \"Country=%{customdata[0]}<br>Voted Year project budget \\u20ac=%{x}<br>Project share % out of all budget=%{y}<br>Year=%{customdata[1]}<extra></extra>\", \"legendgroup\": \"Ivory Coast\", \"line\": {\"color\": \"#19d3f3\", \"dash\": \"solid\"}, \"mode\": \"lines\", \"name\": \"Ivory Coast\", \"orientation\": \"v\", \"showlegend\": true, \"type\": \"scatter\", \"x\": [80428.0, 90000.0, 60111.5], \"xaxis\": \"x\", \"y\": [0.027752731950527614, 0.029840205698484612, 0.03522144100790221], \"yaxis\": \"y\"}, {\"customdata\": [[\"Madagascar\", 2018], [\"Madagascar\", 2019], [\"Madagascar\", 2020]], \"hovertemplate\": \"Country=%{customdata[0]}<br>Voted Year project budget \\u20ac=%{x}<br>Project share % out of all budget=%{y}<br>Year=%{customdata[1]}<extra></extra>\", \"legendgroup\": \"Madagascar\", \"line\": {\"color\": \"#FF6692\", \"dash\": \"solid\"}, \"mode\": \"lines\", \"name\": \"Madagascar\", \"orientation\": \"v\", \"showlegend\": true, \"type\": \"scatter\", \"x\": [49500.0, 20000.0, 20000.0], \"xaxis\": \"x\", \"y\": [0.01708062156899484, 0.00663115682188547, 0.005859351539705749], \"yaxis\": \"y\"}, {\"customdata\": [[\"Mali\", 2018], [\"Mali\", 2019], [\"Mali\", 2020]], \"hovertemplate\": \"Country=%{customdata[0]}<br>Voted Year project budget \\u20ac=%{x}<br>Project share % out of all budget=%{y}<br>Year=%{customdata[1]}<extra></extra>\", \"legendgroup\": \"Mali\", \"line\": {\"color\": \"#B6E880\", \"dash\": \"solid\"}, \"mode\": \"lines\", \"name\": \"Mali\", \"orientation\": \"v\", \"showlegend\": true, \"type\": \"scatter\", \"x\": [187510.5, 204274.0, 170665.0], \"xaxis\": \"x\", \"y\": [0.2588117891485258, 0.2709145857267665, 0.19999724610477632], \"yaxis\": \"y\"}, {\"customdata\": [[\"Togo\", 2018], [\"Togo\", 2019], [\"Togo\", 2020]], \"hovertemplate\": \"Country=%{customdata[0]}<br>Voted Year project budget \\u20ac=%{x}<br>Project share % out of all budget=%{y}<br>Year=%{customdata[1]}<extra></extra>\", \"legendgroup\": \"Togo\", \"line\": {\"color\": \"#FF97FF\", \"dash\": \"solid\"}, \"mode\": \"lines\", \"name\": \"Togo\", \"orientation\": \"v\", \"showlegend\": true, \"type\": \"scatter\", \"x\": [125635.5, 186427.0, 339949.0], \"xaxis\": \"x\", \"y\": [0.08670434065177582, 0.12362266728336425, 0.19918806965714297], \"yaxis\": \"y\"}],                        {\"legend\": {\"title\": {\"text\": \"Country\"}, \"tracegroupgap\": 0}, \"margin\": {\"t\": 60}, \"template\": {\"data\": {\"bar\": [{\"error_x\": {\"color\": \"#2a3f5f\"}, \"error_y\": {\"color\": \"#2a3f5f\"}, \"marker\": {\"line\": {\"color\": \"#E5ECF6\", \"width\": 0.5}}, \"type\": \"bar\"}], \"barpolar\": [{\"marker\": {\"line\": {\"color\": \"#E5ECF6\", \"width\": 0.5}}, \"type\": \"barpolar\"}], \"carpet\": [{\"aaxis\": {\"endlinecolor\": \"#2a3f5f\", \"gridcolor\": \"white\", \"linecolor\": \"white\", \"minorgridcolor\": \"white\", \"startlinecolor\": \"#2a3f5f\"}, \"baxis\": {\"endlinecolor\": \"#2a3f5f\", \"gridcolor\": \"white\", \"linecolor\": \"white\", \"minorgridcolor\": \"white\", \"startlinecolor\": \"#2a3f5f\"}, \"type\": \"carpet\"}], \"choropleth\": [{\"colorbar\": {\"outlinewidth\": 0, \"ticks\": \"\"}, \"type\": \"choropleth\"}], \"contour\": [{\"colorbar\": {\"outlinewidth\": 0, \"ticks\": \"\"}, \"colorscale\": [[0.0, \"#0d0887\"], [0.1111111111111111, \"#46039f\"], [0.2222222222222222, \"#7201a8\"], [0.3333333333333333, \"#9c179e\"], [0.4444444444444444, \"#bd3786\"], [0.5555555555555556, \"#d8576b\"], [0.6666666666666666, \"#ed7953\"], [0.7777777777777778, \"#fb9f3a\"], [0.8888888888888888, \"#fdca26\"], [1.0, \"#f0f921\"]], \"type\": \"contour\"}], \"contourcarpet\": [{\"colorbar\": {\"outlinewidth\": 0, \"ticks\": \"\"}, \"type\": \"contourcarpet\"}], \"heatmap\": [{\"colorbar\": {\"outlinewidth\": 0, \"ticks\": \"\"}, \"colorscale\": [[0.0, \"#0d0887\"], [0.1111111111111111, \"#46039f\"], [0.2222222222222222, \"#7201a8\"], [0.3333333333333333, \"#9c179e\"], [0.4444444444444444, \"#bd3786\"], [0.5555555555555556, \"#d8576b\"], [0.6666666666666666, \"#ed7953\"], [0.7777777777777778, \"#fb9f3a\"], [0.8888888888888888, \"#fdca26\"], [1.0, \"#f0f921\"]], \"type\": \"heatmap\"}], \"heatmapgl\": [{\"colorbar\": {\"outlinewidth\": 0, \"ticks\": \"\"}, \"colorscale\": [[0.0, \"#0d0887\"], [0.1111111111111111, \"#46039f\"], [0.2222222222222222, \"#7201a8\"], [0.3333333333333333, \"#9c179e\"], [0.4444444444444444, \"#bd3786\"], [0.5555555555555556, \"#d8576b\"], [0.6666666666666666, \"#ed7953\"], [0.7777777777777778, \"#fb9f3a\"], [0.8888888888888888, \"#fdca26\"], [1.0, \"#f0f921\"]], \"type\": \"heatmapgl\"}], \"histogram\": [{\"marker\": {\"colorbar\": {\"outlinewidth\": 0, \"ticks\": \"\"}}, \"type\": \"histogram\"}], \"histogram2d\": [{\"colorbar\": {\"outlinewidth\": 0, \"ticks\": \"\"}, \"colorscale\": [[0.0, \"#0d0887\"], [0.1111111111111111, \"#46039f\"], [0.2222222222222222, \"#7201a8\"], [0.3333333333333333, \"#9c179e\"], [0.4444444444444444, \"#bd3786\"], [0.5555555555555556, \"#d8576b\"], [0.6666666666666666, \"#ed7953\"], [0.7777777777777778, \"#fb9f3a\"], [0.8888888888888888, \"#fdca26\"], [1.0, \"#f0f921\"]], \"type\": \"histogram2d\"}], \"histogram2dcontour\": [{\"colorbar\": {\"outlinewidth\": 0, \"ticks\": \"\"}, \"colorscale\": [[0.0, \"#0d0887\"], [0.1111111111111111, \"#46039f\"], [0.2222222222222222, \"#7201a8\"], [0.3333333333333333, \"#9c179e\"], [0.4444444444444444, \"#bd3786\"], [0.5555555555555556, \"#d8576b\"], [0.6666666666666666, \"#ed7953\"], [0.7777777777777778, \"#fb9f3a\"], [0.8888888888888888, \"#fdca26\"], [1.0, \"#f0f921\"]], \"type\": \"histogram2dcontour\"}], \"mesh3d\": [{\"colorbar\": {\"outlinewidth\": 0, \"ticks\": \"\"}, \"type\": \"mesh3d\"}], \"parcoords\": [{\"line\": {\"colorbar\": {\"outlinewidth\": 0, \"ticks\": \"\"}}, \"type\": \"parcoords\"}], \"pie\": [{\"automargin\": true, \"type\": \"pie\"}], \"scatter\": [{\"marker\": {\"colorbar\": {\"outlinewidth\": 0, \"ticks\": \"\"}}, \"type\": \"scatter\"}], \"scatter3d\": [{\"line\": {\"colorbar\": {\"outlinewidth\": 0, \"ticks\": \"\"}}, \"marker\": {\"colorbar\": {\"outlinewidth\": 0, \"ticks\": \"\"}}, \"type\": \"scatter3d\"}], \"scattercarpet\": [{\"marker\": {\"colorbar\": {\"outlinewidth\": 0, \"ticks\": \"\"}}, \"type\": \"scattercarpet\"}], \"scattergeo\": [{\"marker\": {\"colorbar\": {\"outlinewidth\": 0, \"ticks\": \"\"}}, \"type\": \"scattergeo\"}], \"scattergl\": [{\"marker\": {\"colorbar\": {\"outlinewidth\": 0, \"ticks\": \"\"}}, \"type\": \"scattergl\"}], \"scattermapbox\": [{\"marker\": {\"colorbar\": {\"outlinewidth\": 0, \"ticks\": \"\"}}, \"type\": \"scattermapbox\"}], \"scatterpolar\": [{\"marker\": {\"colorbar\": {\"outlinewidth\": 0, \"ticks\": \"\"}}, \"type\": \"scatterpolar\"}], \"scatterpolargl\": [{\"marker\": {\"colorbar\": {\"outlinewidth\": 0, \"ticks\": \"\"}}, \"type\": \"scatterpolargl\"}], \"scatterternary\": [{\"marker\": {\"colorbar\": {\"outlinewidth\": 0, \"ticks\": \"\"}}, \"type\": \"scatterternary\"}], \"surface\": [{\"colorbar\": {\"outlinewidth\": 0, \"ticks\": \"\"}, \"colorscale\": [[0.0, \"#0d0887\"], [0.1111111111111111, \"#46039f\"], [0.2222222222222222, \"#7201a8\"], [0.3333333333333333, \"#9c179e\"], [0.4444444444444444, \"#bd3786\"], [0.5555555555555556, \"#d8576b\"], [0.6666666666666666, \"#ed7953\"], [0.7777777777777778, \"#fb9f3a\"], [0.8888888888888888, \"#fdca26\"], [1.0, \"#f0f921\"]], \"type\": \"surface\"}], \"table\": [{\"cells\": {\"fill\": {\"color\": \"#EBF0F8\"}, \"line\": {\"color\": \"white\"}}, \"header\": {\"fill\": {\"color\": \"#C8D4E3\"}, \"line\": {\"color\": \"white\"}}, \"type\": \"table\"}]}, \"layout\": {\"annotationdefaults\": {\"arrowcolor\": \"#2a3f5f\", \"arrowhead\": 0, \"arrowwidth\": 1}, \"coloraxis\": {\"colorbar\": {\"outlinewidth\": 0, \"ticks\": \"\"}}, \"colorscale\": {\"diverging\": [[0, \"#8e0152\"], [0.1, \"#c51b7d\"], [0.2, \"#de77ae\"], [0.3, \"#f1b6da\"], [0.4, \"#fde0ef\"], [0.5, \"#f7f7f7\"], [0.6, \"#e6f5d0\"], [0.7, \"#b8e186\"], [0.8, \"#7fbc41\"], [0.9, \"#4d9221\"], [1, \"#276419\"]], \"sequential\": [[0.0, \"#0d0887\"], [0.1111111111111111, \"#46039f\"], [0.2222222222222222, \"#7201a8\"], [0.3333333333333333, \"#9c179e\"], [0.4444444444444444, \"#bd3786\"], [0.5555555555555556, \"#d8576b\"], [0.6666666666666666, \"#ed7953\"], [0.7777777777777778, \"#fb9f3a\"], [0.8888888888888888, \"#fdca26\"], [1.0, \"#f0f921\"]], \"sequentialminus\": [[0.0, \"#0d0887\"], [0.1111111111111111, \"#46039f\"], [0.2222222222222222, \"#7201a8\"], [0.3333333333333333, \"#9c179e\"], [0.4444444444444444, \"#bd3786\"], [0.5555555555555556, \"#d8576b\"], [0.6666666666666666, \"#ed7953\"], [0.7777777777777778, \"#fb9f3a\"], [0.8888888888888888, \"#fdca26\"], [1.0, \"#f0f921\"]]}, \"colorway\": [\"#636efa\", \"#EF553B\", \"#00cc96\", \"#ab63fa\", \"#FFA15A\", \"#19d3f3\", \"#FF6692\", \"#B6E880\", \"#FF97FF\", \"#FECB52\"], \"font\": {\"color\": \"#2a3f5f\"}, \"geo\": {\"bgcolor\": \"white\", \"lakecolor\": \"white\", \"landcolor\": \"#E5ECF6\", \"showlakes\": true, \"showland\": true, \"subunitcolor\": \"white\"}, \"hoverlabel\": {\"align\": \"left\"}, \"hovermode\": \"closest\", \"mapbox\": {\"style\": \"light\"}, \"paper_bgcolor\": \"white\", \"plot_bgcolor\": \"#E5ECF6\", \"polar\": {\"angularaxis\": {\"gridcolor\": \"white\", \"linecolor\": \"white\", \"ticks\": \"\"}, \"bgcolor\": \"#E5ECF6\", \"radialaxis\": {\"gridcolor\": \"white\", \"linecolor\": \"white\", \"ticks\": \"\"}}, \"scene\": {\"xaxis\": {\"backgroundcolor\": \"#E5ECF6\", \"gridcolor\": \"white\", \"gridwidth\": 2, \"linecolor\": \"white\", \"showbackground\": true, \"ticks\": \"\", \"zerolinecolor\": \"white\"}, \"yaxis\": {\"backgroundcolor\": \"#E5ECF6\", \"gridcolor\": \"white\", \"gridwidth\": 2, \"linecolor\": \"white\", \"showbackground\": true, \"ticks\": \"\", \"zerolinecolor\": \"white\"}, \"zaxis\": {\"backgroundcolor\": \"#E5ECF6\", \"gridcolor\": \"white\", \"gridwidth\": 2, \"linecolor\": \"white\", \"showbackground\": true, \"ticks\": \"\", \"zerolinecolor\": \"white\"}}, \"shapedefaults\": {\"line\": {\"color\": \"#2a3f5f\"}}, \"ternary\": {\"aaxis\": {\"gridcolor\": \"white\", \"linecolor\": \"white\", \"ticks\": \"\"}, \"baxis\": {\"gridcolor\": \"white\", \"linecolor\": \"white\", \"ticks\": \"\"}, \"bgcolor\": \"#E5ECF6\", \"caxis\": {\"gridcolor\": \"white\", \"linecolor\": \"white\", \"ticks\": \"\"}}, \"title\": {\"x\": 0.05}, \"xaxis\": {\"automargin\": true, \"gridcolor\": \"white\", \"linecolor\": \"white\", \"ticks\": \"\", \"title\": {\"standoff\": 15}, \"zerolinecolor\": \"white\", \"zerolinewidth\": 2}, \"yaxis\": {\"automargin\": true, \"gridcolor\": \"white\", \"linecolor\": \"white\", \"ticks\": \"\", \"title\": {\"standoff\": 15}, \"zerolinecolor\": \"white\", \"zerolinewidth\": 2}}}, \"xaxis\": {\"anchor\": \"y\", \"domain\": [0.0, 1.0], \"title\": {\"text\": \"Voted Year project budget \\u20ac\"}}, \"yaxis\": {\"anchor\": \"x\", \"domain\": [0.0, 1.0], \"title\": {\"text\": \"Project share % out of all budget\"}}},                        {\"responsive\": true}                    ).then(function(){\n",
       "                            \n",
       "var gd = document.getElementById('e81ec4d9-ed97-46f4-9a9d-9e6c74442f1f');\n",
       "var x = new MutationObserver(function (mutations, observer) {{\n",
       "        var display = window.getComputedStyle(gd).display;\n",
       "        if (!display || display === 'none') {{\n",
       "            console.log([gd, 'removed!']);\n",
       "            Plotly.purge(gd);\n",
       "            observer.disconnect();\n",
       "        }}\n",
       "}});\n",
       "\n",
       "// Listen for the removal of the full notebook cells\n",
       "var notebookContainer = gd.closest('#notebook-container');\n",
       "if (notebookContainer) {{\n",
       "    x.observe(notebookContainer, {childList: true});\n",
       "}}\n",
       "\n",
       "// Listen for the clearing of the current output cell\n",
       "var outputEl = gd.closest('.output');\n",
       "if (outputEl) {{\n",
       "    x.observe(outputEl, {childList: true});\n",
       "}}\n",
       "\n",
       "                        })                };                });            </script>        </div>"
      ]
     },
     "metadata": {},
     "output_type": "display_data"
    }
   ],
   "source": [
    "px.line(df_con_bud, x=\"Voted Year project budget €\", y=\"Project share % out of all budget\", color='Country', hover_data=['Country', 'Year'])"
   ]
  },
  {
   "cell_type": "code",
   "execution_count": 58,
   "metadata": {
    "ExecuteTime": {
     "end_time": "2021-01-26T04:39:01.740205Z",
     "start_time": "2021-01-26T04:39:01.727214Z"
    },
    "scrolled": true
   },
   "outputs": [],
   "source": [
    "df_con_bud = df.groupby(['Country']).agg({'Voted Year project budget €':'sum', 'Voted Year country budget €':'sum'}).reset_index()\n",
    "df_con_bud['Total_budget'] = df_con_bud['Voted Year project budget €'] + df_con_bud['Voted Year country budget €']"
   ]
  },
  {
   "cell_type": "code",
   "execution_count": 72,
   "metadata": {
    "ExecuteTime": {
     "end_time": "2021-01-26T05:29:28.283605Z",
     "start_time": "2021-01-26T05:29:28.280609Z"
    }
   },
   "outputs": [],
   "source": [
    "country = df.Country\n",
    "country = ['Benin']"
   ]
  },
  {
   "cell_type": "code",
   "execution_count": 74,
   "metadata": {
    "ExecuteTime": {
     "end_time": "2021-01-26T05:29:36.039701Z",
     "start_time": "2021-01-26T05:29:36.033705Z"
    }
   },
   "outputs": [],
   "source": [
    "df_con_bud = df_con_bud[df_con_bud.Country.isin(country)]"
   ]
  },
  {
   "cell_type": "code",
   "execution_count": 129,
   "metadata": {
    "ExecuteTime": {
     "end_time": "2021-01-30T10:16:23.397696Z",
     "start_time": "2021-01-30T10:16:23.384701Z"
    }
   },
   "outputs": [
    {
     "data": {
      "text/html": [
       "<div>\n",
       "<style scoped>\n",
       "    .dataframe tbody tr th:only-of-type {\n",
       "        vertical-align: middle;\n",
       "    }\n",
       "\n",
       "    .dataframe tbody tr th {\n",
       "        vertical-align: top;\n",
       "    }\n",
       "\n",
       "    .dataframe thead th {\n",
       "        text-align: right;\n",
       "    }\n",
       "</style>\n",
       "<table border=\"1\" class=\"dataframe\">\n",
       "  <thead>\n",
       "    <tr style=\"text-align: right;\">\n",
       "      <th></th>\n",
       "      <th>Country</th>\n",
       "      <th>Year</th>\n",
       "      <th>Total Budget</th>\n",
       "      <th>Percentage</th>\n",
       "    </tr>\n",
       "  </thead>\n",
       "  <tbody>\n",
       "    <tr>\n",
       "      <th>0</th>\n",
       "      <td>Benin</td>\n",
       "      <td>2018</td>\n",
       "      <td>695921.0</td>\n",
       "      <td>0.240137</td>\n",
       "    </tr>\n",
       "    <tr>\n",
       "      <th>3</th>\n",
       "      <td>Burkina Faso</td>\n",
       "      <td>2018</td>\n",
       "      <td>592227.0</td>\n",
       "      <td>0.204356</td>\n",
       "    </tr>\n",
       "    <tr>\n",
       "      <th>6</th>\n",
       "      <td>Central African Republic</td>\n",
       "      <td>2018</td>\n",
       "      <td>300000.0</td>\n",
       "      <td>0.103519</td>\n",
       "    </tr>\n",
       "    <tr>\n",
       "      <th>9</th>\n",
       "      <td>Democratic Republic of the Congo</td>\n",
       "      <td>2018</td>\n",
       "      <td>139332.0</td>\n",
       "      <td>0.048078</td>\n",
       "    </tr>\n",
       "    <tr>\n",
       "      <th>12</th>\n",
       "      <td>Guinea-Conakry</td>\n",
       "      <td>2018</td>\n",
       "      <td>39300.0</td>\n",
       "      <td>0.013561</td>\n",
       "    </tr>\n",
       "  </tbody>\n",
       "</table>\n",
       "</div>"
      ],
      "text/plain": [
       "                             Country  Year  Total Budget  Percentage\n",
       "0                              Benin  2018      695921.0    0.240137\n",
       "3                       Burkina Faso  2018      592227.0    0.204356\n",
       "6           Central African Republic  2018      300000.0    0.103519\n",
       "9   Democratic Republic of the Congo  2018      139332.0    0.048078\n",
       "12                    Guinea-Conakry  2018       39300.0    0.013561"
      ]
     },
     "execution_count": 129,
     "metadata": {},
     "output_type": "execute_result"
    }
   ],
   "source": [
    "df_con_bud.head()"
   ]
  },
  {
   "cell_type": "code",
   "execution_count": 197,
   "metadata": {
    "ExecuteTime": {
     "end_time": "2021-01-30T13:06:18.946526Z",
     "start_time": "2021-01-30T13:06:18.801611Z"
    }
   },
   "outputs": [
    {
     "data": {
      "application/vnd.plotly.v1+json": {
       "config": {
        "plotlyServerURL": "https://plot.ly"
       },
       "data": [
        {
         "coloraxis": "coloraxis",
         "customdata": [
          [
           "Benin",
           695921,
           695921,
           0.24013663117002948
          ],
          [
           "Burkina Faso",
           592227,
           592227,
           0.20435566201901229
          ],
          [
           "Central African Republic",
           300000,
           300000,
           0.10351891859996874
          ],
          [
           "Democratic Republic of the Congo",
           139332,
           139332,
           0.04807832655456948
          ],
          [
           "Guinea-Conakry",
           39300,
           39300,
           0.013560978336595905
          ],
          [
           "Ivory Coast",
           80428,
           80428,
           0.027752731950527618
          ],
          [
           "Madagascar",
           49500,
           49500,
           0.01708062156899484
          ],
          [
           "Mali",
           750042,
           750042,
           0.2588117891485258
          ],
          [
           "Togo",
           251271,
           251271,
           0.08670434065177582
          ]
         ],
         "geo": "geo",
         "hovertemplate": "<b>%{hovertext}</b><br><br>Budget in 2018 (in €) =%{customdata[2]:0,}<br>Percentage of Budget in 2018 =%{customdata[3]:.1%}<extra></extra>",
         "hovertext": [
          "Benin",
          "Burkina Faso",
          "Central African Republic",
          "Democratic Republic of the Congo",
          "Guinea-Conakry",
          "Ivory Coast",
          "Madagascar",
          "Mali",
          "Togo"
         ],
         "locationmode": "country names",
         "locations": [
          "Benin",
          "Burkina Faso",
          "Central African Republic",
          "Democratic Republic of the Congo",
          "Guinea-Conakry",
          "Ivory Coast",
          "Madagascar",
          "Mali",
          "Togo"
         ],
         "name": "",
         "type": "choropleth",
         "z": [
          695921,
          592227,
          300000,
          139332,
          39300,
          80428,
          49500,
          750042,
          251271
         ]
        }
       ],
       "layout": {
        "coloraxis": {
         "colorbar": {
          "bgcolor": "rgba(200,0,0)",
          "bordercolor": "#000",
          "borderwidth": 2,
          "len": 1,
          "outlinecolor": "#bbb",
          "outlinewidth": 2,
          "thickness": 20,
          "tickcolor": "red",
          "tickfont": {
           "family": "Open Sans",
           "size": 20
          },
          "title": {
           "font": {
            "color": "#000",
            "family": "Open Sans",
            "size": 20
           },
           "text": "esgdfg"
          },
          "x": 0.1,
          "ypad": 30
         }
        },
        "geo": {
         "fitbounds": "locations",
         "scope": "africa"
        },
        "template": {
         "data": {
          "bar": [
           {
            "error_x": {
             "color": "#2a3f5f"
            },
            "error_y": {
             "color": "#2a3f5f"
            },
            "marker": {
             "line": {
              "color": "#E5ECF6",
              "width": 0.5
             }
            },
            "type": "bar"
           }
          ],
          "barpolar": [
           {
            "marker": {
             "line": {
              "color": "#E5ECF6",
              "width": 0.5
             }
            },
            "type": "barpolar"
           }
          ],
          "carpet": [
           {
            "aaxis": {
             "endlinecolor": "#2a3f5f",
             "gridcolor": "white",
             "linecolor": "white",
             "minorgridcolor": "white",
             "startlinecolor": "#2a3f5f"
            },
            "baxis": {
             "endlinecolor": "#2a3f5f",
             "gridcolor": "white",
             "linecolor": "white",
             "minorgridcolor": "white",
             "startlinecolor": "#2a3f5f"
            },
            "type": "carpet"
           }
          ],
          "choropleth": [
           {
            "colorbar": {
             "outlinewidth": 0,
             "ticks": ""
            },
            "type": "choropleth"
           }
          ],
          "contour": [
           {
            "colorbar": {
             "outlinewidth": 0,
             "ticks": ""
            },
            "colorscale": [
             [
              0,
              "#0d0887"
             ],
             [
              0.1111111111111111,
              "#46039f"
             ],
             [
              0.2222222222222222,
              "#7201a8"
             ],
             [
              0.3333333333333333,
              "#9c179e"
             ],
             [
              0.4444444444444444,
              "#bd3786"
             ],
             [
              0.5555555555555556,
              "#d8576b"
             ],
             [
              0.6666666666666666,
              "#ed7953"
             ],
             [
              0.7777777777777778,
              "#fb9f3a"
             ],
             [
              0.8888888888888888,
              "#fdca26"
             ],
             [
              1,
              "#f0f921"
             ]
            ],
            "type": "contour"
           }
          ],
          "contourcarpet": [
           {
            "colorbar": {
             "outlinewidth": 0,
             "ticks": ""
            },
            "type": "contourcarpet"
           }
          ],
          "heatmap": [
           {
            "colorbar": {
             "outlinewidth": 0,
             "ticks": ""
            },
            "colorscale": [
             [
              0,
              "#0d0887"
             ],
             [
              0.1111111111111111,
              "#46039f"
             ],
             [
              0.2222222222222222,
              "#7201a8"
             ],
             [
              0.3333333333333333,
              "#9c179e"
             ],
             [
              0.4444444444444444,
              "#bd3786"
             ],
             [
              0.5555555555555556,
              "#d8576b"
             ],
             [
              0.6666666666666666,
              "#ed7953"
             ],
             [
              0.7777777777777778,
              "#fb9f3a"
             ],
             [
              0.8888888888888888,
              "#fdca26"
             ],
             [
              1,
              "#f0f921"
             ]
            ],
            "type": "heatmap"
           }
          ],
          "heatmapgl": [
           {
            "colorbar": {
             "outlinewidth": 0,
             "ticks": ""
            },
            "colorscale": [
             [
              0,
              "#0d0887"
             ],
             [
              0.1111111111111111,
              "#46039f"
             ],
             [
              0.2222222222222222,
              "#7201a8"
             ],
             [
              0.3333333333333333,
              "#9c179e"
             ],
             [
              0.4444444444444444,
              "#bd3786"
             ],
             [
              0.5555555555555556,
              "#d8576b"
             ],
             [
              0.6666666666666666,
              "#ed7953"
             ],
             [
              0.7777777777777778,
              "#fb9f3a"
             ],
             [
              0.8888888888888888,
              "#fdca26"
             ],
             [
              1,
              "#f0f921"
             ]
            ],
            "type": "heatmapgl"
           }
          ],
          "histogram": [
           {
            "marker": {
             "colorbar": {
              "outlinewidth": 0,
              "ticks": ""
             }
            },
            "type": "histogram"
           }
          ],
          "histogram2d": [
           {
            "colorbar": {
             "outlinewidth": 0,
             "ticks": ""
            },
            "colorscale": [
             [
              0,
              "#0d0887"
             ],
             [
              0.1111111111111111,
              "#46039f"
             ],
             [
              0.2222222222222222,
              "#7201a8"
             ],
             [
              0.3333333333333333,
              "#9c179e"
             ],
             [
              0.4444444444444444,
              "#bd3786"
             ],
             [
              0.5555555555555556,
              "#d8576b"
             ],
             [
              0.6666666666666666,
              "#ed7953"
             ],
             [
              0.7777777777777778,
              "#fb9f3a"
             ],
             [
              0.8888888888888888,
              "#fdca26"
             ],
             [
              1,
              "#f0f921"
             ]
            ],
            "type": "histogram2d"
           }
          ],
          "histogram2dcontour": [
           {
            "colorbar": {
             "outlinewidth": 0,
             "ticks": ""
            },
            "colorscale": [
             [
              0,
              "#0d0887"
             ],
             [
              0.1111111111111111,
              "#46039f"
             ],
             [
              0.2222222222222222,
              "#7201a8"
             ],
             [
              0.3333333333333333,
              "#9c179e"
             ],
             [
              0.4444444444444444,
              "#bd3786"
             ],
             [
              0.5555555555555556,
              "#d8576b"
             ],
             [
              0.6666666666666666,
              "#ed7953"
             ],
             [
              0.7777777777777778,
              "#fb9f3a"
             ],
             [
              0.8888888888888888,
              "#fdca26"
             ],
             [
              1,
              "#f0f921"
             ]
            ],
            "type": "histogram2dcontour"
           }
          ],
          "mesh3d": [
           {
            "colorbar": {
             "outlinewidth": 0,
             "ticks": ""
            },
            "type": "mesh3d"
           }
          ],
          "parcoords": [
           {
            "line": {
             "colorbar": {
              "outlinewidth": 0,
              "ticks": ""
             }
            },
            "type": "parcoords"
           }
          ],
          "pie": [
           {
            "automargin": true,
            "type": "pie"
           }
          ],
          "scatter": [
           {
            "marker": {
             "colorbar": {
              "outlinewidth": 0,
              "ticks": ""
             }
            },
            "type": "scatter"
           }
          ],
          "scatter3d": [
           {
            "line": {
             "colorbar": {
              "outlinewidth": 0,
              "ticks": ""
             }
            },
            "marker": {
             "colorbar": {
              "outlinewidth": 0,
              "ticks": ""
             }
            },
            "type": "scatter3d"
           }
          ],
          "scattercarpet": [
           {
            "marker": {
             "colorbar": {
              "outlinewidth": 0,
              "ticks": ""
             }
            },
            "type": "scattercarpet"
           }
          ],
          "scattergeo": [
           {
            "marker": {
             "colorbar": {
              "outlinewidth": 0,
              "ticks": ""
             }
            },
            "type": "scattergeo"
           }
          ],
          "scattergl": [
           {
            "marker": {
             "colorbar": {
              "outlinewidth": 0,
              "ticks": ""
             }
            },
            "type": "scattergl"
           }
          ],
          "scattermapbox": [
           {
            "marker": {
             "colorbar": {
              "outlinewidth": 0,
              "ticks": ""
             }
            },
            "type": "scattermapbox"
           }
          ],
          "scatterpolar": [
           {
            "marker": {
             "colorbar": {
              "outlinewidth": 0,
              "ticks": ""
             }
            },
            "type": "scatterpolar"
           }
          ],
          "scatterpolargl": [
           {
            "marker": {
             "colorbar": {
              "outlinewidth": 0,
              "ticks": ""
             }
            },
            "type": "scatterpolargl"
           }
          ],
          "scatterternary": [
           {
            "marker": {
             "colorbar": {
              "outlinewidth": 0,
              "ticks": ""
             }
            },
            "type": "scatterternary"
           }
          ],
          "surface": [
           {
            "colorbar": {
             "outlinewidth": 0,
             "ticks": ""
            },
            "colorscale": [
             [
              0,
              "#0d0887"
             ],
             [
              0.1111111111111111,
              "#46039f"
             ],
             [
              0.2222222222222222,
              "#7201a8"
             ],
             [
              0.3333333333333333,
              "#9c179e"
             ],
             [
              0.4444444444444444,
              "#bd3786"
             ],
             [
              0.5555555555555556,
              "#d8576b"
             ],
             [
              0.6666666666666666,
              "#ed7953"
             ],
             [
              0.7777777777777778,
              "#fb9f3a"
             ],
             [
              0.8888888888888888,
              "#fdca26"
             ],
             [
              1,
              "#f0f921"
             ]
            ],
            "type": "surface"
           }
          ],
          "table": [
           {
            "cells": {
             "fill": {
              "color": "#EBF0F8"
             },
             "line": {
              "color": "white"
             }
            },
            "header": {
             "fill": {
              "color": "#C8D4E3"
             },
             "line": {
              "color": "white"
             }
            },
            "type": "table"
           }
          ]
         },
         "layout": {
          "annotationdefaults": {
           "arrowcolor": "#2a3f5f",
           "arrowhead": 0,
           "arrowwidth": 1
          },
          "coloraxis": {
           "colorbar": {
            "outlinewidth": 0,
            "ticks": ""
           }
          },
          "colorscale": {
           "diverging": [
            [
             0,
             "#8e0152"
            ],
            [
             0.1,
             "#c51b7d"
            ],
            [
             0.2,
             "#de77ae"
            ],
            [
             0.3,
             "#f1b6da"
            ],
            [
             0.4,
             "#fde0ef"
            ],
            [
             0.5,
             "#f7f7f7"
            ],
            [
             0.6,
             "#e6f5d0"
            ],
            [
             0.7,
             "#b8e186"
            ],
            [
             0.8,
             "#7fbc41"
            ],
            [
             0.9,
             "#4d9221"
            ],
            [
             1,
             "#276419"
            ]
           ],
           "sequential": [
            [
             0,
             "#0d0887"
            ],
            [
             0.1111111111111111,
             "#46039f"
            ],
            [
             0.2222222222222222,
             "#7201a8"
            ],
            [
             0.3333333333333333,
             "#9c179e"
            ],
            [
             0.4444444444444444,
             "#bd3786"
            ],
            [
             0.5555555555555556,
             "#d8576b"
            ],
            [
             0.6666666666666666,
             "#ed7953"
            ],
            [
             0.7777777777777778,
             "#fb9f3a"
            ],
            [
             0.8888888888888888,
             "#fdca26"
            ],
            [
             1,
             "#f0f921"
            ]
           ],
           "sequentialminus": [
            [
             0,
             "#0d0887"
            ],
            [
             0.1111111111111111,
             "#46039f"
            ],
            [
             0.2222222222222222,
             "#7201a8"
            ],
            [
             0.3333333333333333,
             "#9c179e"
            ],
            [
             0.4444444444444444,
             "#bd3786"
            ],
            [
             0.5555555555555556,
             "#d8576b"
            ],
            [
             0.6666666666666666,
             "#ed7953"
            ],
            [
             0.7777777777777778,
             "#fb9f3a"
            ],
            [
             0.8888888888888888,
             "#fdca26"
            ],
            [
             1,
             "#f0f921"
            ]
           ]
          },
          "colorway": [
           "#636efa",
           "#EF553B",
           "#00cc96",
           "#ab63fa",
           "#FFA15A",
           "#19d3f3",
           "#FF6692",
           "#B6E880",
           "#FF97FF",
           "#FECB52"
          ],
          "font": {
           "color": "#2a3f5f"
          },
          "geo": {
           "bgcolor": "white",
           "lakecolor": "white",
           "landcolor": "#E5ECF6",
           "showlakes": true,
           "showland": true,
           "subunitcolor": "white"
          },
          "hoverlabel": {
           "align": "left"
          },
          "hovermode": "closest",
          "mapbox": {
           "style": "light"
          },
          "paper_bgcolor": "white",
          "plot_bgcolor": "#E5ECF6",
          "polar": {
           "angularaxis": {
            "gridcolor": "white",
            "linecolor": "white",
            "ticks": ""
           },
           "bgcolor": "#E5ECF6",
           "radialaxis": {
            "gridcolor": "white",
            "linecolor": "white",
            "ticks": ""
           }
          },
          "scene": {
           "xaxis": {
            "backgroundcolor": "#E5ECF6",
            "gridcolor": "white",
            "gridwidth": 2,
            "linecolor": "white",
            "showbackground": true,
            "ticks": "",
            "zerolinecolor": "white"
           },
           "yaxis": {
            "backgroundcolor": "#E5ECF6",
            "gridcolor": "white",
            "gridwidth": 2,
            "linecolor": "white",
            "showbackground": true,
            "ticks": "",
            "zerolinecolor": "white"
           },
           "zaxis": {
            "backgroundcolor": "#E5ECF6",
            "gridcolor": "white",
            "gridwidth": 2,
            "linecolor": "white",
            "showbackground": true,
            "ticks": "",
            "zerolinecolor": "white"
           }
          },
          "shapedefaults": {
           "line": {
            "color": "#2a3f5f"
           }
          },
          "ternary": {
           "aaxis": {
            "gridcolor": "white",
            "linecolor": "white",
            "ticks": ""
           },
           "baxis": {
            "gridcolor": "white",
            "linecolor": "white",
            "ticks": ""
           },
           "bgcolor": "#E5ECF6",
           "caxis": {
            "gridcolor": "white",
            "linecolor": "white",
            "ticks": ""
           }
          },
          "title": {
           "x": 0.05
          },
          "xaxis": {
           "automargin": true,
           "gridcolor": "white",
           "linecolor": "white",
           "ticks": "",
           "title": {
            "standoff": 15
           },
           "zerolinecolor": "white",
           "zerolinewidth": 2
          },
          "yaxis": {
           "automargin": true,
           "gridcolor": "white",
           "linecolor": "white",
           "ticks": "",
           "title": {
            "standoff": 15
           },
           "zerolinecolor": "white",
           "zerolinewidth": 2
          }
         }
        },
        "title": {
         "text": "<a href=\"https://ffl.lu/\"> Fondation Follereau Luxembourg are in "
        }
       }
      },
      "text/html": [
       "<div>                            <div id=\"4f2beb7d-415d-492f-9d4e-667ca076386c\" class=\"plotly-graph-div\" style=\"height:525px; width:100%;\"></div>            <script type=\"text/javascript\">                require([\"plotly\"], function(Plotly) {                    window.PLOTLYENV=window.PLOTLYENV || {};                                    if (document.getElementById(\"4f2beb7d-415d-492f-9d4e-667ca076386c\")) {                    Plotly.newPlot(                        \"4f2beb7d-415d-492f-9d4e-667ca076386c\",                        [{\"coloraxis\": \"coloraxis\", \"customdata\": [[\"Benin\", 695921.0, 695921.0, 0.24013663117002948], [\"Burkina Faso\", 592227.0, 592227.0, 0.20435566201901229], [\"Central African Republic\", 300000.0, 300000.0, 0.10351891859996874], [\"Democratic Republic of the Congo\", 139332.0, 139332.0, 0.04807832655456948], [\"Guinea-Conakry\", 39300.0, 39300.0, 0.013560978336595905], [\"Ivory Coast\", 80428.0, 80428.0, 0.027752731950527618], [\"Madagascar\", 49500.0, 49500.0, 0.01708062156899484], [\"Mali\", 750042.0, 750042.0, 0.2588117891485258], [\"Togo\", 251271.0, 251271.0, 0.08670434065177582]], \"geo\": \"geo\", \"hovertemplate\": \"<b>%{hovertext}</b><br><br>Budget in 2018 (in \\u20ac) =%{customdata[2]:0,}<br>Percentage of Budget in 2018 =%{customdata[3]:.1%}<extra></extra>\", \"hovertext\": [\"Benin\", \"Burkina Faso\", \"Central African Republic\", \"Democratic Republic of the Congo\", \"Guinea-Conakry\", \"Ivory Coast\", \"Madagascar\", \"Mali\", \"Togo\"], \"locationmode\": \"country names\", \"locations\": [\"Benin\", \"Burkina Faso\", \"Central African Republic\", \"Democratic Republic of the Congo\", \"Guinea-Conakry\", \"Ivory Coast\", \"Madagascar\", \"Mali\", \"Togo\"], \"name\": \"\", \"type\": \"choropleth\", \"z\": [695921.0, 592227.0, 300000.0, 139332.0, 39300.0, 80428.0, 49500.0, 750042.0, 251271.0]}],                        {\"coloraxis\": {\"colorbar\": {\"bgcolor\": \"rgba(200,0,0)\", \"bordercolor\": \"#000\", \"borderwidth\": 2, \"len\": 1, \"outlinecolor\": \"#bbb\", \"outlinewidth\": 2, \"thickness\": 20, \"tickcolor\": \"red\", \"tickfont\": {\"family\": \"Open Sans\", \"size\": 20}, \"title\": {\"font\": {\"color\": \"#000\", \"family\": \"Open Sans\", \"size\": 20}, \"text\": \"esgdfg\"}, \"x\": 0.1, \"ypad\": 30}}, \"geo\": {\"fitbounds\": \"locations\", \"scope\": \"africa\"}, \"template\": {\"data\": {\"bar\": [{\"error_x\": {\"color\": \"#2a3f5f\"}, \"error_y\": {\"color\": \"#2a3f5f\"}, \"marker\": {\"line\": {\"color\": \"#E5ECF6\", \"width\": 0.5}}, \"type\": \"bar\"}], \"barpolar\": [{\"marker\": {\"line\": {\"color\": \"#E5ECF6\", \"width\": 0.5}}, \"type\": \"barpolar\"}], \"carpet\": [{\"aaxis\": {\"endlinecolor\": \"#2a3f5f\", \"gridcolor\": \"white\", \"linecolor\": \"white\", \"minorgridcolor\": \"white\", \"startlinecolor\": \"#2a3f5f\"}, \"baxis\": {\"endlinecolor\": \"#2a3f5f\", \"gridcolor\": \"white\", \"linecolor\": \"white\", \"minorgridcolor\": \"white\", \"startlinecolor\": \"#2a3f5f\"}, \"type\": \"carpet\"}], \"choropleth\": [{\"colorbar\": {\"outlinewidth\": 0, \"ticks\": \"\"}, \"type\": \"choropleth\"}], \"contour\": [{\"colorbar\": {\"outlinewidth\": 0, \"ticks\": \"\"}, \"colorscale\": [[0.0, \"#0d0887\"], [0.1111111111111111, \"#46039f\"], [0.2222222222222222, \"#7201a8\"], [0.3333333333333333, \"#9c179e\"], [0.4444444444444444, \"#bd3786\"], [0.5555555555555556, \"#d8576b\"], [0.6666666666666666, \"#ed7953\"], [0.7777777777777778, \"#fb9f3a\"], [0.8888888888888888, \"#fdca26\"], [1.0, \"#f0f921\"]], \"type\": \"contour\"}], \"contourcarpet\": [{\"colorbar\": {\"outlinewidth\": 0, \"ticks\": \"\"}, \"type\": \"contourcarpet\"}], \"heatmap\": [{\"colorbar\": {\"outlinewidth\": 0, \"ticks\": \"\"}, \"colorscale\": [[0.0, \"#0d0887\"], [0.1111111111111111, \"#46039f\"], [0.2222222222222222, \"#7201a8\"], [0.3333333333333333, \"#9c179e\"], [0.4444444444444444, \"#bd3786\"], [0.5555555555555556, \"#d8576b\"], [0.6666666666666666, \"#ed7953\"], [0.7777777777777778, \"#fb9f3a\"], [0.8888888888888888, \"#fdca26\"], [1.0, \"#f0f921\"]], \"type\": \"heatmap\"}], \"heatmapgl\": [{\"colorbar\": {\"outlinewidth\": 0, \"ticks\": \"\"}, \"colorscale\": [[0.0, \"#0d0887\"], [0.1111111111111111, \"#46039f\"], [0.2222222222222222, \"#7201a8\"], [0.3333333333333333, \"#9c179e\"], [0.4444444444444444, \"#bd3786\"], [0.5555555555555556, \"#d8576b\"], [0.6666666666666666, \"#ed7953\"], [0.7777777777777778, \"#fb9f3a\"], [0.8888888888888888, \"#fdca26\"], [1.0, \"#f0f921\"]], \"type\": \"heatmapgl\"}], \"histogram\": [{\"marker\": {\"colorbar\": {\"outlinewidth\": 0, \"ticks\": \"\"}}, \"type\": \"histogram\"}], \"histogram2d\": [{\"colorbar\": {\"outlinewidth\": 0, \"ticks\": \"\"}, \"colorscale\": [[0.0, \"#0d0887\"], [0.1111111111111111, \"#46039f\"], [0.2222222222222222, \"#7201a8\"], [0.3333333333333333, \"#9c179e\"], [0.4444444444444444, \"#bd3786\"], [0.5555555555555556, \"#d8576b\"], [0.6666666666666666, \"#ed7953\"], [0.7777777777777778, \"#fb9f3a\"], [0.8888888888888888, \"#fdca26\"], [1.0, \"#f0f921\"]], \"type\": \"histogram2d\"}], \"histogram2dcontour\": [{\"colorbar\": {\"outlinewidth\": 0, \"ticks\": \"\"}, \"colorscale\": [[0.0, \"#0d0887\"], [0.1111111111111111, \"#46039f\"], [0.2222222222222222, \"#7201a8\"], [0.3333333333333333, \"#9c179e\"], [0.4444444444444444, \"#bd3786\"], [0.5555555555555556, \"#d8576b\"], [0.6666666666666666, \"#ed7953\"], [0.7777777777777778, \"#fb9f3a\"], [0.8888888888888888, \"#fdca26\"], [1.0, \"#f0f921\"]], \"type\": \"histogram2dcontour\"}], \"mesh3d\": [{\"colorbar\": {\"outlinewidth\": 0, \"ticks\": \"\"}, \"type\": \"mesh3d\"}], \"parcoords\": [{\"line\": {\"colorbar\": {\"outlinewidth\": 0, \"ticks\": \"\"}}, \"type\": \"parcoords\"}], \"pie\": [{\"automargin\": true, \"type\": \"pie\"}], \"scatter\": [{\"marker\": {\"colorbar\": {\"outlinewidth\": 0, \"ticks\": \"\"}}, \"type\": \"scatter\"}], \"scatter3d\": [{\"line\": {\"colorbar\": {\"outlinewidth\": 0, \"ticks\": \"\"}}, \"marker\": {\"colorbar\": {\"outlinewidth\": 0, \"ticks\": \"\"}}, \"type\": \"scatter3d\"}], \"scattercarpet\": [{\"marker\": {\"colorbar\": {\"outlinewidth\": 0, \"ticks\": \"\"}}, \"type\": \"scattercarpet\"}], \"scattergeo\": [{\"marker\": {\"colorbar\": {\"outlinewidth\": 0, \"ticks\": \"\"}}, \"type\": \"scattergeo\"}], \"scattergl\": [{\"marker\": {\"colorbar\": {\"outlinewidth\": 0, \"ticks\": \"\"}}, \"type\": \"scattergl\"}], \"scattermapbox\": [{\"marker\": {\"colorbar\": {\"outlinewidth\": 0, \"ticks\": \"\"}}, \"type\": \"scattermapbox\"}], \"scatterpolar\": [{\"marker\": {\"colorbar\": {\"outlinewidth\": 0, \"ticks\": \"\"}}, \"type\": \"scatterpolar\"}], \"scatterpolargl\": [{\"marker\": {\"colorbar\": {\"outlinewidth\": 0, \"ticks\": \"\"}}, \"type\": \"scatterpolargl\"}], \"scatterternary\": [{\"marker\": {\"colorbar\": {\"outlinewidth\": 0, \"ticks\": \"\"}}, \"type\": \"scatterternary\"}], \"surface\": [{\"colorbar\": {\"outlinewidth\": 0, \"ticks\": \"\"}, \"colorscale\": [[0.0, \"#0d0887\"], [0.1111111111111111, \"#46039f\"], [0.2222222222222222, \"#7201a8\"], [0.3333333333333333, \"#9c179e\"], [0.4444444444444444, \"#bd3786\"], [0.5555555555555556, \"#d8576b\"], [0.6666666666666666, \"#ed7953\"], [0.7777777777777778, \"#fb9f3a\"], [0.8888888888888888, \"#fdca26\"], [1.0, \"#f0f921\"]], \"type\": \"surface\"}], \"table\": [{\"cells\": {\"fill\": {\"color\": \"#EBF0F8\"}, \"line\": {\"color\": \"white\"}}, \"header\": {\"fill\": {\"color\": \"#C8D4E3\"}, \"line\": {\"color\": \"white\"}}, \"type\": \"table\"}]}, \"layout\": {\"annotationdefaults\": {\"arrowcolor\": \"#2a3f5f\", \"arrowhead\": 0, \"arrowwidth\": 1}, \"coloraxis\": {\"colorbar\": {\"outlinewidth\": 0, \"ticks\": \"\"}}, \"colorscale\": {\"diverging\": [[0, \"#8e0152\"], [0.1, \"#c51b7d\"], [0.2, \"#de77ae\"], [0.3, \"#f1b6da\"], [0.4, \"#fde0ef\"], [0.5, \"#f7f7f7\"], [0.6, \"#e6f5d0\"], [0.7, \"#b8e186\"], [0.8, \"#7fbc41\"], [0.9, \"#4d9221\"], [1, \"#276419\"]], \"sequential\": [[0.0, \"#0d0887\"], [0.1111111111111111, \"#46039f\"], [0.2222222222222222, \"#7201a8\"], [0.3333333333333333, \"#9c179e\"], [0.4444444444444444, \"#bd3786\"], [0.5555555555555556, \"#d8576b\"], [0.6666666666666666, \"#ed7953\"], [0.7777777777777778, \"#fb9f3a\"], [0.8888888888888888, \"#fdca26\"], [1.0, \"#f0f921\"]], \"sequentialminus\": [[0.0, \"#0d0887\"], [0.1111111111111111, \"#46039f\"], [0.2222222222222222, \"#7201a8\"], [0.3333333333333333, \"#9c179e\"], [0.4444444444444444, \"#bd3786\"], [0.5555555555555556, \"#d8576b\"], [0.6666666666666666, \"#ed7953\"], [0.7777777777777778, \"#fb9f3a\"], [0.8888888888888888, \"#fdca26\"], [1.0, \"#f0f921\"]]}, \"colorway\": [\"#636efa\", \"#EF553B\", \"#00cc96\", \"#ab63fa\", \"#FFA15A\", \"#19d3f3\", \"#FF6692\", \"#B6E880\", \"#FF97FF\", \"#FECB52\"], \"font\": {\"color\": \"#2a3f5f\"}, \"geo\": {\"bgcolor\": \"white\", \"lakecolor\": \"white\", \"landcolor\": \"#E5ECF6\", \"showlakes\": true, \"showland\": true, \"subunitcolor\": \"white\"}, \"hoverlabel\": {\"align\": \"left\"}, \"hovermode\": \"closest\", \"mapbox\": {\"style\": \"light\"}, \"paper_bgcolor\": \"white\", \"plot_bgcolor\": \"#E5ECF6\", \"polar\": {\"angularaxis\": {\"gridcolor\": \"white\", \"linecolor\": \"white\", \"ticks\": \"\"}, \"bgcolor\": \"#E5ECF6\", \"radialaxis\": {\"gridcolor\": \"white\", \"linecolor\": \"white\", \"ticks\": \"\"}}, \"scene\": {\"xaxis\": {\"backgroundcolor\": \"#E5ECF6\", \"gridcolor\": \"white\", \"gridwidth\": 2, \"linecolor\": \"white\", \"showbackground\": true, \"ticks\": \"\", \"zerolinecolor\": \"white\"}, \"yaxis\": {\"backgroundcolor\": \"#E5ECF6\", \"gridcolor\": \"white\", \"gridwidth\": 2, \"linecolor\": \"white\", \"showbackground\": true, \"ticks\": \"\", \"zerolinecolor\": \"white\"}, \"zaxis\": {\"backgroundcolor\": \"#E5ECF6\", \"gridcolor\": \"white\", \"gridwidth\": 2, \"linecolor\": \"white\", \"showbackground\": true, \"ticks\": \"\", \"zerolinecolor\": \"white\"}}, \"shapedefaults\": {\"line\": {\"color\": \"#2a3f5f\"}}, \"ternary\": {\"aaxis\": {\"gridcolor\": \"white\", \"linecolor\": \"white\", \"ticks\": \"\"}, \"baxis\": {\"gridcolor\": \"white\", \"linecolor\": \"white\", \"ticks\": \"\"}, \"bgcolor\": \"#E5ECF6\", \"caxis\": {\"gridcolor\": \"white\", \"linecolor\": \"white\", \"ticks\": \"\"}}, \"title\": {\"x\": 0.05}, \"xaxis\": {\"automargin\": true, \"gridcolor\": \"white\", \"linecolor\": \"white\", \"ticks\": \"\", \"title\": {\"standoff\": 15}, \"zerolinecolor\": \"white\", \"zerolinewidth\": 2}, \"yaxis\": {\"automargin\": true, \"gridcolor\": \"white\", \"linecolor\": \"white\", \"ticks\": \"\", \"title\": {\"standoff\": 15}, \"zerolinecolor\": \"white\", \"zerolinewidth\": 2}}}, \"title\": {\"text\": \"<a href=\\\"https://ffl.lu/\\\"> Fondation Follereau Luxembourg are in \"}},                        {\"responsive\": true}                    ).then(function(){\n",
       "                            \n",
       "var gd = document.getElementById('4f2beb7d-415d-492f-9d4e-667ca076386c');\n",
       "var x = new MutationObserver(function (mutations, observer) {{\n",
       "        var display = window.getComputedStyle(gd).display;\n",
       "        if (!display || display === 'none') {{\n",
       "            console.log([gd, 'removed!']);\n",
       "            Plotly.purge(gd);\n",
       "            observer.disconnect();\n",
       "        }}\n",
       "}});\n",
       "\n",
       "// Listen for the removal of the full notebook cells\n",
       "var notebookContainer = gd.closest('#notebook-container');\n",
       "if (notebookContainer) {{\n",
       "    x.observe(notebookContainer, {childList: true});\n",
       "}}\n",
       "\n",
       "// Listen for the clearing of the current output cell\n",
       "var outputEl = gd.closest('.output');\n",
       "if (outputEl) {{\n",
       "    x.observe(outputEl, {childList: true});\n",
       "}}\n",
       "\n",
       "                        })                };                });            </script>        </div>"
      ]
     },
     "metadata": {},
     "output_type": "display_data"
    }
   ],
   "source": [
    "year = 2018\n",
    "fig = px.choropleth(df_con_bud, locations=\"Country\",\n",
    "                    locationmode = 'country names',\n",
    "                    color=\"Total Budget\", # lifeExp is a column of gapminder\n",
    "                    hover_name=\"Country\", # column to add to hover information\n",
    "                    color_continuous_scale=px.colors.sequential.Plasma,\n",
    "                    hover_data={'Country': False,\n",
    "                                'Total Budget': False,\n",
    "                                'Budget in ' + str(year) + \" (in €) \": (':0,',df_con_bud['Total Budget']),\n",
    "                                'Percentage of Budget in '+ str(year)+\" \":(':.1%', df_con_bud['Percentage'])},\n",
    "                    )\n",
    "\n",
    "fig.layout = dict(geo = dict(scope='africa'))\n",
    "fig.update_geos(fitbounds=\"locations\")\n",
    "fig.update_layout(\n",
    "                    title_text='<a href=\"https://ffl.lu/\"> Fondation Follereau Luxembourg are in ')\n",
    "fig.update_coloraxes(colorbar = dict(\n",
    "                            thickness = 20,\n",
    "                            len = 1,\n",
    "                            x = 0.1,\n",
    "                            ypad = 30,\n",
    "                            bgcolor = \"rgba(200,0,0)\",\n",
    "    borderwidth = 2,\n",
    "    bordercolor = \"#000\",\n",
    "    outlinewidth = 2,\n",
    "    outlinecolor = \"#bbb\",\n",
    "    tickcolor = \"red\",\n",
    "                        ),\n",
    "    colorbar_tickfont=dict(\n",
    "    size = 20,\n",
    "#     color = '#fff',\n",
    "    family = \"Open Sans\"),\n",
    "    colorbar_title=dict(\n",
    "    text = \"esgdfg\"\n",
    "    ),\n",
    "    colorbar_title_font=dict(\n",
    "    family = \"Open Sans\",\n",
    "    size = 20,\n",
    "    color = '#000'))\n",
    "\n",
    "\n",
    "fig.show()"
   ]
  },
  {
   "cell_type": "code",
   "execution_count": 138,
   "metadata": {
    "ExecuteTime": {
     "end_time": "2021-01-30T10:21:22.374665Z",
     "start_time": "2021-01-30T10:21:22.362673Z"
    }
   },
   "outputs": [
    {
     "data": {
      "text/plain": [
       "'1,973,348'"
      ]
     },
     "execution_count": 138,
     "metadata": {},
     "output_type": "execute_result"
    }
   ],
   "source": [
    "'{:0,}'.format(int(df.groupby(['Country','Year'])['Voted Year project budget €'].sum()['Benin'].sum()))"
   ]
  },
  {
   "cell_type": "code",
   "execution_count": 135,
   "metadata": {
    "ExecuteTime": {
     "end_time": "2021-01-30T10:20:54.833785Z",
     "start_time": "2021-01-30T10:20:54.826792Z"
    }
   },
   "outputs": [
    {
     "ename": "SyntaxError",
     "evalue": "unexpected EOF while parsing (<ipython-input-135-ffce97e865bf>, line 1)",
     "output_type": "error",
     "traceback": [
      "\u001b[1;36m  File \u001b[1;32m\"<ipython-input-135-ffce97e865bf>\"\u001b[1;36m, line \u001b[1;32m1\u001b[0m\n\u001b[1;33m    '{:0,}'.format(df_con_bud['Total Budget']\u001b[0m\n\u001b[1;37m                                             ^\u001b[0m\n\u001b[1;31mSyntaxError\u001b[0m\u001b[1;31m:\u001b[0m unexpected EOF while parsing\n"
     ]
    }
   ],
   "source": [
    "'{:0,}'.format(df_con_bud['Total Budget']"
   ]
  },
  {
   "cell_type": "code",
   "execution_count": 89,
   "metadata": {
    "ExecuteTime": {
     "end_time": "2021-01-26T17:27:10.925240Z",
     "start_time": "2021-01-26T17:27:10.910228Z"
    },
    "scrolled": true
   },
   "outputs": [],
   "source": [
    "df_con_bud = df.groupby(['Year', 'Country','Axis of intervention']).agg({'Voted Year project budget €':'mean', 'Project share % out of all budget':'sum' }).reset_index()"
   ]
  },
  {
   "cell_type": "code",
   "execution_count": 91,
   "metadata": {
    "ExecuteTime": {
     "end_time": "2021-01-26T17:27:21.884217Z",
     "start_time": "2021-01-26T17:27:21.871226Z"
    }
   },
   "outputs": [],
   "source": [
    "df_con_bud = df.groupby(['Year','Axis of intervention']).agg({'Voted Year project budget €':'mean', 'Project share % out of all budget':'sum' }).reset_index()"
   ]
  },
  {
   "cell_type": "code",
   "execution_count": 92,
   "metadata": {
    "ExecuteTime": {
     "end_time": "2021-01-26T17:27:22.361148Z",
     "start_time": "2021-01-26T17:27:22.203239Z"
    }
   },
   "outputs": [
    {
     "data": {
      "application/vnd.plotly.v1+json": {
       "config": {
        "plotlyServerURL": "https://plot.ly"
       },
       "data": [
        {
         "customdata": [
          [
           2018
          ],
          [
           2019
          ],
          [
           2020
          ]
         ],
         "hovertemplate": "Axis of intervention=Education<br>Year=%{customdata[0]}<br>Voted Year project budget €=%{y}<extra></extra>",
         "legendgroup": "Education",
         "line": {
          "color": "#636efa",
          "dash": "solid"
         },
         "mode": "lines",
         "name": "Education",
         "orientation": "v",
         "showlegend": true,
         "type": "scatter",
         "x": [
          2018,
          2019,
          2020
         ],
         "xaxis": "x",
         "y": [
          40732.6,
          40824.6,
          34823.666666666664
         ],
         "yaxis": "y"
        },
        {
         "customdata": [
          [
           2018
          ],
          [
           2019
          ],
          [
           2020
          ]
         ],
         "hovertemplate": "Axis of intervention=Emergency<br>Year=%{customdata[0]}<br>Voted Year project budget €=%{y}<extra></extra>",
         "legendgroup": "Emergency",
         "line": {
          "color": "#EF553B",
          "dash": "solid"
         },
         "mode": "lines",
         "name": "Emergency",
         "orientation": "v",
         "showlegend": true,
         "type": "scatter",
         "x": [
          2018,
          2019,
          2020
         ],
         "xaxis": "x",
         "y": [
          200000,
          250000,
          200000
         ],
         "yaxis": "y"
        },
        {
         "customdata": [
          [
           2018
          ],
          [
           2019
          ],
          [
           2020
          ]
         ],
         "hovertemplate": "Axis of intervention=Health<br>Year=%{customdata[0]}<br>Voted Year project budget €=%{y}<extra></extra>",
         "legendgroup": "Health",
         "line": {
          "color": "#00cc96",
          "dash": "solid"
         },
         "mode": "lines",
         "name": "Health",
         "orientation": "v",
         "showlegend": true,
         "type": "scatter",
         "x": [
          2018,
          2019,
          2020
         ],
         "xaxis": "x",
         "y": [
          204885.6,
          209164,
          253390.9
         ],
         "yaxis": "y"
        },
        {
         "customdata": [
          [
           2018
          ],
          [
           2019
          ],
          [
           2020
          ]
         ],
         "hovertemplate": "Axis of intervention=Protection<br>Year=%{customdata[0]}<br>Voted Year project budget €=%{y}<extra></extra>",
         "legendgroup": "Protection",
         "line": {
          "color": "#ab63fa",
          "dash": "solid"
         },
         "mode": "lines",
         "name": "Protection",
         "orientation": "v",
         "showlegend": true,
         "type": "scatter",
         "x": [
          2018,
          2019,
          2020
         ],
         "xaxis": "x",
         "y": [
          74250.33333333333,
          78383.66666666667,
          78416
         ],
         "yaxis": "y"
        }
       ],
       "layout": {
        "legend": {
         "title": {
          "text": "Axis of intervention"
         },
         "tracegroupgap": 0
        },
        "margin": {
         "t": 60
        },
        "template": {
         "data": {
          "bar": [
           {
            "error_x": {
             "color": "#2a3f5f"
            },
            "error_y": {
             "color": "#2a3f5f"
            },
            "marker": {
             "line": {
              "color": "#E5ECF6",
              "width": 0.5
             }
            },
            "type": "bar"
           }
          ],
          "barpolar": [
           {
            "marker": {
             "line": {
              "color": "#E5ECF6",
              "width": 0.5
             }
            },
            "type": "barpolar"
           }
          ],
          "carpet": [
           {
            "aaxis": {
             "endlinecolor": "#2a3f5f",
             "gridcolor": "white",
             "linecolor": "white",
             "minorgridcolor": "white",
             "startlinecolor": "#2a3f5f"
            },
            "baxis": {
             "endlinecolor": "#2a3f5f",
             "gridcolor": "white",
             "linecolor": "white",
             "minorgridcolor": "white",
             "startlinecolor": "#2a3f5f"
            },
            "type": "carpet"
           }
          ],
          "choropleth": [
           {
            "colorbar": {
             "outlinewidth": 0,
             "ticks": ""
            },
            "type": "choropleth"
           }
          ],
          "contour": [
           {
            "colorbar": {
             "outlinewidth": 0,
             "ticks": ""
            },
            "colorscale": [
             [
              0,
              "#0d0887"
             ],
             [
              0.1111111111111111,
              "#46039f"
             ],
             [
              0.2222222222222222,
              "#7201a8"
             ],
             [
              0.3333333333333333,
              "#9c179e"
             ],
             [
              0.4444444444444444,
              "#bd3786"
             ],
             [
              0.5555555555555556,
              "#d8576b"
             ],
             [
              0.6666666666666666,
              "#ed7953"
             ],
             [
              0.7777777777777778,
              "#fb9f3a"
             ],
             [
              0.8888888888888888,
              "#fdca26"
             ],
             [
              1,
              "#f0f921"
             ]
            ],
            "type": "contour"
           }
          ],
          "contourcarpet": [
           {
            "colorbar": {
             "outlinewidth": 0,
             "ticks": ""
            },
            "type": "contourcarpet"
           }
          ],
          "heatmap": [
           {
            "colorbar": {
             "outlinewidth": 0,
             "ticks": ""
            },
            "colorscale": [
             [
              0,
              "#0d0887"
             ],
             [
              0.1111111111111111,
              "#46039f"
             ],
             [
              0.2222222222222222,
              "#7201a8"
             ],
             [
              0.3333333333333333,
              "#9c179e"
             ],
             [
              0.4444444444444444,
              "#bd3786"
             ],
             [
              0.5555555555555556,
              "#d8576b"
             ],
             [
              0.6666666666666666,
              "#ed7953"
             ],
             [
              0.7777777777777778,
              "#fb9f3a"
             ],
             [
              0.8888888888888888,
              "#fdca26"
             ],
             [
              1,
              "#f0f921"
             ]
            ],
            "type": "heatmap"
           }
          ],
          "heatmapgl": [
           {
            "colorbar": {
             "outlinewidth": 0,
             "ticks": ""
            },
            "colorscale": [
             [
              0,
              "#0d0887"
             ],
             [
              0.1111111111111111,
              "#46039f"
             ],
             [
              0.2222222222222222,
              "#7201a8"
             ],
             [
              0.3333333333333333,
              "#9c179e"
             ],
             [
              0.4444444444444444,
              "#bd3786"
             ],
             [
              0.5555555555555556,
              "#d8576b"
             ],
             [
              0.6666666666666666,
              "#ed7953"
             ],
             [
              0.7777777777777778,
              "#fb9f3a"
             ],
             [
              0.8888888888888888,
              "#fdca26"
             ],
             [
              1,
              "#f0f921"
             ]
            ],
            "type": "heatmapgl"
           }
          ],
          "histogram": [
           {
            "marker": {
             "colorbar": {
              "outlinewidth": 0,
              "ticks": ""
             }
            },
            "type": "histogram"
           }
          ],
          "histogram2d": [
           {
            "colorbar": {
             "outlinewidth": 0,
             "ticks": ""
            },
            "colorscale": [
             [
              0,
              "#0d0887"
             ],
             [
              0.1111111111111111,
              "#46039f"
             ],
             [
              0.2222222222222222,
              "#7201a8"
             ],
             [
              0.3333333333333333,
              "#9c179e"
             ],
             [
              0.4444444444444444,
              "#bd3786"
             ],
             [
              0.5555555555555556,
              "#d8576b"
             ],
             [
              0.6666666666666666,
              "#ed7953"
             ],
             [
              0.7777777777777778,
              "#fb9f3a"
             ],
             [
              0.8888888888888888,
              "#fdca26"
             ],
             [
              1,
              "#f0f921"
             ]
            ],
            "type": "histogram2d"
           }
          ],
          "histogram2dcontour": [
           {
            "colorbar": {
             "outlinewidth": 0,
             "ticks": ""
            },
            "colorscale": [
             [
              0,
              "#0d0887"
             ],
             [
              0.1111111111111111,
              "#46039f"
             ],
             [
              0.2222222222222222,
              "#7201a8"
             ],
             [
              0.3333333333333333,
              "#9c179e"
             ],
             [
              0.4444444444444444,
              "#bd3786"
             ],
             [
              0.5555555555555556,
              "#d8576b"
             ],
             [
              0.6666666666666666,
              "#ed7953"
             ],
             [
              0.7777777777777778,
              "#fb9f3a"
             ],
             [
              0.8888888888888888,
              "#fdca26"
             ],
             [
              1,
              "#f0f921"
             ]
            ],
            "type": "histogram2dcontour"
           }
          ],
          "mesh3d": [
           {
            "colorbar": {
             "outlinewidth": 0,
             "ticks": ""
            },
            "type": "mesh3d"
           }
          ],
          "parcoords": [
           {
            "line": {
             "colorbar": {
              "outlinewidth": 0,
              "ticks": ""
             }
            },
            "type": "parcoords"
           }
          ],
          "pie": [
           {
            "automargin": true,
            "type": "pie"
           }
          ],
          "scatter": [
           {
            "marker": {
             "colorbar": {
              "outlinewidth": 0,
              "ticks": ""
             }
            },
            "type": "scatter"
           }
          ],
          "scatter3d": [
           {
            "line": {
             "colorbar": {
              "outlinewidth": 0,
              "ticks": ""
             }
            },
            "marker": {
             "colorbar": {
              "outlinewidth": 0,
              "ticks": ""
             }
            },
            "type": "scatter3d"
           }
          ],
          "scattercarpet": [
           {
            "marker": {
             "colorbar": {
              "outlinewidth": 0,
              "ticks": ""
             }
            },
            "type": "scattercarpet"
           }
          ],
          "scattergeo": [
           {
            "marker": {
             "colorbar": {
              "outlinewidth": 0,
              "ticks": ""
             }
            },
            "type": "scattergeo"
           }
          ],
          "scattergl": [
           {
            "marker": {
             "colorbar": {
              "outlinewidth": 0,
              "ticks": ""
             }
            },
            "type": "scattergl"
           }
          ],
          "scattermapbox": [
           {
            "marker": {
             "colorbar": {
              "outlinewidth": 0,
              "ticks": ""
             }
            },
            "type": "scattermapbox"
           }
          ],
          "scatterpolar": [
           {
            "marker": {
             "colorbar": {
              "outlinewidth": 0,
              "ticks": ""
             }
            },
            "type": "scatterpolar"
           }
          ],
          "scatterpolargl": [
           {
            "marker": {
             "colorbar": {
              "outlinewidth": 0,
              "ticks": ""
             }
            },
            "type": "scatterpolargl"
           }
          ],
          "scatterternary": [
           {
            "marker": {
             "colorbar": {
              "outlinewidth": 0,
              "ticks": ""
             }
            },
            "type": "scatterternary"
           }
          ],
          "surface": [
           {
            "colorbar": {
             "outlinewidth": 0,
             "ticks": ""
            },
            "colorscale": [
             [
              0,
              "#0d0887"
             ],
             [
              0.1111111111111111,
              "#46039f"
             ],
             [
              0.2222222222222222,
              "#7201a8"
             ],
             [
              0.3333333333333333,
              "#9c179e"
             ],
             [
              0.4444444444444444,
              "#bd3786"
             ],
             [
              0.5555555555555556,
              "#d8576b"
             ],
             [
              0.6666666666666666,
              "#ed7953"
             ],
             [
              0.7777777777777778,
              "#fb9f3a"
             ],
             [
              0.8888888888888888,
              "#fdca26"
             ],
             [
              1,
              "#f0f921"
             ]
            ],
            "type": "surface"
           }
          ],
          "table": [
           {
            "cells": {
             "fill": {
              "color": "#EBF0F8"
             },
             "line": {
              "color": "white"
             }
            },
            "header": {
             "fill": {
              "color": "#C8D4E3"
             },
             "line": {
              "color": "white"
             }
            },
            "type": "table"
           }
          ]
         },
         "layout": {
          "annotationdefaults": {
           "arrowcolor": "#2a3f5f",
           "arrowhead": 0,
           "arrowwidth": 1
          },
          "coloraxis": {
           "colorbar": {
            "outlinewidth": 0,
            "ticks": ""
           }
          },
          "colorscale": {
           "diverging": [
            [
             0,
             "#8e0152"
            ],
            [
             0.1,
             "#c51b7d"
            ],
            [
             0.2,
             "#de77ae"
            ],
            [
             0.3,
             "#f1b6da"
            ],
            [
             0.4,
             "#fde0ef"
            ],
            [
             0.5,
             "#f7f7f7"
            ],
            [
             0.6,
             "#e6f5d0"
            ],
            [
             0.7,
             "#b8e186"
            ],
            [
             0.8,
             "#7fbc41"
            ],
            [
             0.9,
             "#4d9221"
            ],
            [
             1,
             "#276419"
            ]
           ],
           "sequential": [
            [
             0,
             "#0d0887"
            ],
            [
             0.1111111111111111,
             "#46039f"
            ],
            [
             0.2222222222222222,
             "#7201a8"
            ],
            [
             0.3333333333333333,
             "#9c179e"
            ],
            [
             0.4444444444444444,
             "#bd3786"
            ],
            [
             0.5555555555555556,
             "#d8576b"
            ],
            [
             0.6666666666666666,
             "#ed7953"
            ],
            [
             0.7777777777777778,
             "#fb9f3a"
            ],
            [
             0.8888888888888888,
             "#fdca26"
            ],
            [
             1,
             "#f0f921"
            ]
           ],
           "sequentialminus": [
            [
             0,
             "#0d0887"
            ],
            [
             0.1111111111111111,
             "#46039f"
            ],
            [
             0.2222222222222222,
             "#7201a8"
            ],
            [
             0.3333333333333333,
             "#9c179e"
            ],
            [
             0.4444444444444444,
             "#bd3786"
            ],
            [
             0.5555555555555556,
             "#d8576b"
            ],
            [
             0.6666666666666666,
             "#ed7953"
            ],
            [
             0.7777777777777778,
             "#fb9f3a"
            ],
            [
             0.8888888888888888,
             "#fdca26"
            ],
            [
             1,
             "#f0f921"
            ]
           ]
          },
          "colorway": [
           "#636efa",
           "#EF553B",
           "#00cc96",
           "#ab63fa",
           "#FFA15A",
           "#19d3f3",
           "#FF6692",
           "#B6E880",
           "#FF97FF",
           "#FECB52"
          ],
          "font": {
           "color": "#2a3f5f"
          },
          "geo": {
           "bgcolor": "white",
           "lakecolor": "white",
           "landcolor": "#E5ECF6",
           "showlakes": true,
           "showland": true,
           "subunitcolor": "white"
          },
          "hoverlabel": {
           "align": "left"
          },
          "hovermode": "closest",
          "mapbox": {
           "style": "light"
          },
          "paper_bgcolor": "white",
          "plot_bgcolor": "#E5ECF6",
          "polar": {
           "angularaxis": {
            "gridcolor": "white",
            "linecolor": "white",
            "ticks": ""
           },
           "bgcolor": "#E5ECF6",
           "radialaxis": {
            "gridcolor": "white",
            "linecolor": "white",
            "ticks": ""
           }
          },
          "scene": {
           "xaxis": {
            "backgroundcolor": "#E5ECF6",
            "gridcolor": "white",
            "gridwidth": 2,
            "linecolor": "white",
            "showbackground": true,
            "ticks": "",
            "zerolinecolor": "white"
           },
           "yaxis": {
            "backgroundcolor": "#E5ECF6",
            "gridcolor": "white",
            "gridwidth": 2,
            "linecolor": "white",
            "showbackground": true,
            "ticks": "",
            "zerolinecolor": "white"
           },
           "zaxis": {
            "backgroundcolor": "#E5ECF6",
            "gridcolor": "white",
            "gridwidth": 2,
            "linecolor": "white",
            "showbackground": true,
            "ticks": "",
            "zerolinecolor": "white"
           }
          },
          "shapedefaults": {
           "line": {
            "color": "#2a3f5f"
           }
          },
          "ternary": {
           "aaxis": {
            "gridcolor": "white",
            "linecolor": "white",
            "ticks": ""
           },
           "baxis": {
            "gridcolor": "white",
            "linecolor": "white",
            "ticks": ""
           },
           "bgcolor": "#E5ECF6",
           "caxis": {
            "gridcolor": "white",
            "linecolor": "white",
            "ticks": ""
           }
          },
          "title": {
           "x": 0.05
          },
          "xaxis": {
           "automargin": true,
           "gridcolor": "white",
           "linecolor": "white",
           "ticks": "",
           "title": {
            "standoff": 15
           },
           "zerolinecolor": "white",
           "zerolinewidth": 2
          },
          "yaxis": {
           "automargin": true,
           "gridcolor": "white",
           "linecolor": "white",
           "ticks": "",
           "title": {
            "standoff": 15
           },
           "zerolinecolor": "white",
           "zerolinewidth": 2
          }
         }
        },
        "xaxis": {
         "anchor": "y",
         "domain": [
          0,
          1
         ],
         "title": {
          "text": "Year"
         }
        },
        "yaxis": {
         "anchor": "x",
         "domain": [
          0,
          1
         ],
         "title": {
          "text": "Voted Year project budget €"
         }
        }
       }
      },
      "text/html": [
       "<div>                            <div id=\"694f3082-3437-415e-911e-307ccea15f5a\" class=\"plotly-graph-div\" style=\"height:525px; width:100%;\"></div>            <script type=\"text/javascript\">                require([\"plotly\"], function(Plotly) {                    window.PLOTLYENV=window.PLOTLYENV || {};                                    if (document.getElementById(\"694f3082-3437-415e-911e-307ccea15f5a\")) {                    Plotly.newPlot(                        \"694f3082-3437-415e-911e-307ccea15f5a\",                        [{\"customdata\": [[2018], [2019], [2020]], \"hovertemplate\": \"Axis of intervention=Education<br>Year=%{customdata[0]}<br>Voted Year project budget \\u20ac=%{y}<extra></extra>\", \"legendgroup\": \"Education\", \"line\": {\"color\": \"#636efa\", \"dash\": \"solid\"}, \"mode\": \"lines\", \"name\": \"Education\", \"orientation\": \"v\", \"showlegend\": true, \"type\": \"scatter\", \"x\": [2018, 2019, 2020], \"xaxis\": \"x\", \"y\": [40732.6, 40824.6, 34823.666666666664], \"yaxis\": \"y\"}, {\"customdata\": [[2018], [2019], [2020]], \"hovertemplate\": \"Axis of intervention=Emergency<br>Year=%{customdata[0]}<br>Voted Year project budget \\u20ac=%{y}<extra></extra>\", \"legendgroup\": \"Emergency\", \"line\": {\"color\": \"#EF553B\", \"dash\": \"solid\"}, \"mode\": \"lines\", \"name\": \"Emergency\", \"orientation\": \"v\", \"showlegend\": true, \"type\": \"scatter\", \"x\": [2018, 2019, 2020], \"xaxis\": \"x\", \"y\": [200000.0, 250000.0, 200000.0], \"yaxis\": \"y\"}, {\"customdata\": [[2018], [2019], [2020]], \"hovertemplate\": \"Axis of intervention=Health<br>Year=%{customdata[0]}<br>Voted Year project budget \\u20ac=%{y}<extra></extra>\", \"legendgroup\": \"Health\", \"line\": {\"color\": \"#00cc96\", \"dash\": \"solid\"}, \"mode\": \"lines\", \"name\": \"Health\", \"orientation\": \"v\", \"showlegend\": true, \"type\": \"scatter\", \"x\": [2018, 2019, 2020], \"xaxis\": \"x\", \"y\": [204885.6, 209164.0, 253390.9], \"yaxis\": \"y\"}, {\"customdata\": [[2018], [2019], [2020]], \"hovertemplate\": \"Axis of intervention=Protection<br>Year=%{customdata[0]}<br>Voted Year project budget \\u20ac=%{y}<extra></extra>\", \"legendgroup\": \"Protection\", \"line\": {\"color\": \"#ab63fa\", \"dash\": \"solid\"}, \"mode\": \"lines\", \"name\": \"Protection\", \"orientation\": \"v\", \"showlegend\": true, \"type\": \"scatter\", \"x\": [2018, 2019, 2020], \"xaxis\": \"x\", \"y\": [74250.33333333333, 78383.66666666667, 78416.0], \"yaxis\": \"y\"}],                        {\"legend\": {\"title\": {\"text\": \"Axis of intervention\"}, \"tracegroupgap\": 0}, \"margin\": {\"t\": 60}, \"template\": {\"data\": {\"bar\": [{\"error_x\": {\"color\": \"#2a3f5f\"}, \"error_y\": {\"color\": \"#2a3f5f\"}, \"marker\": {\"line\": {\"color\": \"#E5ECF6\", \"width\": 0.5}}, \"type\": \"bar\"}], \"barpolar\": [{\"marker\": {\"line\": {\"color\": \"#E5ECF6\", \"width\": 0.5}}, \"type\": \"barpolar\"}], \"carpet\": [{\"aaxis\": {\"endlinecolor\": \"#2a3f5f\", \"gridcolor\": \"white\", \"linecolor\": \"white\", \"minorgridcolor\": \"white\", \"startlinecolor\": \"#2a3f5f\"}, \"baxis\": {\"endlinecolor\": \"#2a3f5f\", \"gridcolor\": \"white\", \"linecolor\": \"white\", \"minorgridcolor\": \"white\", \"startlinecolor\": \"#2a3f5f\"}, \"type\": \"carpet\"}], \"choropleth\": [{\"colorbar\": {\"outlinewidth\": 0, \"ticks\": \"\"}, \"type\": \"choropleth\"}], \"contour\": [{\"colorbar\": {\"outlinewidth\": 0, \"ticks\": \"\"}, \"colorscale\": [[0.0, \"#0d0887\"], [0.1111111111111111, \"#46039f\"], [0.2222222222222222, \"#7201a8\"], [0.3333333333333333, \"#9c179e\"], [0.4444444444444444, \"#bd3786\"], [0.5555555555555556, \"#d8576b\"], [0.6666666666666666, \"#ed7953\"], [0.7777777777777778, \"#fb9f3a\"], [0.8888888888888888, \"#fdca26\"], [1.0, \"#f0f921\"]], \"type\": \"contour\"}], \"contourcarpet\": [{\"colorbar\": {\"outlinewidth\": 0, \"ticks\": \"\"}, \"type\": \"contourcarpet\"}], \"heatmap\": [{\"colorbar\": {\"outlinewidth\": 0, \"ticks\": \"\"}, \"colorscale\": [[0.0, \"#0d0887\"], [0.1111111111111111, \"#46039f\"], [0.2222222222222222, \"#7201a8\"], [0.3333333333333333, \"#9c179e\"], [0.4444444444444444, \"#bd3786\"], [0.5555555555555556, \"#d8576b\"], [0.6666666666666666, \"#ed7953\"], [0.7777777777777778, \"#fb9f3a\"], [0.8888888888888888, \"#fdca26\"], [1.0, \"#f0f921\"]], \"type\": \"heatmap\"}], \"heatmapgl\": [{\"colorbar\": {\"outlinewidth\": 0, \"ticks\": \"\"}, \"colorscale\": [[0.0, \"#0d0887\"], [0.1111111111111111, \"#46039f\"], [0.2222222222222222, \"#7201a8\"], [0.3333333333333333, \"#9c179e\"], [0.4444444444444444, \"#bd3786\"], [0.5555555555555556, \"#d8576b\"], [0.6666666666666666, \"#ed7953\"], [0.7777777777777778, \"#fb9f3a\"], [0.8888888888888888, \"#fdca26\"], [1.0, \"#f0f921\"]], \"type\": \"heatmapgl\"}], \"histogram\": [{\"marker\": {\"colorbar\": {\"outlinewidth\": 0, \"ticks\": \"\"}}, \"type\": \"histogram\"}], \"histogram2d\": [{\"colorbar\": {\"outlinewidth\": 0, \"ticks\": \"\"}, \"colorscale\": [[0.0, \"#0d0887\"], [0.1111111111111111, \"#46039f\"], [0.2222222222222222, \"#7201a8\"], [0.3333333333333333, \"#9c179e\"], [0.4444444444444444, \"#bd3786\"], [0.5555555555555556, \"#d8576b\"], [0.6666666666666666, \"#ed7953\"], [0.7777777777777778, \"#fb9f3a\"], [0.8888888888888888, \"#fdca26\"], [1.0, \"#f0f921\"]], \"type\": \"histogram2d\"}], \"histogram2dcontour\": [{\"colorbar\": {\"outlinewidth\": 0, \"ticks\": \"\"}, \"colorscale\": [[0.0, \"#0d0887\"], [0.1111111111111111, \"#46039f\"], [0.2222222222222222, \"#7201a8\"], [0.3333333333333333, \"#9c179e\"], [0.4444444444444444, \"#bd3786\"], [0.5555555555555556, \"#d8576b\"], [0.6666666666666666, \"#ed7953\"], [0.7777777777777778, \"#fb9f3a\"], [0.8888888888888888, \"#fdca26\"], [1.0, \"#f0f921\"]], \"type\": \"histogram2dcontour\"}], \"mesh3d\": [{\"colorbar\": {\"outlinewidth\": 0, \"ticks\": \"\"}, \"type\": \"mesh3d\"}], \"parcoords\": [{\"line\": {\"colorbar\": {\"outlinewidth\": 0, \"ticks\": \"\"}}, \"type\": \"parcoords\"}], \"pie\": [{\"automargin\": true, \"type\": \"pie\"}], \"scatter\": [{\"marker\": {\"colorbar\": {\"outlinewidth\": 0, \"ticks\": \"\"}}, \"type\": \"scatter\"}], \"scatter3d\": [{\"line\": {\"colorbar\": {\"outlinewidth\": 0, \"ticks\": \"\"}}, \"marker\": {\"colorbar\": {\"outlinewidth\": 0, \"ticks\": \"\"}}, \"type\": \"scatter3d\"}], \"scattercarpet\": [{\"marker\": {\"colorbar\": {\"outlinewidth\": 0, \"ticks\": \"\"}}, \"type\": \"scattercarpet\"}], \"scattergeo\": [{\"marker\": {\"colorbar\": {\"outlinewidth\": 0, \"ticks\": \"\"}}, \"type\": \"scattergeo\"}], \"scattergl\": [{\"marker\": {\"colorbar\": {\"outlinewidth\": 0, \"ticks\": \"\"}}, \"type\": \"scattergl\"}], \"scattermapbox\": [{\"marker\": {\"colorbar\": {\"outlinewidth\": 0, \"ticks\": \"\"}}, \"type\": \"scattermapbox\"}], \"scatterpolar\": [{\"marker\": {\"colorbar\": {\"outlinewidth\": 0, \"ticks\": \"\"}}, \"type\": \"scatterpolar\"}], \"scatterpolargl\": [{\"marker\": {\"colorbar\": {\"outlinewidth\": 0, \"ticks\": \"\"}}, \"type\": \"scatterpolargl\"}], \"scatterternary\": [{\"marker\": {\"colorbar\": {\"outlinewidth\": 0, \"ticks\": \"\"}}, \"type\": \"scatterternary\"}], \"surface\": [{\"colorbar\": {\"outlinewidth\": 0, \"ticks\": \"\"}, \"colorscale\": [[0.0, \"#0d0887\"], [0.1111111111111111, \"#46039f\"], [0.2222222222222222, \"#7201a8\"], [0.3333333333333333, \"#9c179e\"], [0.4444444444444444, \"#bd3786\"], [0.5555555555555556, \"#d8576b\"], [0.6666666666666666, \"#ed7953\"], [0.7777777777777778, \"#fb9f3a\"], [0.8888888888888888, \"#fdca26\"], [1.0, \"#f0f921\"]], \"type\": \"surface\"}], \"table\": [{\"cells\": {\"fill\": {\"color\": \"#EBF0F8\"}, \"line\": {\"color\": \"white\"}}, \"header\": {\"fill\": {\"color\": \"#C8D4E3\"}, \"line\": {\"color\": \"white\"}}, \"type\": \"table\"}]}, \"layout\": {\"annotationdefaults\": {\"arrowcolor\": \"#2a3f5f\", \"arrowhead\": 0, \"arrowwidth\": 1}, \"coloraxis\": {\"colorbar\": {\"outlinewidth\": 0, \"ticks\": \"\"}}, \"colorscale\": {\"diverging\": [[0, \"#8e0152\"], [0.1, \"#c51b7d\"], [0.2, \"#de77ae\"], [0.3, \"#f1b6da\"], [0.4, \"#fde0ef\"], [0.5, \"#f7f7f7\"], [0.6, \"#e6f5d0\"], [0.7, \"#b8e186\"], [0.8, \"#7fbc41\"], [0.9, \"#4d9221\"], [1, \"#276419\"]], \"sequential\": [[0.0, \"#0d0887\"], [0.1111111111111111, \"#46039f\"], [0.2222222222222222, \"#7201a8\"], [0.3333333333333333, \"#9c179e\"], [0.4444444444444444, \"#bd3786\"], [0.5555555555555556, \"#d8576b\"], [0.6666666666666666, \"#ed7953\"], [0.7777777777777778, \"#fb9f3a\"], [0.8888888888888888, \"#fdca26\"], [1.0, \"#f0f921\"]], \"sequentialminus\": [[0.0, \"#0d0887\"], [0.1111111111111111, \"#46039f\"], [0.2222222222222222, \"#7201a8\"], [0.3333333333333333, \"#9c179e\"], [0.4444444444444444, \"#bd3786\"], [0.5555555555555556, \"#d8576b\"], [0.6666666666666666, \"#ed7953\"], [0.7777777777777778, \"#fb9f3a\"], [0.8888888888888888, \"#fdca26\"], [1.0, \"#f0f921\"]]}, \"colorway\": [\"#636efa\", \"#EF553B\", \"#00cc96\", \"#ab63fa\", \"#FFA15A\", \"#19d3f3\", \"#FF6692\", \"#B6E880\", \"#FF97FF\", \"#FECB52\"], \"font\": {\"color\": \"#2a3f5f\"}, \"geo\": {\"bgcolor\": \"white\", \"lakecolor\": \"white\", \"landcolor\": \"#E5ECF6\", \"showlakes\": true, \"showland\": true, \"subunitcolor\": \"white\"}, \"hoverlabel\": {\"align\": \"left\"}, \"hovermode\": \"closest\", \"mapbox\": {\"style\": \"light\"}, \"paper_bgcolor\": \"white\", \"plot_bgcolor\": \"#E5ECF6\", \"polar\": {\"angularaxis\": {\"gridcolor\": \"white\", \"linecolor\": \"white\", \"ticks\": \"\"}, \"bgcolor\": \"#E5ECF6\", \"radialaxis\": {\"gridcolor\": \"white\", \"linecolor\": \"white\", \"ticks\": \"\"}}, \"scene\": {\"xaxis\": {\"backgroundcolor\": \"#E5ECF6\", \"gridcolor\": \"white\", \"gridwidth\": 2, \"linecolor\": \"white\", \"showbackground\": true, \"ticks\": \"\", \"zerolinecolor\": \"white\"}, \"yaxis\": {\"backgroundcolor\": \"#E5ECF6\", \"gridcolor\": \"white\", \"gridwidth\": 2, \"linecolor\": \"white\", \"showbackground\": true, \"ticks\": \"\", \"zerolinecolor\": \"white\"}, \"zaxis\": {\"backgroundcolor\": \"#E5ECF6\", \"gridcolor\": \"white\", \"gridwidth\": 2, \"linecolor\": \"white\", \"showbackground\": true, \"ticks\": \"\", \"zerolinecolor\": \"white\"}}, \"shapedefaults\": {\"line\": {\"color\": \"#2a3f5f\"}}, \"ternary\": {\"aaxis\": {\"gridcolor\": \"white\", \"linecolor\": \"white\", \"ticks\": \"\"}, \"baxis\": {\"gridcolor\": \"white\", \"linecolor\": \"white\", \"ticks\": \"\"}, \"bgcolor\": \"#E5ECF6\", \"caxis\": {\"gridcolor\": \"white\", \"linecolor\": \"white\", \"ticks\": \"\"}}, \"title\": {\"x\": 0.05}, \"xaxis\": {\"automargin\": true, \"gridcolor\": \"white\", \"linecolor\": \"white\", \"ticks\": \"\", \"title\": {\"standoff\": 15}, \"zerolinecolor\": \"white\", \"zerolinewidth\": 2}, \"yaxis\": {\"automargin\": true, \"gridcolor\": \"white\", \"linecolor\": \"white\", \"ticks\": \"\", \"title\": {\"standoff\": 15}, \"zerolinecolor\": \"white\", \"zerolinewidth\": 2}}}, \"xaxis\": {\"anchor\": \"y\", \"domain\": [0.0, 1.0], \"title\": {\"text\": \"Year\"}}, \"yaxis\": {\"anchor\": \"x\", \"domain\": [0.0, 1.0], \"title\": {\"text\": \"Voted Year project budget \\u20ac\"}}},                        {\"responsive\": true}                    ).then(function(){\n",
       "                            \n",
       "var gd = document.getElementById('694f3082-3437-415e-911e-307ccea15f5a');\n",
       "var x = new MutationObserver(function (mutations, observer) {{\n",
       "        var display = window.getComputedStyle(gd).display;\n",
       "        if (!display || display === 'none') {{\n",
       "            console.log([gd, 'removed!']);\n",
       "            Plotly.purge(gd);\n",
       "            observer.disconnect();\n",
       "        }}\n",
       "}});\n",
       "\n",
       "// Listen for the removal of the full notebook cells\n",
       "var notebookContainer = gd.closest('#notebook-container');\n",
       "if (notebookContainer) {{\n",
       "    x.observe(notebookContainer, {childList: true});\n",
       "}}\n",
       "\n",
       "// Listen for the clearing of the current output cell\n",
       "var outputEl = gd.closest('.output');\n",
       "if (outputEl) {{\n",
       "    x.observe(outputEl, {childList: true});\n",
       "}}\n",
       "\n",
       "                        })                };                });            </script>        </div>"
      ]
     },
     "metadata": {},
     "output_type": "display_data"
    }
   ],
   "source": [
    "px.line(df_con_bud, x=\"Year\", y=\"Voted Year project budget €\", color='Axis of intervention', hover_data=['Year'])"
   ]
  },
  {
   "cell_type": "code",
   "execution_count": 313,
   "metadata": {
    "ExecuteTime": {
     "end_time": "2021-01-30T14:12:27.381802Z",
     "start_time": "2021-01-30T14:12:27.216896Z"
    }
   },
   "outputs": [
    {
     "data": {
      "application/vnd.plotly.v1+json": {
       "config": {
        "plotlyServerURL": "https://plot.ly"
       },
       "data": [
        {
         "alignmentgroup": "True",
         "customdata": [
          [
           "2018",
           6,
           "Benin",
           695921
          ],
          [
           "2018",
           4,
           "Burkina Faso",
           592227
          ],
          [
           "2018",
           2,
           "Central African Republic",
           300000
          ],
          [
           "2018",
           1,
           "Democratic Republic of the Congo",
           139332
          ],
          [
           "2018",
           1,
           "Guinea-Conakry",
           39300
          ],
          [
           "2018",
           2,
           "Ivory Coast",
           80428
          ],
          [
           "2018",
           1,
           "Madagascar",
           49500
          ],
          [
           "2018",
           4,
           "Mali",
           750042
          ],
          [
           "2018",
           2,
           "Togo",
           251271
          ]
         ],
         "hovertemplate": "<b>%{hovertext}</b><br><br>Voted Year project budget €=%{customdata[3]}<extra></extra>",
         "hovertext": [
          6,
          4,
          2,
          1,
          1,
          2,
          1,
          4,
          2
         ],
         "legendgroup": "2018",
         "marker": {
          "color": "#636efa"
         },
         "name": "2018",
         "offsetgroup": "2018",
         "orientation": "h",
         "showlegend": true,
         "textposition": "auto",
         "type": "bar",
         "x": [
          6,
          4,
          2,
          1,
          1,
          2,
          1,
          4,
          2
         ],
         "xaxis": "x",
         "y": [
          "Benin",
          "Burkina Faso",
          "Central African Republic",
          "Democratic Republic of the Congo",
          "Guinea-Conakry",
          "Ivory Coast",
          "Madagascar",
          "Mali",
          "Togo"
         ],
         "yaxis": "y"
        },
        {
         "alignmentgroup": "True",
         "customdata": [
          [
           "2019",
           6,
           "Benin",
           571983
          ],
          [
           "2019",
           4,
           "Burkina Faso",
           545297
          ],
          [
           "2019",
           2,
           "Central African Republic",
           408835
          ],
          [
           "2019",
           1,
           "Democratic Republic of the Congo",
           150000
          ],
          [
           "2019",
           1,
           "Guinea-Conakry",
           40000
          ],
          [
           "2019",
           2,
           "Ivory Coast",
           90000
          ],
          [
           "2019",
           1,
           "Madagascar",
           20000
          ],
          [
           "2019",
           4,
           "Mali",
           817096
          ],
          [
           "2019",
           2,
           "Togo",
           372854
          ]
         ],
         "hovertemplate": "<b>%{hovertext}</b><br><br>Voted Year project budget €=%{customdata[3]}<extra></extra>",
         "hovertext": [
          6,
          4,
          2,
          1,
          1,
          2,
          1,
          4,
          2
         ],
         "legendgroup": "2019",
         "marker": {
          "color": "#EF553B"
         },
         "name": "2019",
         "offsetgroup": "2019",
         "orientation": "h",
         "showlegend": true,
         "textposition": "auto",
         "type": "bar",
         "x": [
          6,
          4,
          2,
          1,
          1,
          2,
          1,
          4,
          2
         ],
         "xaxis": "x",
         "y": [
          "Benin",
          "Burkina Faso",
          "Central African Republic",
          "Democratic Republic of the Congo",
          "Guinea-Conakry",
          "Ivory Coast",
          "Madagascar",
          "Mali",
          "Togo"
         ],
         "yaxis": "y"
        },
        {
         "alignmentgroup": "True",
         "customdata": [
          [
           "2020",
           6,
           "Benin",
           705444
          ],
          [
           "2020",
           4,
           "Burkina Faso",
           541122
          ],
          [
           "2020",
           2,
           "Central African Republic",
           419000
          ],
          [
           "2020",
           1,
           "Democratic Republic of the Congo",
           205000
          ],
          [
           "2020",
           1,
           "Guinea-Conakry",
           40000
          ],
          [
           "2020",
           2,
           "Ivory Coast",
           120223
          ],
          [
           "2020",
           1,
           "Madagascar",
           20000
          ],
          [
           "2020",
           4,
           "Mali",
           682660
          ],
          [
           "2020",
           2,
           "Togo",
           679898
          ]
         ],
         "hovertemplate": "<b>%{hovertext}</b><br><br>Voted Year project budget €=%{customdata[3]}<extra></extra>",
         "hovertext": [
          6,
          4,
          2,
          1,
          1,
          2,
          1,
          4,
          2
         ],
         "legendgroup": "2020",
         "marker": {
          "color": "#00cc96"
         },
         "name": "2020",
         "offsetgroup": "2020",
         "orientation": "h",
         "showlegend": true,
         "textposition": "auto",
         "type": "bar",
         "x": [
          6,
          4,
          2,
          1,
          1,
          2,
          1,
          4,
          2
         ],
         "xaxis": "x",
         "y": [
          "Benin",
          "Burkina Faso",
          "Central African Republic",
          "Democratic Republic of the Congo",
          "Guinea-Conakry",
          "Ivory Coast",
          "Madagascar",
          "Mali",
          "Togo"
         ],
         "yaxis": "y"
        }
       ],
       "layout": {
        "autosize": true,
        "barmode": "relative",
        "height": 400,
        "hoverlabel": {
         "bgcolor": "#0f0",
         "bordercolor": "#ff0"
        },
        "hovermode": "closest",
        "legend": {
         "bgcolor": "#bbf",
         "borderwidth": 0.1,
         "font": {
          "color": "#fff",
          "family": "PT Sans Narrow",
          "size": 15
         },
         "title": {
          "font": {
           "color": "#000",
           "family": "PT Sans Narrow",
           "size": 20
          },
          "side": "top",
          "text": "  Year"
         },
         "tracegroupgap": 0,
         "x": 0.99,
         "xanchor": "right",
         "y": 0.98
        },
        "margin": {
         "autoexpand": true,
         "b": 60,
         "l": 60,
         "r": 10,
         "t": 80
        },
        "modebar": {
         "bgcolor": "#0f0",
         "orientation": "h"
        },
        "paper_bgcolor": "rgb(0,0,0, 1)",
        "plot_bgcolor": "rgb(0,0,0, 1)",
        "template": {
         "data": {
          "bar": [
           {
            "error_x": {
             "color": "#2a3f5f"
            },
            "error_y": {
             "color": "#2a3f5f"
            },
            "marker": {
             "line": {
              "color": "#E5ECF6",
              "width": 0.5
             }
            },
            "type": "bar"
           }
          ],
          "barpolar": [
           {
            "marker": {
             "line": {
              "color": "#E5ECF6",
              "width": 0.5
             }
            },
            "type": "barpolar"
           }
          ],
          "carpet": [
           {
            "aaxis": {
             "endlinecolor": "#2a3f5f",
             "gridcolor": "white",
             "linecolor": "white",
             "minorgridcolor": "white",
             "startlinecolor": "#2a3f5f"
            },
            "baxis": {
             "endlinecolor": "#2a3f5f",
             "gridcolor": "white",
             "linecolor": "white",
             "minorgridcolor": "white",
             "startlinecolor": "#2a3f5f"
            },
            "type": "carpet"
           }
          ],
          "choropleth": [
           {
            "colorbar": {
             "outlinewidth": 0,
             "ticks": ""
            },
            "type": "choropleth"
           }
          ],
          "contour": [
           {
            "colorbar": {
             "outlinewidth": 0,
             "ticks": ""
            },
            "colorscale": [
             [
              0,
              "#0d0887"
             ],
             [
              0.1111111111111111,
              "#46039f"
             ],
             [
              0.2222222222222222,
              "#7201a8"
             ],
             [
              0.3333333333333333,
              "#9c179e"
             ],
             [
              0.4444444444444444,
              "#bd3786"
             ],
             [
              0.5555555555555556,
              "#d8576b"
             ],
             [
              0.6666666666666666,
              "#ed7953"
             ],
             [
              0.7777777777777778,
              "#fb9f3a"
             ],
             [
              0.8888888888888888,
              "#fdca26"
             ],
             [
              1,
              "#f0f921"
             ]
            ],
            "type": "contour"
           }
          ],
          "contourcarpet": [
           {
            "colorbar": {
             "outlinewidth": 0,
             "ticks": ""
            },
            "type": "contourcarpet"
           }
          ],
          "heatmap": [
           {
            "colorbar": {
             "outlinewidth": 0,
             "ticks": ""
            },
            "colorscale": [
             [
              0,
              "#0d0887"
             ],
             [
              0.1111111111111111,
              "#46039f"
             ],
             [
              0.2222222222222222,
              "#7201a8"
             ],
             [
              0.3333333333333333,
              "#9c179e"
             ],
             [
              0.4444444444444444,
              "#bd3786"
             ],
             [
              0.5555555555555556,
              "#d8576b"
             ],
             [
              0.6666666666666666,
              "#ed7953"
             ],
             [
              0.7777777777777778,
              "#fb9f3a"
             ],
             [
              0.8888888888888888,
              "#fdca26"
             ],
             [
              1,
              "#f0f921"
             ]
            ],
            "type": "heatmap"
           }
          ],
          "heatmapgl": [
           {
            "colorbar": {
             "outlinewidth": 0,
             "ticks": ""
            },
            "colorscale": [
             [
              0,
              "#0d0887"
             ],
             [
              0.1111111111111111,
              "#46039f"
             ],
             [
              0.2222222222222222,
              "#7201a8"
             ],
             [
              0.3333333333333333,
              "#9c179e"
             ],
             [
              0.4444444444444444,
              "#bd3786"
             ],
             [
              0.5555555555555556,
              "#d8576b"
             ],
             [
              0.6666666666666666,
              "#ed7953"
             ],
             [
              0.7777777777777778,
              "#fb9f3a"
             ],
             [
              0.8888888888888888,
              "#fdca26"
             ],
             [
              1,
              "#f0f921"
             ]
            ],
            "type": "heatmapgl"
           }
          ],
          "histogram": [
           {
            "marker": {
             "colorbar": {
              "outlinewidth": 0,
              "ticks": ""
             }
            },
            "type": "histogram"
           }
          ],
          "histogram2d": [
           {
            "colorbar": {
             "outlinewidth": 0,
             "ticks": ""
            },
            "colorscale": [
             [
              0,
              "#0d0887"
             ],
             [
              0.1111111111111111,
              "#46039f"
             ],
             [
              0.2222222222222222,
              "#7201a8"
             ],
             [
              0.3333333333333333,
              "#9c179e"
             ],
             [
              0.4444444444444444,
              "#bd3786"
             ],
             [
              0.5555555555555556,
              "#d8576b"
             ],
             [
              0.6666666666666666,
              "#ed7953"
             ],
             [
              0.7777777777777778,
              "#fb9f3a"
             ],
             [
              0.8888888888888888,
              "#fdca26"
             ],
             [
              1,
              "#f0f921"
             ]
            ],
            "type": "histogram2d"
           }
          ],
          "histogram2dcontour": [
           {
            "colorbar": {
             "outlinewidth": 0,
             "ticks": ""
            },
            "colorscale": [
             [
              0,
              "#0d0887"
             ],
             [
              0.1111111111111111,
              "#46039f"
             ],
             [
              0.2222222222222222,
              "#7201a8"
             ],
             [
              0.3333333333333333,
              "#9c179e"
             ],
             [
              0.4444444444444444,
              "#bd3786"
             ],
             [
              0.5555555555555556,
              "#d8576b"
             ],
             [
              0.6666666666666666,
              "#ed7953"
             ],
             [
              0.7777777777777778,
              "#fb9f3a"
             ],
             [
              0.8888888888888888,
              "#fdca26"
             ],
             [
              1,
              "#f0f921"
             ]
            ],
            "type": "histogram2dcontour"
           }
          ],
          "mesh3d": [
           {
            "colorbar": {
             "outlinewidth": 0,
             "ticks": ""
            },
            "type": "mesh3d"
           }
          ],
          "parcoords": [
           {
            "line": {
             "colorbar": {
              "outlinewidth": 0,
              "ticks": ""
             }
            },
            "type": "parcoords"
           }
          ],
          "pie": [
           {
            "automargin": true,
            "type": "pie"
           }
          ],
          "scatter": [
           {
            "marker": {
             "colorbar": {
              "outlinewidth": 0,
              "ticks": ""
             }
            },
            "type": "scatter"
           }
          ],
          "scatter3d": [
           {
            "line": {
             "colorbar": {
              "outlinewidth": 0,
              "ticks": ""
             }
            },
            "marker": {
             "colorbar": {
              "outlinewidth": 0,
              "ticks": ""
             }
            },
            "type": "scatter3d"
           }
          ],
          "scattercarpet": [
           {
            "marker": {
             "colorbar": {
              "outlinewidth": 0,
              "ticks": ""
             }
            },
            "type": "scattercarpet"
           }
          ],
          "scattergeo": [
           {
            "marker": {
             "colorbar": {
              "outlinewidth": 0,
              "ticks": ""
             }
            },
            "type": "scattergeo"
           }
          ],
          "scattergl": [
           {
            "marker": {
             "colorbar": {
              "outlinewidth": 0,
              "ticks": ""
             }
            },
            "type": "scattergl"
           }
          ],
          "scattermapbox": [
           {
            "marker": {
             "colorbar": {
              "outlinewidth": 0,
              "ticks": ""
             }
            },
            "type": "scattermapbox"
           }
          ],
          "scatterpolar": [
           {
            "marker": {
             "colorbar": {
              "outlinewidth": 0,
              "ticks": ""
             }
            },
            "type": "scatterpolar"
           }
          ],
          "scatterpolargl": [
           {
            "marker": {
             "colorbar": {
              "outlinewidth": 0,
              "ticks": ""
             }
            },
            "type": "scatterpolargl"
           }
          ],
          "scatterternary": [
           {
            "marker": {
             "colorbar": {
              "outlinewidth": 0,
              "ticks": ""
             }
            },
            "type": "scatterternary"
           }
          ],
          "surface": [
           {
            "colorbar": {
             "outlinewidth": 0,
             "ticks": ""
            },
            "colorscale": [
             [
              0,
              "#0d0887"
             ],
             [
              0.1111111111111111,
              "#46039f"
             ],
             [
              0.2222222222222222,
              "#7201a8"
             ],
             [
              0.3333333333333333,
              "#9c179e"
             ],
             [
              0.4444444444444444,
              "#bd3786"
             ],
             [
              0.5555555555555556,
              "#d8576b"
             ],
             [
              0.6666666666666666,
              "#ed7953"
             ],
             [
              0.7777777777777778,
              "#fb9f3a"
             ],
             [
              0.8888888888888888,
              "#fdca26"
             ],
             [
              1,
              "#f0f921"
             ]
            ],
            "type": "surface"
           }
          ],
          "table": [
           {
            "cells": {
             "fill": {
              "color": "#EBF0F8"
             },
             "line": {
              "color": "white"
             }
            },
            "header": {
             "fill": {
              "color": "#C8D4E3"
             },
             "line": {
              "color": "white"
             }
            },
            "type": "table"
           }
          ]
         },
         "layout": {
          "annotationdefaults": {
           "arrowcolor": "#2a3f5f",
           "arrowhead": 0,
           "arrowwidth": 1
          },
          "coloraxis": {
           "colorbar": {
            "outlinewidth": 0,
            "ticks": ""
           }
          },
          "colorscale": {
           "diverging": [
            [
             0,
             "#8e0152"
            ],
            [
             0.1,
             "#c51b7d"
            ],
            [
             0.2,
             "#de77ae"
            ],
            [
             0.3,
             "#f1b6da"
            ],
            [
             0.4,
             "#fde0ef"
            ],
            [
             0.5,
             "#f7f7f7"
            ],
            [
             0.6,
             "#e6f5d0"
            ],
            [
             0.7,
             "#b8e186"
            ],
            [
             0.8,
             "#7fbc41"
            ],
            [
             0.9,
             "#4d9221"
            ],
            [
             1,
             "#276419"
            ]
           ],
           "sequential": [
            [
             0,
             "#0d0887"
            ],
            [
             0.1111111111111111,
             "#46039f"
            ],
            [
             0.2222222222222222,
             "#7201a8"
            ],
            [
             0.3333333333333333,
             "#9c179e"
            ],
            [
             0.4444444444444444,
             "#bd3786"
            ],
            [
             0.5555555555555556,
             "#d8576b"
            ],
            [
             0.6666666666666666,
             "#ed7953"
            ],
            [
             0.7777777777777778,
             "#fb9f3a"
            ],
            [
             0.8888888888888888,
             "#fdca26"
            ],
            [
             1,
             "#f0f921"
            ]
           ],
           "sequentialminus": [
            [
             0,
             "#0d0887"
            ],
            [
             0.1111111111111111,
             "#46039f"
            ],
            [
             0.2222222222222222,
             "#7201a8"
            ],
            [
             0.3333333333333333,
             "#9c179e"
            ],
            [
             0.4444444444444444,
             "#bd3786"
            ],
            [
             0.5555555555555556,
             "#d8576b"
            ],
            [
             0.6666666666666666,
             "#ed7953"
            ],
            [
             0.7777777777777778,
             "#fb9f3a"
            ],
            [
             0.8888888888888888,
             "#fdca26"
            ],
            [
             1,
             "#f0f921"
            ]
           ]
          },
          "colorway": [
           "#636efa",
           "#EF553B",
           "#00cc96",
           "#ab63fa",
           "#FFA15A",
           "#19d3f3",
           "#FF6692",
           "#B6E880",
           "#FF97FF",
           "#FECB52"
          ],
          "font": {
           "color": "#2a3f5f"
          },
          "geo": {
           "bgcolor": "white",
           "lakecolor": "white",
           "landcolor": "#E5ECF6",
           "showlakes": true,
           "showland": true,
           "subunitcolor": "white"
          },
          "hoverlabel": {
           "align": "left"
          },
          "hovermode": "closest",
          "mapbox": {
           "style": "light"
          },
          "paper_bgcolor": "white",
          "plot_bgcolor": "#E5ECF6",
          "polar": {
           "angularaxis": {
            "gridcolor": "white",
            "linecolor": "white",
            "ticks": ""
           },
           "bgcolor": "#E5ECF6",
           "radialaxis": {
            "gridcolor": "white",
            "linecolor": "white",
            "ticks": ""
           }
          },
          "scene": {
           "xaxis": {
            "backgroundcolor": "#E5ECF6",
            "gridcolor": "white",
            "gridwidth": 2,
            "linecolor": "white",
            "showbackground": true,
            "ticks": "",
            "zerolinecolor": "white"
           },
           "yaxis": {
            "backgroundcolor": "#E5ECF6",
            "gridcolor": "white",
            "gridwidth": 2,
            "linecolor": "white",
            "showbackground": true,
            "ticks": "",
            "zerolinecolor": "white"
           },
           "zaxis": {
            "backgroundcolor": "#E5ECF6",
            "gridcolor": "white",
            "gridwidth": 2,
            "linecolor": "white",
            "showbackground": true,
            "ticks": "",
            "zerolinecolor": "white"
           }
          },
          "shapedefaults": {
           "line": {
            "color": "#2a3f5f"
           }
          },
          "ternary": {
           "aaxis": {
            "gridcolor": "white",
            "linecolor": "white",
            "ticks": ""
           },
           "baxis": {
            "gridcolor": "white",
            "linecolor": "white",
            "ticks": ""
           },
           "bgcolor": "#E5ECF6",
           "caxis": {
            "gridcolor": "white",
            "linecolor": "white",
            "ticks": ""
           }
          },
          "title": {
           "x": 0.05
          },
          "xaxis": {
           "automargin": true,
           "gridcolor": "white",
           "linecolor": "white",
           "ticks": "",
           "title": {
            "standoff": 15
           },
           "zerolinecolor": "white",
           "zerolinewidth": 2
          },
          "yaxis": {
           "automargin": true,
           "gridcolor": "white",
           "linecolor": "white",
           "ticks": "",
           "title": {
            "standoff": 15
           },
           "zerolinecolor": "white",
           "zerolinewidth": 2
          }
         }
        },
        "title": {
         "font": {
          "color": "#bbb",
          "family": "PT Sans Narrow",
          "size": 20
         },
         "text": "Number of projects",
         "x": 0.5
        },
        "transition": {
         "duration": 500,
         "easing": "cubic-in-out",
         "ordering": "layout first"
        },
        "xaxis": {
         "anchor": "y",
         "domain": [
          0,
          1
         ],
         "title": {
          "text": "Number of Project"
         },
         "type": "linear"
        },
        "yaxis": {
         "anchor": "x",
         "domain": [
          0,
          1
         ],
         "title": {
          "text": "Country"
         }
        }
       }
      },
      "text/html": [
       "<div>                            <div id=\"04494aac-9806-4075-9ebc-556024ce09e6\" class=\"plotly-graph-div\" style=\"height:400px; width:100%;\"></div>            <script type=\"text/javascript\">                require([\"plotly\"], function(Plotly) {                    window.PLOTLYENV=window.PLOTLYENV || {};                                    if (document.getElementById(\"04494aac-9806-4075-9ebc-556024ce09e6\")) {                    Plotly.newPlot(                        \"04494aac-9806-4075-9ebc-556024ce09e6\",                        [{\"alignmentgroup\": \"True\", \"customdata\": [[\"2018\", 6, \"Benin\", 695921.0], [\"2018\", 4, \"Burkina Faso\", 592227.0], [\"2018\", 2, \"Central African Republic\", 300000.0], [\"2018\", 1, \"Democratic Republic of the Congo\", 139332.0], [\"2018\", 1, \"Guinea-Conakry\", 39300.0], [\"2018\", 2, \"Ivory Coast\", 80428.0], [\"2018\", 1, \"Madagascar\", 49500.0], [\"2018\", 4, \"Mali\", 750042.0], [\"2018\", 2, \"Togo\", 251271.0]], \"hovertemplate\": \"<b>%{hovertext}</b><br><br>Voted Year project budget \\u20ac=%{customdata[3]}<extra></extra>\", \"hovertext\": [6.0, 4.0, 2.0, 1.0, 1.0, 2.0, 1.0, 4.0, 2.0], \"legendgroup\": \"2018\", \"marker\": {\"color\": \"#636efa\"}, \"name\": \"2018\", \"offsetgroup\": \"2018\", \"orientation\": \"h\", \"showlegend\": true, \"textposition\": \"auto\", \"type\": \"bar\", \"x\": [6, 4, 2, 1, 1, 2, 1, 4, 2], \"xaxis\": \"x\", \"y\": [\"Benin\", \"Burkina Faso\", \"Central African Republic\", \"Democratic Republic of the Congo\", \"Guinea-Conakry\", \"Ivory Coast\", \"Madagascar\", \"Mali\", \"Togo\"], \"yaxis\": \"y\"}, {\"alignmentgroup\": \"True\", \"customdata\": [[\"2019\", 6, \"Benin\", 571983.0], [\"2019\", 4, \"Burkina Faso\", 545297.0], [\"2019\", 2, \"Central African Republic\", 408835.0], [\"2019\", 1, \"Democratic Republic of the Congo\", 150000.0], [\"2019\", 1, \"Guinea-Conakry\", 40000.0], [\"2019\", 2, \"Ivory Coast\", 90000.0], [\"2019\", 1, \"Madagascar\", 20000.0], [\"2019\", 4, \"Mali\", 817096.0], [\"2019\", 2, \"Togo\", 372854.0]], \"hovertemplate\": \"<b>%{hovertext}</b><br><br>Voted Year project budget \\u20ac=%{customdata[3]}<extra></extra>\", \"hovertext\": [6.0, 4.0, 2.0, 1.0, 1.0, 2.0, 1.0, 4.0, 2.0], \"legendgroup\": \"2019\", \"marker\": {\"color\": \"#EF553B\"}, \"name\": \"2019\", \"offsetgroup\": \"2019\", \"orientation\": \"h\", \"showlegend\": true, \"textposition\": \"auto\", \"type\": \"bar\", \"x\": [6, 4, 2, 1, 1, 2, 1, 4, 2], \"xaxis\": \"x\", \"y\": [\"Benin\", \"Burkina Faso\", \"Central African Republic\", \"Democratic Republic of the Congo\", \"Guinea-Conakry\", \"Ivory Coast\", \"Madagascar\", \"Mali\", \"Togo\"], \"yaxis\": \"y\"}, {\"alignmentgroup\": \"True\", \"customdata\": [[\"2020\", 6, \"Benin\", 705444.0], [\"2020\", 4, \"Burkina Faso\", 541122.0], [\"2020\", 2, \"Central African Republic\", 419000.0], [\"2020\", 1, \"Democratic Republic of the Congo\", 205000.0], [\"2020\", 1, \"Guinea-Conakry\", 40000.0], [\"2020\", 2, \"Ivory Coast\", 120223.0], [\"2020\", 1, \"Madagascar\", 20000.0], [\"2020\", 4, \"Mali\", 682660.0], [\"2020\", 2, \"Togo\", 679898.0]], \"hovertemplate\": \"<b>%{hovertext}</b><br><br>Voted Year project budget \\u20ac=%{customdata[3]}<extra></extra>\", \"hovertext\": [6.0, 4.0, 2.0, 1.0, 1.0, 2.0, 1.0, 4.0, 2.0], \"legendgroup\": \"2020\", \"marker\": {\"color\": \"#00cc96\"}, \"name\": \"2020\", \"offsetgroup\": \"2020\", \"orientation\": \"h\", \"showlegend\": true, \"textposition\": \"auto\", \"type\": \"bar\", \"x\": [6, 4, 2, 1, 1, 2, 1, 4, 2], \"xaxis\": \"x\", \"y\": [\"Benin\", \"Burkina Faso\", \"Central African Republic\", \"Democratic Republic of the Congo\", \"Guinea-Conakry\", \"Ivory Coast\", \"Madagascar\", \"Mali\", \"Togo\"], \"yaxis\": \"y\"}],                        {\"autosize\": true, \"barmode\": \"relative\", \"height\": 400, \"hoverlabel\": {\"bgcolor\": \"#0f0\", \"bordercolor\": \"#ff0\"}, \"hovermode\": \"closest\", \"legend\": {\"bgcolor\": \"#bbf\", \"borderwidth\": 0.1, \"font\": {\"color\": \"#fff\", \"family\": \"PT Sans Narrow\", \"size\": 15}, \"title\": {\"font\": {\"color\": \"#000\", \"family\": \"PT Sans Narrow\", \"size\": 20}, \"side\": \"top\", \"text\": \"  Year\"}, \"tracegroupgap\": 0, \"x\": 0.99, \"xanchor\": \"right\", \"y\": 0.98}, \"margin\": {\"autoexpand\": true, \"b\": 60, \"l\": 60, \"r\": 10, \"t\": 80}, \"modebar\": {\"bgcolor\": \"#0f0\", \"orientation\": \"h\"}, \"paper_bgcolor\": \"rgb(0,0,0, 1)\", \"plot_bgcolor\": \"rgb(0,0,0, 1)\", \"template\": {\"data\": {\"bar\": [{\"error_x\": {\"color\": \"#2a3f5f\"}, \"error_y\": {\"color\": \"#2a3f5f\"}, \"marker\": {\"line\": {\"color\": \"#E5ECF6\", \"width\": 0.5}}, \"type\": \"bar\"}], \"barpolar\": [{\"marker\": {\"line\": {\"color\": \"#E5ECF6\", \"width\": 0.5}}, \"type\": \"barpolar\"}], \"carpet\": [{\"aaxis\": {\"endlinecolor\": \"#2a3f5f\", \"gridcolor\": \"white\", \"linecolor\": \"white\", \"minorgridcolor\": \"white\", \"startlinecolor\": \"#2a3f5f\"}, \"baxis\": {\"endlinecolor\": \"#2a3f5f\", \"gridcolor\": \"white\", \"linecolor\": \"white\", \"minorgridcolor\": \"white\", \"startlinecolor\": \"#2a3f5f\"}, \"type\": \"carpet\"}], \"choropleth\": [{\"colorbar\": {\"outlinewidth\": 0, \"ticks\": \"\"}, \"type\": \"choropleth\"}], \"contour\": [{\"colorbar\": {\"outlinewidth\": 0, \"ticks\": \"\"}, \"colorscale\": [[0.0, \"#0d0887\"], [0.1111111111111111, \"#46039f\"], [0.2222222222222222, \"#7201a8\"], [0.3333333333333333, \"#9c179e\"], [0.4444444444444444, \"#bd3786\"], [0.5555555555555556, \"#d8576b\"], [0.6666666666666666, \"#ed7953\"], [0.7777777777777778, \"#fb9f3a\"], [0.8888888888888888, \"#fdca26\"], [1.0, \"#f0f921\"]], \"type\": \"contour\"}], \"contourcarpet\": [{\"colorbar\": {\"outlinewidth\": 0, \"ticks\": \"\"}, \"type\": \"contourcarpet\"}], \"heatmap\": [{\"colorbar\": {\"outlinewidth\": 0, \"ticks\": \"\"}, \"colorscale\": [[0.0, \"#0d0887\"], [0.1111111111111111, \"#46039f\"], [0.2222222222222222, \"#7201a8\"], [0.3333333333333333, \"#9c179e\"], [0.4444444444444444, \"#bd3786\"], [0.5555555555555556, \"#d8576b\"], [0.6666666666666666, \"#ed7953\"], [0.7777777777777778, \"#fb9f3a\"], [0.8888888888888888, \"#fdca26\"], [1.0, \"#f0f921\"]], \"type\": \"heatmap\"}], \"heatmapgl\": [{\"colorbar\": {\"outlinewidth\": 0, \"ticks\": \"\"}, \"colorscale\": [[0.0, \"#0d0887\"], [0.1111111111111111, \"#46039f\"], [0.2222222222222222, \"#7201a8\"], [0.3333333333333333, \"#9c179e\"], [0.4444444444444444, \"#bd3786\"], [0.5555555555555556, \"#d8576b\"], [0.6666666666666666, \"#ed7953\"], [0.7777777777777778, \"#fb9f3a\"], [0.8888888888888888, \"#fdca26\"], [1.0, \"#f0f921\"]], \"type\": \"heatmapgl\"}], \"histogram\": [{\"marker\": {\"colorbar\": {\"outlinewidth\": 0, \"ticks\": \"\"}}, \"type\": \"histogram\"}], \"histogram2d\": [{\"colorbar\": {\"outlinewidth\": 0, \"ticks\": \"\"}, \"colorscale\": [[0.0, \"#0d0887\"], [0.1111111111111111, \"#46039f\"], [0.2222222222222222, \"#7201a8\"], [0.3333333333333333, \"#9c179e\"], [0.4444444444444444, \"#bd3786\"], [0.5555555555555556, \"#d8576b\"], [0.6666666666666666, \"#ed7953\"], [0.7777777777777778, \"#fb9f3a\"], [0.8888888888888888, \"#fdca26\"], [1.0, \"#f0f921\"]], \"type\": \"histogram2d\"}], \"histogram2dcontour\": [{\"colorbar\": {\"outlinewidth\": 0, \"ticks\": \"\"}, \"colorscale\": [[0.0, \"#0d0887\"], [0.1111111111111111, \"#46039f\"], [0.2222222222222222, \"#7201a8\"], [0.3333333333333333, \"#9c179e\"], [0.4444444444444444, \"#bd3786\"], [0.5555555555555556, \"#d8576b\"], [0.6666666666666666, \"#ed7953\"], [0.7777777777777778, \"#fb9f3a\"], [0.8888888888888888, \"#fdca26\"], [1.0, \"#f0f921\"]], \"type\": \"histogram2dcontour\"}], \"mesh3d\": [{\"colorbar\": {\"outlinewidth\": 0, \"ticks\": \"\"}, \"type\": \"mesh3d\"}], \"parcoords\": [{\"line\": {\"colorbar\": {\"outlinewidth\": 0, \"ticks\": \"\"}}, \"type\": \"parcoords\"}], \"pie\": [{\"automargin\": true, \"type\": \"pie\"}], \"scatter\": [{\"marker\": {\"colorbar\": {\"outlinewidth\": 0, \"ticks\": \"\"}}, \"type\": \"scatter\"}], \"scatter3d\": [{\"line\": {\"colorbar\": {\"outlinewidth\": 0, \"ticks\": \"\"}}, \"marker\": {\"colorbar\": {\"outlinewidth\": 0, \"ticks\": \"\"}}, \"type\": \"scatter3d\"}], \"scattercarpet\": [{\"marker\": {\"colorbar\": {\"outlinewidth\": 0, \"ticks\": \"\"}}, \"type\": \"scattercarpet\"}], \"scattergeo\": [{\"marker\": {\"colorbar\": {\"outlinewidth\": 0, \"ticks\": \"\"}}, \"type\": \"scattergeo\"}], \"scattergl\": [{\"marker\": {\"colorbar\": {\"outlinewidth\": 0, \"ticks\": \"\"}}, \"type\": \"scattergl\"}], \"scattermapbox\": [{\"marker\": {\"colorbar\": {\"outlinewidth\": 0, \"ticks\": \"\"}}, \"type\": \"scattermapbox\"}], \"scatterpolar\": [{\"marker\": {\"colorbar\": {\"outlinewidth\": 0, \"ticks\": \"\"}}, \"type\": \"scatterpolar\"}], \"scatterpolargl\": [{\"marker\": {\"colorbar\": {\"outlinewidth\": 0, \"ticks\": \"\"}}, \"type\": \"scatterpolargl\"}], \"scatterternary\": [{\"marker\": {\"colorbar\": {\"outlinewidth\": 0, \"ticks\": \"\"}}, \"type\": \"scatterternary\"}], \"surface\": [{\"colorbar\": {\"outlinewidth\": 0, \"ticks\": \"\"}, \"colorscale\": [[0.0, \"#0d0887\"], [0.1111111111111111, \"#46039f\"], [0.2222222222222222, \"#7201a8\"], [0.3333333333333333, \"#9c179e\"], [0.4444444444444444, \"#bd3786\"], [0.5555555555555556, \"#d8576b\"], [0.6666666666666666, \"#ed7953\"], [0.7777777777777778, \"#fb9f3a\"], [0.8888888888888888, \"#fdca26\"], [1.0, \"#f0f921\"]], \"type\": \"surface\"}], \"table\": [{\"cells\": {\"fill\": {\"color\": \"#EBF0F8\"}, \"line\": {\"color\": \"white\"}}, \"header\": {\"fill\": {\"color\": \"#C8D4E3\"}, \"line\": {\"color\": \"white\"}}, \"type\": \"table\"}]}, \"layout\": {\"annotationdefaults\": {\"arrowcolor\": \"#2a3f5f\", \"arrowhead\": 0, \"arrowwidth\": 1}, \"coloraxis\": {\"colorbar\": {\"outlinewidth\": 0, \"ticks\": \"\"}}, \"colorscale\": {\"diverging\": [[0, \"#8e0152\"], [0.1, \"#c51b7d\"], [0.2, \"#de77ae\"], [0.3, \"#f1b6da\"], [0.4, \"#fde0ef\"], [0.5, \"#f7f7f7\"], [0.6, \"#e6f5d0\"], [0.7, \"#b8e186\"], [0.8, \"#7fbc41\"], [0.9, \"#4d9221\"], [1, \"#276419\"]], \"sequential\": [[0.0, \"#0d0887\"], [0.1111111111111111, \"#46039f\"], [0.2222222222222222, \"#7201a8\"], [0.3333333333333333, \"#9c179e\"], [0.4444444444444444, \"#bd3786\"], [0.5555555555555556, \"#d8576b\"], [0.6666666666666666, \"#ed7953\"], [0.7777777777777778, \"#fb9f3a\"], [0.8888888888888888, \"#fdca26\"], [1.0, \"#f0f921\"]], \"sequentialminus\": [[0.0, \"#0d0887\"], [0.1111111111111111, \"#46039f\"], [0.2222222222222222, \"#7201a8\"], [0.3333333333333333, \"#9c179e\"], [0.4444444444444444, \"#bd3786\"], [0.5555555555555556, \"#d8576b\"], [0.6666666666666666, \"#ed7953\"], [0.7777777777777778, \"#fb9f3a\"], [0.8888888888888888, \"#fdca26\"], [1.0, \"#f0f921\"]]}, \"colorway\": [\"#636efa\", \"#EF553B\", \"#00cc96\", \"#ab63fa\", \"#FFA15A\", \"#19d3f3\", \"#FF6692\", \"#B6E880\", \"#FF97FF\", \"#FECB52\"], \"font\": {\"color\": \"#2a3f5f\"}, \"geo\": {\"bgcolor\": \"white\", \"lakecolor\": \"white\", \"landcolor\": \"#E5ECF6\", \"showlakes\": true, \"showland\": true, \"subunitcolor\": \"white\"}, \"hoverlabel\": {\"align\": \"left\"}, \"hovermode\": \"closest\", \"mapbox\": {\"style\": \"light\"}, \"paper_bgcolor\": \"white\", \"plot_bgcolor\": \"#E5ECF6\", \"polar\": {\"angularaxis\": {\"gridcolor\": \"white\", \"linecolor\": \"white\", \"ticks\": \"\"}, \"bgcolor\": \"#E5ECF6\", \"radialaxis\": {\"gridcolor\": \"white\", \"linecolor\": \"white\", \"ticks\": \"\"}}, \"scene\": {\"xaxis\": {\"backgroundcolor\": \"#E5ECF6\", \"gridcolor\": \"white\", \"gridwidth\": 2, \"linecolor\": \"white\", \"showbackground\": true, \"ticks\": \"\", \"zerolinecolor\": \"white\"}, \"yaxis\": {\"backgroundcolor\": \"#E5ECF6\", \"gridcolor\": \"white\", \"gridwidth\": 2, \"linecolor\": \"white\", \"showbackground\": true, \"ticks\": \"\", \"zerolinecolor\": \"white\"}, \"zaxis\": {\"backgroundcolor\": \"#E5ECF6\", \"gridcolor\": \"white\", \"gridwidth\": 2, \"linecolor\": \"white\", \"showbackground\": true, \"ticks\": \"\", \"zerolinecolor\": \"white\"}}, \"shapedefaults\": {\"line\": {\"color\": \"#2a3f5f\"}}, \"ternary\": {\"aaxis\": {\"gridcolor\": \"white\", \"linecolor\": \"white\", \"ticks\": \"\"}, \"baxis\": {\"gridcolor\": \"white\", \"linecolor\": \"white\", \"ticks\": \"\"}, \"bgcolor\": \"#E5ECF6\", \"caxis\": {\"gridcolor\": \"white\", \"linecolor\": \"white\", \"ticks\": \"\"}}, \"title\": {\"x\": 0.05}, \"xaxis\": {\"automargin\": true, \"gridcolor\": \"white\", \"linecolor\": \"white\", \"ticks\": \"\", \"title\": {\"standoff\": 15}, \"zerolinecolor\": \"white\", \"zerolinewidth\": 2}, \"yaxis\": {\"automargin\": true, \"gridcolor\": \"white\", \"linecolor\": \"white\", \"ticks\": \"\", \"title\": {\"standoff\": 15}, \"zerolinecolor\": \"white\", \"zerolinewidth\": 2}}}, \"title\": {\"font\": {\"color\": \"#bbb\", \"family\": \"PT Sans Narrow\", \"size\": 20}, \"text\": \"Number of projects\", \"x\": 0.5}, \"transition\": {\"duration\": 500, \"easing\": \"cubic-in-out\", \"ordering\": \"layout first\"}, \"xaxis\": {\"anchor\": \"y\", \"domain\": [0.0, 1.0], \"title\": {\"text\": \"Number of Project\"}, \"type\": \"linear\"}, \"yaxis\": {\"anchor\": \"x\", \"domain\": [0.0, 1.0], \"title\": {\"text\": \"Country\"}}},                        {\"responsive\": true}                    ).then(function(){\n",
       "                            \n",
       "var gd = document.getElementById('04494aac-9806-4075-9ebc-556024ce09e6');\n",
       "var x = new MutationObserver(function (mutations, observer) {{\n",
       "        var display = window.getComputedStyle(gd).display;\n",
       "        if (!display || display === 'none') {{\n",
       "            console.log([gd, 'removed!']);\n",
       "            Plotly.purge(gd);\n",
       "            observer.disconnect();\n",
       "        }}\n",
       "}});\n",
       "\n",
       "// Listen for the removal of the full notebook cells\n",
       "var notebookContainer = gd.closest('#notebook-container');\n",
       "if (notebookContainer) {{\n",
       "    x.observe(notebookContainer, {childList: true});\n",
       "}}\n",
       "\n",
       "// Listen for the clearing of the current output cell\n",
       "var outputEl = gd.closest('.output');\n",
       "if (outputEl) {{\n",
       "    x.observe(outputEl, {childList: true});\n",
       "}}\n",
       "\n",
       "                        })                };                });            </script>        </div>"
      ]
     },
     "metadata": {},
     "output_type": "display_data"
    }
   ],
   "source": [
    "df_con_bud = df.groupby(['Country', 'Year']).agg({'Voted Year project budget €':'sum', 'Project title':'count'}).reset_index()\n",
    "df_con_bud.Year = df_con_bud.Year.astype('str')\n",
    "fig = px.bar(df_con_bud, x='Project title', y=\"Country\", orientation='h',\n",
    "             color='Year',\n",
    "             hover_data={'Year': False, 'Project title': False, 'Country': False, 'Voted Year project budget €': True},\n",
    "             hover_name='Project title',\n",
    "             height=400,\n",
    "             title='Direct beneficiaries from project')\n",
    "\n",
    "fig.update_xaxes(title='Number of Project', type='linear')\n",
    "fig.update_yaxes(title='Country')\n",
    "fig.update_layout(\n",
    "    title = dict(\n",
    "        text = \"Number of projects\",\n",
    "        font = dict(\n",
    "            family = \"PT Sans Narrow\",\n",
    "            size = 20,\n",
    "            color = '#bbb'),\n",
    "        x = 0.5\n",
    "    ),\n",
    "    legend = dict(\n",
    "        bgcolor = \"#bbf\",\n",
    "        borderwidth = 0.1,\n",
    "        font = dict(\n",
    "            family = \"PT Sans Narrow\",\n",
    "            size = 15,\n",
    "            color = '#fff'),\n",
    "        tracegroupgap = 0,\n",
    "        xanchor = 'right',\n",
    "        x = 0.99,\n",
    "        y = 0.98,\n",
    "        title = dict(\n",
    "        text = \"  Year\",\n",
    "        font = dict(\n",
    "            family = \"PT Sans Narrow\",\n",
    "            size = 20,\n",
    "            color = '#000'),\n",
    "        side = 'top'\n",
    "    ),\n",
    "        \n",
    "        \n",
    "        \n",
    "    ),\n",
    "    margin={'l': 60, 'b': 60, 't': 80, 'r': 10},\n",
    "    margin_autoexpand = True,\n",
    "    autosize = True,\n",
    "#     width = 00,\n",
    "#     height = 600,\n",
    "    hovermode='closest',\n",
    "    paper_bgcolor = 'rgb(0,0,0, 1)',\n",
    "    plot_bgcolor = 'rgb(0,0,0, 1)',\n",
    "#     separators = \".\", this will be using in 100,000,00 part\n",
    "    modebar = dict(\n",
    "        orientation ='h',\n",
    "        bgcolor = '#0f0',        \n",
    "    ),\n",
    "    hoverlabel = dict(\n",
    "        bgcolor = '#0f0', \n",
    "        bordercolor = '#ff0'\n",
    "    ),\n",
    "    transition = dict(\n",
    "        duration= 500,\n",
    "        easing= 'cubic-in-out',\n",
    "        ordering = \"layout first\"\n",
    "    ),\n",
    "    grid = dict(\n",
    "        rows = 2\n",
    "    ),\n",
    "#     uniformtext = dict(\n",
    "#         mode= 'show'\n",
    "#     )\n",
    "\n",
    "    )\n",
    "# fig.update_layout(barmode='stack')\n",
    "\n",
    "fig.show()"
   ]
  },
  {
   "cell_type": "code",
   "execution_count": 104,
   "metadata": {
    "ExecuteTime": {
     "end_time": "2021-01-26T17:44:49.686527Z",
     "start_time": "2021-01-26T17:44:49.498637Z"
    },
    "collapsed": true
   },
   "outputs": [
    {
     "data": {
      "application/vnd.plotly.v1+json": {
       "config": {
        "plotlyServerURL": "https://plot.ly"
       },
       "data": [
        {
         "branchvalues": "total",
         "domain": {
          "x": [
           0,
           1
          ],
          "y": [
           0,
           1
          ]
         },
         "hovertemplate": "labels=%{label}<br>Voted Year project budget €=%{value}<br>parent=%{parent}<br>id=%{id}<extra></extra>",
         "ids": [
          "2018/Benin/Education",
          "2019/Benin/Education",
          "2020/Benin/Education",
          "2018/Burkina Faso/Education",
          "2019/Burkina Faso/Education",
          "2020/Burkina Faso/Education",
          "2018/Ivory Coast/Education",
          "2019/Ivory Coast/Education",
          "2020/Ivory Coast/Education",
          "2018/Togo/Education",
          "2019/Togo/Education",
          "2020/Togo/Education",
          "2018/Central African Republic/Emergency",
          "2019/Central African Republic/Emergency",
          "2020/Central African Republic/Emergency",
          "2018/Benin/Health",
          "2019/Benin/Health",
          "2020/Benin/Health",
          "2018/Burkina Faso/Health",
          "2019/Burkina Faso/Health",
          "2020/Burkina Faso/Health",
          "2018/Central African Republic/Health",
          "2019/Central African Republic/Health",
          "2020/Central African Republic/Health",
          "2018/Democratic Republic of the Congo/Health",
          "2019/Democratic Republic of the Congo/Health",
          "2020/Democratic Republic of the Congo/Health",
          "2018/Guinea-Conakry/Health",
          "2019/Guinea-Conakry/Health",
          "2020/Guinea-Conakry/Health",
          "2018/Madagascar/Health",
          "2019/Madagascar/Health",
          "2020/Madagascar/Health",
          "2018/Mali/Health",
          "2019/Mali/Health",
          "2020/Mali/Health",
          "2018/Togo/Health",
          "2019/Togo/Health",
          "2020/Togo/Health",
          "2018/Benin/Protection",
          "2019/Benin/Protection",
          "2020/Benin/Protection",
          "2018/Burkina Faso/Protection",
          "2019/Burkina Faso/Protection",
          "2020/Burkina Faso/Protection",
          "2018/Ivory Coast/Protection",
          "2019/Ivory Coast/Protection",
          "2020/Ivory Coast/Protection",
          "2018/Mali/Protection",
          "2019/Mali/Protection",
          "2020/Mali/Protection",
          "2018/Benin",
          "2019/Benin",
          "2020/Benin",
          "2018/Burkina Faso",
          "2019/Burkina Faso",
          "2020/Burkina Faso",
          "2018/Central African Republic",
          "2019/Central African Republic",
          "2020/Central African Republic",
          "2018/Democratic Republic of the Congo",
          "2019/Democratic Republic of the Congo",
          "2020/Democratic Republic of the Congo",
          "2018/Guinea-Conakry",
          "2019/Guinea-Conakry",
          "2020/Guinea-Conakry",
          "2018/Ivory Coast",
          "2019/Ivory Coast",
          "2020/Ivory Coast",
          "2018/Madagascar",
          "2019/Madagascar",
          "2020/Madagascar",
          "2018/Mali",
          "2019/Mali",
          "2020/Mali",
          "2018/Togo",
          "2019/Togo",
          "2020/Togo",
          "2018",
          "2019",
          "2020"
         ],
         "labels": [
          "Education",
          "Education",
          "Education",
          "Education",
          "Education",
          "Education",
          "Education",
          "Education",
          "Education",
          "Education",
          "Education",
          "Education",
          "Emergency",
          "Emergency",
          "Emergency",
          "Health",
          "Health",
          "Health",
          "Health",
          "Health",
          "Health",
          "Health",
          "Health",
          "Health",
          "Health",
          "Health",
          "Health",
          "Health",
          "Health",
          "Health",
          "Health",
          "Health",
          "Health",
          "Health",
          "Health",
          "Health",
          "Health",
          "Health",
          "Health",
          "Protection",
          "Protection",
          "Protection",
          "Protection",
          "Protection",
          "Protection",
          "Protection",
          "Protection",
          "Protection",
          "Protection",
          "Protection",
          "Protection",
          "Benin",
          "Benin",
          "Benin",
          "Burkina Faso",
          "Burkina Faso",
          "Burkina Faso",
          "Central African Republic",
          "Central African Republic",
          "Central African Republic",
          "Democratic Republic of the Congo",
          "Democratic Republic of the Congo",
          "Democratic Republic of the Congo",
          "Guinea-Conakry",
          "Guinea-Conakry",
          "Guinea-Conakry",
          "Ivory Coast",
          "Ivory Coast",
          "Ivory Coast",
          "Madagascar",
          "Madagascar",
          "Madagascar",
          "Mali",
          "Mali",
          "Mali",
          "Togo",
          "Togo",
          "Togo",
          "2018",
          "2019",
          "2020"
         ],
         "name": "",
         "parents": [
          "2018/Benin",
          "2019/Benin",
          "2020/Benin",
          "2018/Burkina Faso",
          "2019/Burkina Faso",
          "2020/Burkina Faso",
          "2018/Ivory Coast",
          "2019/Ivory Coast",
          "2020/Ivory Coast",
          "2018/Togo",
          "2019/Togo",
          "2020/Togo",
          "2018/Central African Republic",
          "2019/Central African Republic",
          "2020/Central African Republic",
          "2018/Benin",
          "2019/Benin",
          "2020/Benin",
          "2018/Burkina Faso",
          "2019/Burkina Faso",
          "2020/Burkina Faso",
          "2018/Central African Republic",
          "2019/Central African Republic",
          "2020/Central African Republic",
          "2018/Democratic Republic of the Congo",
          "2019/Democratic Republic of the Congo",
          "2020/Democratic Republic of the Congo",
          "2018/Guinea-Conakry",
          "2019/Guinea-Conakry",
          "2020/Guinea-Conakry",
          "2018/Madagascar",
          "2019/Madagascar",
          "2020/Madagascar",
          "2018/Mali",
          "2019/Mali",
          "2020/Mali",
          "2018/Togo",
          "2019/Togo",
          "2020/Togo",
          "2018/Benin",
          "2019/Benin",
          "2020/Benin",
          "2018/Burkina Faso",
          "2019/Burkina Faso",
          "2020/Burkina Faso",
          "2018/Ivory Coast",
          "2019/Ivory Coast",
          "2020/Ivory Coast",
          "2018/Mali",
          "2019/Mali",
          "2020/Mali",
          "2018",
          "2019",
          "2020",
          "2018",
          "2019",
          "2020",
          "2018",
          "2019",
          "2020",
          "2018",
          "2019",
          "2020",
          "2018",
          "2019",
          "2020",
          "2018",
          "2019",
          "2020",
          "2018",
          "2019",
          "2020",
          "2018",
          "2019",
          "2020",
          "2018",
          "2019",
          "2020",
          "",
          "",
          ""
         ],
         "type": "sunburst",
         "values": [
          128703,
          118384,
          112907,
          59960,
          70739,
          54340,
          0,
          0,
          26695,
          15000,
          15000,
          15000,
          200000,
          250000,
          200000,
          502220,
          389442,
          527162,
          352191,
          286465,
          295189,
          100000,
          158835,
          219000,
          139332,
          150000,
          205000,
          39300,
          40000,
          40000,
          49500,
          20000,
          20000,
          630042,
          689044,
          562660,
          236271,
          357854,
          664898,
          64998,
          64157,
          65375,
          180076,
          188093,
          191593,
          80428,
          90000,
          93528,
          120000,
          128052,
          120000,
          695921,
          571983,
          705444,
          592227,
          545297,
          541122,
          300000,
          408835,
          419000,
          139332,
          150000,
          205000,
          39300,
          40000,
          40000,
          80428,
          90000,
          120223,
          49500,
          20000,
          20000,
          750042,
          817096,
          682660,
          251271,
          372854,
          679898,
          2898021,
          3016065,
          3413347
         ]
        }
       ],
       "layout": {
        "legend": {
         "tracegroupgap": 0
        },
        "margin": {
         "t": 60
        },
        "template": {
         "data": {
          "bar": [
           {
            "error_x": {
             "color": "#2a3f5f"
            },
            "error_y": {
             "color": "#2a3f5f"
            },
            "marker": {
             "line": {
              "color": "#E5ECF6",
              "width": 0.5
             }
            },
            "type": "bar"
           }
          ],
          "barpolar": [
           {
            "marker": {
             "line": {
              "color": "#E5ECF6",
              "width": 0.5
             }
            },
            "type": "barpolar"
           }
          ],
          "carpet": [
           {
            "aaxis": {
             "endlinecolor": "#2a3f5f",
             "gridcolor": "white",
             "linecolor": "white",
             "minorgridcolor": "white",
             "startlinecolor": "#2a3f5f"
            },
            "baxis": {
             "endlinecolor": "#2a3f5f",
             "gridcolor": "white",
             "linecolor": "white",
             "minorgridcolor": "white",
             "startlinecolor": "#2a3f5f"
            },
            "type": "carpet"
           }
          ],
          "choropleth": [
           {
            "colorbar": {
             "outlinewidth": 0,
             "ticks": ""
            },
            "type": "choropleth"
           }
          ],
          "contour": [
           {
            "colorbar": {
             "outlinewidth": 0,
             "ticks": ""
            },
            "colorscale": [
             [
              0,
              "#0d0887"
             ],
             [
              0.1111111111111111,
              "#46039f"
             ],
             [
              0.2222222222222222,
              "#7201a8"
             ],
             [
              0.3333333333333333,
              "#9c179e"
             ],
             [
              0.4444444444444444,
              "#bd3786"
             ],
             [
              0.5555555555555556,
              "#d8576b"
             ],
             [
              0.6666666666666666,
              "#ed7953"
             ],
             [
              0.7777777777777778,
              "#fb9f3a"
             ],
             [
              0.8888888888888888,
              "#fdca26"
             ],
             [
              1,
              "#f0f921"
             ]
            ],
            "type": "contour"
           }
          ],
          "contourcarpet": [
           {
            "colorbar": {
             "outlinewidth": 0,
             "ticks": ""
            },
            "type": "contourcarpet"
           }
          ],
          "heatmap": [
           {
            "colorbar": {
             "outlinewidth": 0,
             "ticks": ""
            },
            "colorscale": [
             [
              0,
              "#0d0887"
             ],
             [
              0.1111111111111111,
              "#46039f"
             ],
             [
              0.2222222222222222,
              "#7201a8"
             ],
             [
              0.3333333333333333,
              "#9c179e"
             ],
             [
              0.4444444444444444,
              "#bd3786"
             ],
             [
              0.5555555555555556,
              "#d8576b"
             ],
             [
              0.6666666666666666,
              "#ed7953"
             ],
             [
              0.7777777777777778,
              "#fb9f3a"
             ],
             [
              0.8888888888888888,
              "#fdca26"
             ],
             [
              1,
              "#f0f921"
             ]
            ],
            "type": "heatmap"
           }
          ],
          "heatmapgl": [
           {
            "colorbar": {
             "outlinewidth": 0,
             "ticks": ""
            },
            "colorscale": [
             [
              0,
              "#0d0887"
             ],
             [
              0.1111111111111111,
              "#46039f"
             ],
             [
              0.2222222222222222,
              "#7201a8"
             ],
             [
              0.3333333333333333,
              "#9c179e"
             ],
             [
              0.4444444444444444,
              "#bd3786"
             ],
             [
              0.5555555555555556,
              "#d8576b"
             ],
             [
              0.6666666666666666,
              "#ed7953"
             ],
             [
              0.7777777777777778,
              "#fb9f3a"
             ],
             [
              0.8888888888888888,
              "#fdca26"
             ],
             [
              1,
              "#f0f921"
             ]
            ],
            "type": "heatmapgl"
           }
          ],
          "histogram": [
           {
            "marker": {
             "colorbar": {
              "outlinewidth": 0,
              "ticks": ""
             }
            },
            "type": "histogram"
           }
          ],
          "histogram2d": [
           {
            "colorbar": {
             "outlinewidth": 0,
             "ticks": ""
            },
            "colorscale": [
             [
              0,
              "#0d0887"
             ],
             [
              0.1111111111111111,
              "#46039f"
             ],
             [
              0.2222222222222222,
              "#7201a8"
             ],
             [
              0.3333333333333333,
              "#9c179e"
             ],
             [
              0.4444444444444444,
              "#bd3786"
             ],
             [
              0.5555555555555556,
              "#d8576b"
             ],
             [
              0.6666666666666666,
              "#ed7953"
             ],
             [
              0.7777777777777778,
              "#fb9f3a"
             ],
             [
              0.8888888888888888,
              "#fdca26"
             ],
             [
              1,
              "#f0f921"
             ]
            ],
            "type": "histogram2d"
           }
          ],
          "histogram2dcontour": [
           {
            "colorbar": {
             "outlinewidth": 0,
             "ticks": ""
            },
            "colorscale": [
             [
              0,
              "#0d0887"
             ],
             [
              0.1111111111111111,
              "#46039f"
             ],
             [
              0.2222222222222222,
              "#7201a8"
             ],
             [
              0.3333333333333333,
              "#9c179e"
             ],
             [
              0.4444444444444444,
              "#bd3786"
             ],
             [
              0.5555555555555556,
              "#d8576b"
             ],
             [
              0.6666666666666666,
              "#ed7953"
             ],
             [
              0.7777777777777778,
              "#fb9f3a"
             ],
             [
              0.8888888888888888,
              "#fdca26"
             ],
             [
              1,
              "#f0f921"
             ]
            ],
            "type": "histogram2dcontour"
           }
          ],
          "mesh3d": [
           {
            "colorbar": {
             "outlinewidth": 0,
             "ticks": ""
            },
            "type": "mesh3d"
           }
          ],
          "parcoords": [
           {
            "line": {
             "colorbar": {
              "outlinewidth": 0,
              "ticks": ""
             }
            },
            "type": "parcoords"
           }
          ],
          "pie": [
           {
            "automargin": true,
            "type": "pie"
           }
          ],
          "scatter": [
           {
            "marker": {
             "colorbar": {
              "outlinewidth": 0,
              "ticks": ""
             }
            },
            "type": "scatter"
           }
          ],
          "scatter3d": [
           {
            "line": {
             "colorbar": {
              "outlinewidth": 0,
              "ticks": ""
             }
            },
            "marker": {
             "colorbar": {
              "outlinewidth": 0,
              "ticks": ""
             }
            },
            "type": "scatter3d"
           }
          ],
          "scattercarpet": [
           {
            "marker": {
             "colorbar": {
              "outlinewidth": 0,
              "ticks": ""
             }
            },
            "type": "scattercarpet"
           }
          ],
          "scattergeo": [
           {
            "marker": {
             "colorbar": {
              "outlinewidth": 0,
              "ticks": ""
             }
            },
            "type": "scattergeo"
           }
          ],
          "scattergl": [
           {
            "marker": {
             "colorbar": {
              "outlinewidth": 0,
              "ticks": ""
             }
            },
            "type": "scattergl"
           }
          ],
          "scattermapbox": [
           {
            "marker": {
             "colorbar": {
              "outlinewidth": 0,
              "ticks": ""
             }
            },
            "type": "scattermapbox"
           }
          ],
          "scatterpolar": [
           {
            "marker": {
             "colorbar": {
              "outlinewidth": 0,
              "ticks": ""
             }
            },
            "type": "scatterpolar"
           }
          ],
          "scatterpolargl": [
           {
            "marker": {
             "colorbar": {
              "outlinewidth": 0,
              "ticks": ""
             }
            },
            "type": "scatterpolargl"
           }
          ],
          "scatterternary": [
           {
            "marker": {
             "colorbar": {
              "outlinewidth": 0,
              "ticks": ""
             }
            },
            "type": "scatterternary"
           }
          ],
          "surface": [
           {
            "colorbar": {
             "outlinewidth": 0,
             "ticks": ""
            },
            "colorscale": [
             [
              0,
              "#0d0887"
             ],
             [
              0.1111111111111111,
              "#46039f"
             ],
             [
              0.2222222222222222,
              "#7201a8"
             ],
             [
              0.3333333333333333,
              "#9c179e"
             ],
             [
              0.4444444444444444,
              "#bd3786"
             ],
             [
              0.5555555555555556,
              "#d8576b"
             ],
             [
              0.6666666666666666,
              "#ed7953"
             ],
             [
              0.7777777777777778,
              "#fb9f3a"
             ],
             [
              0.8888888888888888,
              "#fdca26"
             ],
             [
              1,
              "#f0f921"
             ]
            ],
            "type": "surface"
           }
          ],
          "table": [
           {
            "cells": {
             "fill": {
              "color": "#EBF0F8"
             },
             "line": {
              "color": "white"
             }
            },
            "header": {
             "fill": {
              "color": "#C8D4E3"
             },
             "line": {
              "color": "white"
             }
            },
            "type": "table"
           }
          ]
         },
         "layout": {
          "annotationdefaults": {
           "arrowcolor": "#2a3f5f",
           "arrowhead": 0,
           "arrowwidth": 1
          },
          "coloraxis": {
           "colorbar": {
            "outlinewidth": 0,
            "ticks": ""
           }
          },
          "colorscale": {
           "diverging": [
            [
             0,
             "#8e0152"
            ],
            [
             0.1,
             "#c51b7d"
            ],
            [
             0.2,
             "#de77ae"
            ],
            [
             0.3,
             "#f1b6da"
            ],
            [
             0.4,
             "#fde0ef"
            ],
            [
             0.5,
             "#f7f7f7"
            ],
            [
             0.6,
             "#e6f5d0"
            ],
            [
             0.7,
             "#b8e186"
            ],
            [
             0.8,
             "#7fbc41"
            ],
            [
             0.9,
             "#4d9221"
            ],
            [
             1,
             "#276419"
            ]
           ],
           "sequential": [
            [
             0,
             "#0d0887"
            ],
            [
             0.1111111111111111,
             "#46039f"
            ],
            [
             0.2222222222222222,
             "#7201a8"
            ],
            [
             0.3333333333333333,
             "#9c179e"
            ],
            [
             0.4444444444444444,
             "#bd3786"
            ],
            [
             0.5555555555555556,
             "#d8576b"
            ],
            [
             0.6666666666666666,
             "#ed7953"
            ],
            [
             0.7777777777777778,
             "#fb9f3a"
            ],
            [
             0.8888888888888888,
             "#fdca26"
            ],
            [
             1,
             "#f0f921"
            ]
           ],
           "sequentialminus": [
            [
             0,
             "#0d0887"
            ],
            [
             0.1111111111111111,
             "#46039f"
            ],
            [
             0.2222222222222222,
             "#7201a8"
            ],
            [
             0.3333333333333333,
             "#9c179e"
            ],
            [
             0.4444444444444444,
             "#bd3786"
            ],
            [
             0.5555555555555556,
             "#d8576b"
            ],
            [
             0.6666666666666666,
             "#ed7953"
            ],
            [
             0.7777777777777778,
             "#fb9f3a"
            ],
            [
             0.8888888888888888,
             "#fdca26"
            ],
            [
             1,
             "#f0f921"
            ]
           ]
          },
          "colorway": [
           "#636efa",
           "#EF553B",
           "#00cc96",
           "#ab63fa",
           "#FFA15A",
           "#19d3f3",
           "#FF6692",
           "#B6E880",
           "#FF97FF",
           "#FECB52"
          ],
          "font": {
           "color": "#2a3f5f"
          },
          "geo": {
           "bgcolor": "white",
           "lakecolor": "white",
           "landcolor": "#E5ECF6",
           "showlakes": true,
           "showland": true,
           "subunitcolor": "white"
          },
          "hoverlabel": {
           "align": "left"
          },
          "hovermode": "closest",
          "mapbox": {
           "style": "light"
          },
          "paper_bgcolor": "white",
          "plot_bgcolor": "#E5ECF6",
          "polar": {
           "angularaxis": {
            "gridcolor": "white",
            "linecolor": "white",
            "ticks": ""
           },
           "bgcolor": "#E5ECF6",
           "radialaxis": {
            "gridcolor": "white",
            "linecolor": "white",
            "ticks": ""
           }
          },
          "scene": {
           "xaxis": {
            "backgroundcolor": "#E5ECF6",
            "gridcolor": "white",
            "gridwidth": 2,
            "linecolor": "white",
            "showbackground": true,
            "ticks": "",
            "zerolinecolor": "white"
           },
           "yaxis": {
            "backgroundcolor": "#E5ECF6",
            "gridcolor": "white",
            "gridwidth": 2,
            "linecolor": "white",
            "showbackground": true,
            "ticks": "",
            "zerolinecolor": "white"
           },
           "zaxis": {
            "backgroundcolor": "#E5ECF6",
            "gridcolor": "white",
            "gridwidth": 2,
            "linecolor": "white",
            "showbackground": true,
            "ticks": "",
            "zerolinecolor": "white"
           }
          },
          "shapedefaults": {
           "line": {
            "color": "#2a3f5f"
           }
          },
          "ternary": {
           "aaxis": {
            "gridcolor": "white",
            "linecolor": "white",
            "ticks": ""
           },
           "baxis": {
            "gridcolor": "white",
            "linecolor": "white",
            "ticks": ""
           },
           "bgcolor": "#E5ECF6",
           "caxis": {
            "gridcolor": "white",
            "linecolor": "white",
            "ticks": ""
           }
          },
          "title": {
           "x": 0.05
          },
          "xaxis": {
           "automargin": true,
           "gridcolor": "white",
           "linecolor": "white",
           "ticks": "",
           "title": {
            "standoff": 15
           },
           "zerolinecolor": "white",
           "zerolinewidth": 2
          },
          "yaxis": {
           "automargin": true,
           "gridcolor": "white",
           "linecolor": "white",
           "ticks": "",
           "title": {
            "standoff": 15
           },
           "zerolinecolor": "white",
           "zerolinewidth": 2
          }
         }
        }
       }
      },
      "text/html": [
       "<div>                            <div id=\"20c63202-9bf2-4540-9d26-5d87679b0255\" class=\"plotly-graph-div\" style=\"height:525px; width:100%;\"></div>            <script type=\"text/javascript\">                require([\"plotly\"], function(Plotly) {                    window.PLOTLYENV=window.PLOTLYENV || {};                                    if (document.getElementById(\"20c63202-9bf2-4540-9d26-5d87679b0255\")) {                    Plotly.newPlot(                        \"20c63202-9bf2-4540-9d26-5d87679b0255\",                        [{\"branchvalues\": \"total\", \"domain\": {\"x\": [0.0, 1.0], \"y\": [0.0, 1.0]}, \"hovertemplate\": \"labels=%{label}<br>Voted Year project budget \\u20ac=%{value}<br>parent=%{parent}<br>id=%{id}<extra></extra>\", \"ids\": [\"2018/Benin/Education\", \"2019/Benin/Education\", \"2020/Benin/Education\", \"2018/Burkina Faso/Education\", \"2019/Burkina Faso/Education\", \"2020/Burkina Faso/Education\", \"2018/Ivory Coast/Education\", \"2019/Ivory Coast/Education\", \"2020/Ivory Coast/Education\", \"2018/Togo/Education\", \"2019/Togo/Education\", \"2020/Togo/Education\", \"2018/Central African Republic/Emergency\", \"2019/Central African Republic/Emergency\", \"2020/Central African Republic/Emergency\", \"2018/Benin/Health\", \"2019/Benin/Health\", \"2020/Benin/Health\", \"2018/Burkina Faso/Health\", \"2019/Burkina Faso/Health\", \"2020/Burkina Faso/Health\", \"2018/Central African Republic/Health\", \"2019/Central African Republic/Health\", \"2020/Central African Republic/Health\", \"2018/Democratic Republic of the Congo/Health\", \"2019/Democratic Republic of the Congo/Health\", \"2020/Democratic Republic of the Congo/Health\", \"2018/Guinea-Conakry/Health\", \"2019/Guinea-Conakry/Health\", \"2020/Guinea-Conakry/Health\", \"2018/Madagascar/Health\", \"2019/Madagascar/Health\", \"2020/Madagascar/Health\", \"2018/Mali/Health\", \"2019/Mali/Health\", \"2020/Mali/Health\", \"2018/Togo/Health\", \"2019/Togo/Health\", \"2020/Togo/Health\", \"2018/Benin/Protection\", \"2019/Benin/Protection\", \"2020/Benin/Protection\", \"2018/Burkina Faso/Protection\", \"2019/Burkina Faso/Protection\", \"2020/Burkina Faso/Protection\", \"2018/Ivory Coast/Protection\", \"2019/Ivory Coast/Protection\", \"2020/Ivory Coast/Protection\", \"2018/Mali/Protection\", \"2019/Mali/Protection\", \"2020/Mali/Protection\", \"2018/Benin\", \"2019/Benin\", \"2020/Benin\", \"2018/Burkina Faso\", \"2019/Burkina Faso\", \"2020/Burkina Faso\", \"2018/Central African Republic\", \"2019/Central African Republic\", \"2020/Central African Republic\", \"2018/Democratic Republic of the Congo\", \"2019/Democratic Republic of the Congo\", \"2020/Democratic Republic of the Congo\", \"2018/Guinea-Conakry\", \"2019/Guinea-Conakry\", \"2020/Guinea-Conakry\", \"2018/Ivory Coast\", \"2019/Ivory Coast\", \"2020/Ivory Coast\", \"2018/Madagascar\", \"2019/Madagascar\", \"2020/Madagascar\", \"2018/Mali\", \"2019/Mali\", \"2020/Mali\", \"2018/Togo\", \"2019/Togo\", \"2020/Togo\", \"2018\", \"2019\", \"2020\"], \"labels\": [\"Education\", \"Education\", \"Education\", \"Education\", \"Education\", \"Education\", \"Education\", \"Education\", \"Education\", \"Education\", \"Education\", \"Education\", \"Emergency\", \"Emergency\", \"Emergency\", \"Health\", \"Health\", \"Health\", \"Health\", \"Health\", \"Health\", \"Health\", \"Health\", \"Health\", \"Health\", \"Health\", \"Health\", \"Health\", \"Health\", \"Health\", \"Health\", \"Health\", \"Health\", \"Health\", \"Health\", \"Health\", \"Health\", \"Health\", \"Health\", \"Protection\", \"Protection\", \"Protection\", \"Protection\", \"Protection\", \"Protection\", \"Protection\", \"Protection\", \"Protection\", \"Protection\", \"Protection\", \"Protection\", \"Benin\", \"Benin\", \"Benin\", \"Burkina Faso\", \"Burkina Faso\", \"Burkina Faso\", \"Central African Republic\", \"Central African Republic\", \"Central African Republic\", \"Democratic Republic of the Congo\", \"Democratic Republic of the Congo\", \"Democratic Republic of the Congo\", \"Guinea-Conakry\", \"Guinea-Conakry\", \"Guinea-Conakry\", \"Ivory Coast\", \"Ivory Coast\", \"Ivory Coast\", \"Madagascar\", \"Madagascar\", \"Madagascar\", \"Mali\", \"Mali\", \"Mali\", \"Togo\", \"Togo\", \"Togo\", \"2018\", \"2019\", \"2020\"], \"name\": \"\", \"parents\": [\"2018/Benin\", \"2019/Benin\", \"2020/Benin\", \"2018/Burkina Faso\", \"2019/Burkina Faso\", \"2020/Burkina Faso\", \"2018/Ivory Coast\", \"2019/Ivory Coast\", \"2020/Ivory Coast\", \"2018/Togo\", \"2019/Togo\", \"2020/Togo\", \"2018/Central African Republic\", \"2019/Central African Republic\", \"2020/Central African Republic\", \"2018/Benin\", \"2019/Benin\", \"2020/Benin\", \"2018/Burkina Faso\", \"2019/Burkina Faso\", \"2020/Burkina Faso\", \"2018/Central African Republic\", \"2019/Central African Republic\", \"2020/Central African Republic\", \"2018/Democratic Republic of the Congo\", \"2019/Democratic Republic of the Congo\", \"2020/Democratic Republic of the Congo\", \"2018/Guinea-Conakry\", \"2019/Guinea-Conakry\", \"2020/Guinea-Conakry\", \"2018/Madagascar\", \"2019/Madagascar\", \"2020/Madagascar\", \"2018/Mali\", \"2019/Mali\", \"2020/Mali\", \"2018/Togo\", \"2019/Togo\", \"2020/Togo\", \"2018/Benin\", \"2019/Benin\", \"2020/Benin\", \"2018/Burkina Faso\", \"2019/Burkina Faso\", \"2020/Burkina Faso\", \"2018/Ivory Coast\", \"2019/Ivory Coast\", \"2020/Ivory Coast\", \"2018/Mali\", \"2019/Mali\", \"2020/Mali\", \"2018\", \"2019\", \"2020\", \"2018\", \"2019\", \"2020\", \"2018\", \"2019\", \"2020\", \"2018\", \"2019\", \"2020\", \"2018\", \"2019\", \"2020\", \"2018\", \"2019\", \"2020\", \"2018\", \"2019\", \"2020\", \"2018\", \"2019\", \"2020\", \"2018\", \"2019\", \"2020\", \"\", \"\", \"\"], \"type\": \"sunburst\", \"values\": [128703.0, 118384.0, 112907.0, 59960.0, 70739.0, 54340.0, 0.0, 0.0, 26695.0, 15000.0, 15000.0, 15000.0, 200000.0, 250000.0, 200000.0, 502220.0, 389442.0, 527162.0, 352191.0, 286465.0, 295189.0, 100000.0, 158835.0, 219000.0, 139332.0, 150000.0, 205000.0, 39300.0, 40000.0, 40000.0, 49500.0, 20000.0, 20000.0, 630042.0, 689044.0, 562660.0, 236271.0, 357854.0, 664898.0, 64998.0, 64157.0, 65375.0, 180076.0, 188093.0, 191593.0, 80428.0, 90000.0, 93528.0, 120000.0, 128052.0, 120000.0, 695921.0, 571983.0, 705444.0, 592227.0, 545297.0, 541122.0, 300000.0, 408835.0, 419000.0, 139332.0, 150000.0, 205000.0, 39300.0, 40000.0, 40000.0, 80428.0, 90000.0, 120223.0, 49500.0, 20000.0, 20000.0, 750042.0, 817096.0, 682660.0, 251271.0, 372854.0, 679898.0, 2898021.0, 3016065.0, 3413347.0]}],                        {\"legend\": {\"tracegroupgap\": 0}, \"margin\": {\"t\": 60}, \"template\": {\"data\": {\"bar\": [{\"error_x\": {\"color\": \"#2a3f5f\"}, \"error_y\": {\"color\": \"#2a3f5f\"}, \"marker\": {\"line\": {\"color\": \"#E5ECF6\", \"width\": 0.5}}, \"type\": \"bar\"}], \"barpolar\": [{\"marker\": {\"line\": {\"color\": \"#E5ECF6\", \"width\": 0.5}}, \"type\": \"barpolar\"}], \"carpet\": [{\"aaxis\": {\"endlinecolor\": \"#2a3f5f\", \"gridcolor\": \"white\", \"linecolor\": \"white\", \"minorgridcolor\": \"white\", \"startlinecolor\": \"#2a3f5f\"}, \"baxis\": {\"endlinecolor\": \"#2a3f5f\", \"gridcolor\": \"white\", \"linecolor\": \"white\", \"minorgridcolor\": \"white\", \"startlinecolor\": \"#2a3f5f\"}, \"type\": \"carpet\"}], \"choropleth\": [{\"colorbar\": {\"outlinewidth\": 0, \"ticks\": \"\"}, \"type\": \"choropleth\"}], \"contour\": [{\"colorbar\": {\"outlinewidth\": 0, \"ticks\": \"\"}, \"colorscale\": [[0.0, \"#0d0887\"], [0.1111111111111111, \"#46039f\"], [0.2222222222222222, \"#7201a8\"], [0.3333333333333333, \"#9c179e\"], [0.4444444444444444, \"#bd3786\"], [0.5555555555555556, \"#d8576b\"], [0.6666666666666666, \"#ed7953\"], [0.7777777777777778, \"#fb9f3a\"], [0.8888888888888888, \"#fdca26\"], [1.0, \"#f0f921\"]], \"type\": \"contour\"}], \"contourcarpet\": [{\"colorbar\": {\"outlinewidth\": 0, \"ticks\": \"\"}, \"type\": \"contourcarpet\"}], \"heatmap\": [{\"colorbar\": {\"outlinewidth\": 0, \"ticks\": \"\"}, \"colorscale\": [[0.0, \"#0d0887\"], [0.1111111111111111, \"#46039f\"], [0.2222222222222222, \"#7201a8\"], [0.3333333333333333, \"#9c179e\"], [0.4444444444444444, \"#bd3786\"], [0.5555555555555556, \"#d8576b\"], [0.6666666666666666, \"#ed7953\"], [0.7777777777777778, \"#fb9f3a\"], [0.8888888888888888, \"#fdca26\"], [1.0, \"#f0f921\"]], \"type\": \"heatmap\"}], \"heatmapgl\": [{\"colorbar\": {\"outlinewidth\": 0, \"ticks\": \"\"}, \"colorscale\": [[0.0, \"#0d0887\"], [0.1111111111111111, \"#46039f\"], [0.2222222222222222, \"#7201a8\"], [0.3333333333333333, \"#9c179e\"], [0.4444444444444444, \"#bd3786\"], [0.5555555555555556, \"#d8576b\"], [0.6666666666666666, \"#ed7953\"], [0.7777777777777778, \"#fb9f3a\"], [0.8888888888888888, \"#fdca26\"], [1.0, \"#f0f921\"]], \"type\": \"heatmapgl\"}], \"histogram\": [{\"marker\": {\"colorbar\": {\"outlinewidth\": 0, \"ticks\": \"\"}}, \"type\": \"histogram\"}], \"histogram2d\": [{\"colorbar\": {\"outlinewidth\": 0, \"ticks\": \"\"}, \"colorscale\": [[0.0, \"#0d0887\"], [0.1111111111111111, \"#46039f\"], [0.2222222222222222, \"#7201a8\"], [0.3333333333333333, \"#9c179e\"], [0.4444444444444444, \"#bd3786\"], [0.5555555555555556, \"#d8576b\"], [0.6666666666666666, \"#ed7953\"], [0.7777777777777778, \"#fb9f3a\"], [0.8888888888888888, \"#fdca26\"], [1.0, \"#f0f921\"]], \"type\": \"histogram2d\"}], \"histogram2dcontour\": [{\"colorbar\": {\"outlinewidth\": 0, \"ticks\": \"\"}, \"colorscale\": [[0.0, \"#0d0887\"], [0.1111111111111111, \"#46039f\"], [0.2222222222222222, \"#7201a8\"], [0.3333333333333333, \"#9c179e\"], [0.4444444444444444, \"#bd3786\"], [0.5555555555555556, \"#d8576b\"], [0.6666666666666666, \"#ed7953\"], [0.7777777777777778, \"#fb9f3a\"], [0.8888888888888888, \"#fdca26\"], [1.0, \"#f0f921\"]], \"type\": \"histogram2dcontour\"}], \"mesh3d\": [{\"colorbar\": {\"outlinewidth\": 0, \"ticks\": \"\"}, \"type\": \"mesh3d\"}], \"parcoords\": [{\"line\": {\"colorbar\": {\"outlinewidth\": 0, \"ticks\": \"\"}}, \"type\": \"parcoords\"}], \"pie\": [{\"automargin\": true, \"type\": \"pie\"}], \"scatter\": [{\"marker\": {\"colorbar\": {\"outlinewidth\": 0, \"ticks\": \"\"}}, \"type\": \"scatter\"}], \"scatter3d\": [{\"line\": {\"colorbar\": {\"outlinewidth\": 0, \"ticks\": \"\"}}, \"marker\": {\"colorbar\": {\"outlinewidth\": 0, \"ticks\": \"\"}}, \"type\": \"scatter3d\"}], \"scattercarpet\": [{\"marker\": {\"colorbar\": {\"outlinewidth\": 0, \"ticks\": \"\"}}, \"type\": \"scattercarpet\"}], \"scattergeo\": [{\"marker\": {\"colorbar\": {\"outlinewidth\": 0, \"ticks\": \"\"}}, \"type\": \"scattergeo\"}], \"scattergl\": [{\"marker\": {\"colorbar\": {\"outlinewidth\": 0, \"ticks\": \"\"}}, \"type\": \"scattergl\"}], \"scattermapbox\": [{\"marker\": {\"colorbar\": {\"outlinewidth\": 0, \"ticks\": \"\"}}, \"type\": \"scattermapbox\"}], \"scatterpolar\": [{\"marker\": {\"colorbar\": {\"outlinewidth\": 0, \"ticks\": \"\"}}, \"type\": \"scatterpolar\"}], \"scatterpolargl\": [{\"marker\": {\"colorbar\": {\"outlinewidth\": 0, \"ticks\": \"\"}}, \"type\": \"scatterpolargl\"}], \"scatterternary\": [{\"marker\": {\"colorbar\": {\"outlinewidth\": 0, \"ticks\": \"\"}}, \"type\": \"scatterternary\"}], \"surface\": [{\"colorbar\": {\"outlinewidth\": 0, \"ticks\": \"\"}, \"colorscale\": [[0.0, \"#0d0887\"], [0.1111111111111111, \"#46039f\"], [0.2222222222222222, \"#7201a8\"], [0.3333333333333333, \"#9c179e\"], [0.4444444444444444, \"#bd3786\"], [0.5555555555555556, \"#d8576b\"], [0.6666666666666666, \"#ed7953\"], [0.7777777777777778, \"#fb9f3a\"], [0.8888888888888888, \"#fdca26\"], [1.0, \"#f0f921\"]], \"type\": \"surface\"}], \"table\": [{\"cells\": {\"fill\": {\"color\": \"#EBF0F8\"}, \"line\": {\"color\": \"white\"}}, \"header\": {\"fill\": {\"color\": \"#C8D4E3\"}, \"line\": {\"color\": \"white\"}}, \"type\": \"table\"}]}, \"layout\": {\"annotationdefaults\": {\"arrowcolor\": \"#2a3f5f\", \"arrowhead\": 0, \"arrowwidth\": 1}, \"coloraxis\": {\"colorbar\": {\"outlinewidth\": 0, \"ticks\": \"\"}}, \"colorscale\": {\"diverging\": [[0, \"#8e0152\"], [0.1, \"#c51b7d\"], [0.2, \"#de77ae\"], [0.3, \"#f1b6da\"], [0.4, \"#fde0ef\"], [0.5, \"#f7f7f7\"], [0.6, \"#e6f5d0\"], [0.7, \"#b8e186\"], [0.8, \"#7fbc41\"], [0.9, \"#4d9221\"], [1, \"#276419\"]], \"sequential\": [[0.0, \"#0d0887\"], [0.1111111111111111, \"#46039f\"], [0.2222222222222222, \"#7201a8\"], [0.3333333333333333, \"#9c179e\"], [0.4444444444444444, \"#bd3786\"], [0.5555555555555556, \"#d8576b\"], [0.6666666666666666, \"#ed7953\"], [0.7777777777777778, \"#fb9f3a\"], [0.8888888888888888, \"#fdca26\"], [1.0, \"#f0f921\"]], \"sequentialminus\": [[0.0, \"#0d0887\"], [0.1111111111111111, \"#46039f\"], [0.2222222222222222, \"#7201a8\"], [0.3333333333333333, \"#9c179e\"], [0.4444444444444444, \"#bd3786\"], [0.5555555555555556, \"#d8576b\"], [0.6666666666666666, \"#ed7953\"], [0.7777777777777778, \"#fb9f3a\"], [0.8888888888888888, \"#fdca26\"], [1.0, \"#f0f921\"]]}, \"colorway\": [\"#636efa\", \"#EF553B\", \"#00cc96\", \"#ab63fa\", \"#FFA15A\", \"#19d3f3\", \"#FF6692\", \"#B6E880\", \"#FF97FF\", \"#FECB52\"], \"font\": {\"color\": \"#2a3f5f\"}, \"geo\": {\"bgcolor\": \"white\", \"lakecolor\": \"white\", \"landcolor\": \"#E5ECF6\", \"showlakes\": true, \"showland\": true, \"subunitcolor\": \"white\"}, \"hoverlabel\": {\"align\": \"left\"}, \"hovermode\": \"closest\", \"mapbox\": {\"style\": \"light\"}, \"paper_bgcolor\": \"white\", \"plot_bgcolor\": \"#E5ECF6\", \"polar\": {\"angularaxis\": {\"gridcolor\": \"white\", \"linecolor\": \"white\", \"ticks\": \"\"}, \"bgcolor\": \"#E5ECF6\", \"radialaxis\": {\"gridcolor\": \"white\", \"linecolor\": \"white\", \"ticks\": \"\"}}, \"scene\": {\"xaxis\": {\"backgroundcolor\": \"#E5ECF6\", \"gridcolor\": \"white\", \"gridwidth\": 2, \"linecolor\": \"white\", \"showbackground\": true, \"ticks\": \"\", \"zerolinecolor\": \"white\"}, \"yaxis\": {\"backgroundcolor\": \"#E5ECF6\", \"gridcolor\": \"white\", \"gridwidth\": 2, \"linecolor\": \"white\", \"showbackground\": true, \"ticks\": \"\", \"zerolinecolor\": \"white\"}, \"zaxis\": {\"backgroundcolor\": \"#E5ECF6\", \"gridcolor\": \"white\", \"gridwidth\": 2, \"linecolor\": \"white\", \"showbackground\": true, \"ticks\": \"\", \"zerolinecolor\": \"white\"}}, \"shapedefaults\": {\"line\": {\"color\": \"#2a3f5f\"}}, \"ternary\": {\"aaxis\": {\"gridcolor\": \"white\", \"linecolor\": \"white\", \"ticks\": \"\"}, \"baxis\": {\"gridcolor\": \"white\", \"linecolor\": \"white\", \"ticks\": \"\"}, \"bgcolor\": \"#E5ECF6\", \"caxis\": {\"gridcolor\": \"white\", \"linecolor\": \"white\", \"ticks\": \"\"}}, \"title\": {\"x\": 0.05}, \"xaxis\": {\"automargin\": true, \"gridcolor\": \"white\", \"linecolor\": \"white\", \"ticks\": \"\", \"title\": {\"standoff\": 15}, \"zerolinecolor\": \"white\", \"zerolinewidth\": 2}, \"yaxis\": {\"automargin\": true, \"gridcolor\": \"white\", \"linecolor\": \"white\", \"ticks\": \"\", \"title\": {\"standoff\": 15}, \"zerolinecolor\": \"white\", \"zerolinewidth\": 2}}}},                        {\"responsive\": true}                    ).then(function(){\n",
       "                            \n",
       "var gd = document.getElementById('20c63202-9bf2-4540-9d26-5d87679b0255');\n",
       "var x = new MutationObserver(function (mutations, observer) {{\n",
       "        var display = window.getComputedStyle(gd).display;\n",
       "        if (!display || display === 'none') {{\n",
       "            console.log([gd, 'removed!']);\n",
       "            Plotly.purge(gd);\n",
       "            observer.disconnect();\n",
       "        }}\n",
       "}});\n",
       "\n",
       "// Listen for the removal of the full notebook cells\n",
       "var notebookContainer = gd.closest('#notebook-container');\n",
       "if (notebookContainer) {{\n",
       "    x.observe(notebookContainer, {childList: true});\n",
       "}}\n",
       "\n",
       "// Listen for the clearing of the current output cell\n",
       "var outputEl = gd.closest('.output');\n",
       "if (outputEl) {{\n",
       "    x.observe(outputEl, {childList: true});\n",
       "}}\n",
       "\n",
       "                        })                };                });            </script>        </div>"
      ]
     },
     "metadata": {},
     "output_type": "display_data"
    }
   ],
   "source": [
    "px.sunburst(df, path=['Year', 'Country', 'Axis of intervention'], values='Voted Year project budget €')"
   ]
  },
  {
   "cell_type": "code",
   "execution_count": 102,
   "metadata": {
    "ExecuteTime": {
     "end_time": "2021-01-26T17:41:03.503110Z",
     "start_time": "2021-01-26T17:41:03.436174Z"
    },
    "collapsed": true
   },
   "outputs": [
    {
     "data": {
      "text/html": [
       "<div>\n",
       "<style scoped>\n",
       "    .dataframe tbody tr th:only-of-type {\n",
       "        vertical-align: middle;\n",
       "    }\n",
       "\n",
       "    .dataframe tbody tr th {\n",
       "        vertical-align: top;\n",
       "    }\n",
       "\n",
       "    .dataframe thead th {\n",
       "        text-align: right;\n",
       "    }\n",
       "</style>\n",
       "<table border=\"1\" class=\"dataframe\">\n",
       "  <thead>\n",
       "    <tr style=\"text-align: right;\">\n",
       "      <th></th>\n",
       "      <th>Country</th>\n",
       "      <th>Local partner</th>\n",
       "      <th>Project title</th>\n",
       "      <th>Axis of intervention</th>\n",
       "      <th>Direct beneficiaries</th>\n",
       "      <th>Indirect beneficiaries</th>\n",
       "      <th>Region</th>\n",
       "      <th>Voted Year project budget €</th>\n",
       "      <th>Project share % out of all budget</th>\n",
       "      <th>Voted Year country budget €</th>\n",
       "      <th>Country share % out of all budget</th>\n",
       "      <th>Project financing (as per the 2016-2020 cooperation agreement)</th>\n",
       "      <th>Final_result</th>\n",
       "      <th>Year</th>\n",
       "    </tr>\n",
       "  </thead>\n",
       "  <tbody>\n",
       "    <tr>\n",
       "      <th>0</th>\n",
       "      <td>Benin</td>\n",
       "      <td>R-FFL</td>\n",
       "      <td>CIPSA-EH Socio-educative center</td>\n",
       "      <td>Education</td>\n",
       "      <td>The children at the center</td>\n",
       "      <td>The local population, more specifically the ch...</td>\n",
       "      <td>Area of Allada-Zè-Toffo (Atlantic region, sout...</td>\n",
       "      <td>47043.0</td>\n",
       "      <td>0.016233</td>\n",
       "      <td>695921</td>\n",
       "      <td>0.240137</td>\n",
       "      <td>Ministry of Foreign Affairs and foundation's f...</td>\n",
       "      <td>More than 50 children benefited from psycholog...</td>\n",
       "      <td>2018</td>\n",
       "    </tr>\n",
       "    <tr>\n",
       "      <th>1</th>\n",
       "      <td>Benin</td>\n",
       "      <td>R-FFL</td>\n",
       "      <td>Zè vocational taining center</td>\n",
       "      <td>Education</td>\n",
       "      <td>The young people undertaking the training</td>\n",
       "      <td>The local population, more specifically the te...</td>\n",
       "      <td>Area of Allada-Zè-Toffo (Atlantic region, sout...</td>\n",
       "      <td>66660.0</td>\n",
       "      <td>0.023002</td>\n",
       "      <td>695921</td>\n",
       "      <td>0.240137</td>\n",
       "      <td>Ministry of Foreign Affairs and foundation's f...</td>\n",
       "      <td>27 apprentices out of 28 (14 in sewing and 14 ...</td>\n",
       "      <td>2018</td>\n",
       "    </tr>\n",
       "    <tr>\n",
       "      <th>2</th>\n",
       "      <td>Benin</td>\n",
       "      <td>R-FFL</td>\n",
       "      <td>Fight against child trafficking in the North o...</td>\n",
       "      <td>Protection</td>\n",
       "      <td>The children being cared for</td>\n",
       "      <td>The local population, more specifically the ch...</td>\n",
       "      <td>North of the country</td>\n",
       "      <td>64998.0</td>\n",
       "      <td>0.022428</td>\n",
       "      <td>695921</td>\n",
       "      <td>0.240137</td>\n",
       "      <td>Ministry of Foreign Affairs and foundation's f...</td>\n",
       "      <td>32 awareness raising sessions and 192 educatio...</td>\n",
       "      <td>2018</td>\n",
       "    </tr>\n",
       "    <tr>\n",
       "      <th>3</th>\n",
       "      <td>Benin</td>\n",
       "      <td>R-FFL</td>\n",
       "      <td>Buruli ulcer screening and treatment center</td>\n",
       "      <td>Health</td>\n",
       "      <td>The people being cared for in the health struc...</td>\n",
       "      <td>The local populations</td>\n",
       "      <td>Area of Allada-Zè-Toffo (Atlantic region, sout...</td>\n",
       "      <td>150272.0</td>\n",
       "      <td>0.051853</td>\n",
       "      <td>695921</td>\n",
       "      <td>0.240137</td>\n",
       "      <td>Ministry of Foreign Affairs and foundation's f...</td>\n",
       "      <td>Hospitalisation at the center in Allada was re...</td>\n",
       "      <td>2018</td>\n",
       "    </tr>\n",
       "    <tr>\n",
       "      <th>4</th>\n",
       "      <td>Benin</td>\n",
       "      <td>R-FFL</td>\n",
       "      <td>Community health program</td>\n",
       "      <td>Health</td>\n",
       "      <td>The people being cared for in the health struc...</td>\n",
       "      <td>The local populations</td>\n",
       "      <td>Atlantic region (south of the country) et Coll...</td>\n",
       "      <td>351948.0</td>\n",
       "      <td>0.121444</td>\n",
       "      <td>695921</td>\n",
       "      <td>0.240137</td>\n",
       "      <td>Ministry of Foreign Affairs and foundation's f...</td>\n",
       "      <td>127 women gave birth in the right conditions $...</td>\n",
       "      <td>2018</td>\n",
       "    </tr>\n",
       "    <tr>\n",
       "      <th>5</th>\n",
       "      <td>Benin</td>\n",
       "      <td>R-FFL</td>\n",
       "      <td>Mind the Gap</td>\n",
       "      <td>Education</td>\n",
       "      <td>The students in the recipient schools</td>\n",
       "      <td>The local populations</td>\n",
       "      <td>Atlantic region (south of the country) et Coll...</td>\n",
       "      <td>15000.0</td>\n",
       "      <td>0.005176</td>\n",
       "      <td>695921</td>\n",
       "      <td>0.240137</td>\n",
       "      <td>Foundation's funds</td>\n",
       "      <td>see Togo $%  $%  $%  $%</td>\n",
       "      <td>2018</td>\n",
       "    </tr>\n",
       "    <tr>\n",
       "      <th>6</th>\n",
       "      <td>Burkina Faso</td>\n",
       "      <td>AAB-FFL</td>\n",
       "      <td>Dedougou young gardeners</td>\n",
       "      <td>Education</td>\n",
       "      <td>The young people undertaking the training</td>\n",
       "      <td>The local population, more specifically the te...</td>\n",
       "      <td>Dédougou (Mouhoun province, west of the country)</td>\n",
       "      <td>59960.0</td>\n",
       "      <td>0.020690</td>\n",
       "      <td>592227</td>\n",
       "      <td>0.204356</td>\n",
       "      <td>Ministry of Foreign Affairs and foundation's f...</td>\n",
       "      <td>40 young people were taken care of and trained...</td>\n",
       "      <td>2018</td>\n",
       "    </tr>\n",
       "    <tr>\n",
       "      <th>7</th>\n",
       "      <td>Burkina Faso</td>\n",
       "      <td>AAB-FFL</td>\n",
       "      <td>Fight against female genital mutilations</td>\n",
       "      <td>Protection</td>\n",
       "      <td>The women and girls in the provinces</td>\n",
       "      <td>The local populations</td>\n",
       "      <td>Sissili and Tuy Provinces</td>\n",
       "      <td>80924.0</td>\n",
       "      <td>0.027924</td>\n",
       "      <td>592227</td>\n",
       "      <td>0.204356</td>\n",
       "      <td>Ministry of Foreign Affairs and foundation's f...</td>\n",
       "      <td>53 villages benefited from the awareness raisi...</td>\n",
       "      <td>2018</td>\n",
       "    </tr>\n",
       "    <tr>\n",
       "      <th>8</th>\n",
       "      <td>Burkina Faso</td>\n",
       "      <td>AAB-FFL</td>\n",
       "      <td>Comprehensive and adapted care of mine-working...</td>\n",
       "      <td>Protection</td>\n",
       "      <td>The children being cared for</td>\n",
       "      <td>The local population, more specifically the ch...</td>\n",
       "      <td>Tougouri (Namentenga province, North-East of t...</td>\n",
       "      <td>99152.0</td>\n",
       "      <td>0.034214</td>\n",
       "      <td>592227</td>\n",
       "      <td>0.204356</td>\n",
       "      <td>Ministry of Foreign Affairs and foundation's f...</td>\n",
       "      <td>In 2018, the second class with 63 young people...</td>\n",
       "      <td>2018</td>\n",
       "    </tr>\n",
       "    <tr>\n",
       "      <th>9</th>\n",
       "      <td>Burkina Faso</td>\n",
       "      <td>AAB-FFL</td>\n",
       "      <td>Community health program</td>\n",
       "      <td>Health</td>\n",
       "      <td>The people being cared for in the health struc...</td>\n",
       "      <td>The local populations</td>\n",
       "      <td>Across the country</td>\n",
       "      <td>352191.0</td>\n",
       "      <td>0.121528</td>\n",
       "      <td>592227</td>\n",
       "      <td>0.204356</td>\n",
       "      <td>Ministry of Foreign Affairs and foundation's f...</td>\n",
       "      <td>45.667 medical check-ups registered in all the...</td>\n",
       "      <td>2018</td>\n",
       "    </tr>\n",
       "    <tr>\n",
       "      <th>10</th>\n",
       "      <td>Ivory Coast</td>\n",
       "      <td>AME</td>\n",
       "      <td>Socio-professional integration of female youth...</td>\n",
       "      <td>Education</td>\n",
       "      <td>The teenage girls undertaking a training</td>\n",
       "      <td>The local population, more specifically the te...</td>\n",
       "      <td>Kaloukro (Gbêkê region, center of the country)</td>\n",
       "      <td>NaN</td>\n",
       "      <td>NaN</td>\n",
       "      <td>80428</td>\n",
       "      <td>0.027753</td>\n",
       "      <td>Ministry of Foreign Affairs and foundation's f...</td>\n",
       "      <td>30 girls benefited from adapted care at the ce...</td>\n",
       "      <td>2018</td>\n",
       "    </tr>\n",
       "    <tr>\n",
       "      <th>11</th>\n",
       "      <td>Ivory Coast</td>\n",
       "      <td>AME</td>\n",
       "      <td>Comprehensive and adapted care of Bouaké stree...</td>\n",
       "      <td>Protection</td>\n",
       "      <td>The children being cared for</td>\n",
       "      <td>The local population, more specifically the ch...</td>\n",
       "      <td>Bouaké (Gbêkê region, center of the country)</td>\n",
       "      <td>80428.0</td>\n",
       "      <td>0.027753</td>\n",
       "      <td>80428</td>\n",
       "      <td>0.027753</td>\n",
       "      <td>Ministry of Foreign Affairs and foundation's f...</td>\n",
       "      <td>110 young people benefited from adapted care a...</td>\n",
       "      <td>2018</td>\n",
       "    </tr>\n",
       "    <tr>\n",
       "      <th>12</th>\n",
       "      <td>Guinea-Conakry</td>\n",
       "      <td>APROSCO</td>\n",
       "      <td>Reinforcing capabilities in the screening and ...</td>\n",
       "      <td>Health</td>\n",
       "      <td>The people benefiting from screening and treat...</td>\n",
       "      <td>The local populations</td>\n",
       "      <td>N’Zérékoré</td>\n",
       "      <td>39300.0</td>\n",
       "      <td>0.013561</td>\n",
       "      <td>39300</td>\n",
       "      <td>0.013561</td>\n",
       "      <td>Foundation's funds</td>\n",
       "      <td>70 community health agents were trained about ...</td>\n",
       "      <td>2018</td>\n",
       "    </tr>\n",
       "    <tr>\n",
       "      <th>13</th>\n",
       "      <td>Madagascar</td>\n",
       "      <td>Les Sœurs de Saint-Paul de Chartres</td>\n",
       "      <td>Screening and Treatment of Neglected Tropical ...</td>\n",
       "      <td>Health</td>\n",
       "      <td>The people benefiting from screening and treat...</td>\n",
       "      <td>The local populations</td>\n",
       "      <td>Amoron’i Mania (center of the country)</td>\n",
       "      <td>49500.0</td>\n",
       "      <td>0.017081</td>\n",
       "      <td>49500</td>\n",
       "      <td>0.017081</td>\n",
       "      <td>Foundation's funds</td>\n",
       "      <td>16 mass check-ups et 59 awareness raising acti...</td>\n",
       "      <td>2018</td>\n",
       "    </tr>\n",
       "    <tr>\n",
       "      <th>14</th>\n",
       "      <td>Mali</td>\n",
       "      <td>COFESFA</td>\n",
       "      <td>Raising awarenss among communities against Fem...</td>\n",
       "      <td>Protection</td>\n",
       "      <td>The women and girls in the provinces</td>\n",
       "      <td>The local populations</td>\n",
       "      <td>Cercle de Kati</td>\n",
       "      <td>48000.0</td>\n",
       "      <td>0.016563</td>\n",
       "      <td>750042</td>\n",
       "      <td>0.258812</td>\n",
       "      <td>Ministry of Foreign Affairs and foundation's f...</td>\n",
       "      <td>398 educational talks et 70 information and aw...</td>\n",
       "      <td>2018</td>\n",
       "    </tr>\n",
       "    <tr>\n",
       "      <th>15</th>\n",
       "      <td>Mali</td>\n",
       "      <td>COFESFA</td>\n",
       "      <td>Enabling and promoting female, maternal and in...</td>\n",
       "      <td>Health</td>\n",
       "      <td>The women and children being cared for in the ...</td>\n",
       "      <td>The local populations</td>\n",
       "      <td>Cercle de Kati and Dioila</td>\n",
       "      <td>290042.0</td>\n",
       "      <td>0.100083</td>\n",
       "      <td>750042</td>\n",
       "      <td>0.258812</td>\n",
       "      <td>Ministry of Foreign Affairs and foundation's f...</td>\n",
       "      <td>113.850 people were sensitized to the good hyg...</td>\n",
       "      <td>2018</td>\n",
       "    </tr>\n",
       "    <tr>\n",
       "      <th>16</th>\n",
       "      <td>Mali</td>\n",
       "      <td>AP-FFL</td>\n",
       "      <td>Comprehensive and adapted care of Ségou street...</td>\n",
       "      <td>Protection</td>\n",
       "      <td>The children being cared for</td>\n",
       "      <td>The local population, more specifically the ch...</td>\n",
       "      <td>Ségou region</td>\n",
       "      <td>72000.0</td>\n",
       "      <td>0.024845</td>\n",
       "      <td>750042</td>\n",
       "      <td>0.258812</td>\n",
       "      <td>Ministry of Foreign Affairs and foundation's f...</td>\n",
       "      <td>88 street rounds were realised enabling to ide...</td>\n",
       "      <td>2018</td>\n",
       "    </tr>\n",
       "    <tr>\n",
       "      <th>17</th>\n",
       "      <td>Mali</td>\n",
       "      <td>AP-FFL</td>\n",
       "      <td>Community health program</td>\n",
       "      <td>Health</td>\n",
       "      <td>The people being cared for in the health struc...</td>\n",
       "      <td>The local populations</td>\n",
       "      <td>Ségou region</td>\n",
       "      <td>340000.0</td>\n",
       "      <td>0.117321</td>\n",
       "      <td>750042</td>\n",
       "      <td>0.258812</td>\n",
       "      <td>Ministry of Foreign Affairs and foundation's f...</td>\n",
       "      <td>2 new centers were equipped in Safolo and Tass...</td>\n",
       "      <td>2018</td>\n",
       "    </tr>\n",
       "    <tr>\n",
       "      <th>18</th>\n",
       "      <td>Central African Republic</td>\n",
       "      <td>FAIRMED</td>\n",
       "      <td>Enabling and promoting health for the Lobaye p...</td>\n",
       "      <td>Health</td>\n",
       "      <td>The people being cared for in the health struc...</td>\n",
       "      <td>The local populations</td>\n",
       "      <td>Lobaye region</td>\n",
       "      <td>100000.0</td>\n",
       "      <td>0.034506</td>\n",
       "      <td>300000</td>\n",
       "      <td>0.103519</td>\n",
       "      <td>Ministry of Foreign Affairs and foundation's f...</td>\n",
       "      <td>1.553 Aka women received prenatal checks $% 4....</td>\n",
       "      <td>2018</td>\n",
       "    </tr>\n",
       "    <tr>\n",
       "      <th>19</th>\n",
       "      <td>Central African Republic</td>\n",
       "      <td>FAIRMED</td>\n",
       "      <td>Humanitarian Aid</td>\n",
       "      <td>Emergency</td>\n",
       "      <td>The people being cared for in the health struc...</td>\n",
       "      <td>The local populations</td>\n",
       "      <td>Prefectures of Ombella-M’poko and Lobaye</td>\n",
       "      <td>200000.0</td>\n",
       "      <td>0.069013</td>\n",
       "      <td>300000</td>\n",
       "      <td>0.103519</td>\n",
       "      <td>Ministry of Foreign Affairs</td>\n",
       "      <td>38 health structures supported by the projet $...</td>\n",
       "      <td>2018</td>\n",
       "    </tr>\n",
       "    <tr>\n",
       "      <th>20</th>\n",
       "      <td>Democratic Republic of the Congo</td>\n",
       "      <td>SUMEDCO</td>\n",
       "      <td>Polyclinic in Mbuji-Mayi</td>\n",
       "      <td>Health</td>\n",
       "      <td>The people being cared for in the health struc...</td>\n",
       "      <td>The local populations</td>\n",
       "      <td>Mbuji-Mayi, administrative center of Kasaï Ori...</td>\n",
       "      <td>139332.0</td>\n",
       "      <td>0.048078</td>\n",
       "      <td>139332</td>\n",
       "      <td>0.048078</td>\n",
       "      <td>Ministry of Foreign Affairs and foundation's f...</td>\n",
       "      <td>8.362 patients had a check-up at the polyclini...</td>\n",
       "      <td>2018</td>\n",
       "    </tr>\n",
       "    <tr>\n",
       "      <th>21</th>\n",
       "      <td>Togo</td>\n",
       "      <td>AAT-FFL</td>\n",
       "      <td>Mind the Gap</td>\n",
       "      <td>Education</td>\n",
       "      <td>The students in the recipient schools</td>\n",
       "      <td>The local populations</td>\n",
       "      <td>Maritime and Plateaux regions</td>\n",
       "      <td>15000.0</td>\n",
       "      <td>0.005176</td>\n",
       "      <td>251271</td>\n",
       "      <td>0.086704</td>\n",
       "      <td>Foundation's funds</td>\n",
       "      <td>Since 2011, more than 3200 ordinateurs were in...</td>\n",
       "      <td>2018</td>\n",
       "    </tr>\n",
       "    <tr>\n",
       "      <th>22</th>\n",
       "      <td>Togo</td>\n",
       "      <td>AAT-FFL</td>\n",
       "      <td>Community health program</td>\n",
       "      <td>Health</td>\n",
       "      <td>The people being cared for in the health struc...</td>\n",
       "      <td>The local populations</td>\n",
       "      <td>Agou, Kpélè and Zio prefectures (maritime and ...</td>\n",
       "      <td>236271.0</td>\n",
       "      <td>0.081528</td>\n",
       "      <td>251271</td>\n",
       "      <td>0.086704</td>\n",
       "      <td>Ministry of Foreign Affairs and foundation's f...</td>\n",
       "      <td>2 new peripheral care units made operational $...</td>\n",
       "      <td>2018</td>\n",
       "    </tr>\n",
       "    <tr>\n",
       "      <th>23</th>\n",
       "      <td>Benin</td>\n",
       "      <td>R-FFL</td>\n",
       "      <td>CIPSA-EH Socio-educative center</td>\n",
       "      <td>Education</td>\n",
       "      <td>The children at the center</td>\n",
       "      <td>The local population, more specifically the ch...</td>\n",
       "      <td>Area of Allada-Zè-Toffo (Atlantic region, sout...</td>\n",
       "      <td>46538.0</td>\n",
       "      <td>0.015430</td>\n",
       "      <td>571983</td>\n",
       "      <td>0.189645</td>\n",
       "      <td>Ministry of Foreign Affairs and foundation's f...</td>\n",
       "      <td>80 handicaped or vulnerable children were care...</td>\n",
       "      <td>2019</td>\n",
       "    </tr>\n",
       "    <tr>\n",
       "      <th>24</th>\n",
       "      <td>Benin</td>\n",
       "      <td>R-FFL</td>\n",
       "      <td>Zè vocational taining center</td>\n",
       "      <td>Education</td>\n",
       "      <td>The young people undertaking the training</td>\n",
       "      <td>The local population, more specifically the te...</td>\n",
       "      <td>Area of Allada-Zè-Toffo (Atlantic region, sout...</td>\n",
       "      <td>56846.0</td>\n",
       "      <td>0.018848</td>\n",
       "      <td>571983</td>\n",
       "      <td>0.189645</td>\n",
       "      <td>Ministry of Foreign Affairs and foundation's f...</td>\n",
       "      <td>49 students from 16 to 23 years old undertook ...</td>\n",
       "      <td>2019</td>\n",
       "    </tr>\n",
       "    <tr>\n",
       "      <th>25</th>\n",
       "      <td>Benin</td>\n",
       "      <td>R-FFL</td>\n",
       "      <td>Fight against child trafficking in the North o...</td>\n",
       "      <td>Protection</td>\n",
       "      <td>The children being cared for</td>\n",
       "      <td>The local population, more specifically the ch...</td>\n",
       "      <td>North of the country</td>\n",
       "      <td>64157.0</td>\n",
       "      <td>0.021272</td>\n",
       "      <td>571983</td>\n",
       "      <td>0.189645</td>\n",
       "      <td>Ministry of Foreign Affairs and foundation's f...</td>\n",
       "      <td>133 children from 3 to 16 years old, including...</td>\n",
       "      <td>2019</td>\n",
       "    </tr>\n",
       "    <tr>\n",
       "      <th>26</th>\n",
       "      <td>Benin</td>\n",
       "      <td>R-FFL</td>\n",
       "      <td>Buruli ulcer screening and treatment center</td>\n",
       "      <td>Health</td>\n",
       "      <td>The people being cared for in the health struc...</td>\n",
       "      <td>The local populations</td>\n",
       "      <td>Area of Allada-Zè-Toffo (Atlantic region, sout...</td>\n",
       "      <td>47927.0</td>\n",
       "      <td>0.015891</td>\n",
       "      <td>571983</td>\n",
       "      <td>0.189645</td>\n",
       "      <td>Ministry of Foreign Affairs and foundation's f...</td>\n",
       "      <td>174 new patients were treated during the 1 tri...</td>\n",
       "      <td>2019</td>\n",
       "    </tr>\n",
       "    <tr>\n",
       "      <th>27</th>\n",
       "      <td>Benin</td>\n",
       "      <td>R-FFL</td>\n",
       "      <td>Community health program</td>\n",
       "      <td>Health</td>\n",
       "      <td>The people being cared for in the health struc...</td>\n",
       "      <td>The local populations</td>\n",
       "      <td>Atlantic region (south of the country) et Coll...</td>\n",
       "      <td>341515.0</td>\n",
       "      <td>0.113232</td>\n",
       "      <td>571983</td>\n",
       "      <td>0.189645</td>\n",
       "      <td>Ministry of Foreign Affairs and foundation's f...</td>\n",
       "      <td>169 women gave birth in the right conditions $...</td>\n",
       "      <td>2019</td>\n",
       "    </tr>\n",
       "    <tr>\n",
       "      <th>28</th>\n",
       "      <td>Benin</td>\n",
       "      <td>R-FFL</td>\n",
       "      <td>Mind the Gap</td>\n",
       "      <td>Education</td>\n",
       "      <td>The students in the recipient schools</td>\n",
       "      <td>The local populations</td>\n",
       "      <td>Atlantic region (south of the country) et Coll...</td>\n",
       "      <td>15000.0</td>\n",
       "      <td>0.004973</td>\n",
       "      <td>571983</td>\n",
       "      <td>0.189645</td>\n",
       "      <td>Foundation's funds</td>\n",
       "      <td>See Togo $%  $%  $%  $%  $%  $%</td>\n",
       "      <td>2019</td>\n",
       "    </tr>\n",
       "    <tr>\n",
       "      <th>29</th>\n",
       "      <td>Burkina Faso</td>\n",
       "      <td>AAB-FFL</td>\n",
       "      <td>Dedougou young gardeners</td>\n",
       "      <td>Education</td>\n",
       "      <td>The young people undertaking the training</td>\n",
       "      <td>The local population, more specifically the te...</td>\n",
       "      <td>Dédougou (Mouhoun province, west of the country)</td>\n",
       "      <td>70739.0</td>\n",
       "      <td>0.023454</td>\n",
       "      <td>545297</td>\n",
       "      <td>0.180797</td>\n",
       "      <td>Ministry of Foreign Affairs and foundation's f...</td>\n",
       "      <td>36 young people in the center completed their ...</td>\n",
       "      <td>2019</td>\n",
       "    </tr>\n",
       "    <tr>\n",
       "      <th>30</th>\n",
       "      <td>Burkina Faso</td>\n",
       "      <td>AAB-FFL</td>\n",
       "      <td>Fight against female genital mutilations</td>\n",
       "      <td>Protection</td>\n",
       "      <td>The women and girls in the provinces</td>\n",
       "      <td>The local populations</td>\n",
       "      <td>Sissili and Tuy Provinces</td>\n",
       "      <td>90452.0</td>\n",
       "      <td>0.029990</td>\n",
       "      <td>545297</td>\n",
       "      <td>0.180797</td>\n",
       "      <td>Ministry of Foreign Affairs and foundation's f...</td>\n",
       "      <td>79 women suffering from the consequences of FG...</td>\n",
       "      <td>2019</td>\n",
       "    </tr>\n",
       "    <tr>\n",
       "      <th>31</th>\n",
       "      <td>Burkina Faso</td>\n",
       "      <td>AAB-FFL</td>\n",
       "      <td>Comprehensive and adapted care of mine-working...</td>\n",
       "      <td>Protection</td>\n",
       "      <td>The children being cared for</td>\n",
       "      <td>The local population, more specifically the ch...</td>\n",
       "      <td>Tougouri (Namentenga province, North-East of t...</td>\n",
       "      <td>97641.0</td>\n",
       "      <td>0.032374</td>\n",
       "      <td>545297</td>\n",
       "      <td>0.180797</td>\n",
       "      <td>Ministry of Foreign Affairs and foundation's f...</td>\n",
       "      <td>60 students, 41 boys and 19 girls, undertook t...</td>\n",
       "      <td>2019</td>\n",
       "    </tr>\n",
       "    <tr>\n",
       "      <th>32</th>\n",
       "      <td>Burkina Faso</td>\n",
       "      <td>AAB-FFL</td>\n",
       "      <td>Community health program</td>\n",
       "      <td>Health</td>\n",
       "      <td>The people being cared for in the health struc...</td>\n",
       "      <td>The local populations</td>\n",
       "      <td>Across the country</td>\n",
       "      <td>286465.0</td>\n",
       "      <td>0.094980</td>\n",
       "      <td>545297</td>\n",
       "      <td>0.180797</td>\n",
       "      <td>Ministry of Foreign Affairs and foundation's f...</td>\n",
       "      <td>47.567 medical checks were registered amongst ...</td>\n",
       "      <td>2019</td>\n",
       "    </tr>\n",
       "    <tr>\n",
       "      <th>33</th>\n",
       "      <td>Ivory Coast</td>\n",
       "      <td>AME</td>\n",
       "      <td>Socio-professional integration of female youth...</td>\n",
       "      <td>Education</td>\n",
       "      <td>The teenage girls undertaking a training</td>\n",
       "      <td>The local population, more specifically the te...</td>\n",
       "      <td>Kaloukro (Gbêkê region, center of the country)</td>\n",
       "      <td>NaN</td>\n",
       "      <td>NaN</td>\n",
       "      <td>90000</td>\n",
       "      <td>0.029840</td>\n",
       "      <td>Ministry of Foreign Affairs and foundation's f...</td>\n",
       "      <td>41 girls followed a training, including 15 tee...</td>\n",
       "      <td>2019</td>\n",
       "    </tr>\n",
       "    <tr>\n",
       "      <th>34</th>\n",
       "      <td>Ivory Coast</td>\n",
       "      <td>AME</td>\n",
       "      <td>Comprehensive and adapted care of Bouaké stree...</td>\n",
       "      <td>Protection</td>\n",
       "      <td>The children being cared for</td>\n",
       "      <td>The local population, more specifically the ch...</td>\n",
       "      <td>Bouaké (Gbêkê region, center of the country)</td>\n",
       "      <td>90000.0</td>\n",
       "      <td>0.029840</td>\n",
       "      <td>90000</td>\n",
       "      <td>0.029840</td>\n",
       "      <td>Ministry of Foreign Affairs and foundation's f...</td>\n",
       "      <td>77 children from 6 to 22 years old welcomed to...</td>\n",
       "      <td>2019</td>\n",
       "    </tr>\n",
       "    <tr>\n",
       "      <th>35</th>\n",
       "      <td>Guinea-Conakry</td>\n",
       "      <td>APROSCO</td>\n",
       "      <td>Reinforcing capabilities in the screening and ...</td>\n",
       "      <td>Health</td>\n",
       "      <td>The people benefiting from screening and treat...</td>\n",
       "      <td>The local populations</td>\n",
       "      <td>N’Zérékoré</td>\n",
       "      <td>40000.0</td>\n",
       "      <td>0.013262</td>\n",
       "      <td>40000</td>\n",
       "      <td>0.013262</td>\n",
       "      <td>Foundation's funds</td>\n",
       "      <td>6000 people sensitized during the mass awarene...</td>\n",
       "      <td>2019</td>\n",
       "    </tr>\n",
       "    <tr>\n",
       "      <th>36</th>\n",
       "      <td>Madagascar</td>\n",
       "      <td>Les Sœurs de Saint-Paul de Chartres</td>\n",
       "      <td>Screening and Treatment of Neglected Tropical ...</td>\n",
       "      <td>Health</td>\n",
       "      <td>The people benefiting from screening and treat...</td>\n",
       "      <td>The local populations</td>\n",
       "      <td>Amoron’i Mania (center of the country)</td>\n",
       "      <td>20000.0</td>\n",
       "      <td>0.006631</td>\n",
       "      <td>20000</td>\n",
       "      <td>0.006631</td>\n",
       "      <td>Foundation's funds</td>\n",
       "      <td>2516 medical checks were registered $% 385 pat...</td>\n",
       "      <td>2019</td>\n",
       "    </tr>\n",
       "    <tr>\n",
       "      <th>37</th>\n",
       "      <td>Mali</td>\n",
       "      <td>COFESFA</td>\n",
       "      <td>Raising awarenss among communities against Fem...</td>\n",
       "      <td>Protection</td>\n",
       "      <td>The women and girls in the provinces</td>\n",
       "      <td>The local populations</td>\n",
       "      <td>Cercle de Kati</td>\n",
       "      <td>59083.0</td>\n",
       "      <td>0.019589</td>\n",
       "      <td>817096</td>\n",
       "      <td>0.270915</td>\n",
       "      <td>Ministry of Foreign Affairs and foundation's f...</td>\n",
       "      <td>17.308 people were reached by the activities w...</td>\n",
       "      <td>2019</td>\n",
       "    </tr>\n",
       "    <tr>\n",
       "      <th>38</th>\n",
       "      <td>Mali</td>\n",
       "      <td>COFESFA</td>\n",
       "      <td>Enabling and promoting female, maternal and in...</td>\n",
       "      <td>Health</td>\n",
       "      <td>The women and children being cared for in the ...</td>\n",
       "      <td>The local populations</td>\n",
       "      <td>Cercle de Kati and Dioila</td>\n",
       "      <td>358766.0</td>\n",
       "      <td>0.118952</td>\n",
       "      <td>817096</td>\n",
       "      <td>0.270915</td>\n",
       "      <td>Ministry of Foreign Affairs and foundation's f...</td>\n",
       "      <td>41893 personnes sensibilisées uniquement grâce...</td>\n",
       "      <td>2019</td>\n",
       "    </tr>\n",
       "    <tr>\n",
       "      <th>39</th>\n",
       "      <td>Mali</td>\n",
       "      <td>AP-FFL</td>\n",
       "      <td>Comprehensive and adapted care of Ségou street...</td>\n",
       "      <td>Protection</td>\n",
       "      <td>The children being cared for</td>\n",
       "      <td>The local population, more specifically the ch...</td>\n",
       "      <td>Ségou region</td>\n",
       "      <td>68969.0</td>\n",
       "      <td>0.022867</td>\n",
       "      <td>817096</td>\n",
       "      <td>0.270915</td>\n",
       "      <td>Ministry of Foreign Affairs and foundation's f...</td>\n",
       "      <td>87% des enfants identifiés ont pu réintégrer l...</td>\n",
       "      <td>2019</td>\n",
       "    </tr>\n",
       "    <tr>\n",
       "      <th>40</th>\n",
       "      <td>Mali</td>\n",
       "      <td>AP-FFL</td>\n",
       "      <td>Community health program</td>\n",
       "      <td>Health</td>\n",
       "      <td>The people being cared for in the health struc...</td>\n",
       "      <td>The local populations</td>\n",
       "      <td>Ségou region</td>\n",
       "      <td>330278.0</td>\n",
       "      <td>0.109506</td>\n",
       "      <td>817096</td>\n",
       "      <td>0.270915</td>\n",
       "      <td>Ministry of Foreign Affairs and foundation's f...</td>\n",
       "      <td>27555 medical checks $% 43603 vaccinations $% ...</td>\n",
       "      <td>2019</td>\n",
       "    </tr>\n",
       "    <tr>\n",
       "      <th>41</th>\n",
       "      <td>Central African Republic</td>\n",
       "      <td>FAIRMED</td>\n",
       "      <td>Enabling and promoting health for the Lobaye p...</td>\n",
       "      <td>Health</td>\n",
       "      <td>The people being cared for in the health struc...</td>\n",
       "      <td>The local populations</td>\n",
       "      <td>Lobaye region</td>\n",
       "      <td>158835.0</td>\n",
       "      <td>0.052663</td>\n",
       "      <td>408835</td>\n",
       "      <td>0.135552</td>\n",
       "      <td>Ministry of Foreign Affairs and foundation's f...</td>\n",
       "      <td>58893 medical checks, including 24719 for chil...</td>\n",
       "      <td>2019</td>\n",
       "    </tr>\n",
       "    <tr>\n",
       "      <th>42</th>\n",
       "      <td>Central African Republic</td>\n",
       "      <td>FAIRMED</td>\n",
       "      <td>Humanitarian Aid</td>\n",
       "      <td>Emergency</td>\n",
       "      <td>The people being cared for in the health struc...</td>\n",
       "      <td>The local populations</td>\n",
       "      <td>Prefectures of Ombella-M’poko and Lobaye</td>\n",
       "      <td>250000.0</td>\n",
       "      <td>0.082889</td>\n",
       "      <td>408835</td>\n",
       "      <td>0.135552</td>\n",
       "      <td>Ministry of Foreign Affairs</td>\n",
       "      <td>38 healthcare structures supported thanks to t...</td>\n",
       "      <td>2019</td>\n",
       "    </tr>\n",
       "    <tr>\n",
       "      <th>43</th>\n",
       "      <td>Democratic Republic of the Congo</td>\n",
       "      <td>SUMEDCO</td>\n",
       "      <td>Polyclinic in Mbuji-Mayi</td>\n",
       "      <td>Health</td>\n",
       "      <td>The people being cared for in the health struc...</td>\n",
       "      <td>The local populations</td>\n",
       "      <td>Mbuji-Mayi, administrative center of Kasaï Ori...</td>\n",
       "      <td>150000.0</td>\n",
       "      <td>0.049734</td>\n",
       "      <td>150000</td>\n",
       "      <td>0.049734</td>\n",
       "      <td>Ministry of Foreign Affairs and foundation's f...</td>\n",
       "      <td>5615 patients seen for medical checks $%  $%  ...</td>\n",
       "      <td>2019</td>\n",
       "    </tr>\n",
       "    <tr>\n",
       "      <th>44</th>\n",
       "      <td>Togo</td>\n",
       "      <td>AAT-FFL</td>\n",
       "      <td>Mind the Gap</td>\n",
       "      <td>Education</td>\n",
       "      <td>The students in the recipient schools</td>\n",
       "      <td>The local populations</td>\n",
       "      <td>Maritime and Plateaux regions</td>\n",
       "      <td>15000.0</td>\n",
       "      <td>0.004973</td>\n",
       "      <td>372854</td>\n",
       "      <td>0.123623</td>\n",
       "      <td>Foundation's funds</td>\n",
       "      <td>Since 2011, more 3200 computers were installed...</td>\n",
       "      <td>2019</td>\n",
       "    </tr>\n",
       "    <tr>\n",
       "      <th>45</th>\n",
       "      <td>Togo</td>\n",
       "      <td>AAT-FFL</td>\n",
       "      <td>Community health program</td>\n",
       "      <td>Health</td>\n",
       "      <td>The people being cared for in the health struc...</td>\n",
       "      <td>The local populations</td>\n",
       "      <td>Agou, Kpélè and Zio prefectures (maritime and ...</td>\n",
       "      <td>357854.0</td>\n",
       "      <td>0.118649</td>\n",
       "      <td>372854</td>\n",
       "      <td>0.123623</td>\n",
       "      <td>Ministry of Foreign Affairs and foundation's f...</td>\n",
       "      <td>2374 people sensitized to the good hygiene pra...</td>\n",
       "      <td>2019</td>\n",
       "    </tr>\n",
       "    <tr>\n",
       "      <th>46</th>\n",
       "      <td>Benin</td>\n",
       "      <td>R-FFL</td>\n",
       "      <td>CIPSA-EH Socio-educative center</td>\n",
       "      <td>Education</td>\n",
       "      <td>The children at the center</td>\n",
       "      <td>The local population, more specifically the ch...</td>\n",
       "      <td>Area of Allada-Zè-Toffo (Atlantic region, sout...</td>\n",
       "      <td>43250.0</td>\n",
       "      <td>0.012671</td>\n",
       "      <td>705444</td>\n",
       "      <td>0.206700</td>\n",
       "      <td>Ministry of Foreign Affairs and foundation's f...</td>\n",
       "      <td>NaN</td>\n",
       "      <td>2020</td>\n",
       "    </tr>\n",
       "    <tr>\n",
       "      <th>47</th>\n",
       "      <td>Benin</td>\n",
       "      <td>R-FFL</td>\n",
       "      <td>Zè vocational taining center</td>\n",
       "      <td>Education</td>\n",
       "      <td>The young people undertaking the training</td>\n",
       "      <td>The local population, more specifically the te...</td>\n",
       "      <td>Area of Allada-Zè-Toffo (Atlantic region, sout...</td>\n",
       "      <td>54657.0</td>\n",
       "      <td>0.016013</td>\n",
       "      <td>705444</td>\n",
       "      <td>0.206700</td>\n",
       "      <td>Ministry of Foreign Affairs and foundation's f...</td>\n",
       "      <td>NaN</td>\n",
       "      <td>2020</td>\n",
       "    </tr>\n",
       "    <tr>\n",
       "      <th>48</th>\n",
       "      <td>Benin</td>\n",
       "      <td>R-FFL</td>\n",
       "      <td>Fight against child trafficking in the North o...</td>\n",
       "      <td>Protection</td>\n",
       "      <td>The children being cared for</td>\n",
       "      <td>The local population, more specifically the ch...</td>\n",
       "      <td>North of the country</td>\n",
       "      <td>65375.0</td>\n",
       "      <td>0.019153</td>\n",
       "      <td>705444</td>\n",
       "      <td>0.206700</td>\n",
       "      <td>Ministry of Foreign Affairs and foundation's f...</td>\n",
       "      <td>NaN</td>\n",
       "      <td>2020</td>\n",
       "    </tr>\n",
       "    <tr>\n",
       "      <th>49</th>\n",
       "      <td>Benin</td>\n",
       "      <td>R-FFL</td>\n",
       "      <td>Buruli ulcer screening and treatment center</td>\n",
       "      <td>Health</td>\n",
       "      <td>The people being cared for in the health struc...</td>\n",
       "      <td>The local populations</td>\n",
       "      <td>Area of Allada-Zè-Toffo (Atlantic region, sout...</td>\n",
       "      <td>130000.0</td>\n",
       "      <td>0.038086</td>\n",
       "      <td>705444</td>\n",
       "      <td>0.206700</td>\n",
       "      <td>Ministry of Foreign Affairs and foundation's f...</td>\n",
       "      <td>NaN</td>\n",
       "      <td>2020</td>\n",
       "    </tr>\n",
       "    <tr>\n",
       "      <th>50</th>\n",
       "      <td>Benin</td>\n",
       "      <td>R-FFL</td>\n",
       "      <td>Community health program</td>\n",
       "      <td>Health</td>\n",
       "      <td>The people being cared for in the health struc...</td>\n",
       "      <td>The local populations</td>\n",
       "      <td>Atlantic region (south of the country) et Coll...</td>\n",
       "      <td>397162.0</td>\n",
       "      <td>0.116356</td>\n",
       "      <td>705444</td>\n",
       "      <td>0.206700</td>\n",
       "      <td>Ministry of Foreign Affairs and foundation's f...</td>\n",
       "      <td>NaN</td>\n",
       "      <td>2020</td>\n",
       "    </tr>\n",
       "    <tr>\n",
       "      <th>51</th>\n",
       "      <td>Benin</td>\n",
       "      <td>R-FFL</td>\n",
       "      <td>Mind the Gap</td>\n",
       "      <td>Education</td>\n",
       "      <td>The students in the recipient schools</td>\n",
       "      <td>The local populations</td>\n",
       "      <td>Atlantic region (south of the country) et Coll...</td>\n",
       "      <td>15000.0</td>\n",
       "      <td>0.004395</td>\n",
       "      <td>705444</td>\n",
       "      <td>0.206700</td>\n",
       "      <td>Foundation's funds</td>\n",
       "      <td>NaN</td>\n",
       "      <td>2020</td>\n",
       "    </tr>\n",
       "    <tr>\n",
       "      <th>52</th>\n",
       "      <td>Burkina Faso</td>\n",
       "      <td>AAB-FFL</td>\n",
       "      <td>Dedougou young gardeners</td>\n",
       "      <td>Education</td>\n",
       "      <td>The young people undertaking the training</td>\n",
       "      <td>The local population, more specifically the te...</td>\n",
       "      <td>Dédougou (Mouhoun province, west of the country)</td>\n",
       "      <td>54340.0</td>\n",
       "      <td>0.015920</td>\n",
       "      <td>541122</td>\n",
       "      <td>0.158500</td>\n",
       "      <td>Ministry of Foreign Affairs and foundation's f...</td>\n",
       "      <td>NaN</td>\n",
       "      <td>2020</td>\n",
       "    </tr>\n",
       "    <tr>\n",
       "      <th>53</th>\n",
       "      <td>Burkina Faso</td>\n",
       "      <td>AAB-FFL</td>\n",
       "      <td>Fight against female genital mutilations</td>\n",
       "      <td>Protection</td>\n",
       "      <td>The women and girls in the provinces</td>\n",
       "      <td>The local populations</td>\n",
       "      <td>Sissili and Tuy Provinces</td>\n",
       "      <td>73799.0</td>\n",
       "      <td>0.021621</td>\n",
       "      <td>541122</td>\n",
       "      <td>0.158500</td>\n",
       "      <td>Ministry of Foreign Affairs and foundation's f...</td>\n",
       "      <td>NaN</td>\n",
       "      <td>2020</td>\n",
       "    </tr>\n",
       "    <tr>\n",
       "      <th>54</th>\n",
       "      <td>Burkina Faso</td>\n",
       "      <td>AAB-FFL</td>\n",
       "      <td>Comprehensive and adapted care of mine-working...</td>\n",
       "      <td>Protection</td>\n",
       "      <td>The children being cared for</td>\n",
       "      <td>The local population, more specifically the ch...</td>\n",
       "      <td>Tougouri (Namentenga province, North-East of t...</td>\n",
       "      <td>117794.0</td>\n",
       "      <td>0.034510</td>\n",
       "      <td>541122</td>\n",
       "      <td>0.158500</td>\n",
       "      <td>Ministry of Foreign Affairs and foundation's f...</td>\n",
       "      <td>NaN</td>\n",
       "      <td>2020</td>\n",
       "    </tr>\n",
       "    <tr>\n",
       "      <th>55</th>\n",
       "      <td>Burkina Faso</td>\n",
       "      <td>AAB-FFL</td>\n",
       "      <td>Community health program</td>\n",
       "      <td>Health</td>\n",
       "      <td>The people being cared for in the health struc...</td>\n",
       "      <td>The local populations</td>\n",
       "      <td>Across the country</td>\n",
       "      <td>295189.0</td>\n",
       "      <td>0.086481</td>\n",
       "      <td>541122</td>\n",
       "      <td>0.158500</td>\n",
       "      <td>Ministry of Foreign Affairs and foundation's f...</td>\n",
       "      <td>NaN</td>\n",
       "      <td>2020</td>\n",
       "    </tr>\n",
       "    <tr>\n",
       "      <th>56</th>\n",
       "      <td>Ivory Coast</td>\n",
       "      <td>AME</td>\n",
       "      <td>Socio-professional integration of female youth...</td>\n",
       "      <td>Education</td>\n",
       "      <td>The teenage girls undertaking a training</td>\n",
       "      <td>The local population, more specifically the te...</td>\n",
       "      <td>Kaloukro (Gbêkê region, center of the country)</td>\n",
       "      <td>26695.0</td>\n",
       "      <td>0.007821</td>\n",
       "      <td>120223</td>\n",
       "      <td>0.035200</td>\n",
       "      <td>Ministry of Foreign Affairs and foundation's f...</td>\n",
       "      <td>NaN</td>\n",
       "      <td>2020</td>\n",
       "    </tr>\n",
       "    <tr>\n",
       "      <th>57</th>\n",
       "      <td>Ivory Coast</td>\n",
       "      <td>AME</td>\n",
       "      <td>Comprehensive and adapted care of Bouaké stree...</td>\n",
       "      <td>Protection</td>\n",
       "      <td>The children being cared for</td>\n",
       "      <td>The local population, more specifically the ch...</td>\n",
       "      <td>Bouaké (Gbêkê region, center of the country)</td>\n",
       "      <td>93528.0</td>\n",
       "      <td>0.027401</td>\n",
       "      <td>120223</td>\n",
       "      <td>0.035200</td>\n",
       "      <td>Ministry of Foreign Affairs and foundation's f...</td>\n",
       "      <td>NaN</td>\n",
       "      <td>2020</td>\n",
       "    </tr>\n",
       "    <tr>\n",
       "      <th>58</th>\n",
       "      <td>Guinea-Conakry</td>\n",
       "      <td>APROSCO</td>\n",
       "      <td>Reinforcing capabilities in the screening and ...</td>\n",
       "      <td>Health</td>\n",
       "      <td>The people benefiting from screening and treat...</td>\n",
       "      <td>The local populations</td>\n",
       "      <td>N’Zérékoré</td>\n",
       "      <td>40000.0</td>\n",
       "      <td>0.011719</td>\n",
       "      <td>40000</td>\n",
       "      <td>0.011719</td>\n",
       "      <td>Foundation's funds</td>\n",
       "      <td>NaN</td>\n",
       "      <td>2020</td>\n",
       "    </tr>\n",
       "    <tr>\n",
       "      <th>59</th>\n",
       "      <td>Madagascar</td>\n",
       "      <td>Les Sœurs de Saint-Paul de Chartres</td>\n",
       "      <td>Screening and Treatment of Neglected Tropical ...</td>\n",
       "      <td>Health</td>\n",
       "      <td>The people benefiting from screening and treat...</td>\n",
       "      <td>The local populations</td>\n",
       "      <td>Amoron’i Mania (center of the country)</td>\n",
       "      <td>20000.0</td>\n",
       "      <td>0.005859</td>\n",
       "      <td>20000</td>\n",
       "      <td>0.005900</td>\n",
       "      <td>Foundation's funds</td>\n",
       "      <td>NaN</td>\n",
       "      <td>2020</td>\n",
       "    </tr>\n",
       "    <tr>\n",
       "      <th>60</th>\n",
       "      <td>Mali</td>\n",
       "      <td>COFESFA</td>\n",
       "      <td>Raising awarenss among communities against Fem...</td>\n",
       "      <td>Protection</td>\n",
       "      <td>The women and girls in the provinces</td>\n",
       "      <td>The local populations</td>\n",
       "      <td>Cercle de Kati</td>\n",
       "      <td>48000.0</td>\n",
       "      <td>0.014062</td>\n",
       "      <td>682660</td>\n",
       "      <td>0.199997</td>\n",
       "      <td>Ministry of Foreign Affairs and foundation's f...</td>\n",
       "      <td>NaN</td>\n",
       "      <td>2020</td>\n",
       "    </tr>\n",
       "    <tr>\n",
       "      <th>61</th>\n",
       "      <td>Mali</td>\n",
       "      <td>COFESFA</td>\n",
       "      <td>Enabling and promoting female, maternal and in...</td>\n",
       "      <td>Health</td>\n",
       "      <td>The women and children being cared for in the ...</td>\n",
       "      <td>The local populations</td>\n",
       "      <td>Cercle de Kati and Dioila</td>\n",
       "      <td>282705.0</td>\n",
       "      <td>0.082823</td>\n",
       "      <td>682660</td>\n",
       "      <td>0.199997</td>\n",
       "      <td>Ministry of Foreign Affairs and foundation's f...</td>\n",
       "      <td>NaN</td>\n",
       "      <td>2020</td>\n",
       "    </tr>\n",
       "    <tr>\n",
       "      <th>62</th>\n",
       "      <td>Mali</td>\n",
       "      <td>AP-FFL</td>\n",
       "      <td>Comprehensive and adapted care of Ségou street...</td>\n",
       "      <td>Protection</td>\n",
       "      <td>The children being cared for</td>\n",
       "      <td>The local population, more specifically the ch...</td>\n",
       "      <td>Ségou region</td>\n",
       "      <td>72000.0</td>\n",
       "      <td>0.021094</td>\n",
       "      <td>682660</td>\n",
       "      <td>0.199997</td>\n",
       "      <td>Ministry of Foreign Affairs and foundation's f...</td>\n",
       "      <td>NaN</td>\n",
       "      <td>2020</td>\n",
       "    </tr>\n",
       "    <tr>\n",
       "      <th>63</th>\n",
       "      <td>Mali</td>\n",
       "      <td>AP-FFL</td>\n",
       "      <td>Community health program</td>\n",
       "      <td>Health</td>\n",
       "      <td>The people being cared for in the health struc...</td>\n",
       "      <td>The local populations</td>\n",
       "      <td>Ségou region</td>\n",
       "      <td>279955.0</td>\n",
       "      <td>0.082018</td>\n",
       "      <td>682660</td>\n",
       "      <td>0.199997</td>\n",
       "      <td>Ministry of Foreign Affairs and foundation's f...</td>\n",
       "      <td>NaN</td>\n",
       "      <td>2020</td>\n",
       "    </tr>\n",
       "    <tr>\n",
       "      <th>64</th>\n",
       "      <td>Central African Republic</td>\n",
       "      <td>FAIRMED</td>\n",
       "      <td>Enabling and promoting health for the Lobaye p...</td>\n",
       "      <td>Health</td>\n",
       "      <td>The people being cared for in the health struc...</td>\n",
       "      <td>The local populations</td>\n",
       "      <td>Lobaye region</td>\n",
       "      <td>219000.0</td>\n",
       "      <td>0.064160</td>\n",
       "      <td>419000</td>\n",
       "      <td>0.122800</td>\n",
       "      <td>Ministry of Foreign Affairs and foundation's f...</td>\n",
       "      <td>NaN</td>\n",
       "      <td>2020</td>\n",
       "    </tr>\n",
       "    <tr>\n",
       "      <th>65</th>\n",
       "      <td>Central African Republic</td>\n",
       "      <td>FAIRMED</td>\n",
       "      <td>Humanitarian Aid</td>\n",
       "      <td>Emergency</td>\n",
       "      <td>The people being cared for in the health struc...</td>\n",
       "      <td>The local populations</td>\n",
       "      <td>Prefectures of Ombella-M’poko and Lobaye</td>\n",
       "      <td>200000.0</td>\n",
       "      <td>0.058594</td>\n",
       "      <td>419000</td>\n",
       "      <td>0.122800</td>\n",
       "      <td>Ministry of Foreign Affairs</td>\n",
       "      <td>NaN</td>\n",
       "      <td>2020</td>\n",
       "    </tr>\n",
       "    <tr>\n",
       "      <th>66</th>\n",
       "      <td>Democratic Republic of the Congo</td>\n",
       "      <td>SUMEDCO</td>\n",
       "      <td>Polyclinic in Mbuji-Mayi</td>\n",
       "      <td>Health</td>\n",
       "      <td>The people being cared for in the health struc...</td>\n",
       "      <td>The local populations</td>\n",
       "      <td>Mbuji-Mayi, administrative center of Kasaï Ori...</td>\n",
       "      <td>205000.0</td>\n",
       "      <td>0.060058</td>\n",
       "      <td>205000</td>\n",
       "      <td>0.060058</td>\n",
       "      <td>Ministry of Foreign Affairs and foundation's f...</td>\n",
       "      <td>NaN</td>\n",
       "      <td>2020</td>\n",
       "    </tr>\n",
       "    <tr>\n",
       "      <th>67</th>\n",
       "      <td>Togo</td>\n",
       "      <td>AAT-FFL</td>\n",
       "      <td>Mind the Gap</td>\n",
       "      <td>Education</td>\n",
       "      <td>The students in the recipient schools</td>\n",
       "      <td>The local populations</td>\n",
       "      <td>Maritime and Plateaux regions</td>\n",
       "      <td>15000.0</td>\n",
       "      <td>0.004395</td>\n",
       "      <td>679898</td>\n",
       "      <td>0.199200</td>\n",
       "      <td>Foundation's funds</td>\n",
       "      <td>NaN</td>\n",
       "      <td>2020</td>\n",
       "    </tr>\n",
       "    <tr>\n",
       "      <th>68</th>\n",
       "      <td>Togo</td>\n",
       "      <td>AAT-FFL</td>\n",
       "      <td>Community health program</td>\n",
       "      <td>Health</td>\n",
       "      <td>The people being cared for in the health struc...</td>\n",
       "      <td>The local populations</td>\n",
       "      <td>Agou, Kpélè and Zio prefectures (maritime and ...</td>\n",
       "      <td>664898.0</td>\n",
       "      <td>0.194794</td>\n",
       "      <td>679898</td>\n",
       "      <td>0.199200</td>\n",
       "      <td>Ministry of Foreign Affairs and foundation's f...</td>\n",
       "      <td>NaN</td>\n",
       "      <td>2020</td>\n",
       "    </tr>\n",
       "  </tbody>\n",
       "</table>\n",
       "</div>"
      ],
      "text/plain": [
       "                             Country                        Local partner  \\\n",
       "0                              Benin                                R-FFL   \n",
       "1                              Benin                                R-FFL   \n",
       "2                              Benin                                R-FFL   \n",
       "3                              Benin                                R-FFL   \n",
       "4                              Benin                                R-FFL   \n",
       "5                              Benin                                R-FFL   \n",
       "6                       Burkina Faso                              AAB-FFL   \n",
       "7                       Burkina Faso                              AAB-FFL   \n",
       "8                       Burkina Faso                              AAB-FFL   \n",
       "9                       Burkina Faso                              AAB-FFL   \n",
       "10                       Ivory Coast                                  AME   \n",
       "11                       Ivory Coast                                  AME   \n",
       "12                    Guinea-Conakry                              APROSCO   \n",
       "13                        Madagascar  Les Sœurs de Saint-Paul de Chartres   \n",
       "14                              Mali                              COFESFA   \n",
       "15                              Mali                              COFESFA   \n",
       "16                              Mali                               AP-FFL   \n",
       "17                              Mali                               AP-FFL   \n",
       "18          Central African Republic                              FAIRMED   \n",
       "19          Central African Republic                              FAIRMED   \n",
       "20  Democratic Republic of the Congo                              SUMEDCO   \n",
       "21                              Togo                              AAT-FFL   \n",
       "22                              Togo                              AAT-FFL   \n",
       "23                             Benin                                R-FFL   \n",
       "24                             Benin                                R-FFL   \n",
       "25                             Benin                                R-FFL   \n",
       "26                             Benin                                R-FFL   \n",
       "27                             Benin                                R-FFL   \n",
       "28                             Benin                                R-FFL   \n",
       "29                      Burkina Faso                              AAB-FFL   \n",
       "30                      Burkina Faso                              AAB-FFL   \n",
       "31                      Burkina Faso                              AAB-FFL   \n",
       "32                      Burkina Faso                              AAB-FFL   \n",
       "33                       Ivory Coast                                  AME   \n",
       "34                       Ivory Coast                                  AME   \n",
       "35                    Guinea-Conakry                              APROSCO   \n",
       "36                        Madagascar  Les Sœurs de Saint-Paul de Chartres   \n",
       "37                              Mali                              COFESFA   \n",
       "38                              Mali                              COFESFA   \n",
       "39                              Mali                               AP-FFL   \n",
       "40                              Mali                               AP-FFL   \n",
       "41          Central African Republic                              FAIRMED   \n",
       "42          Central African Republic                              FAIRMED   \n",
       "43  Democratic Republic of the Congo                              SUMEDCO   \n",
       "44                              Togo                              AAT-FFL   \n",
       "45                              Togo                              AAT-FFL   \n",
       "46                             Benin                                R-FFL   \n",
       "47                             Benin                                R-FFL   \n",
       "48                             Benin                                R-FFL   \n",
       "49                             Benin                                R-FFL   \n",
       "50                             Benin                                R-FFL   \n",
       "51                             Benin                                R-FFL   \n",
       "52                      Burkina Faso                              AAB-FFL   \n",
       "53                      Burkina Faso                              AAB-FFL   \n",
       "54                      Burkina Faso                              AAB-FFL   \n",
       "55                      Burkina Faso                              AAB-FFL   \n",
       "56                       Ivory Coast                                  AME   \n",
       "57                       Ivory Coast                                  AME   \n",
       "58                    Guinea-Conakry                              APROSCO   \n",
       "59                        Madagascar  Les Sœurs de Saint-Paul de Chartres   \n",
       "60                              Mali                              COFESFA   \n",
       "61                              Mali                              COFESFA   \n",
       "62                              Mali                               AP-FFL   \n",
       "63                              Mali                               AP-FFL   \n",
       "64          Central African Republic                              FAIRMED   \n",
       "65          Central African Republic                              FAIRMED   \n",
       "66  Democratic Republic of the Congo                              SUMEDCO   \n",
       "67                              Togo                              AAT-FFL   \n",
       "68                              Togo                              AAT-FFL   \n",
       "\n",
       "                                        Project title Axis of intervention  \\\n",
       "0                     CIPSA-EH Socio-educative center            Education   \n",
       "1                        Zè vocational taining center            Education   \n",
       "2   Fight against child trafficking in the North o...           Protection   \n",
       "3         Buruli ulcer screening and treatment center               Health   \n",
       "4                            Community health program               Health   \n",
       "5                                        Mind the Gap            Education   \n",
       "6                            Dedougou young gardeners            Education   \n",
       "7            Fight against female genital mutilations           Protection   \n",
       "8   Comprehensive and adapted care of mine-working...           Protection   \n",
       "9                            Community health program               Health   \n",
       "10  Socio-professional integration of female youth...            Education   \n",
       "11  Comprehensive and adapted care of Bouaké stree...           Protection   \n",
       "12  Reinforcing capabilities in the screening and ...               Health   \n",
       "13  Screening and Treatment of Neglected Tropical ...               Health   \n",
       "14  Raising awarenss among communities against Fem...           Protection   \n",
       "15  Enabling and promoting female, maternal and in...               Health   \n",
       "16  Comprehensive and adapted care of Ségou street...           Protection   \n",
       "17                           Community health program               Health   \n",
       "18  Enabling and promoting health for the Lobaye p...               Health   \n",
       "19                                   Humanitarian Aid            Emergency   \n",
       "20                           Polyclinic in Mbuji-Mayi               Health   \n",
       "21                                       Mind the Gap            Education   \n",
       "22                           Community health program               Health   \n",
       "23                    CIPSA-EH Socio-educative center            Education   \n",
       "24                       Zè vocational taining center            Education   \n",
       "25  Fight against child trafficking in the North o...           Protection   \n",
       "26        Buruli ulcer screening and treatment center               Health   \n",
       "27                           Community health program               Health   \n",
       "28                                       Mind the Gap            Education   \n",
       "29                           Dedougou young gardeners            Education   \n",
       "30           Fight against female genital mutilations           Protection   \n",
       "31  Comprehensive and adapted care of mine-working...           Protection   \n",
       "32                           Community health program               Health   \n",
       "33  Socio-professional integration of female youth...            Education   \n",
       "34  Comprehensive and adapted care of Bouaké stree...           Protection   \n",
       "35  Reinforcing capabilities in the screening and ...               Health   \n",
       "36  Screening and Treatment of Neglected Tropical ...               Health   \n",
       "37  Raising awarenss among communities against Fem...           Protection   \n",
       "38  Enabling and promoting female, maternal and in...               Health   \n",
       "39  Comprehensive and adapted care of Ségou street...           Protection   \n",
       "40                           Community health program               Health   \n",
       "41  Enabling and promoting health for the Lobaye p...               Health   \n",
       "42                                   Humanitarian Aid            Emergency   \n",
       "43                           Polyclinic in Mbuji-Mayi               Health   \n",
       "44                                       Mind the Gap            Education   \n",
       "45                           Community health program               Health   \n",
       "46                    CIPSA-EH Socio-educative center            Education   \n",
       "47                       Zè vocational taining center            Education   \n",
       "48  Fight against child trafficking in the North o...           Protection   \n",
       "49        Buruli ulcer screening and treatment center               Health   \n",
       "50                           Community health program               Health   \n",
       "51                                       Mind the Gap            Education   \n",
       "52                           Dedougou young gardeners            Education   \n",
       "53           Fight against female genital mutilations           Protection   \n",
       "54  Comprehensive and adapted care of mine-working...           Protection   \n",
       "55                           Community health program               Health   \n",
       "56  Socio-professional integration of female youth...            Education   \n",
       "57  Comprehensive and adapted care of Bouaké stree...           Protection   \n",
       "58  Reinforcing capabilities in the screening and ...               Health   \n",
       "59  Screening and Treatment of Neglected Tropical ...               Health   \n",
       "60  Raising awarenss among communities against Fem...           Protection   \n",
       "61  Enabling and promoting female, maternal and in...               Health   \n",
       "62  Comprehensive and adapted care of Ségou street...           Protection   \n",
       "63                           Community health program               Health   \n",
       "64  Enabling and promoting health for the Lobaye p...               Health   \n",
       "65                                   Humanitarian Aid            Emergency   \n",
       "66                           Polyclinic in Mbuji-Mayi               Health   \n",
       "67                                       Mind the Gap            Education   \n",
       "68                           Community health program               Health   \n",
       "\n",
       "                                 Direct beneficiaries  \\\n",
       "0                          The children at the center   \n",
       "1           The young people undertaking the training   \n",
       "2                        The children being cared for   \n",
       "3   The people being cared for in the health struc...   \n",
       "4   The people being cared for in the health struc...   \n",
       "5               The students in the recipient schools   \n",
       "6           The young people undertaking the training   \n",
       "7                The women and girls in the provinces   \n",
       "8                        The children being cared for   \n",
       "9   The people being cared for in the health struc...   \n",
       "10           The teenage girls undertaking a training   \n",
       "11                       The children being cared for   \n",
       "12  The people benefiting from screening and treat...   \n",
       "13  The people benefiting from screening and treat...   \n",
       "14               The women and girls in the provinces   \n",
       "15  The women and children being cared for in the ...   \n",
       "16                       The children being cared for   \n",
       "17  The people being cared for in the health struc...   \n",
       "18  The people being cared for in the health struc...   \n",
       "19  The people being cared for in the health struc...   \n",
       "20  The people being cared for in the health struc...   \n",
       "21              The students in the recipient schools   \n",
       "22  The people being cared for in the health struc...   \n",
       "23                         The children at the center   \n",
       "24          The young people undertaking the training   \n",
       "25                       The children being cared for   \n",
       "26  The people being cared for in the health struc...   \n",
       "27  The people being cared for in the health struc...   \n",
       "28              The students in the recipient schools   \n",
       "29          The young people undertaking the training   \n",
       "30               The women and girls in the provinces   \n",
       "31                       The children being cared for   \n",
       "32  The people being cared for in the health struc...   \n",
       "33           The teenage girls undertaking a training   \n",
       "34                       The children being cared for   \n",
       "35  The people benefiting from screening and treat...   \n",
       "36  The people benefiting from screening and treat...   \n",
       "37               The women and girls in the provinces   \n",
       "38  The women and children being cared for in the ...   \n",
       "39                       The children being cared for   \n",
       "40  The people being cared for in the health struc...   \n",
       "41  The people being cared for in the health struc...   \n",
       "42  The people being cared for in the health struc...   \n",
       "43  The people being cared for in the health struc...   \n",
       "44              The students in the recipient schools   \n",
       "45  The people being cared for in the health struc...   \n",
       "46                         The children at the center   \n",
       "47          The young people undertaking the training   \n",
       "48                       The children being cared for   \n",
       "49  The people being cared for in the health struc...   \n",
       "50  The people being cared for in the health struc...   \n",
       "51              The students in the recipient schools   \n",
       "52          The young people undertaking the training   \n",
       "53               The women and girls in the provinces   \n",
       "54                       The children being cared for   \n",
       "55  The people being cared for in the health struc...   \n",
       "56           The teenage girls undertaking a training   \n",
       "57                       The children being cared for   \n",
       "58  The people benefiting from screening and treat...   \n",
       "59  The people benefiting from screening and treat...   \n",
       "60               The women and girls in the provinces   \n",
       "61  The women and children being cared for in the ...   \n",
       "62                       The children being cared for   \n",
       "63  The people being cared for in the health struc...   \n",
       "64  The people being cared for in the health struc...   \n",
       "65  The people being cared for in the health struc...   \n",
       "66  The people being cared for in the health struc...   \n",
       "67              The students in the recipient schools   \n",
       "68  The people being cared for in the health struc...   \n",
       "\n",
       "                               Indirect beneficiaries  \\\n",
       "0   The local population, more specifically the ch...   \n",
       "1   The local population, more specifically the te...   \n",
       "2   The local population, more specifically the ch...   \n",
       "3                               The local populations   \n",
       "4                               The local populations   \n",
       "5                               The local populations   \n",
       "6   The local population, more specifically the te...   \n",
       "7                               The local populations   \n",
       "8   The local population, more specifically the ch...   \n",
       "9                               The local populations   \n",
       "10  The local population, more specifically the te...   \n",
       "11  The local population, more specifically the ch...   \n",
       "12                              The local populations   \n",
       "13                              The local populations   \n",
       "14                              The local populations   \n",
       "15                              The local populations   \n",
       "16  The local population, more specifically the ch...   \n",
       "17                              The local populations   \n",
       "18                              The local populations   \n",
       "19                              The local populations   \n",
       "20                              The local populations   \n",
       "21                              The local populations   \n",
       "22                              The local populations   \n",
       "23  The local population, more specifically the ch...   \n",
       "24  The local population, more specifically the te...   \n",
       "25  The local population, more specifically the ch...   \n",
       "26                              The local populations   \n",
       "27                              The local populations   \n",
       "28                              The local populations   \n",
       "29  The local population, more specifically the te...   \n",
       "30                              The local populations   \n",
       "31  The local population, more specifically the ch...   \n",
       "32                              The local populations   \n",
       "33  The local population, more specifically the te...   \n",
       "34  The local population, more specifically the ch...   \n",
       "35                              The local populations   \n",
       "36                              The local populations   \n",
       "37                              The local populations   \n",
       "38                              The local populations   \n",
       "39  The local population, more specifically the ch...   \n",
       "40                              The local populations   \n",
       "41                              The local populations   \n",
       "42                              The local populations   \n",
       "43                              The local populations   \n",
       "44                              The local populations   \n",
       "45                              The local populations   \n",
       "46  The local population, more specifically the ch...   \n",
       "47  The local population, more specifically the te...   \n",
       "48  The local population, more specifically the ch...   \n",
       "49                              The local populations   \n",
       "50                              The local populations   \n",
       "51                              The local populations   \n",
       "52  The local population, more specifically the te...   \n",
       "53                              The local populations   \n",
       "54  The local population, more specifically the ch...   \n",
       "55                              The local populations   \n",
       "56  The local population, more specifically the te...   \n",
       "57  The local population, more specifically the ch...   \n",
       "58                              The local populations   \n",
       "59                              The local populations   \n",
       "60                              The local populations   \n",
       "61                              The local populations   \n",
       "62  The local population, more specifically the ch...   \n",
       "63                              The local populations   \n",
       "64                              The local populations   \n",
       "65                              The local populations   \n",
       "66                              The local populations   \n",
       "67                              The local populations   \n",
       "68                              The local populations   \n",
       "\n",
       "                                               Region  \\\n",
       "0   Area of Allada-Zè-Toffo (Atlantic region, sout...   \n",
       "1   Area of Allada-Zè-Toffo (Atlantic region, sout...   \n",
       "2                                North of the country   \n",
       "3   Area of Allada-Zè-Toffo (Atlantic region, sout...   \n",
       "4   Atlantic region (south of the country) et Coll...   \n",
       "5   Atlantic region (south of the country) et Coll...   \n",
       "6    Dédougou (Mouhoun province, west of the country)   \n",
       "7                           Sissili and Tuy Provinces   \n",
       "8   Tougouri (Namentenga province, North-East of t...   \n",
       "9                                  Across the country   \n",
       "10     Kaloukro (Gbêkê region, center of the country)   \n",
       "11       Bouaké (Gbêkê region, center of the country)   \n",
       "12                                         N’Zérékoré   \n",
       "13             Amoron’i Mania (center of the country)   \n",
       "14                                     Cercle de Kati   \n",
       "15                          Cercle de Kati and Dioila   \n",
       "16                                       Ségou region   \n",
       "17                                       Ségou region   \n",
       "18                                      Lobaye region   \n",
       "19           Prefectures of Ombella-M’poko and Lobaye   \n",
       "20  Mbuji-Mayi, administrative center of Kasaï Ori...   \n",
       "21                      Maritime and Plateaux regions   \n",
       "22  Agou, Kpélè and Zio prefectures (maritime and ...   \n",
       "23  Area of Allada-Zè-Toffo (Atlantic region, sout...   \n",
       "24  Area of Allada-Zè-Toffo (Atlantic region, sout...   \n",
       "25                               North of the country   \n",
       "26  Area of Allada-Zè-Toffo (Atlantic region, sout...   \n",
       "27  Atlantic region (south of the country) et Coll...   \n",
       "28  Atlantic region (south of the country) et Coll...   \n",
       "29   Dédougou (Mouhoun province, west of the country)   \n",
       "30                          Sissili and Tuy Provinces   \n",
       "31  Tougouri (Namentenga province, North-East of t...   \n",
       "32                                 Across the country   \n",
       "33     Kaloukro (Gbêkê region, center of the country)   \n",
       "34       Bouaké (Gbêkê region, center of the country)   \n",
       "35                                         N’Zérékoré   \n",
       "36             Amoron’i Mania (center of the country)   \n",
       "37                                     Cercle de Kati   \n",
       "38                          Cercle de Kati and Dioila   \n",
       "39                                       Ségou region   \n",
       "40                                       Ségou region   \n",
       "41                                      Lobaye region   \n",
       "42           Prefectures of Ombella-M’poko and Lobaye   \n",
       "43  Mbuji-Mayi, administrative center of Kasaï Ori...   \n",
       "44                      Maritime and Plateaux regions   \n",
       "45  Agou, Kpélè and Zio prefectures (maritime and ...   \n",
       "46  Area of Allada-Zè-Toffo (Atlantic region, sout...   \n",
       "47  Area of Allada-Zè-Toffo (Atlantic region, sout...   \n",
       "48                               North of the country   \n",
       "49  Area of Allada-Zè-Toffo (Atlantic region, sout...   \n",
       "50  Atlantic region (south of the country) et Coll...   \n",
       "51  Atlantic region (south of the country) et Coll...   \n",
       "52   Dédougou (Mouhoun province, west of the country)   \n",
       "53                          Sissili and Tuy Provinces   \n",
       "54  Tougouri (Namentenga province, North-East of t...   \n",
       "55                                 Across the country   \n",
       "56     Kaloukro (Gbêkê region, center of the country)   \n",
       "57       Bouaké (Gbêkê region, center of the country)   \n",
       "58                                         N’Zérékoré   \n",
       "59             Amoron’i Mania (center of the country)   \n",
       "60                                     Cercle de Kati   \n",
       "61                          Cercle de Kati and Dioila   \n",
       "62                                       Ségou region   \n",
       "63                                       Ségou region   \n",
       "64                                      Lobaye region   \n",
       "65           Prefectures of Ombella-M’poko and Lobaye   \n",
       "66  Mbuji-Mayi, administrative center of Kasaï Ori...   \n",
       "67                      Maritime and Plateaux regions   \n",
       "68  Agou, Kpélè and Zio prefectures (maritime and ...   \n",
       "\n",
       "    Voted Year project budget €  Project share % out of all budget  \\\n",
       "0                       47043.0                           0.016233   \n",
       "1                       66660.0                           0.023002   \n",
       "2                       64998.0                           0.022428   \n",
       "3                      150272.0                           0.051853   \n",
       "4                      351948.0                           0.121444   \n",
       "5                       15000.0                           0.005176   \n",
       "6                       59960.0                           0.020690   \n",
       "7                       80924.0                           0.027924   \n",
       "8                       99152.0                           0.034214   \n",
       "9                      352191.0                           0.121528   \n",
       "10                          NaN                                NaN   \n",
       "11                      80428.0                           0.027753   \n",
       "12                      39300.0                           0.013561   \n",
       "13                      49500.0                           0.017081   \n",
       "14                      48000.0                           0.016563   \n",
       "15                     290042.0                           0.100083   \n",
       "16                      72000.0                           0.024845   \n",
       "17                     340000.0                           0.117321   \n",
       "18                     100000.0                           0.034506   \n",
       "19                     200000.0                           0.069013   \n",
       "20                     139332.0                           0.048078   \n",
       "21                      15000.0                           0.005176   \n",
       "22                     236271.0                           0.081528   \n",
       "23                      46538.0                           0.015430   \n",
       "24                      56846.0                           0.018848   \n",
       "25                      64157.0                           0.021272   \n",
       "26                      47927.0                           0.015891   \n",
       "27                     341515.0                           0.113232   \n",
       "28                      15000.0                           0.004973   \n",
       "29                      70739.0                           0.023454   \n",
       "30                      90452.0                           0.029990   \n",
       "31                      97641.0                           0.032374   \n",
       "32                     286465.0                           0.094980   \n",
       "33                          NaN                                NaN   \n",
       "34                      90000.0                           0.029840   \n",
       "35                      40000.0                           0.013262   \n",
       "36                      20000.0                           0.006631   \n",
       "37                      59083.0                           0.019589   \n",
       "38                     358766.0                           0.118952   \n",
       "39                      68969.0                           0.022867   \n",
       "40                     330278.0                           0.109506   \n",
       "41                     158835.0                           0.052663   \n",
       "42                     250000.0                           0.082889   \n",
       "43                     150000.0                           0.049734   \n",
       "44                      15000.0                           0.004973   \n",
       "45                     357854.0                           0.118649   \n",
       "46                      43250.0                           0.012671   \n",
       "47                      54657.0                           0.016013   \n",
       "48                      65375.0                           0.019153   \n",
       "49                     130000.0                           0.038086   \n",
       "50                     397162.0                           0.116356   \n",
       "51                      15000.0                           0.004395   \n",
       "52                      54340.0                           0.015920   \n",
       "53                      73799.0                           0.021621   \n",
       "54                     117794.0                           0.034510   \n",
       "55                     295189.0                           0.086481   \n",
       "56                      26695.0                           0.007821   \n",
       "57                      93528.0                           0.027401   \n",
       "58                      40000.0                           0.011719   \n",
       "59                      20000.0                           0.005859   \n",
       "60                      48000.0                           0.014062   \n",
       "61                     282705.0                           0.082823   \n",
       "62                      72000.0                           0.021094   \n",
       "63                     279955.0                           0.082018   \n",
       "64                     219000.0                           0.064160   \n",
       "65                     200000.0                           0.058594   \n",
       "66                     205000.0                           0.060058   \n",
       "67                      15000.0                           0.004395   \n",
       "68                     664898.0                           0.194794   \n",
       "\n",
       "    Voted Year country budget €  Country share % out of all budget  \\\n",
       "0                        695921                           0.240137   \n",
       "1                        695921                           0.240137   \n",
       "2                        695921                           0.240137   \n",
       "3                        695921                           0.240137   \n",
       "4                        695921                           0.240137   \n",
       "5                        695921                           0.240137   \n",
       "6                        592227                           0.204356   \n",
       "7                        592227                           0.204356   \n",
       "8                        592227                           0.204356   \n",
       "9                        592227                           0.204356   \n",
       "10                        80428                           0.027753   \n",
       "11                        80428                           0.027753   \n",
       "12                        39300                           0.013561   \n",
       "13                        49500                           0.017081   \n",
       "14                       750042                           0.258812   \n",
       "15                       750042                           0.258812   \n",
       "16                       750042                           0.258812   \n",
       "17                       750042                           0.258812   \n",
       "18                       300000                           0.103519   \n",
       "19                       300000                           0.103519   \n",
       "20                       139332                           0.048078   \n",
       "21                       251271                           0.086704   \n",
       "22                       251271                           0.086704   \n",
       "23                       571983                           0.189645   \n",
       "24                       571983                           0.189645   \n",
       "25                       571983                           0.189645   \n",
       "26                       571983                           0.189645   \n",
       "27                       571983                           0.189645   \n",
       "28                       571983                           0.189645   \n",
       "29                       545297                           0.180797   \n",
       "30                       545297                           0.180797   \n",
       "31                       545297                           0.180797   \n",
       "32                       545297                           0.180797   \n",
       "33                        90000                           0.029840   \n",
       "34                        90000                           0.029840   \n",
       "35                        40000                           0.013262   \n",
       "36                        20000                           0.006631   \n",
       "37                       817096                           0.270915   \n",
       "38                       817096                           0.270915   \n",
       "39                       817096                           0.270915   \n",
       "40                       817096                           0.270915   \n",
       "41                       408835                           0.135552   \n",
       "42                       408835                           0.135552   \n",
       "43                       150000                           0.049734   \n",
       "44                       372854                           0.123623   \n",
       "45                       372854                           0.123623   \n",
       "46                       705444                           0.206700   \n",
       "47                       705444                           0.206700   \n",
       "48                       705444                           0.206700   \n",
       "49                       705444                           0.206700   \n",
       "50                       705444                           0.206700   \n",
       "51                       705444                           0.206700   \n",
       "52                       541122                           0.158500   \n",
       "53                       541122                           0.158500   \n",
       "54                       541122                           0.158500   \n",
       "55                       541122                           0.158500   \n",
       "56                       120223                           0.035200   \n",
       "57                       120223                           0.035200   \n",
       "58                        40000                           0.011719   \n",
       "59                        20000                           0.005900   \n",
       "60                       682660                           0.199997   \n",
       "61                       682660                           0.199997   \n",
       "62                       682660                           0.199997   \n",
       "63                       682660                           0.199997   \n",
       "64                       419000                           0.122800   \n",
       "65                       419000                           0.122800   \n",
       "66                       205000                           0.060058   \n",
       "67                       679898                           0.199200   \n",
       "68                       679898                           0.199200   \n",
       "\n",
       "   Project financing (as per the 2016-2020 cooperation agreement)  \\\n",
       "0   Ministry of Foreign Affairs and foundation's f...               \n",
       "1   Ministry of Foreign Affairs and foundation's f...               \n",
       "2   Ministry of Foreign Affairs and foundation's f...               \n",
       "3   Ministry of Foreign Affairs and foundation's f...               \n",
       "4   Ministry of Foreign Affairs and foundation's f...               \n",
       "5                                  Foundation's funds               \n",
       "6   Ministry of Foreign Affairs and foundation's f...               \n",
       "7   Ministry of Foreign Affairs and foundation's f...               \n",
       "8   Ministry of Foreign Affairs and foundation's f...               \n",
       "9   Ministry of Foreign Affairs and foundation's f...               \n",
       "10  Ministry of Foreign Affairs and foundation's f...               \n",
       "11  Ministry of Foreign Affairs and foundation's f...               \n",
       "12                                 Foundation's funds               \n",
       "13                                 Foundation's funds               \n",
       "14  Ministry of Foreign Affairs and foundation's f...               \n",
       "15  Ministry of Foreign Affairs and foundation's f...               \n",
       "16  Ministry of Foreign Affairs and foundation's f...               \n",
       "17  Ministry of Foreign Affairs and foundation's f...               \n",
       "18  Ministry of Foreign Affairs and foundation's f...               \n",
       "19                        Ministry of Foreign Affairs               \n",
       "20  Ministry of Foreign Affairs and foundation's f...               \n",
       "21                                 Foundation's funds               \n",
       "22  Ministry of Foreign Affairs and foundation's f...               \n",
       "23  Ministry of Foreign Affairs and foundation's f...               \n",
       "24  Ministry of Foreign Affairs and foundation's f...               \n",
       "25  Ministry of Foreign Affairs and foundation's f...               \n",
       "26  Ministry of Foreign Affairs and foundation's f...               \n",
       "27  Ministry of Foreign Affairs and foundation's f...               \n",
       "28                                 Foundation's funds               \n",
       "29  Ministry of Foreign Affairs and foundation's f...               \n",
       "30  Ministry of Foreign Affairs and foundation's f...               \n",
       "31  Ministry of Foreign Affairs and foundation's f...               \n",
       "32  Ministry of Foreign Affairs and foundation's f...               \n",
       "33  Ministry of Foreign Affairs and foundation's f...               \n",
       "34  Ministry of Foreign Affairs and foundation's f...               \n",
       "35                                 Foundation's funds               \n",
       "36                                 Foundation's funds               \n",
       "37  Ministry of Foreign Affairs and foundation's f...               \n",
       "38  Ministry of Foreign Affairs and foundation's f...               \n",
       "39  Ministry of Foreign Affairs and foundation's f...               \n",
       "40  Ministry of Foreign Affairs and foundation's f...               \n",
       "41  Ministry of Foreign Affairs and foundation's f...               \n",
       "42                        Ministry of Foreign Affairs               \n",
       "43  Ministry of Foreign Affairs and foundation's f...               \n",
       "44                                 Foundation's funds               \n",
       "45  Ministry of Foreign Affairs and foundation's f...               \n",
       "46  Ministry of Foreign Affairs and foundation's f...               \n",
       "47  Ministry of Foreign Affairs and foundation's f...               \n",
       "48  Ministry of Foreign Affairs and foundation's f...               \n",
       "49  Ministry of Foreign Affairs and foundation's f...               \n",
       "50  Ministry of Foreign Affairs and foundation's f...               \n",
       "51                                 Foundation's funds               \n",
       "52  Ministry of Foreign Affairs and foundation's f...               \n",
       "53  Ministry of Foreign Affairs and foundation's f...               \n",
       "54  Ministry of Foreign Affairs and foundation's f...               \n",
       "55  Ministry of Foreign Affairs and foundation's f...               \n",
       "56  Ministry of Foreign Affairs and foundation's f...               \n",
       "57  Ministry of Foreign Affairs and foundation's f...               \n",
       "58                                 Foundation's funds               \n",
       "59                                 Foundation's funds               \n",
       "60  Ministry of Foreign Affairs and foundation's f...               \n",
       "61  Ministry of Foreign Affairs and foundation's f...               \n",
       "62  Ministry of Foreign Affairs and foundation's f...               \n",
       "63  Ministry of Foreign Affairs and foundation's f...               \n",
       "64  Ministry of Foreign Affairs and foundation's f...               \n",
       "65                        Ministry of Foreign Affairs               \n",
       "66  Ministry of Foreign Affairs and foundation's f...               \n",
       "67                                 Foundation's funds               \n",
       "68  Ministry of Foreign Affairs and foundation's f...               \n",
       "\n",
       "                                         Final_result  Year  \n",
       "0   More than 50 children benefited from psycholog...  2018  \n",
       "1   27 apprentices out of 28 (14 in sewing and 14 ...  2018  \n",
       "2   32 awareness raising sessions and 192 educatio...  2018  \n",
       "3   Hospitalisation at the center in Allada was re...  2018  \n",
       "4   127 women gave birth in the right conditions $...  2018  \n",
       "5                            see Togo $%  $%  $%  $%   2018  \n",
       "6   40 young people were taken care of and trained...  2018  \n",
       "7   53 villages benefited from the awareness raisi...  2018  \n",
       "8   In 2018, the second class with 63 young people...  2018  \n",
       "9   45.667 medical check-ups registered in all the...  2018  \n",
       "10  30 girls benefited from adapted care at the ce...  2018  \n",
       "11  110 young people benefited from adapted care a...  2018  \n",
       "12  70 community health agents were trained about ...  2018  \n",
       "13  16 mass check-ups et 59 awareness raising acti...  2018  \n",
       "14  398 educational talks et 70 information and aw...  2018  \n",
       "15  113.850 people were sensitized to the good hyg...  2018  \n",
       "16  88 street rounds were realised enabling to ide...  2018  \n",
       "17  2 new centers were equipped in Safolo and Tass...  2018  \n",
       "18  1.553 Aka women received prenatal checks $% 4....  2018  \n",
       "19  38 health structures supported by the projet $...  2018  \n",
       "20  8.362 patients had a check-up at the polyclini...  2018  \n",
       "21  Since 2011, more than 3200 ordinateurs were in...  2018  \n",
       "22  2 new peripheral care units made operational $...  2018  \n",
       "23  80 handicaped or vulnerable children were care...  2019  \n",
       "24  49 students from 16 to 23 years old undertook ...  2019  \n",
       "25  133 children from 3 to 16 years old, including...  2019  \n",
       "26  174 new patients were treated during the 1 tri...  2019  \n",
       "27  169 women gave birth in the right conditions $...  2019  \n",
       "28                   See Togo $%  $%  $%  $%  $%  $%   2019  \n",
       "29  36 young people in the center completed their ...  2019  \n",
       "30  79 women suffering from the consequences of FG...  2019  \n",
       "31  60 students, 41 boys and 19 girls, undertook t...  2019  \n",
       "32  47.567 medical checks were registered amongst ...  2019  \n",
       "33  41 girls followed a training, including 15 tee...  2019  \n",
       "34  77 children from 6 to 22 years old welcomed to...  2019  \n",
       "35  6000 people sensitized during the mass awarene...  2019  \n",
       "36  2516 medical checks were registered $% 385 pat...  2019  \n",
       "37  17.308 people were reached by the activities w...  2019  \n",
       "38  41893 personnes sensibilisées uniquement grâce...  2019  \n",
       "39  87% des enfants identifiés ont pu réintégrer l...  2019  \n",
       "40  27555 medical checks $% 43603 vaccinations $% ...  2019  \n",
       "41  58893 medical checks, including 24719 for chil...  2019  \n",
       "42  38 healthcare structures supported thanks to t...  2019  \n",
       "43  5615 patients seen for medical checks $%  $%  ...  2019  \n",
       "44  Since 2011, more 3200 computers were installed...  2019  \n",
       "45  2374 people sensitized to the good hygiene pra...  2019  \n",
       "46                                                NaN  2020  \n",
       "47                                                NaN  2020  \n",
       "48                                                NaN  2020  \n",
       "49                                                NaN  2020  \n",
       "50                                                NaN  2020  \n",
       "51                                                NaN  2020  \n",
       "52                                                NaN  2020  \n",
       "53                                                NaN  2020  \n",
       "54                                                NaN  2020  \n",
       "55                                                NaN  2020  \n",
       "56                                                NaN  2020  \n",
       "57                                                NaN  2020  \n",
       "58                                                NaN  2020  \n",
       "59                                                NaN  2020  \n",
       "60                                                NaN  2020  \n",
       "61                                                NaN  2020  \n",
       "62                                                NaN  2020  \n",
       "63                                                NaN  2020  \n",
       "64                                                NaN  2020  \n",
       "65                                                NaN  2020  \n",
       "66                                                NaN  2020  \n",
       "67                                                NaN  2020  \n",
       "68                                                NaN  2020  "
      ]
     },
     "execution_count": 102,
     "metadata": {},
     "output_type": "execute_result"
    }
   ],
   "source": [
    "df"
   ]
  }
 ],
 "metadata": {
  "kernelspec": {
   "display_name": "Python 3",
   "language": "python",
   "name": "python3"
  },
  "language_info": {
   "codemirror_mode": {
    "name": "ipython",
    "version": 3
   },
   "file_extension": ".py",
   "mimetype": "text/x-python",
   "name": "python",
   "nbconvert_exporter": "python",
   "pygments_lexer": "ipython3",
   "version": "3.8.3"
  },
  "toc": {
   "base_numbering": 1,
   "nav_menu": {},
   "number_sections": true,
   "sideBar": true,
   "skip_h1_title": false,
   "title_cell": "Table of Contents",
   "title_sidebar": "Contents",
   "toc_cell": false,
   "toc_position": {},
   "toc_section_display": true,
   "toc_window_display": false
  }
 },
 "nbformat": 4,
 "nbformat_minor": 4
}
